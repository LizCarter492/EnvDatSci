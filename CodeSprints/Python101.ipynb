{
  "cells": [
    {
      "cell_type": "markdown",
      "metadata": {
        "id": "wJOJM85L2YBJ"
      },
      "source": [
        "# Welcome to jupyter notebooks!\n",
        "Congratulations, you have opened a Jupyter Notebook! The hardest step is always the first one.\n",
        "\n",
        "Learning objectives:\n",
        "1. Get comfortable with a jupyter notebook IDE\n",
        "2. Execute code in Google Colab\n",
        "3. Understand and translate values and data types in Python\n",
        "4. Use operators, loops, and functions in Python\n",
        "4. Manipulate datasets in Python\n",
        "\n"
      ]
    },
    {
      "cell_type": "markdown",
      "metadata": {
        "id": "_VfP8HKX2YBL"
      },
      "source": [
        "[![Open In Colab](https://colab.research.google.com/assets/colab-badge.svg)](https://colab.research.google.com/github/LizCarter492/EnvDatSci22/blob/master/CodeSprints/Python101.ipynb)"
      ]
    },
    {
      "cell_type": "markdown",
      "metadata": {
        "id": "CjoP2y_d2YBM"
      },
      "source": [
        "## What is a Jupyter Notebook?\n",
        "From www.jupyter.org:\n",
        ">Jupyter Notebooks are an open document format based on JSON. They contain a complete record of the user's sessions and include code, narrative text, equations, and rich output.\n",
        "\n",
        "On the top menu, go to \"Cell\" > \"Cell Type\"\n",
        "\n",
        "The first two options, Code, and Markdown, are our primary interests in this class.\n",
        "\n",
        "**Code cells (below)** allow you to run and execute Python code. Python commands will bring data from storage or the internet into RAM, allow you to manipulate the data, and allow you to print outputs, results, or figures directly to the screen of this notebook\n",
        "\n",
        "**Markdown cells (like this one)** allow you to write and format text descriptions, link to websites, upload and display videos and images, you name it. To learn more about Markdown formatting:\n",
        "1. Double click on this text. This opens the Markdown cell, allowing you to edit it.\n",
        "2. [Click on this link to learn about how to format text in markdown.](https://github.com/adam-p/markdown-here/wiki/Markdown-Cheatsheet)"
      ]
    },
    {
      "cell_type": "markdown",
      "metadata": {
        "id": "jB_tTbFp2YBN"
      },
      "source": [
        "## What is a variable?\n",
        "Your computer computes by taking data stored in files (either on your hard drive or on the internet) and reading them into random access memory (RAM), where the data can interact directly with your computers processors.\n",
        "\n",
        "In programming languages like R and Python, we know where to find data objects in RAM based on the names we give them. These are called variables.\n",
        "\n",
        "In the cell below, the variables are the words \"name,\" \"age\", \"address\", and \"story\".\n",
        "\n",
        "After the equal sign, we assign a certain data value to each of these variable names.\n",
        "\n",
        "## TASK 1: In the code cell below, change the variable names to make the story reflect who you are.\n"
      ]
    },
    {
      "cell_type": "code",
      "execution_count": null,
      "metadata": {
        "id": "dDbAs3T32YBO"
      },
      "outputs": [],
      "source": [
        "name = \"Gandolf\" #type your name before the pound sign, make sure you put it in quotes!\n",
        "age = \"135\" #type your age before the pound sign, make sure you put it in quotes! More on this later.\n",
        "address = \"151F Link Hall\" #type your address before the pound sign, make sure you put it in quotes!\n",
        "story = \"My name is \" + name + \". I am \" + age + \" years old. \\nI am a data scientist! \\nIt's kind of like being a wizard. \\nTo see if I can tell you something about your environmental past or future, visit me at \" + address + \".\"\n",
        "print(story)\n"
      ]
    },
    {
      "cell_type": "markdown",
      "metadata": {
        "id": "BoE_OPTr2YBQ"
      },
      "source": [
        "## Variable types:\n",
        "Variables are names in your python environment where you store values. A variable can be a number, a character string, or a more complex data structure (such as a pandas spatial dataframe...more later).\n",
        "\n",
        "At the most basic level, variables representing single values can either be numbers or strings.\n",
        "\n",
        "Numeric values can be stored as intergers, floating point numbers, or complex numbers.\n",
        "\n",
        "Strings represent strings of characters, like writing.\n",
        "\n",
        "We find out what type of variable we're dealing with by using the type() function.\n",
        "\n",
        "More info here: https://mindmajix.com/python-variable-types"
      ]
    },
    {
      "cell_type": "code",
      "execution_count": null,
      "metadata": {
        "id": "NuHC8qRs2YBR"
      },
      "outputs": [],
      "source": [
        "from IPython.display import Image\n",
        "Image(\"https://cdn.mindmajix.com/blog/images/Screenshot_12-460x385.png\")"
      ]
    },
    {
      "cell_type": "code",
      "execution_count": null,
      "metadata": {
        "id": "DQ9O8ML12YBS"
      },
      "outputs": [],
      "source": [
        "print(type(name))\n",
        "print(type(age))\n",
        "print(type(address))\n",
        "print(type(story))"
      ]
    },
    {
      "cell_type": "code",
      "execution_count": null,
      "metadata": {
        "id": "trgnWajj2YBT"
      },
      "outputs": [],
      "source": [
        "#We can convert numeric strings to numeric formats using either float() or int()\n",
        "age = float(age)\n",
        "print(age)\n",
        "print(type(age))\n"
      ]
    },
    {
      "cell_type": "code",
      "execution_count": null,
      "metadata": {
        "id": "fZbHn4Nq2YBU"
      },
      "outputs": [],
      "source": [
        "age=int(age)\n",
        "print(age)\n",
        "print(type(age))\n"
      ]
    },
    {
      "cell_type": "code",
      "execution_count": null,
      "metadata": {
        "id": "c250Qu6C2YBV"
      },
      "outputs": [],
      "source": [
        "#But we cannot input a numeric value into a string:\n",
        "#Copy and paste this code into the code cell under task 2. Edit it to complete task 2.\n",
        "story = \"My name is \" + name + \". I am \" + age + \" years old. Find me at \" + address + \".\"\n",
        "print(story)\n"
      ]
    },
    {
      "cell_type": "markdown",
      "metadata": {
        "id": "_X1fuTkT2YBW"
      },
      "source": [
        "## Error messages\n",
        "Just now, I asked you to do something that breaks the rules of how the software functions. This is called an error message.\n",
        "\n",
        "When you see an error message, **DO NOT PANIC!!** I know they look scary, but error messages are your friend. Error messages are written to give you very specific examples of how to fix your code. Select the text in the error message, copy it, and paste it into a google search. See if the internet can help you fix the issue.\n",
        "\n",
        "## TASK 2:\n",
        "Edit the code in the above cell so that it will print your story without adding any additional lines of code."
      ]
    },
    {
      "cell_type": "code",
      "execution_count": null,
      "metadata": {
        "id": "q7WIdjut2YBX"
      },
      "outputs": [],
      "source": [
        "#Type story here\n"
      ]
    },
    {
      "cell_type": "markdown",
      "metadata": {
        "id": "pcpAZ3a02YBX"
      },
      "source": [
        "## Mathematical operators in python:\n",
        "Python is a really powerful calculator. We use python commands and functions to process and analyse many different types of data. Below is a summary of common mathematical operators in Python.\n",
        "\n",
        "**Arithmetic operators in python:** are used for arithmetic.\n",
        "\n",
        "| Oerator | Definition                                 | Python Command         | Example                |\n",
        "|-------------|--------------------------------------------|------------------------|------------------------|\n",
        "| `+`         | Addition                                   | `a + b`                | `5 + 3 = 8`            |\n",
        "| `-`         | Subtraction                                | `a - b`                | `5 - 3 = 2`            |\n",
        "| `*`         | Multiplication                             | `a * b`                | `5 * 3 = 15`           |\n",
        "| `/`         | Division (returns float)                   | `a / b`                | `5 / 3 = 1.666...`      |\n",
        "| `//`        | Floor Division (returns integer quotient)  | `a // b`               | `5 // 3 = 1`           |\n",
        "| `%`         | Modulus (remainder of division)            | `a % b`                | `5 % 3 = 2`            |\n",
        "| `**`        | Exponentiation (power)                     | `a ** b`               | `2 ** 3 = 8`           |\n",
        "\n",
        "\n",
        "\n",
        "**Relational operators in python:** are used for quantitative value comparisons.\n",
        "\n",
        "| Operator | Definition                                       | Python Command         | Example                |\n",
        "|----------|--------------------------------------------------|------------------------|------------------------|\n",
        "| `==`     | Equal to                                        | `a == b`               | `5 == 5` is `True`     |\n",
        "| `!=`     | Not equal to                                    | `a != b`               | `5 != 3` is `True`     |\n",
        "| `>`      | Greater than                                    | `a > b`                | `5 > 3` is `True`      |\n",
        "| `<`      | Less than                                       | `a < b`                | `5 < 3` is `False`     |\n",
        "| `>=`     | Greater than or equal to                        | `a >= b`               | `5 >= 3` is `True`     |\n",
        "| `<=`     | Less than or equal to                           | `a <= b`               | `5 <= 3` is `False`    |\n",
        "\n",
        "\n",
        "\n",
        "**Bitwise operators in python:** are used for binary value comparisons.\n",
        "\n",
        "| Operator | Definition                                          | Python Command         | Example                |\n",
        "|----------|-----------------------------------------------------|------------------------|------------------------|\n",
        "| `&`      | Bitwise AND (performs AND operation on bits)        | `a & b`                | `5 & 3` is `1`         |\n",
        "| `\\|`      | Bitwise OR (performs OR operation on bits)          | `a \\| b`                | `5 \\| 3` is `7`         |\n",
        "| `^`      | Bitwise XOR (performs XOR operation on bits)        | `a ^ b`                | `5 ^ 3` is `6`         |\n",
        "| `~`      | Bitwise NOT (inverts bits)                          | `~a`                   | `~5` is `-6`           |\n",
        "| `<<`     | Bitwise left shift (shifts bits to the left)        | `a << b`               | `5 << 1` is `10`       |\n",
        "| `>>`     | Bitwise right shift (shifts bits to the right)      | `a >> b`               | `5 >> 1` is `2`        |\n",
        "\n",
        "\n",
        "**Assignment operators in python:** are used to assign values to variables.\n",
        "\n",
        "| Operator | Definition                                          | Python Command         | Example                |\n",
        "|----------|-----------------------------------------------------|------------------------|------------------------|\n",
        "| `=`      | Assignment operator (assigns a value to a variable) | `a = b`                | `x = 5` assigns `5` to `x` |\n",
        "| `+=`     | Add and assign (adds right operand to left operand) | `a += b`               | `x += 3` is `x = x + 3` |\n",
        "| `-=`     | Subtract and assign (subtracts right operand from left operand) | `a -= b`  | `x -= 2` is `x = x - 2` |\n",
        "| `*=`     | Multiply and assign (multiplies right operand with left operand) | `a *= b` | `x *= 4` is `x = x * 4` |\n",
        "| `/=`     | Divide and assign (divides left operand by right operand) | `a /= b` | `x /= 2` is `x = x / 2` |\n",
        "| `//=`    | Floor divide and assign (performs floor division)  | `a //= b`              | `x //= 2` is `x = x // 2` |\n",
        "| `%=`     | Modulus and assign (assigns the remainder of division) | `a %= b`  | `x %= 3` is `x = x % 3` |\n",
        "| `**=`    | Exponentiation and assign (raises left operand to the power of right operand) | `a **= b` | `x **= 2` is `x = x ** 2` |\n",
        "| `&=`     | Bitwise AND and assign                             | `a &= b`               | `x &= 1` is `x = x & 1` |\n",
        "| `\\|=`    | Bitwise OR and assign                              | `a \\|= b`              | `x \\|= 2` is `x = x \\| 2` |\n",
        "| `^=`     | Bitwise XOR and assign                             | `a ^= b`               | `x ^= 1` is `x = x ^ 1` |\n",
        "| `<<=`    | Bitwise left shift and assign                      | `a <<= b`              | `x <<= 1` is `x = x << 1` |\n",
        "| `>>=`    | Bitwise right shift and assign                     | `a >>= b`              | `x >>= 1` is `x = x >> 1` |\n"
      ]
    },
    {
      "cell_type": "markdown",
      "metadata": {
        "id": "3RO4ENpZ2YBZ"
      },
      "source": [
        "We can apply mathematical operators to variables by writing equations, just like we do with a calculator.\n",
        "\n",
        "## TASK 3:\n",
        "Using your \"age\" variable. how old will you be in five years (call this variable \"a\")? How many months have you been alive (we're going to estimate this, based on the fact that there are 12 months in a year, call this variable \"b\")? Are you older than 100 (call this variable \"c\")?"
      ]
    },
    {
      "cell_type": "code",
      "execution_count": null,
      "metadata": {
        "id": "f3dsSKp_2YBZ"
      },
      "outputs": [],
      "source": [
        "#first, convert \"age\" back to a numeric (float) variable\n",
        "age =\n",
        "\n",
        "#Complete your equations in python syntax below. Remember to use \"age\" as a variable.\n",
        "a =\n",
        "b =\n",
        "c =\n",
        "print(a,b,c)"
      ]
    },
    {
      "cell_type": "markdown",
      "metadata": {
        "id": "WJKiYXwi2YBa"
      },
      "source": [
        "## Functions\n",
        "Functions are another type of variable. Instead of storing a data value, they store a set of instructions on how to process the data. Often in life, we want to repeat the same sequence of operations on multiple values. To do this, we use functions. Functions are blocks of code that will repeat the same task over and over again (return some outputs) on different variables (inputs). [Learn more about functions here](https://docs.python.org/3/tutorial/controlflow.html#defining-functions)"
      ]
    },
    {
      "cell_type": "code",
      "execution_count": null,
      "metadata": {
        "id": "OG-b15zX2YBa"
      },
      "outputs": [],
      "source": [
        "#For example, this function takes one input value, X:\n",
        "def fun1 (x):\n",
        "\n",
        "#The functions job is to produce the square of x\n",
        "    return x*x # note the indentation\n",
        "\n",
        "fun1(2)\n",
        "# what happens if you delete the indentation?"
      ]
    },
    {
      "cell_type": "code",
      "execution_count": null,
      "metadata": {
        "id": "wn2chIzn2YBa"
      },
      "outputs": [],
      "source": [
        "#Functions can have more than one input:\n",
        "def fun2 (x, y):\n",
        "    return x * y\n",
        "\n",
        "fun2(2,3) #experiment with different values"
      ]
    },
    {
      "cell_type": "code",
      "execution_count": null,
      "metadata": {
        "id": "4zTWMDes2YBc"
      },
      "outputs": [],
      "source": [
        "#And we often store what the function returns as a new variable\n",
        "#Here, we're creating two variables: x and x_sq\n",
        "x = 10\n",
        "x_sq = fun1(x)\n",
        "\n",
        "print(x)\n",
        "print(x_sq)"
      ]
    },
    {
      "cell_type": "markdown",
      "metadata": {
        "id": "B8DsTqTe2YBc"
      },
      "source": [
        "## Create a function.\n",
        "\n",
        "Functions simplify our workflows as computational scientists, and make it possible for other people to see every step we've make with a computation.\n",
        "\n",
        "## TASK 4:\n",
        "\n",
        "To simplify your future restaurant interactions, write a function that calculates a 15% tip and adds it to any check amount. Name your function tip15. How much will you owe in total on a $42.75 check?"
      ]
    },
    {
      "cell_type": "code",
      "execution_count": null,
      "metadata": {
        "id": "TF2eULfe2YBc"
      },
      "outputs": [],
      "source": [
        "#write tip15 function here\n"
      ]
    },
    {
      "cell_type": "markdown",
      "metadata": {
        "id": "ZhQlmZqT2YBc"
      },
      "source": [
        "## TASK 5:\n",
        "\n",
        "To customize your future restaurant interactions to future exemplary service, write a function that calculates a variable tip and adds it to any check amount. Name your function tip. How much will you owe in total if you're tipping 25% on a $42.75 check?"
      ]
    },
    {
      "cell_type": "code",
      "execution_count": null,
      "metadata": {
        "id": "-zSWJ5Ys2YBd"
      },
      "outputs": [],
      "source": [
        "#write tip function here\n"
      ]
    },
    {
      "cell_type": "markdown",
      "metadata": {
        "id": "-zbcpGzj2YBd"
      },
      "source": [
        "## Lists\n",
        "Python and R both make it possible to create your own data objects for storing lots of different values.\n",
        "\n",
        "One of the simplest ways to create a variable containing multiple values is to create a list.\n",
        "\n",
        "[Click here to learn more.](https://www.earthdatascience.org/courses/intro-to-earth-data-science/python-code-fundamentals/)\n",
        "\n",
        "Using base python, you can store multiple variables as a list by wrapping them in square brackets. A list can accept any kind of variable: float, integer, or string:"
      ]
    },
    {
      "cell_type": "code",
      "execution_count": null,
      "metadata": {
        "id": "a7PgOjXl2YBd"
      },
      "outputs": [],
      "source": [
        "names = [\"Homer\", \"Marge\", \"Bart\", \"Maggie\", \"Lisa\"]\n",
        "ages = [40,39,11,1,9]\n",
        "print(names)\n",
        "print(ages)\n",
        "type(names)\n",
        "type(ages)"
      ]
    },
    {
      "cell_type": "markdown",
      "metadata": {
        "id": "HSi7Mlzv2YBe"
      },
      "source": [
        "We can make lists of lists, which are more complex data objects:"
      ]
    },
    {
      "cell_type": "code",
      "execution_count": null,
      "metadata": {
        "id": "7u9tWMn42YBe"
      },
      "outputs": [],
      "source": [
        "names_and_ages = [names, ages]\n",
        "print(names_and_ages)\n",
        "type(names_and_ages)"
      ]
    },
    {
      "cell_type": "markdown",
      "metadata": {
        "id": "vbRYk1Pa2YBe"
      },
      "source": [
        "## Indexing\n",
        "\n",
        "In applications like Microsoft Excel, the user can select individual values in one of two ways. First, they can manually scroll to and select a cell in a spread sheet. The second method would be to specific the specific cell using **indexing** terms. In Excel, the column is always given a letter, the row is given a number value. For multi-dimensional arrays in Excel, the third dimension is given a sheet name. For example, to A1 is the first row in the first column of data.\n",
        "\n",
        "In python and R, indexing is very easy and very powerful, once you get used to it.\n",
        "\n",
        "To get us started, we can extract individual values from the list using a square bracket. We'd use our python mathematical operator on this single variable the same way we would use a calculator. For example, the age of the first person in the list is:\n",
        "\n",
        "*Note: in python, the first value in a list/row/column will be zero; in R it will be 1*"
      ]
    },
    {
      "cell_type": "code",
      "execution_count": null,
      "metadata": {
        "id": "UGUn_S642YBe"
      },
      "outputs": [],
      "source": [
        "first = ages[0]\n",
        "print(first)"
      ]
    },
    {
      "cell_type": "markdown",
      "metadata": {
        "id": "iq7lhkyT2YBe"
      },
      "source": [
        "And we can ask: How old will the first numeric element on our list be in five years?"
      ]
    },
    {
      "cell_type": "code",
      "execution_count": null,
      "metadata": {
        "id": "_iwBxGWW2YBe"
      },
      "outputs": [],
      "source": [
        "ages[0]+5"
      ]
    },
    {
      "cell_type": "markdown",
      "metadata": {
        "id": "az5rFz0n2YBf"
      },
      "source": [
        "## TASK 6:\n",
        "Find the name and age of the third person in your list"
      ]
    },
    {
      "cell_type": "code",
      "execution_count": null,
      "metadata": {
        "id": "s8Ds_LIx2YBf"
      },
      "outputs": [],
      "source": [
        "# type answer here\n"
      ]
    },
    {
      "cell_type": "markdown",
      "metadata": {
        "id": "02Z8OYw12YBf"
      },
      "source": [
        "## TASK 7:\n",
        "Add an extra person to the list, named Grandpa, who is 67 years old. *Hint: Google \"add values to a list python\" if you're not sure what to do!!!!"
      ]
    },
    {
      "cell_type": "code",
      "execution_count": null,
      "metadata": {
        "id": "ZBFhfRLQ2YBf"
      },
      "outputs": [],
      "source": [
        "# type answer here\n"
      ]
    },
    {
      "cell_type": "markdown",
      "metadata": {
        "id": "r1EAEzpi2YBg"
      },
      "source": [
        "## TASK 8:\n",
        "Maggie just had a birthday! Change her age accordingly in the list."
      ]
    },
    {
      "cell_type": "code",
      "execution_count": null,
      "metadata": {
        "id": "TTjJPURM2YBg"
      },
      "outputs": [],
      "source": [
        "# type answer here\n"
      ]
    },
    {
      "cell_type": "markdown",
      "metadata": {
        "id": "e3fwrnv62YBg"
      },
      "source": [
        "Some data types can store multiple types of values, and some data types can only store one type of values. Lists can store elements that are either character strings or numeric. Because of this, we cannot apply a mathematical operator to a list.\n",
        "\n",
        "For example, what happens when we try to run the cell below to find out how old will everyone be in five years?"
      ]
    },
    {
      "cell_type": "code",
      "execution_count": null,
      "metadata": {
        "id": "0tXSxws12YBg"
      },
      "outputs": [],
      "source": [
        "ages + 5\n",
        "#this returns an error. But hey! Errors are opportunities! Google your error message, see if you can find a workaround!"
      ]
    },
    {
      "cell_type": "markdown",
      "metadata": {
        "id": "19_S0IPl2YBh"
      },
      "source": [
        "# For loops\n",
        "One way that we can run an entire operation on a list is to use a for loop. A for loop iterates through every element of a sequence, and completes a task or a set of tasks. Example:"
      ]
    },
    {
      "cell_type": "code",
      "execution_count": null,
      "metadata": {
        "id": "y7gV1C3e2YBh"
      },
      "outputs": [],
      "source": [
        "#Measure some strings\n",
        "words = ['cat', 'window', 'defenestrate']\n",
        "for w in words:\n",
        "    print(w, len(w))"
      ]
    },
    {
      "cell_type": "markdown",
      "metadata": {
        "id": "0UNqluId2YBh"
      },
      "source": [
        "This for loop creates a new variable, w, for each element in the words list. One at a time, it applies the operation to each element.\n",
        "\n",
        "[Learn more about for loops here](https://www.earthdatascience.org/courses/earth-analytics/automate-science-workflows/create-for-loops-r/)\n",
        "\n",
        "A very handy function that folks use a lot when write for loops is the range function. range() creates a range object, which generates list of intergers for each element in a series.\n"
      ]
    },
    {
      "cell_type": "code",
      "execution_count": null,
      "metadata": {
        "id": "vec-_fC62YBi"
      },
      "outputs": [],
      "source": [
        "print(len(ages))\n",
        "# What does len() do?\n",
        "print(range(len(ages)))"
      ]
    },
    {
      "cell_type": "code",
      "execution_count": null,
      "metadata": {
        "id": "hywN1U-L2YBi"
      },
      "outputs": [],
      "source": [
        "for y in range(len(ages)):\n",
        "    print(ages[y])"
      ]
    },
    {
      "cell_type": "markdown",
      "metadata": {
        "id": "oTCpPWcI2YBj"
      },
      "source": [
        "## TASK 9:\n",
        "Use the range function in a for loop to add 1 year to everyone's age in the names_and_ages list and print the result to the screen."
      ]
    },
    {
      "cell_type": "code",
      "execution_count": null,
      "metadata": {
        "id": "MWA7Vv_D2YBj"
      },
      "outputs": [],
      "source": [
        "# type your for loop here\n"
      ]
    },
    {
      "cell_type": "markdown",
      "metadata": {
        "id": "tFVTaarI2YBj"
      },
      "source": [
        "# Be logical!!! if/else statements\n",
        "Another thing that is commonly used in for loops is an if/else statement. This allows us to select certain attributes that we want to use to treat elements that we're iterating over differently."
      ]
    },
    {
      "cell_type": "code",
      "execution_count": null,
      "metadata": {
        "id": "r0CobJ0h2YBk"
      },
      "outputs": [],
      "source": [
        "for y in range(len(ages)):\n",
        "    if ages[y]>=18:\n",
        "        print(names[y] + \" is an adult\")\n",
        "    elif ages[y] >= 10:\n",
        "        print(names[y]+\" is an adolescent\")\n",
        "    else:\n",
        "        print(names[y] + \" is a child\")"
      ]
    },
    {
      "cell_type": "markdown",
      "metadata": {
        "id": "OJaE2SpF2YBk"
      },
      "source": [
        "The above statement reads: if the age of the person is greater than or equal to 18, the person is an adult, or else if the age of the person is greater than or equal to 10, the person is an adolescent,  or else the person is a child.\n",
        "\n",
        "Pay attention to the use of indentation in the above statement!"
      ]
    },
    {
      "cell_type": "markdown",
      "metadata": {
        "id": "XkhR79Fb2YBk"
      },
      "source": [
        "## TASK 10:\n",
        "Using if, elif, and/or else statements, write a for loop that adds 1 year to everyone's life except Maggie...since we already gave her an extra birthday."
      ]
    },
    {
      "cell_type": "code",
      "execution_count": null,
      "metadata": {
        "id": "QzxVblRl2YBl"
      },
      "outputs": [],
      "source": [
        "# Write for loop here\n"
      ]
    },
    {
      "cell_type": "markdown",
      "metadata": {
        "id": "5UnXEja62YBl"
      },
      "source": [
        "# numpy arrays and pandas dataframes"
      ]
    },
    {
      "cell_type": "markdown",
      "metadata": {
        "id": "MS3gmeEm2YBl"
      },
      "source": [
        "or loops can take a lot of time on large datasets. To deal with this issue, we can rely on two other packages for data structures, called numpy and pandas.\n",
        "\n",
        "*Packages* are collections of *modules*. *Modules* contain executables, functions, and object types that someone else has already written for you.\n",
        "\n",
        "Numpy arrays are standard gridded data formats (lists, matrices, and multi-dimensional arrays) where all items are of one data type, and have implicit indexing. [Click here to learn more](https://www.earthdatascience.org/courses/intro-to-earth-data-science/scientific-data-structures-python/numpy-arrays/)\n",
        "\n",
        "\n",
        "Pandas data frames allow for mixed data types to be stored in different columns, and have explicit indicing. Pandas data frames work just like excel spreadsheets. [Click here to learn more](https://www.earthdatascience.org/courses/intro-to-earth-data-science/scientific-data-structures-python/pandas-dataframes/). Either numpy arrays or pandas data frames allow mathematical operators to be applied to all numeric elements.\n",
        "\n",
        "We're going to start off by loading the numpy and pandas packages. We're going to short their names to \"np\" and \"pd\", just so we don't have to type as many characters. These packages should have been downloaded automatically in Anaconda, but if you can't load them, raise your hand and share you're screen. We'll talk about installing packages and everyone will be all the wiser.\n",
        "\n",
        "Note: if importing python packages is new to you, please [Click here to learn more](https://www.earthdatascience.org/courses/intro-to-earth-data-science/python-code-fundamentals/use-python-packages/)."
      ]
    },
    {
      "cell_type": "code",
      "execution_count": null,
      "metadata": {
        "id": "xmHK9Gkt2YBm"
      },
      "outputs": [],
      "source": [
        "import numpy as np #import the numpy package, and call it np\n",
        "ages = np.array(ages)\n",
        "ages + 5\n",
        "#Wait! Did you get an error? Read it carefull...and if it doesn't make sense, try Googling it."
      ]
    },
    {
      "cell_type": "code",
      "execution_count": null,
      "metadata": {
        "id": "I0Lq8lRs2YBm",
        "scrolled": true
      },
      "outputs": [],
      "source": [
        "import pandas as pd #import the pandas pacakge, and call it pd\n",
        "names_and_ages = pd.DataFrame({'names':names,'ages':ages})\n",
        "print(names_and_ages)\n",
        "type(names_and_ages)\n",
        "#How does the \"type\" of variable change?"
      ]
    },
    {
      "cell_type": "markdown",
      "metadata": {
        "id": "S1iWyKr72YBm"
      },
      "source": [
        "The cell bellow shows how to add a new column to a pandas data frame called 'ages_5yr', and how to calculate values for the new column:"
      ]
    },
    {
      "cell_type": "code",
      "execution_count": null,
      "metadata": {
        "id": "zPwvkba02YBn"
      },
      "outputs": [],
      "source": [
        "names_and_ages['ages_5yr']=names_and_ages.ages + 5\n",
        "print(names_and_ages)"
      ]
    },
    {
      "cell_type": "markdown",
      "metadata": {
        "id": "x-A1j82L2YBn"
      },
      "source": [
        "There are three(?) ways to select a column in a pandas dataframe:\n",
        "\n",
        "*? = probably many more!"
      ]
    },
    {
      "cell_type": "code",
      "execution_count": null,
      "metadata": {
        "id": "hkM74eLc2YBn"
      },
      "outputs": [],
      "source": [
        "print(names_and_ages['names']) #index by column name"
      ]
    },
    {
      "cell_type": "code",
      "execution_count": null,
      "metadata": {
        "id": "HQFTGA5G2YBn"
      },
      "outputs": [],
      "source": [
        "print(names_and_ages.names) #call column name as an object attribute"
      ]
    },
    {
      "cell_type": "code",
      "execution_count": null,
      "metadata": {
        "id": "_Br6mw_j2YBn"
      },
      "outputs": [],
      "source": [
        "print(names_and_ages.iloc[:,0]) #use pandas built-in indexing function"
      ]
    },
    {
      "cell_type": "markdown",
      "metadata": {
        "id": "fGQxycM-2YBn"
      },
      "source": [
        "The last option, iloc, is a pandas function. The first slot (before the comma) tells us which *rows* to pick. The second slot (after the comma) tells us which *columns* to pick. To pick find the value \"ages_5yrs\" of the first row, for example, we could use iloc like this:"
      ]
    },
    {
      "cell_type": "code",
      "execution_count": null,
      "metadata": {
        "id": "Yf0Y58if2YBn"
      },
      "outputs": [],
      "source": [
        "print(names_and_ages.iloc[0,2])"
      ]
    },
    {
      "cell_type": "markdown",
      "metadata": {
        "id": "Dg1uWLFn2YBo"
      },
      "source": [
        "## TASK 11:\n",
        "Create a new column in names_and_ages called \"age_months\", and populate it with each indiviuals age in months (approximately age in years times 12)."
      ]
    },
    {
      "cell_type": "code",
      "execution_count": null,
      "metadata": {
        "id": "N44cck_Z2YBo"
      },
      "outputs": [],
      "source": [
        "#Complete task eleven in the space below\n"
      ]
    },
    {
      "cell_type": "markdown",
      "metadata": {
        "id": "zEIGE4U52YBo"
      },
      "source": [
        "## TASK 12:\n",
        "Create a new column in names_and_ages called \"maturity\", and populate it with \"adult\", \"adolescent\", and \"child\", based on the age cutoffs mentioned above."
      ]
    },
    {
      "cell_type": "code",
      "execution_count": null,
      "metadata": {
        "id": "VUp7Fgs_2YBo"
      },
      "outputs": [],
      "source": [
        "# Create new column, fill it with empty values (np.NaN)\n",
        "names_and_ages['maturity']=np.NaN\n",
        "\n",
        "# Write for loop here\n"
      ]
    },
    {
      "cell_type": "markdown",
      "metadata": {
        "id": "JIvlP68o2YBp"
      },
      "source": [
        "# Read in data.\n",
        "You will often be using python to process files or data stored locally on your computer or server. Here will learn how to use the package os to set a path to the files you want, called your working directory.\n",
        "\n",
        "Note that if you're running this notebook in Google Colab, your working directory is a folder on a Google Server somewhere."
      ]
    },
    {
      "cell_type": "code",
      "execution_count": null,
      "metadata": {
        "id": "gLYEHJRh2YBp"
      },
      "outputs": [],
      "source": [
        "import os #read in the os package, more info here: https://docs.python.org/3/library/os.html\n",
        "\n",
        "os.listdir()"
      ]
    },
    {
      "cell_type": "markdown",
      "metadata": {
        "id": "n3AGrLY14tXD"
      },
      "source": [
        "## Getting a dataset onto Google Drive and accessing your Google Drive via Google Colab.\n",
        "\n",
        "If you are not currently accessing this file from the EnvDatSci22 class repository, you probably opened it as a link right from Blackboard > Coursework > 3.1 Python 101.\n",
        "\n",
        "Go back to that Blackboard page. Click on the link called [USGS_04240105_SYRACUSE_NY.csv](https://blackboard.syracuse.edu/bbcswebdav/pid-8320683-dt-content-rid-94758325_1/xid-94758325_1). This will downlad a .csv file to the default download location on your computer.\n",
        "\n",
        "In another browser tab, sign into your [Google Drive](https://drive.google.com/). Create a new folder called \"data\". Once inside the folder, upload that csv file you just downloaded.\n",
        "\n",
        "Run the cell below to mount your Google Drive to Google Colab.\n",
        "\n",
        "Note: if you have more than one Google account, make sure you're mounting the right Google Drive!"
      ]
    },
    {
      "cell_type": "code",
      "execution_count": null,
      "metadata": {
        "id": "EBdDnIkU6BfU"
      },
      "outputs": [],
      "source": [
        "from google.colab import drive\n",
        "drive.mount('/content/drive')\n",
        "\n",
        "os.chdir('/content/drive/MyDrive')"
      ]
    },
    {
      "cell_type": "markdown",
      "metadata": {
        "id": "doNW25622YBp"
      },
      "source": [
        "This .csv file is a record of daily discharge from a USGS stream gage near campus for the past year. It contains two columns, \"Date\" and \"Discharge\". It was downloaded with some modifications from [https://maps.waterdata.usgs.gov/mapper/index.html]. This is a great source of data for surface water measurements!\n",
        "\n",
        "Now that you've got the filepath set up so that python can see your stream discharge data, let's open it as a pandas data frame using the pandas.read_csv() function. This is similar to what we would do opening new data in Excel"
      ]
    },
    {
      "cell_type": "code",
      "execution_count": null,
      "metadata": {
        "id": "0NqPMuNC2YBp"
      },
      "outputs": [],
      "source": [
        "#If you are running this from Google Colab outside the GitHub repository, uncoment the line below\n",
        "stream = pd.read_csv('data/USGS_04240105_SYRACUSE_NY.csv', infer_datetime_format=True)\n",
        "\n",
        "#If you are running this from a GitHub repository, uncomment the line below.\n",
        "#stream = pd.read_csv('../data/USGS_04240105_SYRACUSE_NY(1).csv', infer_datetime_format=True)\n",
        "\n",
        "print(type(stream))\n",
        "\n",
        "\n",
        "#the \"head\" function is built into a pandas.DataFrame object, and it allows you to specify the number of rows you want to see\n",
        "stream.head(5)"
      ]
    },
    {
      "cell_type": "markdown",
      "metadata": {
        "id": "6kheER2k2YBq"
      },
      "source": [
        "##### Here, we see the date (as \"%m/%d/%Y\" format) and the mean daily discharge in cubic feet/second measured by the streamgage for each day.\n"
      ]
    },
    {
      "cell_type": "markdown",
      "metadata": {
        "id": "sXGj7WEa2YBq"
      },
      "source": [
        "# Check documentation on an object\n",
        "The pandas dataframe is an object that is associated with many attributes and functions. How can we tell what other people have enabled their modules to do, and learn how to use them?\n",
        "\n",
        "Remember, we just read in our data (USGS_04240105_SYRACUSE_NY.csv\") as a 'pandas.core.frame.DataFrame'. What does that mean?"
      ]
    },
    {
      "cell_type": "code",
      "execution_count": null,
      "metadata": {
        "id": "aYyEX75Q2YBq"
      },
      "outputs": [],
      "source": [
        "#We can ask a question:\n",
        "?stream"
      ]
    },
    {
      "cell_type": "code",
      "execution_count": null,
      "metadata": {
        "id": "V_rQz_6R2YBq"
      },
      "outputs": [],
      "source": [
        "#We can ask a deeper queston:\n",
        "??stream\n",
        "#This gives you full documentation"
      ]
    },
    {
      "cell_type": "code",
      "execution_count": null,
      "metadata": {
        "id": "itDzoLUP2YBr"
      },
      "outputs": [],
      "source": [
        "#Or we can use the 'dot' 'tab' magic.\n",
        "stream.\n",
        "#Don't click Enter!!! Click 'Tab'. What happens?"
      ]
    },
    {
      "cell_type": "code",
      "execution_count": null,
      "metadata": {
        "id": "uJWIRB832YBr"
      },
      "outputs": [],
      "source": [
        "#We can use 'dot' 'tab' and question marks together!\n",
        "?stream.min"
      ]
    },
    {
      "cell_type": "markdown",
      "metadata": {
        "id": "7B-UvMtc2YBr"
      },
      "source": [
        "\n",
        "## TASK 13: use pandas.DataFrame built in functions to determine the minimum, maximum, and mean daily discharge over the record for the station."
      ]
    },
    {
      "cell_type": "code",
      "execution_count": null,
      "metadata": {
        "id": "0wlzj7Cb2YBr"
      },
      "outputs": [],
      "source": [
        "#use pandas.DataFrame functions to assign appropriate values to the variables here.\n",
        "min_dis =\n",
        "max_dis =\n",
        "mean_dis =\n",
        "print(min_dis, max_dis, mean_dis)"
      ]
    },
    {
      "cell_type": "markdown",
      "metadata": {
        "id": "STqv3bd-2YBs"
      },
      "source": [
        "## TASK 14: create a new column called \"Discharge_total\" where cumulative daily discharge is calculated (hint: there are 24 x 60 x 60 seconds in a day)"
      ]
    },
    {
      "cell_type": "code",
      "execution_count": null,
      "metadata": {
        "id": "T37eb3cW2YBs"
      },
      "outputs": [],
      "source": [
        "#enter calculations here\n"
      ]
    },
    {
      "cell_type": "markdown",
      "metadata": {
        "id": "mCIEZzEM2YBs"
      },
      "source": [
        "## EXTRA CREDIT: Use indexing to determine the DATE on which the maximum daily discharge occured.\n",
        "(Hint! check out ?stream.iloc and ?stream.argmax, then try Googling \"Find row where value of column is maximum in pandas DataFrame\" or something similar)\n",
        "\n",
        "(Still stuck? Enter the last thing you tried in this box, and then post your unsolved code on the Questions and Answers page on blackboard)."
      ]
    },
    {
      "cell_type": "code",
      "execution_count": null,
      "metadata": {
        "id": "K8HNETRl2YBs"
      },
      "outputs": [],
      "source": [
        "#Type your answer here, see if you can get it in one line of code!\n",
        "\n"
      ]
    },
    {
      "cell_type": "markdown",
      "metadata": {
        "id": "SZPJwwlb2YBt"
      },
      "source": [
        "# You're almost done for today! Last steps:\n",
        "## * save your .ipynb: go to file > Save a copy on Google Drive\n",
        "## * share the Python101.ipynb with me at ekcarter@g.syr.edu\n",
        "\n",
        "## If this was brand new to you, please take time to work through Sections 4,6, and 7 in [https://www.earthdatascience.org/courses/intro-to-earth-data-science/]"
      ]
    }
  ],
  "metadata": {
    "colab": {
      "provenance": []
    },
    "kernelspec": {
      "display_name": "Python 3 (ipykernel)",
      "language": "python",
      "name": "python3"
    },
    "language_info": {
      "codemirror_mode": {
        "name": "ipython",
        "version": 3
      },
      "file_extension": ".py",
      "mimetype": "text/x-python",
      "name": "python",
      "nbconvert_exporter": "python",
      "pygments_lexer": "ipython3",
      "version": "3.9.12"
    }
  },
  "nbformat": 4,
  "nbformat_minor": 0
}