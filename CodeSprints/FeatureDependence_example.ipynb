{
  "nbformat": 4,
  "nbformat_minor": 0,
  "metadata": {
    "colab": {
      "provenance": [],
      "authorship_tag": "ABX9TyO3TiUtc0J4Bihg6I8GN5HM",
      "include_colab_link": true
    },
    "kernelspec": {
      "name": "python3",
      "display_name": "Python 3"
    },
    "language_info": {
      "name": "python"
    }
  },
  "cells": [
    {
      "cell_type": "markdown",
      "metadata": {
        "id": "view-in-github",
        "colab_type": "text"
      },
      "source": [
        "<a href=\"https://colab.research.google.com/github/LizCarter492/EnvDatSci/blob/main/CodeSprints/FeatureDependence_example.ipynb\" target=\"_parent\"><img src=\"https://colab.research.google.com/assets/colab-badge.svg\" alt=\"Open In Colab\"/></a>"
      ]
    },
    {
      "cell_type": "code",
      "source": [
        "from google.colab import auth\n",
        "auth.authenticate_user()\n",
        "\n",
        "import gspread\n",
        "from google.auth import default\n",
        "creds, _ = default()\n",
        "\n",
        "gc = gspread.authorize(creds)"
      ],
      "metadata": {
        "id": "-Kt5YLtBBrqU"
      },
      "execution_count": null,
      "outputs": []
    },
    {
      "cell_type": "markdown",
      "source": [
        "#Read in data\n",
        "The \"CEE 609 Height Model\" sheet contains your measurements of your wrist circumference, foot length, and your self-reported height entered during class."
      ],
      "metadata": {
        "id": "g0OBpBJsf-uo"
      }
    },
    {
      "cell_type": "code",
      "source": [
        "worksheet = gc.open('CEE 609 Height Model').sheet1\n",
        "\n",
        "# get_all_values gives a list of rows.\n",
        "rows = worksheet.get_all_values()\n",
        "print(rows)\n",
        "\n",
        "import pandas as pd\n",
        "df = pd.DataFrame.from_records(rows) #convert data to pandas dataframe\n",
        "new_header = df.iloc[0] #grab the first row for the header\n",
        "df = df[1:] #take the data less the header row\n",
        "df.columns = new_header #set the header row as the df header\n",
        "df\n"
      ],
      "metadata": {
        "colab": {
          "base_uri": "https://localhost:8080/",
          "height": 683
        },
        "id": "s0NgBUclAPE4",
        "outputId": "24f672a5-e8eb-49dc-b855-50916cbb164d"
      },
      "execution_count": null,
      "outputs": [
        {
          "output_type": "stream",
          "name": "stdout",
          "text": [
            "[['NetID', 'Wrist circumference', 'Foot length', 'Heigth'], ['nikohl', '16', '30', '194'], ['msmit130', '12', '26', '100'], ['AHussein87', '19', '32', '176'], ['raruggie', '16', '27', '172.1'], ['bmferro', '18.2', '29.1', '180.3'], ['Cgharvey', '18', '27', '178'], ['lborden', '18', '30', '182'], ['Babak', '13', '27', '100'], ['araghura', '12', '26', '168'], ['amcero', '12.5', '26', '165'], ['baedgert', '15', '26', '170'], ['averma12', '16', '27', '171'], ['hkim139', '16', '30', '183'], ['srijal', '12', '23', '173.7'], ['Nariman', '12', '24', '160'], ['mmkoch', '16', '26', '175'], ['Abmccart', '15', '23', '155'], ['abwebste', '14', '25', '165'], ['emjorgen', '15', '25', '162']]\n"
          ]
        },
        {
          "output_type": "execute_result",
          "data": {
            "text/plain": [
              "0        NetID Wrist circumference Foot length Heigth\n",
              "1       nikohl                  16          30    194\n",
              "2     msmit130                  12          26    100\n",
              "3   AHussein87                  19          32    176\n",
              "4     raruggie                  16          27  172.1\n",
              "5      bmferro                18.2        29.1  180.3\n",
              "6     Cgharvey                  18          27    178\n",
              "7      lborden                  18          30    182\n",
              "8        Babak                  13          27    100\n",
              "9     araghura                  12          26    168\n",
              "10      amcero                12.5          26    165\n",
              "11    baedgert                  15          26    170\n",
              "12    averma12                  16          27    171\n",
              "13     hkim139                  16          30    183\n",
              "14      srijal                  12          23  173.7\n",
              "15     Nariman                  12          24    160\n",
              "16      mmkoch                  16          26    175\n",
              "17    Abmccart                  15          23    155\n",
              "18    abwebste                  14          25    165\n",
              "19    emjorgen                  15          25    162"
            ],
            "text/html": [
              "\n",
              "  <div id=\"df-e87efd52-492b-4134-865f-e07be62f0736\">\n",
              "    <div class=\"colab-df-container\">\n",
              "      <div>\n",
              "<style scoped>\n",
              "    .dataframe tbody tr th:only-of-type {\n",
              "        vertical-align: middle;\n",
              "    }\n",
              "\n",
              "    .dataframe tbody tr th {\n",
              "        vertical-align: top;\n",
              "    }\n",
              "\n",
              "    .dataframe thead th {\n",
              "        text-align: right;\n",
              "    }\n",
              "</style>\n",
              "<table border=\"1\" class=\"dataframe\">\n",
              "  <thead>\n",
              "    <tr style=\"text-align: right;\">\n",
              "      <th></th>\n",
              "      <th>NetID</th>\n",
              "      <th>Wrist circumference</th>\n",
              "      <th>Foot length</th>\n",
              "      <th>Heigth</th>\n",
              "    </tr>\n",
              "  </thead>\n",
              "  <tbody>\n",
              "    <tr>\n",
              "      <th>1</th>\n",
              "      <td>nikohl</td>\n",
              "      <td>16</td>\n",
              "      <td>30</td>\n",
              "      <td>194</td>\n",
              "    </tr>\n",
              "    <tr>\n",
              "      <th>2</th>\n",
              "      <td>msmit130</td>\n",
              "      <td>12</td>\n",
              "      <td>26</td>\n",
              "      <td>100</td>\n",
              "    </tr>\n",
              "    <tr>\n",
              "      <th>3</th>\n",
              "      <td>AHussein87</td>\n",
              "      <td>19</td>\n",
              "      <td>32</td>\n",
              "      <td>176</td>\n",
              "    </tr>\n",
              "    <tr>\n",
              "      <th>4</th>\n",
              "      <td>raruggie</td>\n",
              "      <td>16</td>\n",
              "      <td>27</td>\n",
              "      <td>172.1</td>\n",
              "    </tr>\n",
              "    <tr>\n",
              "      <th>5</th>\n",
              "      <td>bmferro</td>\n",
              "      <td>18.2</td>\n",
              "      <td>29.1</td>\n",
              "      <td>180.3</td>\n",
              "    </tr>\n",
              "    <tr>\n",
              "      <th>6</th>\n",
              "      <td>Cgharvey</td>\n",
              "      <td>18</td>\n",
              "      <td>27</td>\n",
              "      <td>178</td>\n",
              "    </tr>\n",
              "    <tr>\n",
              "      <th>7</th>\n",
              "      <td>lborden</td>\n",
              "      <td>18</td>\n",
              "      <td>30</td>\n",
              "      <td>182</td>\n",
              "    </tr>\n",
              "    <tr>\n",
              "      <th>8</th>\n",
              "      <td>Babak</td>\n",
              "      <td>13</td>\n",
              "      <td>27</td>\n",
              "      <td>100</td>\n",
              "    </tr>\n",
              "    <tr>\n",
              "      <th>9</th>\n",
              "      <td>araghura</td>\n",
              "      <td>12</td>\n",
              "      <td>26</td>\n",
              "      <td>168</td>\n",
              "    </tr>\n",
              "    <tr>\n",
              "      <th>10</th>\n",
              "      <td>amcero</td>\n",
              "      <td>12.5</td>\n",
              "      <td>26</td>\n",
              "      <td>165</td>\n",
              "    </tr>\n",
              "    <tr>\n",
              "      <th>11</th>\n",
              "      <td>baedgert</td>\n",
              "      <td>15</td>\n",
              "      <td>26</td>\n",
              "      <td>170</td>\n",
              "    </tr>\n",
              "    <tr>\n",
              "      <th>12</th>\n",
              "      <td>averma12</td>\n",
              "      <td>16</td>\n",
              "      <td>27</td>\n",
              "      <td>171</td>\n",
              "    </tr>\n",
              "    <tr>\n",
              "      <th>13</th>\n",
              "      <td>hkim139</td>\n",
              "      <td>16</td>\n",
              "      <td>30</td>\n",
              "      <td>183</td>\n",
              "    </tr>\n",
              "    <tr>\n",
              "      <th>14</th>\n",
              "      <td>srijal</td>\n",
              "      <td>12</td>\n",
              "      <td>23</td>\n",
              "      <td>173.7</td>\n",
              "    </tr>\n",
              "    <tr>\n",
              "      <th>15</th>\n",
              "      <td>Nariman</td>\n",
              "      <td>12</td>\n",
              "      <td>24</td>\n",
              "      <td>160</td>\n",
              "    </tr>\n",
              "    <tr>\n",
              "      <th>16</th>\n",
              "      <td>mmkoch</td>\n",
              "      <td>16</td>\n",
              "      <td>26</td>\n",
              "      <td>175</td>\n",
              "    </tr>\n",
              "    <tr>\n",
              "      <th>17</th>\n",
              "      <td>Abmccart</td>\n",
              "      <td>15</td>\n",
              "      <td>23</td>\n",
              "      <td>155</td>\n",
              "    </tr>\n",
              "    <tr>\n",
              "      <th>18</th>\n",
              "      <td>abwebste</td>\n",
              "      <td>14</td>\n",
              "      <td>25</td>\n",
              "      <td>165</td>\n",
              "    </tr>\n",
              "    <tr>\n",
              "      <th>19</th>\n",
              "      <td>emjorgen</td>\n",
              "      <td>15</td>\n",
              "      <td>25</td>\n",
              "      <td>162</td>\n",
              "    </tr>\n",
              "  </tbody>\n",
              "</table>\n",
              "</div>\n",
              "      <button class=\"colab-df-convert\" onclick=\"convertToInteractive('df-e87efd52-492b-4134-865f-e07be62f0736')\"\n",
              "              title=\"Convert this dataframe to an interactive table.\"\n",
              "              style=\"display:none;\">\n",
              "        \n",
              "  <svg xmlns=\"http://www.w3.org/2000/svg\" height=\"24px\"viewBox=\"0 0 24 24\"\n",
              "       width=\"24px\">\n",
              "    <path d=\"M0 0h24v24H0V0z\" fill=\"none\"/>\n",
              "    <path d=\"M18.56 5.44l.94 2.06.94-2.06 2.06-.94-2.06-.94-.94-2.06-.94 2.06-2.06.94zm-11 1L8.5 8.5l.94-2.06 2.06-.94-2.06-.94L8.5 2.5l-.94 2.06-2.06.94zm10 10l.94 2.06.94-2.06 2.06-.94-2.06-.94-.94-2.06-.94 2.06-2.06.94z\"/><path d=\"M17.41 7.96l-1.37-1.37c-.4-.4-.92-.59-1.43-.59-.52 0-1.04.2-1.43.59L10.3 9.45l-7.72 7.72c-.78.78-.78 2.05 0 2.83L4 21.41c.39.39.9.59 1.41.59.51 0 1.02-.2 1.41-.59l7.78-7.78 2.81-2.81c.8-.78.8-2.07 0-2.86zM5.41 20L4 18.59l7.72-7.72 1.47 1.35L5.41 20z\"/>\n",
              "  </svg>\n",
              "      </button>\n",
              "      \n",
              "  <style>\n",
              "    .colab-df-container {\n",
              "      display:flex;\n",
              "      flex-wrap:wrap;\n",
              "      gap: 12px;\n",
              "    }\n",
              "\n",
              "    .colab-df-convert {\n",
              "      background-color: #E8F0FE;\n",
              "      border: none;\n",
              "      border-radius: 50%;\n",
              "      cursor: pointer;\n",
              "      display: none;\n",
              "      fill: #1967D2;\n",
              "      height: 32px;\n",
              "      padding: 0 0 0 0;\n",
              "      width: 32px;\n",
              "    }\n",
              "\n",
              "    .colab-df-convert:hover {\n",
              "      background-color: #E2EBFA;\n",
              "      box-shadow: 0px 1px 2px rgba(60, 64, 67, 0.3), 0px 1px 3px 1px rgba(60, 64, 67, 0.15);\n",
              "      fill: #174EA6;\n",
              "    }\n",
              "\n",
              "    [theme=dark] .colab-df-convert {\n",
              "      background-color: #3B4455;\n",
              "      fill: #D2E3FC;\n",
              "    }\n",
              "\n",
              "    [theme=dark] .colab-df-convert:hover {\n",
              "      background-color: #434B5C;\n",
              "      box-shadow: 0px 1px 3px 1px rgba(0, 0, 0, 0.15);\n",
              "      filter: drop-shadow(0px 1px 2px rgba(0, 0, 0, 0.3));\n",
              "      fill: #FFFFFF;\n",
              "    }\n",
              "  </style>\n",
              "\n",
              "      <script>\n",
              "        const buttonEl =\n",
              "          document.querySelector('#df-e87efd52-492b-4134-865f-e07be62f0736 button.colab-df-convert');\n",
              "        buttonEl.style.display =\n",
              "          google.colab.kernel.accessAllowed ? 'block' : 'none';\n",
              "\n",
              "        async function convertToInteractive(key) {\n",
              "          const element = document.querySelector('#df-e87efd52-492b-4134-865f-e07be62f0736');\n",
              "          const dataTable =\n",
              "            await google.colab.kernel.invokeFunction('convertToInteractive',\n",
              "                                                     [key], {});\n",
              "          if (!dataTable) return;\n",
              "\n",
              "          const docLinkHtml = 'Like what you see? Visit the ' +\n",
              "            '<a target=\"_blank\" href=https://colab.research.google.com/notebooks/data_table.ipynb>data table notebook</a>'\n",
              "            + ' to learn more about interactive tables.';\n",
              "          element.innerHTML = '';\n",
              "          dataTable['output_type'] = 'display_data';\n",
              "          await google.colab.output.renderOutput(dataTable, element);\n",
              "          const docLink = document.createElement('div');\n",
              "          docLink.innerHTML = docLinkHtml;\n",
              "          element.appendChild(docLink);\n",
              "        }\n",
              "      </script>\n",
              "    </div>\n",
              "  </div>\n",
              "  "
            ]
          },
          "metadata": {},
          "execution_count": 3
        }
      ]
    },
    {
      "cell_type": "code",
      "source": [
        "list=rows[0][1:3] #create a list of column names of predictors\n",
        "print(list)"
      ],
      "metadata": {
        "colab": {
          "base_uri": "https://localhost:8080/"
        },
        "id": "pf9iHzXkDDtD",
        "outputId": "1400c406-4415-48b9-b036-939e7cc54e33"
      },
      "execution_count": null,
      "outputs": [
        {
          "output_type": "stream",
          "name": "stdout",
          "text": [
            "['Wrist circumference', 'Foot length']\n"
          ]
        }
      ]
    },
    {
      "cell_type": "code",
      "source": [
        "import numpy as np\n",
        "X = np.array(df[list].values) #create numpy array of predictors\n",
        "Y = np.array(df['Heigth'].values) #create numpy array of predictand"
      ],
      "metadata": {
        "id": "OCU7KdZOB4Qc"
      },
      "execution_count": null,
      "outputs": []
    },
    {
      "cell_type": "code",
      "source": [
        "#convert to type numeric float\n",
        "X = X.astype('float')\n",
        "Y = Y.astype('float')"
      ],
      "metadata": {
        "id": "RDN7njrwDstZ"
      },
      "execution_count": null,
      "outputs": []
    },
    {
      "cell_type": "markdown",
      "source": [
        "#Are my predictors correlated?\n",
        "Below we generate a correlation coefficient matrix for our predictors using the numpy corrcoef function."
      ],
      "metadata": {
        "id": "-M0qRPJegwiW"
      }
    },
    {
      "cell_type": "code",
      "source": [
        "np.corrcoef(X[:,0],X[:,1])"
      ],
      "metadata": {
        "colab": {
          "base_uri": "https://localhost:8080/"
        },
        "id": "a9z2t9R9DZ3Q",
        "outputId": "1209e25c-5496-4bca-e60f-890fc8549879"
      },
      "execution_count": null,
      "outputs": [
        {
          "output_type": "execute_result",
          "data": {
            "text/plain": [
              "array([[1.        , 0.70374207],\n",
              "       [0.70374207, 1.        ]])"
            ]
          },
          "metadata": {},
          "execution_count": 7
        }
      ]
    },
    {
      "cell_type": "markdown",
      "source": [
        "Remember that correlation coefficients > 0.7 are generally considered \"too much\" for model stability.\n",
        "\n",
        "Next, we'll use the standard formula to estimate the coefficients in this regression:\n",
        "\\begin{equation*}\n",
        "\\beta = (X^{T}X) ^ { -1 } X^{T}Y\n",
        "\\end{equation*}\n",
        "\n",
        "By first creating the variable:\n",
        "\\begin{equation*}\n",
        "(X^{T}X) =XTX\n",
        "\\end{equation*}\n",
        "\n",
        "to simplify the calculations.\n"
      ],
      "metadata": {
        "id": "De0p2UfmhIY_"
      }
    },
    {
      "cell_type": "code",
      "source": [
        "XTX=np.matmul(X,np.transpose(X))"
      ],
      "metadata": {
        "id": "aOOt7LVdG1EH"
      },
      "execution_count": null,
      "outputs": []
    },
    {
      "cell_type": "code",
      "source": [
        "XTX"
      ],
      "metadata": {
        "colab": {
          "base_uri": "https://localhost:8080/"
        },
        "id": "jNdBcyLcjENw",
        "outputId": "a9c1cbe2-6b38-4c8c-faaa-fd353dc7c95c"
      },
      "execution_count": null,
      "outputs": [
        {
          "output_type": "execute_result",
          "data": {
            "text/plain": [
              "array([[1156.  ,  972.  , 1264.  , 1066.  , 1164.2 , 1098.  , 1188.  ,\n",
              "        1018.  ,  972.  ,  980.  , 1020.  , 1066.  , 1156.  ,  882.  ,\n",
              "         912.  , 1036.  ,  930.  ,  974.  ,  990.  ],\n",
              "       [ 972.  ,  820.  , 1060.  ,  894.  ,  975.  ,  918.  ,  996.  ,\n",
              "         858.  ,  820.  ,  826.  ,  856.  ,  894.  ,  972.  ,  742.  ,\n",
              "         768.  ,  868.  ,  778.  ,  818.  ,  830.  ],\n",
              "       [1264.  , 1060.  , 1385.  , 1168.  , 1277.  , 1206.  , 1302.  ,\n",
              "        1111.  , 1060.  , 1069.5 , 1117.  , 1168.  , 1264.  ,  964.  ,\n",
              "         996.  , 1136.  , 1021.  , 1066.  , 1085.  ],\n",
              "       [1066.  ,  894.  , 1168.  ,  985.  , 1076.9 , 1017.  , 1098.  ,\n",
              "         937.  ,  894.  ,  902.  ,  942.  ,  985.  , 1066.  ,  813.  ,\n",
              "         840.  ,  958.  ,  861.  ,  899.  ,  915.  ],\n",
              "       [1164.2 ,  975.  , 1277.  , 1076.9 , 1178.05, 1113.3 , 1200.6 ,\n",
              "        1022.3 ,  975.  ,  984.1 , 1029.6 , 1076.9 , 1164.2 ,  887.7 ,\n",
              "         916.8 , 1047.8 ,  942.3 ,  982.3 , 1000.5 ],\n",
              "       [1098.  ,  918.  , 1206.  , 1017.  , 1113.3 , 1053.  , 1134.  ,\n",
              "         963.  ,  918.  ,  927.  ,  972.  , 1017.  , 1098.  ,  837.  ,\n",
              "         864.  ,  990.  ,  891.  ,  927.  ,  945.  ],\n",
              "       [1188.  ,  996.  , 1302.  , 1098.  , 1200.6 , 1134.  , 1224.  ,\n",
              "        1044.  ,  996.  , 1005.  , 1050.  , 1098.  , 1188.  ,  906.  ,\n",
              "         936.  , 1068.  ,  960.  , 1002.  , 1020.  ],\n",
              "       [1018.  ,  858.  , 1111.  ,  937.  , 1022.3 ,  963.  , 1044.  ,\n",
              "         898.  ,  858.  ,  864.5 ,  897.  ,  937.  , 1018.  ,  777.  ,\n",
              "         804.  ,  910.  ,  816.  ,  857.  ,  870.  ],\n",
              "       [ 972.  ,  820.  , 1060.  ,  894.  ,  975.  ,  918.  ,  996.  ,\n",
              "         858.  ,  820.  ,  826.  ,  856.  ,  894.  ,  972.  ,  742.  ,\n",
              "         768.  ,  868.  ,  778.  ,  818.  ,  830.  ],\n",
              "       [ 980.  ,  826.  , 1069.5 ,  902.  ,  984.1 ,  927.  , 1005.  ,\n",
              "         864.5 ,  826.  ,  832.25,  863.5 ,  902.  ,  980.  ,  748.  ,\n",
              "         774.  ,  876.  ,  785.5 ,  825.  ,  837.5 ],\n",
              "       [1020.  ,  856.  , 1117.  ,  942.  , 1029.6 ,  972.  , 1050.  ,\n",
              "         897.  ,  856.  ,  863.5 ,  901.  ,  942.  , 1020.  ,  778.  ,\n",
              "         804.  ,  916.  ,  823.  ,  860.  ,  875.  ],\n",
              "       [1066.  ,  894.  , 1168.  ,  985.  , 1076.9 , 1017.  , 1098.  ,\n",
              "         937.  ,  894.  ,  902.  ,  942.  ,  985.  , 1066.  ,  813.  ,\n",
              "         840.  ,  958.  ,  861.  ,  899.  ,  915.  ],\n",
              "       [1156.  ,  972.  , 1264.  , 1066.  , 1164.2 , 1098.  , 1188.  ,\n",
              "        1018.  ,  972.  ,  980.  , 1020.  , 1066.  , 1156.  ,  882.  ,\n",
              "         912.  , 1036.  ,  930.  ,  974.  ,  990.  ],\n",
              "       [ 882.  ,  742.  ,  964.  ,  813.  ,  887.7 ,  837.  ,  906.  ,\n",
              "         777.  ,  742.  ,  748.  ,  778.  ,  813.  ,  882.  ,  673.  ,\n",
              "         696.  ,  790.  ,  709.  ,  743.  ,  755.  ],\n",
              "       [ 912.  ,  768.  ,  996.  ,  840.  ,  916.8 ,  864.  ,  936.  ,\n",
              "         804.  ,  768.  ,  774.  ,  804.  ,  840.  ,  912.  ,  696.  ,\n",
              "         720.  ,  816.  ,  732.  ,  768.  ,  780.  ],\n",
              "       [1036.  ,  868.  , 1136.  ,  958.  , 1047.8 ,  990.  , 1068.  ,\n",
              "         910.  ,  868.  ,  876.  ,  916.  ,  958.  , 1036.  ,  790.  ,\n",
              "         816.  ,  932.  ,  838.  ,  874.  ,  890.  ],\n",
              "       [ 930.  ,  778.  , 1021.  ,  861.  ,  942.3 ,  891.  ,  960.  ,\n",
              "         816.  ,  778.  ,  785.5 ,  823.  ,  861.  ,  930.  ,  709.  ,\n",
              "         732.  ,  838.  ,  754.  ,  785.  ,  800.  ],\n",
              "       [ 974.  ,  818.  , 1066.  ,  899.  ,  982.3 ,  927.  , 1002.  ,\n",
              "         857.  ,  818.  ,  825.  ,  860.  ,  899.  ,  974.  ,  743.  ,\n",
              "         768.  ,  874.  ,  785.  ,  821.  ,  835.  ],\n",
              "       [ 990.  ,  830.  , 1085.  ,  915.  , 1000.5 ,  945.  , 1020.  ,\n",
              "         870.  ,  830.  ,  837.5 ,  875.  ,  915.  ,  990.  ,  755.  ,\n",
              "         780.  ,  890.  ,  800.  ,  835.  ,  850.  ]])"
            ]
          },
          "metadata": {},
          "execution_count": 9
        }
      ]
    },
    {
      "cell_type": "code",
      "source": [
        "XTX.shape"
      ],
      "metadata": {
        "colab": {
          "base_uri": "https://localhost:8080/"
        },
        "id": "brvllPVnJiNi",
        "outputId": "2b8fe29f-d236-4797-aa95-c28e5d456a12"
      },
      "execution_count": null,
      "outputs": [
        {
          "output_type": "execute_result",
          "data": {
            "text/plain": [
              "(19, 19)"
            ]
          },
          "metadata": {},
          "execution_count": 10
        }
      ]
    },
    {
      "cell_type": "code",
      "source": [
        "np.linalg.det(XTX) #no determinant!"
      ],
      "metadata": {
        "colab": {
          "base_uri": "https://localhost:8080/"
        },
        "id": "mycKhEisJ4iy",
        "outputId": "bb4c00fe-8816-4dad-bb74-43b0d682722c"
      },
      "execution_count": null,
      "outputs": [
        {
          "output_type": "execute_result",
          "data": {
            "text/plain": [
              "0.0"
            ]
          },
          "metadata": {},
          "execution_count": 11
        }
      ]
    },
    {
      "cell_type": "code",
      "source": [
        "np.linalg.inv(XTX) #cannot invert!"
      ],
      "metadata": {
        "colab": {
          "base_uri": "https://localhost:8080/",
          "height": 359
        },
        "id": "_GIFwdmAJ1kv",
        "outputId": "401523bb-b73f-4796-c917-f0f89d413f05"
      },
      "execution_count": null,
      "outputs": [
        {
          "output_type": "error",
          "ename": "LinAlgError",
          "evalue": "ignored",
          "traceback": [
            "\u001b[0;31m---------------------------------------------------------------------------\u001b[0m",
            "\u001b[0;31mLinAlgError\u001b[0m                               Traceback (most recent call last)",
            "\u001b[0;32m<ipython-input-12-d8c458ce141f>\u001b[0m in \u001b[0;36m<module>\u001b[0;34m\u001b[0m\n\u001b[0;32m----> 1\u001b[0;31m \u001b[0mnp\u001b[0m\u001b[0;34m.\u001b[0m\u001b[0mlinalg\u001b[0m\u001b[0;34m.\u001b[0m\u001b[0minv\u001b[0m\u001b[0;34m(\u001b[0m\u001b[0mXTX\u001b[0m\u001b[0;34m)\u001b[0m \u001b[0;31m#cannot invert!\u001b[0m\u001b[0;34m\u001b[0m\u001b[0;34m\u001b[0m\u001b[0m\n\u001b[0m",
            "\u001b[0;32m<__array_function__ internals>\u001b[0m in \u001b[0;36minv\u001b[0;34m(*args, **kwargs)\u001b[0m\n",
            "\u001b[0;32m/usr/local/lib/python3.7/dist-packages/numpy/linalg/linalg.py\u001b[0m in \u001b[0;36minv\u001b[0;34m(a)\u001b[0m\n\u001b[1;32m    543\u001b[0m     \u001b[0msignature\u001b[0m \u001b[0;34m=\u001b[0m \u001b[0;34m'D->D'\u001b[0m \u001b[0;32mif\u001b[0m \u001b[0misComplexType\u001b[0m\u001b[0;34m(\u001b[0m\u001b[0mt\u001b[0m\u001b[0;34m)\u001b[0m \u001b[0;32melse\u001b[0m \u001b[0;34m'd->d'\u001b[0m\u001b[0;34m\u001b[0m\u001b[0;34m\u001b[0m\u001b[0m\n\u001b[1;32m    544\u001b[0m     \u001b[0mextobj\u001b[0m \u001b[0;34m=\u001b[0m \u001b[0mget_linalg_error_extobj\u001b[0m\u001b[0;34m(\u001b[0m\u001b[0m_raise_linalgerror_singular\u001b[0m\u001b[0;34m)\u001b[0m\u001b[0;34m\u001b[0m\u001b[0;34m\u001b[0m\u001b[0m\n\u001b[0;32m--> 545\u001b[0;31m     \u001b[0mainv\u001b[0m \u001b[0;34m=\u001b[0m \u001b[0m_umath_linalg\u001b[0m\u001b[0;34m.\u001b[0m\u001b[0minv\u001b[0m\u001b[0;34m(\u001b[0m\u001b[0ma\u001b[0m\u001b[0;34m,\u001b[0m \u001b[0msignature\u001b[0m\u001b[0;34m=\u001b[0m\u001b[0msignature\u001b[0m\u001b[0;34m,\u001b[0m \u001b[0mextobj\u001b[0m\u001b[0;34m=\u001b[0m\u001b[0mextobj\u001b[0m\u001b[0;34m)\u001b[0m\u001b[0;34m\u001b[0m\u001b[0;34m\u001b[0m\u001b[0m\n\u001b[0m\u001b[1;32m    546\u001b[0m     \u001b[0;32mreturn\u001b[0m \u001b[0mwrap\u001b[0m\u001b[0;34m(\u001b[0m\u001b[0mainv\u001b[0m\u001b[0;34m.\u001b[0m\u001b[0mastype\u001b[0m\u001b[0;34m(\u001b[0m\u001b[0mresult_t\u001b[0m\u001b[0;34m,\u001b[0m \u001b[0mcopy\u001b[0m\u001b[0;34m=\u001b[0m\u001b[0;32mFalse\u001b[0m\u001b[0;34m)\u001b[0m\u001b[0;34m)\u001b[0m\u001b[0;34m\u001b[0m\u001b[0;34m\u001b[0m\u001b[0m\n\u001b[1;32m    547\u001b[0m \u001b[0;34m\u001b[0m\u001b[0m\n",
            "\u001b[0;32m/usr/local/lib/python3.7/dist-packages/numpy/linalg/linalg.py\u001b[0m in \u001b[0;36m_raise_linalgerror_singular\u001b[0;34m(err, flag)\u001b[0m\n\u001b[1;32m     86\u001b[0m \u001b[0;34m\u001b[0m\u001b[0m\n\u001b[1;32m     87\u001b[0m \u001b[0;32mdef\u001b[0m \u001b[0m_raise_linalgerror_singular\u001b[0m\u001b[0;34m(\u001b[0m\u001b[0merr\u001b[0m\u001b[0;34m,\u001b[0m \u001b[0mflag\u001b[0m\u001b[0;34m)\u001b[0m\u001b[0;34m:\u001b[0m\u001b[0;34m\u001b[0m\u001b[0;34m\u001b[0m\u001b[0m\n\u001b[0;32m---> 88\u001b[0;31m     \u001b[0;32mraise\u001b[0m \u001b[0mLinAlgError\u001b[0m\u001b[0;34m(\u001b[0m\u001b[0;34m\"Singular matrix\"\u001b[0m\u001b[0;34m)\u001b[0m\u001b[0;34m\u001b[0m\u001b[0;34m\u001b[0m\u001b[0m\n\u001b[0m\u001b[1;32m     89\u001b[0m \u001b[0;34m\u001b[0m\u001b[0m\n\u001b[1;32m     90\u001b[0m \u001b[0;32mdef\u001b[0m \u001b[0m_raise_linalgerror_nonposdef\u001b[0m\u001b[0;34m(\u001b[0m\u001b[0merr\u001b[0m\u001b[0;34m,\u001b[0m \u001b[0mflag\u001b[0m\u001b[0;34m)\u001b[0m\u001b[0;34m:\u001b[0m\u001b[0;34m\u001b[0m\u001b[0;34m\u001b[0m\u001b[0m\n",
            "\u001b[0;31mLinAlgError\u001b[0m: Singular matrix"
          ]
        }
      ]
    },
    {
      "cell_type": "markdown",
      "source": [
        "Since XTX matrix is not invertable, we'll use the numpy pinv to calculate the Moore-Penrose pseudo-inverse of a matrix:"
      ],
      "metadata": {
        "id": "q5sFJ5XNjMFB"
      }
    },
    {
      "cell_type": "code",
      "source": [
        "betas = np.matmul(np.transpose(np.matmul(np.linalg.pinv(XTX), X)), Y)\n",
        "print(\"The estimated coefficient on \" + list[0] + \" is \" + str(betas[0]) + \" and the estimated coefficient on \" + list[1] + \" is \" + str(betas[1]))"
      ],
      "metadata": {
        "colab": {
          "base_uri": "https://localhost:8080/"
        },
        "id": "zSn-HRnOHK6D",
        "outputId": "bdb76ff7-f4db-452d-a758-b69c8e6c05ee"
      },
      "execution_count": null,
      "outputs": [
        {
          "output_type": "stream",
          "name": "stdout",
          "text": [
            "The estimated coefficient on Wrist circumference is 5.919158133872086 and the estimated coefficient on Foot length is 2.7984188001672425\n"
          ]
        }
      ]
    },
    {
      "cell_type": "markdown",
      "source": [
        "Next, we use the OLS (ordinary least squares) function from statsmodels to calculate the same coefficients. OLS regression works by finding the values of $\\hat{\\beta}$ that minimize the following equation:\n",
        "\\begin{equation*}\n",
        "S(\\hat{\\beta}) = \\sum _ { i = 1 } ^ { n } {| y _ { i } -\\sum _ { j = 1 } ^ { J } x _ { i,j} {\\beta _ {j}} |^{2}}\n",
        "\\end{equation*}"
      ],
      "metadata": {
        "id": "vPrKbUfDk95i"
      }
    },
    {
      "cell_type": "code",
      "source": [
        "from statsmodels.api import OLS\n",
        "lm = OLS(Y,X).fit().summary()\n",
        "print(lm)\n",
        "# They match! But we can see that the coeficient on foot lenght is not significant."
      ],
      "metadata": {
        "colab": {
          "base_uri": "https://localhost:8080/"
        },
        "id": "ILcqVvSlFPLE",
        "outputId": "b09dc59d-c96f-4fd5-88b1-b113505cd601"
      },
      "execution_count": null,
      "outputs": [
        {
          "output_type": "stream",
          "name": "stdout",
          "text": [
            "                                 OLS Regression Results                                \n",
            "=======================================================================================\n",
            "Dep. Variable:                      y   R-squared (uncentered):                   0.983\n",
            "Model:                            OLS   Adj. R-squared (uncentered):              0.981\n",
            "Method:                 Least Squares   F-statistic:                              492.7\n",
            "Date:                Wed, 02 Nov 2022   Prob (F-statistic):                    8.91e-16\n",
            "Time:                        20:40:18   Log-Likelihood:                         -85.410\n",
            "No. Observations:                  19   AIC:                                      174.8\n",
            "Df Residuals:                      17   BIC:                                      176.7\n",
            "Df Model:                           2                                                  \n",
            "Covariance Type:            nonrobust                                                  \n",
            "==============================================================================\n",
            "                 coef    std err          t      P>|t|      [0.025      0.975]\n",
            "------------------------------------------------------------------------------\n",
            "x1             5.9192      3.249      1.822      0.086      -0.936      12.774\n",
            "x2             2.7984      1.836      1.524      0.146      -1.076       6.673\n",
            "==============================================================================\n",
            "Omnibus:                        5.027   Durbin-Watson:                   1.637\n",
            "Prob(Omnibus):                  0.081   Jarque-Bera (JB):                2.887\n",
            "Skew:                          -0.903   Prob(JB):                        0.236\n",
            "Kurtosis:                       3.622   Cond. No.                         21.9\n",
            "==============================================================================\n",
            "\n",
            "Notes:\n",
            "[1] R² is computed without centering (uncentered) since the model does not contain a constant.\n",
            "[2] Standard Errors assume that the covariance matrix of the errors is correctly specified.\n"
          ]
        },
        {
          "output_type": "stream",
          "name": "stderr",
          "text": [
            "/usr/local/lib/python3.7/dist-packages/scipy/stats/stats.py:1542: UserWarning: kurtosistest only valid for n>=20 ... continuing anyway, n=19\n",
            "  \"anyway, n=%i\" % int(n))\n"
          ]
        }
      ]
    },
    {
      "cell_type": "markdown",
      "source": [
        "# Penalized regression\n",
        "In penalized regression, we solve the equation:\n",
        "\n",
        "\\begin{equation*}\n",
        "\\beta = (X^{T}X+ \\lambda I) ^ { -1 } X^{T}Y\n",
        "\\end{equation*}\n",
        "\n",
        "Where $\\lambda$ is a tunable coefficient.\n",
        "\n",
        "This effectively creates a situation where we are finding the values of  $\\hat{\\beta}$ that minimize the following equation:\n",
        "\\begin{equation*}\n",
        "S(\\hat{\\beta}) = \\sum _ { i = 1 } ^ { n } {| y _ { i } -\\sum _ { j = 1 } ^ { J } x _ { i,j} {\\beta _ {j}} |^{2}} +\\sum _ { j = 1 } ^ { J }\\lambda\\beta _ {j}^{2}\n",
        "\\end{equation*}\n"
      ],
      "metadata": {
        "id": "jN-F_HMGoNjL"
      }
    },
    {
      "cell_type": "code",
      "source": [
        "#When Lambda = 0, we have OLS regression\n",
        "L1=0\n",
        "betas = np.matmul(np.transpose(np.matmul(np.linalg.pinv(XTX+L1*np.identity(XTX.shape[0])), X)), Y)\n",
        "betas"
      ],
      "metadata": {
        "id": "DBO_Ti8uIuM4"
      },
      "execution_count": null,
      "outputs": []
    },
    {
      "cell_type": "code",
      "source": [
        "#As we increase L1, we decrease the net magnitude of both coefficients\n",
        "L1_list=range(1,50000)\n",
        "coef_frame=pd.DataFrame(L1_list)\n",
        "coef_frame.columns=[\"L1\"]\n",
        "coef_frame[\"B_Wrist\"]=np.nan\n",
        "coef_frame[\"B_Foot\"]=np.nan\n"
      ],
      "metadata": {
        "id": "QcJB3WElVPXh"
      },
      "execution_count": null,
      "outputs": []
    },
    {
      "cell_type": "code",
      "source": [
        "coef_frame"
      ],
      "metadata": {
        "colab": {
          "base_uri": "https://localhost:8080/",
          "height": 424
        },
        "id": "Z_hY3EjjIcTz",
        "outputId": "eb8538db-a6df-43a9-ecf6-b1788ffcc81b"
      },
      "execution_count": null,
      "outputs": [
        {
          "output_type": "execute_result",
          "data": {
            "text/plain": [
              "          L1  B_Wrist  B_Foot\n",
              "0          1      NaN     NaN\n",
              "1          2      NaN     NaN\n",
              "2          3      NaN     NaN\n",
              "3          4      NaN     NaN\n",
              "4          5      NaN     NaN\n",
              "...      ...      ...     ...\n",
              "49994  49995      NaN     NaN\n",
              "49995  49996      NaN     NaN\n",
              "49996  49997      NaN     NaN\n",
              "49997  49998      NaN     NaN\n",
              "49998  49999      NaN     NaN\n",
              "\n",
              "[49999 rows x 3 columns]"
            ],
            "text/html": [
              "\n",
              "  <div id=\"df-87b9255e-b8d1-426f-b1b9-ceb9e4b00533\">\n",
              "    <div class=\"colab-df-container\">\n",
              "      <div>\n",
              "<style scoped>\n",
              "    .dataframe tbody tr th:only-of-type {\n",
              "        vertical-align: middle;\n",
              "    }\n",
              "\n",
              "    .dataframe tbody tr th {\n",
              "        vertical-align: top;\n",
              "    }\n",
              "\n",
              "    .dataframe thead th {\n",
              "        text-align: right;\n",
              "    }\n",
              "</style>\n",
              "<table border=\"1\" class=\"dataframe\">\n",
              "  <thead>\n",
              "    <tr style=\"text-align: right;\">\n",
              "      <th></th>\n",
              "      <th>L1</th>\n",
              "      <th>B_Wrist</th>\n",
              "      <th>B_Foot</th>\n",
              "    </tr>\n",
              "  </thead>\n",
              "  <tbody>\n",
              "    <tr>\n",
              "      <th>0</th>\n",
              "      <td>1</td>\n",
              "      <td>NaN</td>\n",
              "      <td>NaN</td>\n",
              "    </tr>\n",
              "    <tr>\n",
              "      <th>1</th>\n",
              "      <td>2</td>\n",
              "      <td>NaN</td>\n",
              "      <td>NaN</td>\n",
              "    </tr>\n",
              "    <tr>\n",
              "      <th>2</th>\n",
              "      <td>3</td>\n",
              "      <td>NaN</td>\n",
              "      <td>NaN</td>\n",
              "    </tr>\n",
              "    <tr>\n",
              "      <th>3</th>\n",
              "      <td>4</td>\n",
              "      <td>NaN</td>\n",
              "      <td>NaN</td>\n",
              "    </tr>\n",
              "    <tr>\n",
              "      <th>4</th>\n",
              "      <td>5</td>\n",
              "      <td>NaN</td>\n",
              "      <td>NaN</td>\n",
              "    </tr>\n",
              "    <tr>\n",
              "      <th>...</th>\n",
              "      <td>...</td>\n",
              "      <td>...</td>\n",
              "      <td>...</td>\n",
              "    </tr>\n",
              "    <tr>\n",
              "      <th>49994</th>\n",
              "      <td>49995</td>\n",
              "      <td>NaN</td>\n",
              "      <td>NaN</td>\n",
              "    </tr>\n",
              "    <tr>\n",
              "      <th>49995</th>\n",
              "      <td>49996</td>\n",
              "      <td>NaN</td>\n",
              "      <td>NaN</td>\n",
              "    </tr>\n",
              "    <tr>\n",
              "      <th>49996</th>\n",
              "      <td>49997</td>\n",
              "      <td>NaN</td>\n",
              "      <td>NaN</td>\n",
              "    </tr>\n",
              "    <tr>\n",
              "      <th>49997</th>\n",
              "      <td>49998</td>\n",
              "      <td>NaN</td>\n",
              "      <td>NaN</td>\n",
              "    </tr>\n",
              "    <tr>\n",
              "      <th>49998</th>\n",
              "      <td>49999</td>\n",
              "      <td>NaN</td>\n",
              "      <td>NaN</td>\n",
              "    </tr>\n",
              "  </tbody>\n",
              "</table>\n",
              "<p>49999 rows × 3 columns</p>\n",
              "</div>\n",
              "      <button class=\"colab-df-convert\" onclick=\"convertToInteractive('df-87b9255e-b8d1-426f-b1b9-ceb9e4b00533')\"\n",
              "              title=\"Convert this dataframe to an interactive table.\"\n",
              "              style=\"display:none;\">\n",
              "        \n",
              "  <svg xmlns=\"http://www.w3.org/2000/svg\" height=\"24px\"viewBox=\"0 0 24 24\"\n",
              "       width=\"24px\">\n",
              "    <path d=\"M0 0h24v24H0V0z\" fill=\"none\"/>\n",
              "    <path d=\"M18.56 5.44l.94 2.06.94-2.06 2.06-.94-2.06-.94-.94-2.06-.94 2.06-2.06.94zm-11 1L8.5 8.5l.94-2.06 2.06-.94-2.06-.94L8.5 2.5l-.94 2.06-2.06.94zm10 10l.94 2.06.94-2.06 2.06-.94-2.06-.94-.94-2.06-.94 2.06-2.06.94z\"/><path d=\"M17.41 7.96l-1.37-1.37c-.4-.4-.92-.59-1.43-.59-.52 0-1.04.2-1.43.59L10.3 9.45l-7.72 7.72c-.78.78-.78 2.05 0 2.83L4 21.41c.39.39.9.59 1.41.59.51 0 1.02-.2 1.41-.59l7.78-7.78 2.81-2.81c.8-.78.8-2.07 0-2.86zM5.41 20L4 18.59l7.72-7.72 1.47 1.35L5.41 20z\"/>\n",
              "  </svg>\n",
              "      </button>\n",
              "      \n",
              "  <style>\n",
              "    .colab-df-container {\n",
              "      display:flex;\n",
              "      flex-wrap:wrap;\n",
              "      gap: 12px;\n",
              "    }\n",
              "\n",
              "    .colab-df-convert {\n",
              "      background-color: #E8F0FE;\n",
              "      border: none;\n",
              "      border-radius: 50%;\n",
              "      cursor: pointer;\n",
              "      display: none;\n",
              "      fill: #1967D2;\n",
              "      height: 32px;\n",
              "      padding: 0 0 0 0;\n",
              "      width: 32px;\n",
              "    }\n",
              "\n",
              "    .colab-df-convert:hover {\n",
              "      background-color: #E2EBFA;\n",
              "      box-shadow: 0px 1px 2px rgba(60, 64, 67, 0.3), 0px 1px 3px 1px rgba(60, 64, 67, 0.15);\n",
              "      fill: #174EA6;\n",
              "    }\n",
              "\n",
              "    [theme=dark] .colab-df-convert {\n",
              "      background-color: #3B4455;\n",
              "      fill: #D2E3FC;\n",
              "    }\n",
              "\n",
              "    [theme=dark] .colab-df-convert:hover {\n",
              "      background-color: #434B5C;\n",
              "      box-shadow: 0px 1px 3px 1px rgba(0, 0, 0, 0.15);\n",
              "      filter: drop-shadow(0px 1px 2px rgba(0, 0, 0, 0.3));\n",
              "      fill: #FFFFFF;\n",
              "    }\n",
              "  </style>\n",
              "\n",
              "      <script>\n",
              "        const buttonEl =\n",
              "          document.querySelector('#df-87b9255e-b8d1-426f-b1b9-ceb9e4b00533 button.colab-df-convert');\n",
              "        buttonEl.style.display =\n",
              "          google.colab.kernel.accessAllowed ? 'block' : 'none';\n",
              "\n",
              "        async function convertToInteractive(key) {\n",
              "          const element = document.querySelector('#df-87b9255e-b8d1-426f-b1b9-ceb9e4b00533');\n",
              "          const dataTable =\n",
              "            await google.colab.kernel.invokeFunction('convertToInteractive',\n",
              "                                                     [key], {});\n",
              "          if (!dataTable) return;\n",
              "\n",
              "          const docLinkHtml = 'Like what you see? Visit the ' +\n",
              "            '<a target=\"_blank\" href=https://colab.research.google.com/notebooks/data_table.ipynb>data table notebook</a>'\n",
              "            + ' to learn more about interactive tables.';\n",
              "          element.innerHTML = '';\n",
              "          dataTable['output_type'] = 'display_data';\n",
              "          await google.colab.output.renderOutput(dataTable, element);\n",
              "          const docLink = document.createElement('div');\n",
              "          docLink.innerHTML = docLinkHtml;\n",
              "          element.appendChild(docLink);\n",
              "        }\n",
              "      </script>\n",
              "    </div>\n",
              "  </div>\n",
              "  "
            ]
          },
          "metadata": {},
          "execution_count": 45
        }
      ]
    },
    {
      "cell_type": "code",
      "source": [
        "for L1 in L1_list:\n",
        "  betas = np.matmul(np.transpose(np.matmul(np.linalg.inv(XTX+L1*np.identity(XTX.shape[0])), X)), Y)\n",
        "  coef_frame.iat[L1-1,1]=betas[0]\n",
        "  coef_frame.iat[L1-1,2]=betas[1]\n",
        "\n"
      ],
      "metadata": {
        "id": "nSu1pMDVQ8Zt"
      },
      "execution_count": null,
      "outputs": []
    },
    {
      "cell_type": "code",
      "source": [
        "plt.plot(coef_frame.L1[1:1000], coef_frame.B_Foot[1:1000], label = \"Foot coefficient\")\n",
        "plt.plot(coef_frame.L1[1:1000], coef_frame.B_Wrist[1:1000], label = \"Wrist coefficient\")\n",
        "plt.legend()\n",
        "plt.show()\n",
        "#for L1 = 1:1000"
      ],
      "metadata": {
        "colab": {
          "base_uri": "https://localhost:8080/",
          "height": 265
        },
        "id": "cvmCUoVDJRwU",
        "outputId": "240419a1-44b9-4120-cb8d-251aae4befea"
      },
      "execution_count": null,
      "outputs": [
        {
          "output_type": "display_data",
          "data": {
            "text/plain": [
              "<Figure size 432x288 with 1 Axes>"
            ],
            "image/png": "[encoded data removed]"
          },
          "metadata": {
            "needs_background": "light"
          }
        }
      ]
    },
    {
      "cell_type": "code",
      "source": [
        "import matplotlib.pyplot as plt\n",
        "\n",
        "plt.plot(coef_frame.L1, coef_frame.B_Foot, label = \"Foot coefficient\")\n",
        "plt.plot(coef_frame.L1, coef_frame.B_Wrist, label = \"Wrist coefficient\")\n",
        "plt.legend()\n",
        "plt.show()\n",
        "#For L1 = 1:50000"
      ],
      "metadata": {
        "colab": {
          "base_uri": "https://localhost:8080/",
          "height": 266
        },
        "id": "YR0o0N4hHLEZ",
        "outputId": "24353ffe-909c-499f-b5be-05bd5a50742d"
      },
      "execution_count": null,
      "outputs": [
        {
          "output_type": "display_data",
          "data": {
            "text/plain": [
              "<Figure size 432x288 with 1 Axes>"
            ],
            "image/png": "[encoded data removed]"
          },
          "metadata": {
            "needs_background": "light"
          }
        }
      ]
    }
  ]
}