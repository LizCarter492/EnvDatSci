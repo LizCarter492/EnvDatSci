{
  "cells": [
    {
      "cell_type": "markdown",
      "metadata": {
        "id": "5fXcR8Lqp8n3"
      },
      "source": [
        "# Coordinate Reference Systems in Python\n",
        "### [Lesson 2. GIS in Python: Intro to Coordinate Reference Systems in Python](https://www.earthdatascience.org/courses/use-data-open-source-python/intro-vector-data-python/spatial-data-vector-shapefiles/intro-to-coordinate-reference-systems-python)\n",
        "### by Chris Holdgraf, Leah Wasser"
      ]
    },
    {
      "cell_type": "markdown",
      "source": [
        "[![Open In Colab](https://colab.research.google.com/assets/colab-badge.svg)](https://colab.research.google.com/github/LizCarter492/EnvDatSci22/blob/master/CodeSprints/CoordinateReferenceSystem.ipynb)"
      ],
      "metadata": {
        "id": "EgVtmhqnqOkj"
      }
    },
    {
      "cell_type": "code",
      "source": [
        "#attach to Google Drive\n",
        "from google.colab import drive\n",
        "drive.mount('/content/drive')"
      ],
      "metadata": {
        "id": "nwMFy0dXqXOT"
      },
      "execution_count": null,
      "outputs": []
    },
    {
      "cell_type": "code",
      "source": [
        "# Install packages for Google Colab\n",
        "%%capture\n",
        "!pip install geopandas\n",
        "!pip install rasterio\n",
        "!pip install earthpy"
      ],
      "metadata": {
        "id": "Ul3RmsxCqbOK"
      },
      "execution_count": null,
      "outputs": []
    },
    {
      "cell_type": "code",
      "execution_count": null,
      "metadata": {
        "id": "4PNrwRZ3p8n5"
      },
      "outputs": [],
      "source": [
        "import os\n",
        "import numpy as np\n",
        "import pandas as pd\n",
        "import matplotlib.pyplot as plt\n",
        "from matplotlib.ticker import ScalarFormatter\n",
        "import geopandas as gpd\n",
        "import rasterio as rio\n",
        "from rasterio.warp import reproject\n",
        "from shapely.geometry import Point\n",
        "import earthpy as et\n",
        "import earthpy.plot as ep\n",
        "\n",
        "# Set working dir & get data\n",
        "data = et.data.get_data('spatial-vector-lidar')\n",
        "os.chdir(os.path.join(et.io.HOME, 'earth-analytics'))"
      ]
    },
    {
      "cell_type": "markdown",
      "metadata": {
        "id": "9w5ZKGJPp8n5"
      },
      "source": [
        "To begin, load a multipolygon shapefile of continents (worldBound) using geopandas. We'll plot the data as well to have an idea of what we're seeing."
      ]
    },
    {
      "cell_type": "code",
      "execution_count": null,
      "metadata": {
        "id": "xkBbq1vup8n6"
      },
      "outputs": [],
      "source": [
        "# Import world boundary shapefile\n",
        "worldBound_path = os.path.join(\"data\", \"spatial-vector-lidar\", \"global\",\n",
        "                               \"ne_110m_land\", \"ne_110m_land.shp\")\n",
        "worldBound = gpd.read_file(worldBound_path)"
      ]
    },
    {
      "cell_type": "code",
      "execution_count": null,
      "metadata": {
        "id": "4PnnKMV6p8n6"
      },
      "outputs": [],
      "source": [
        "# Plot worldBound data using geopandas\n",
        "fig, ax = plt.subplots(figsize=(10, 5))\n",
        "worldBound.plot(color='darkgrey',\n",
        "                ax=ax)\n",
        "# Set the x and y axis labels\n",
        "ax.set(xlabel=\"Longitude (Degrees)\",\n",
        "       ylabel=\"Latitude (Degrees)\",\n",
        "       title=\"Global Map - Geographic Coordinate System - WGS84 Datum\\n Units: Degrees - Latitude / Longitude\")\n",
        "\n",
        "# Add the x y graticules\n",
        "ax.set_axisbelow(True)\n",
        "ax.yaxis.grid(color='gray',\n",
        "              linestyle='dashed')\n",
        "ax.xaxis.grid(color='gray',\n",
        "              linestyle='dashed')"
      ]
    },
    {
      "cell_type": "markdown",
      "metadata": {
        "id": "wGuVZbQ9p8n6"
      },
      "source": [
        "### Create Spatial Points Object\n",
        "Next, we're going to manually create a point shapefile by add three coordinate pair locations to your map. Note that the UNITS are in decimal degrees (latitude, longitude). These locations represent the following cities:\n",
        "\n",
        "Boulder, Colorado: 40.0274, -105.2519\n",
        "Oslo, Norway: 59.9500, 10.7500\n",
        "Mallorca, Spain: 39.6167, 2.9833\n",
        "\n",
        "To plot these points spatially you will:\n",
        "1) Create a numpy array of the point locations and\n",
        "2) Use a for loop to populate a shapely Point object\n",
        "\n",
        "### Wait! What the heck is a \"for loop\"?!?!\n",
        "A for loop is a handy way to iterate over objects. Learn more here: https://www.earthdatascience.org/courses/intro-to-earth-data-science/write-efficient-python-code/loops/\n"
      ]
    },
    {
      "cell_type": "code",
      "execution_count": null,
      "metadata": {
        "id": "Pp5wvc6Np8n7"
      },
      "outputs": [],
      "source": [
        "# Create numpy array of x,y point locations\n",
        "add_points = np.array([[-105.2519,   40.0274],\n",
        "                       [  10.75  ,   59.95  ],\n",
        "                       [   2.9833,   39.6167]])\n",
        "\n",
        "# Turn points into list of x,y shapely points\n",
        "city_locations = [Point(xy) for xy in add_points]\n",
        "city_locations"
      ]
    },
    {
      "cell_type": "code",
      "execution_count": null,
      "metadata": {
        "id": "rJLlbq5zp8n7"
      },
      "outputs": [],
      "source": [
        "# Create geodataframe using the points\n",
        "city_locations = gpd.GeoDataFrame(city_locations,\n",
        "                                  columns=['geometry'],\n",
        "                                  crs=worldBound.crs)\n",
        "city_locations.head(3)"
      ]
    },
    {
      "cell_type": "markdown",
      "metadata": {
        "id": "XA5-cXtJp8n7"
      },
      "source": [
        "### Finally you can plot the points on top of your world map. Does it look right?"
      ]
    },
    {
      "cell_type": "code",
      "execution_count": null,
      "metadata": {
        "id": "NqcJJnOLp8n7"
      },
      "outputs": [],
      "source": [
        "# Plot point locations\n",
        "fig, ax = plt.subplots(figsize=(12, 8))\n",
        "\n",
        "worldBound.plot(figsize=(10, 5), color='k',\n",
        "               ax=ax)\n",
        "# Add city locations\n",
        "city_locations.plot(ax=ax,\n",
        "                    color='springgreen',\n",
        "                    marker='*',\n",
        "                    markersize=45)\n",
        "\n",
        "# Setup x y axes with labels and add graticules\n",
        "ax.set(xlabel=\"Longitude (Degrees)\", ylabel=\"Latitude (Degrees)\",\n",
        "       title=\"Global Map - Geographic Coordinate System - WGS84 Datum\\n Units: Degrees - Latitude / Longitude\")\n",
        "ax.set_axisbelow(True)\n",
        "ax.yaxis.grid(color='gray', linestyle='dashed')\n",
        "ax.xaxis.grid(color='gray', linestyle='dashed')"
      ]
    },
    {
      "cell_type": "markdown",
      "metadata": {
        "id": "Zt2BHgLCp8n8"
      },
      "source": [
        "### Next, import proper graticules that can be projected into a particular coordinate reference system.\n",
        "graticule (noun): a network of lines representing meridians and parallels, on which a map or plan can be represented"
      ]
    },
    {
      "cell_type": "code",
      "execution_count": null,
      "metadata": {
        "id": "OUlNjR5Jp8n8"
      },
      "outputs": [],
      "source": [
        "# Import graticule & world bounding box shapefile data\n",
        "graticule_path = os.path.join(\"data\", \"spatial-vector-lidar\", \"global\",\n",
        "                              \"ne_110m_graticules_all\", \"ne_110m_graticules_15.shp\")\n",
        "graticule = gpd.read_file(graticule_path)\n",
        "\n",
        "bbox_path = os.path.join(\"data\", \"spatial-vector-lidar\", \"global\",\n",
        "                         \"ne_110m_graticules_all\", \"ne_110m_wgs84_bounding_box.shp\")\n",
        "bbox = gpd.read_file(bbox_path)\n",
        "\n",
        "# Create map axis object\n",
        "fig, ax = plt.subplots(1, 1, figsize=(15, 8))\n",
        "\n",
        "# Add bounding box and graticule layers\n",
        "bbox.plot(ax=ax, alpha=.1, color='grey')\n",
        "graticule.plot(ax=ax, color='lightgrey')\n",
        "worldBound.plot(ax=ax, color='black')\n",
        "\n",
        "# Add points to plot\n",
        "city_locations.plot(ax=ax,\n",
        "                    markersize=60,\n",
        "                    color='springgreen',\n",
        "                    marker='*')\n",
        "# Add title and axes labels\n",
        "ax.set(title=\"World Map - Geographic Coordinate Reference System (long/lat degrees)\",\n",
        "       xlabel=\"X Coordinates (meters)\",\n",
        "       ylabel=\"Y Coordinates (meters)\");"
      ]
    },
    {
      "cell_type": "markdown",
      "metadata": {
        "id": "4MyEzlnXp8n8"
      },
      "source": [
        "### Projected CRS - Robinson\n",
        "You can view the same data above, in another CRS - Robinson. Robinson is a projected CRS. Notice that the country boundaries on the map - have a different shape compared to the map that you created above in the CRS: Geographic lat/long WGS84.\n",
        "\n",
        "Below you first reproject your data into the robinson projects (+proj=robin). Then you plot the data once again."
      ]
    },
    {
      "cell_type": "code",
      "execution_count": null,
      "metadata": {
        "id": "2oKuuW5Vp8n8"
      },
      "outputs": [],
      "source": [
        "# Reproject the data\n",
        "worldBound_robin = worldBound.to_crs('+proj=robin')\n",
        "graticule_robin = graticule.to_crs('+proj=robin')\n",
        "\n",
        "# Plot the data\n",
        "fig, ax = plt.subplots(figsize=(12, 8))\n",
        "\n",
        "worldBound_robin.plot(ax=ax,\n",
        "                      color='k')\n",
        "\n",
        "graticule_robin.plot(ax=ax, color='lightgrey')\n",
        "\n",
        "ax.set(title=\"World Map: Robinson Coordinate Reference System\",\n",
        "       xlabel=\"X Coordinates (meters)\",\n",
        "       ylabel=\"Y Coordinates (meters)\")\n",
        "\n",
        "for axis in [ax.xaxis, ax.yaxis]:\n",
        "    formatter = ScalarFormatter()\n",
        "    formatter.set_scientific(False)\n",
        "    axis.set_major_formatter(formatter)"
      ]
    },
    {
      "cell_type": "markdown",
      "metadata": {
        "id": "Oc-d-rKNp8n8"
      },
      "source": [
        "## TASK 1:\n",
        "### What happens if you add the same Lat / Long coordinate locations that you used above, to your map? Why does this happen?"
      ]
    },
    {
      "cell_type": "code",
      "execution_count": null,
      "metadata": {
        "id": "kEiKBKjyp8n9"
      },
      "outputs": [],
      "source": [
        "#Enter code to replot your projected map with the same lat/lon coordinates you created early here\n",
        "# Import graticule & world bounding box shapefile data\n",
        "graticule_path = os.path.join(\"data\", \"spatial-vector-lidar\", \"global\",\n",
        "                              \"ne_110m_graticules_all\", \"ne_110m_graticules_15.shp\")\n",
        "graticule = gpd.read_file(graticule_path)\n",
        "\n",
        "bbox_path = os.path.join(\"data\", \"spatial-vector-lidar\", \"global\",\n",
        "                         \"ne_110m_graticules_all\", \"ne_110m_wgs84_bounding_box.shp\")\n",
        "bbox = gpd.read_file(bbox_path)\n",
        "\n",
        "# Create map axis object\n",
        "fig, ax = plt.subplots(figsize=(12, 8))\n",
        "\n",
        "worldBound_robin.plot(ax=ax,\n",
        "                      color='k')\n",
        "\n",
        "graticule_robin.plot(ax=ax, color='lightgrey')\n",
        "\n",
        "ax.set(title=\"World Map: Robinson Coordinate Reference System\",\n",
        "       xlabel=\"X Coordinates (meters)\",\n",
        "       ylabel=\"Y Coordinates (meters)\")\n",
        "\n",
        "# Add bounding box and graticule layers\n",
        "bbox.plot(ax=ax, alpha=.1, color='grey')\n",
        "graticule_robin.plot(ax=ax, color='lightgrey')\n",
        "worldBound_robin.plot(ax=ax, color='black')\n",
        "\n",
        "# Add points to plot\n",
        "city_locations.plot(ax=ax,\n",
        "                    markersize=60,\n",
        "                    color='springgreen',\n",
        "                    marker='*')\n",
        "# Add title and axes labels\n",
        "ax.set(title=\"World Map - Geographic Coordinate Reference System (long/lat degrees)\",\n",
        "       xlabel=\"X Coordinates (meters)\",\n",
        "       ylabel=\"Y Coordinates (meters)\");"
      ]
    },
    {
      "cell_type": "markdown",
      "metadata": {
        "id": "p8utdZ1-p8n9"
      },
      "source": [
        "### Notice above that when you try to add lat/long coordinates in degrees, to a map in a different CRS, the points are not in the correct location. You need to first convert the points to the same CRS that your other data are in. The process of converting a dataset from one CRS to another is often referred to as reprojection.\n",
        "\n",
        "In python, you use the .to_crs method to reproject your data."
      ]
    },
    {
      "cell_type": "code",
      "execution_count": null,
      "metadata": {
        "id": "O7rp6ilep8n9"
      },
      "outputs": [],
      "source": [
        "# Reproject point locations to the Robinson projection\n",
        "city_locations_robin = city_locations.to_crs(worldBound_robin.crs)\n",
        "\n",
        "fig, ax = plt.subplots(1, 1, figsize=(12, 8))\n",
        "worldBound_robin.plot(ax=ax,\n",
        "                      cmap='Greys')\n",
        "ax.set(title=\"World map (robinson)\",\n",
        "       xlabel=\"X Coordinates (meters)\",\n",
        "       ylabel=\"Y Coordinates (meters)\")\n",
        "city_locations_robin.plot(ax=ax, markersize=100, color='springgreen')\n",
        "\n",
        "for axis in [ax.xaxis, ax.yaxis]:\n",
        "    formatter = ScalarFormatter()\n",
        "    formatter.set_scientific(False)\n",
        "    axis.set_major_formatter(formatter)\n",
        "\n",
        "plt.axis('equal');"
      ]
    },
    {
      "cell_type": "markdown",
      "source": [
        "### TASK 2: What are the coordinates of your city locations? What are the units? How does this compare to the coordinate you originally entered?"
      ],
      "metadata": {
        "id": "NDY_lZ9Sr_A-"
      }
    },
    {
      "cell_type": "markdown",
      "metadata": {
        "id": "VUIYYbvOp8n-"
      },
      "source": [
        "### The Structure of a Geographic CRS\n",
        "A geographic CRS uses a grid that wraps around the entire globe. This means that each point on the globe is defined using the SAME coordinate system and the same units as defined within that particular geographic CRS. Geographic coordinate reference systems are best for global analysis however it is important to remember that distance is distorted using a geographic lat / long CRS.\n",
        "\n",
        "The geographic WGS84 lat/long CRS has an origin - (0,0) - located at the intersection of the Equator (0° latitude) and Prime Meridian (0° longitude) on the globe.\n",
        "\n",
        "You will review what data projected in a geographic CRS look like."
      ]
    },
    {
      "cell_type": "code",
      "execution_count": null,
      "metadata": {
        "id": "f-XuQoQpp8oE"
      },
      "outputs": [],
      "source": [
        "# Set working dir & get data\n",
        "data = et.data.get_data('spatial-vector-lidar')\n",
        "os.chdir(os.path.join(et.io.HOME, 'earth-analytics'))"
      ]
    },
    {
      "cell_type": "markdown",
      "metadata": {
        "id": "6UOboPx4p8oF"
      },
      "source": [
        "### Projected Coordinate Reference Systems\n",
        "As you learned above, geographic coordinate systems are ideal for creating global maps. However, they are prone to error when quantifying distance. In contrast, various spatial projections have evolved that can be used to more accurately capture distance, shape and/or area.\n",
        "\n",
        "#### What is a Spatial Projection\n",
        "Spatial projection refers to the mathematical calculations performed to flatten the 3D data onto a 2D plane (your computer screen or a paper map). Projecting data from a round surface onto a flat surface, results in visual modifications to the data when plotted on a map. Some areas are stretched and some are compressed. You can see this distortion when you look at a map of the entire globe.\n",
        "\n",
        "The mathematical calculations used in spatial projections are designed to optimize the relative size and shape of a particular region on the globe.\n",
        "\n",
        "#### About UTM\n",
        "The Universal Transverse Mercator (UTM) system is a commonly used projected coordinate reference system. UTM subdivides the globe into zones, numbered 0-60 (equivalent to longitude) and regions (north and south).\n",
        "While UTM zones span the entire globe, UTM uses a regional projection and associated coordinate system. The coordinate system grid for each zone is projected individually using the Mercator projection.\n",
        "\n",
        "The origin (0,0) for each UTM zone and associated region is located at the intersection of the equator and a location, 500,000 meters east of the central meridian of each zone. The origin location is placed outside of the boundary of the UTM zone, to avoid negative Easting numbers.\n",
        "\n",
        "#### Understand UTM Coordinates\n",
        "Compare coordinates for one location, but saved in two different CRSs to better understand what this looks like. The coordinates for Boulder, Colorado in UTM are:\n",
        "\n",
        "UTM Zone 13N easting: 476,911.31m, northing: 4,429,455.35\n",
        "\n",
        "Remember that N denotes that it is in the Northern hemisphere on the Earth.\n",
        "\n",
        "Plot this coordinate on a map."
      ]
    },
    {
      "cell_type": "code",
      "execution_count": null,
      "metadata": {
        "id": "8Wmm-kRnp8oF"
      },
      "outputs": [],
      "source": [
        "boulder_df = np.array([[476911.31,  4429455.35]])\n",
        "geometry = [Point(xy) for xy in boulder_df]\n",
        "\n",
        "boulder_loc = gpd.GeoDataFrame(geometry,\n",
        "                               columns=['geometry'],\n",
        "                               crs={'init': 'epsg:2957'})"
      ]
    },
    {
      "cell_type": "code",
      "execution_count": null,
      "metadata": {
        "id": "i1SQjDy3p8oF"
      },
      "outputs": [],
      "source": [
        "# View crs\n",
        "boulder_loc.crs"
      ]
    },
    {
      "cell_type": "markdown",
      "metadata": {
        "id": "-uclzYQxp8oG"
      },
      "source": [
        "Note the projection of your data in UTM is EPSG code 2957\n",
        "\n",
        "If you spatially project your data into a geographic coordinate refence system, notice how your new coordinates are different - yet they still represent the same location.\n",
        "\n",
        "Note: EPSG is a standardized library of all geographic coordinate systems. Learn more here: https://spatialreference.org/"
      ]
    },
    {
      "cell_type": "code",
      "execution_count": null,
      "metadata": {
        "id": "AMcqVG2op8oG"
      },
      "outputs": [],
      "source": [
        "# Reproject the data to WGS84\n",
        "boulder_df_geog = boulder_loc.to_crs(epsg=4326)\n",
        "boulder_df_geog.crs"
      ]
    },
    {
      "cell_type": "code",
      "execution_count": null,
      "metadata": {
        "id": "reNGU5NBp8oG"
      },
      "outputs": [],
      "source": [
        "# View the coordinate values of the newly reprojected data.\n",
        "boulder_df_geog"
      ]
    },
    {
      "cell_type": "markdown",
      "metadata": {
        "id": "FUNcFeN7p8oG"
      },
      "source": [
        "### Now you can plot your data on top of your world map which is also in a geographic CRS."
      ]
    },
    {
      "cell_type": "code",
      "execution_count": null,
      "metadata": {
        "id": "s2kbDr1vp8oG"
      },
      "outputs": [],
      "source": [
        "fig, ax = plt.subplots(figsize=(10, 5))\n",
        "\n",
        "worldBound.plot(cmap='Greys',\n",
        "                ax=ax)\n",
        "\n",
        "ax.set(title=\"World map with Boulder, CO location \\n Geographic WGS84 CRS\",\n",
        "       xlabel=\"X Coordinates (Decimal Degrees)\",\n",
        "       ylabel=\"Y Coordinates (Decimal Degrees)\")\n",
        "\n",
        "boulder_df_geog.plot(ax=ax,\n",
        "                     markersize=52,\n",
        "                     color='springgreen')\n",
        "plt.show()"
      ]
    }
  ],
  "metadata": {
    "kernelspec": {
      "display_name": "geostats_env",
      "language": "python",
      "name": "geostats_env"
    },
    "language_info": {
      "codemirror_mode": {
        "name": "ipython",
        "version": 3
      },
      "file_extension": ".py",
      "mimetype": "text/x-python",
      "name": "python",
      "nbconvert_exporter": "python",
      "pygments_lexer": "ipython3",
      "version": "3.7.11"
    },
    "colab": {
      "provenance": []
    }
  },
  "nbformat": 4,
  "nbformat_minor": 0
}