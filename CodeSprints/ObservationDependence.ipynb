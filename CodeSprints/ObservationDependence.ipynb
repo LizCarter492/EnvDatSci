{
  "cells": [
    {
      "cell_type": "markdown",
      "metadata": {
        "id": "view-in-github",
        "colab_type": "text"
      },
      "source": [
        "<a href=\"https://colab.research.google.com/github/LizCarter492/EnvDatSci/blob/main/CodeSprints/ObservationDependence.ipynb\" target=\"_parent\"><img src=\"https://colab.research.google.com/assets/colab-badge.svg\" alt=\"Open In Colab\"/></a>"
      ]
    },
    {
      "cell_type": "code",
      "source": [
        "#Additional packages required in Google Collaboratory:\n",
        "!pip install pysal\n",
        "!pip install libpysal\n",
        "!pip insall geopandas"
      ],
      "metadata": {
        "id": "DZ154BOnTp4P"
      },
      "id": "DZ154BOnTp4P",
      "execution_count": null,
      "outputs": []
    },
    {
      "cell_type": "markdown",
      "id": "d31b57d1",
      "metadata": {
        "id": "d31b57d1"
      },
      "source": [
        "<div align=\"center\">\n",
        "<h2 style=\"text-align: center;\">Moran's I for diagnosing spatial autocorrelation in model residuals.\n",
        "\n",
        "In this example, we calculate a global Moran's I statistic to evaluate spatial autocorrelation in a dataset containing county-level results from the 2012 and 2016 presidential elections and US census data. We will then attempt to fit a linear regression predicting change in 2012-2016 voting patterns using two spatial covariates (county level per-capita income, and land area). We will evaluate the OLS linear regression residuals for spatial autocorrealtion,  then reevalute model fit using an autoregressive model.\n",
        "\n",
        "\n",
        "\n"
      ]
    },
    {
      "cell_type": "code",
      "execution_count": null,
      "id": "44184ce0",
      "metadata": {
        "id": "44184ce0"
      },
      "outputs": [],
      "source": [
        "import pysal as ps\n",
        "import numpy as np\n",
        "import geopandas as gpd\n",
        "import pandas as pd\n",
        "import matplotlib.pyplot as plt\n",
        "import seaborn as sns\n",
        "from libpysal.weights.contiguity import Queen\n",
        "import libpysal\n",
        "from splot.libpysal import plot_spatial_weights\n",
        "from splot.esda import moran_scatterplot\n",
        "from splot.esda import plot_moran\n",
        "from esda.moran import Moran_Local\n",
        "from esda.moran import Moran\n",
        "from statsmodels.api import OLS\n",
        "from pysal.model import spreg\n",
        "import urllib.request\n",
        "import shutil\n",
        "from mlxtend.preprocessing import standardize\n",
        "sns.set_style('white')"
      ]
    },
    {
      "cell_type": "markdown",
      "id": "8de413cf",
      "metadata": {
        "id": "8de413cf"
      },
      "source": [
        "First, we're going to open 'Elections' dataset from the Geodata Center at the University of Chicago.\n",
        "\n",
        "* More on spatial data science resources from UC: https://spatial.uchicago.edu/\n",
        "* A list of datasets available through lipysal: https://geodacenter.github.io/data-and-lab//\n",
        "\n"
      ]
    },
    {
      "cell_type": "code",
      "execution_count": null,
      "id": "e9f020cb",
      "metadata": {
        "id": "e9f020cb"
      },
      "outputs": [],
      "source": [
        "#define online filepath (aka url):\n",
        "url='https://geodacenter.github.io/data-and-lab//data/election.zip'\n",
        "\n",
        "#define local filepath:\n",
        "local = '/elections.zip'\n",
        "\n",
        "#download elections data:\n",
        "urllib.request.urlretrieve(url, local)\n",
        "\n",
        "#unzip file\n",
        "shutil.unpack_archive(local, '../../../')\n",
        "\n",
        "votes = gpd.read_file('/election/election.shp')"
      ]
    },
    {
      "cell_type": "code",
      "execution_count": null,
      "id": "bd3fb59c",
      "metadata": {
        "id": "bd3fb59c"
      },
      "outputs": [],
      "source": [
        "#Let's view the shapefile to get a general idea of the geometry we're looking at:\n",
        "%matplotlib inline\n",
        "votes.plot()"
      ]
    },
    {
      "cell_type": "code",
      "execution_count": null,
      "id": "05895af3",
      "metadata": {
        "id": "05895af3"
      },
      "outputs": [],
      "source": [
        "#View the first few line]s of the dataset\n",
        "votes.head()"
      ]
    },
    {
      "cell_type": "markdown",
      "id": "c2f27a6b",
      "metadata": {
        "id": "c2f27a6b"
      },
      "source": [
        "The goal of our model is to predict a change in county-level voting trends between the 2012 and 2016 US presidential elections. First, we created a new column indicating the percent change in democratic vote. Then, we plotted the percent democratic vote in 2012, the percent democratic vote in 2016, and the percent change in democratic vote as maps and using global histograms."
      ]
    },
    {
      "cell_type": "code",
      "execution_count": null,
      "id": "c9c70a10",
      "metadata": {
        "id": "c9c70a10"
      },
      "outputs": [],
      "source": [
        "# Add new column pct_dem_change to votes:\n",
        "votes['pct_dem_change'] = votes['pct_dem_12'] - votes['pct_dem_16']\n",
        "\n",
        "f,ax = plt.subplots(3,2, figsize=(1.6*6 + 1,4.2*3), gridspec_kw=dict(width_ratios=(6,1)))\n",
        "for i,col in enumerate(['pct_dem_12','pct_dem_16', 'pct_dem_change']):\n",
        "    votes.plot(col, linewidth=.05, cmap='RdBu', ax=ax[i,0])\n",
        "    ax[i,0].set_title(['2012','2016', '2012-2016 change'][i] + \"% democratic vote\")\n",
        "    ax[i,0].set_xticklabels('')\n",
        "    ax[i,0].set_yticklabels('')\n",
        "    sns.kdeplot(votes[col].values, ax=ax[i,1], vertical=True, shade=True, color='slategrey')\n",
        "    ax[i,1].set_xticklabels('')\n",
        "    ax[i,1].set_ylim(-1,1)\n",
        "f.tight_layout()\n",
        "plt.show()"
      ]
    },
    {
      "cell_type": "markdown",
      "id": "87d4407b",
      "metadata": {
        "id": "87d4407b"
      },
      "source": [
        "### Spatial Autocorrelation\n",
        "From https://www.sciencedirect.com/topics/computer-science/spatial-autocorrelation\n",
        "\n",
        ">\"Spatial autocorrelation is the term used to describe the presence of *systematic* spatial variation in a variable and positive spatial autocorrelation, which is most often encountered in practical situations, is the tendency for areas or sites that are close together to have similar values.\""
      ]
    },
    {
      "cell_type": "markdown",
      "id": "43b4e7c8",
      "metadata": {
        "id": "43b4e7c8"
      },
      "source": [
        "##**Task 1: Is there evidence for *spatial autocorrelation* in the three plots above? Explain why or why not.**\n",
        "\n"
      ]
    },
    {
      "cell_type": "markdown",
      "id": "bf1bd754",
      "metadata": {
        "id": "bf1bd754"
      },
      "source": [
        "## Was the county wide percent change in democratic vote related to per capita income?\n",
        "The next question is how can we use robust statistics to determine whether per capita income or the county land area were related to a change in 2016 voting preferences. To do this, we're going to conduct a linear regression relating our parameters pct_dem_change to INC910213 and ALAND. Then, we're going to use the confidence interval around beta hat (our slope parameter estimate) to determine whether the relationships between INC910213, ALAND, and pct_dem_change are significantly different than zero.\n",
        "\n",
        "First we're going to visualize how these variables relate in the global data:"
      ]
    },
    {
      "cell_type": "code",
      "execution_count": null,
      "id": "37b7c6e3",
      "metadata": {
        "id": "37b7c6e3"
      },
      "outputs": [],
      "source": [
        "votes.dropna(subset=['pct_dem_12','pct_dem_16'], inplace=True)"
      ]
    },
    {
      "cell_type": "code",
      "execution_count": null,
      "id": "566b6d28",
      "metadata": {
        "id": "566b6d28"
      },
      "outputs": [],
      "source": [
        "f,ax = plt.subplots(1,4, figsize=(4*3.1,4))\n",
        "\n",
        "votes[['pct_dem_12','pct_dem_16']].plot.scatter('pct_dem_12','pct_dem_16', ax=ax[0])\n",
        "ax[0].set_xlabel('2012 Two Party Vote (% Dem)')\n",
        "ax[0].set_ylabel('2016 Two Party Vote (% Dem)')\n",
        "print(np.corrcoef(votes['pct_dem_12'].values, votes['pct_dem_16'].values)[0,1])\n",
        "\n",
        "\n",
        "votes[['INC910213','pct_dem_change']].plot.scatter('INC910213','pct_dem_change', ax=ax[1])\n",
        "ax[1].set_xlabel('Per capita income')\n",
        "ax[1].set_ylabel('% Change in Democratic Vote')\n",
        "print(np.corrcoef(votes['pct_dem_change'].values, votes['INC910213'].values)[0,1])\n",
        "\n",
        "votes[['ALAND','pct_dem_change']].plot.scatter('ALAND','pct_dem_change', ax=ax[2])\n",
        "ax[2].set_xlabel('County land area')\n",
        "ax[2].set_ylabel('% Change in Democratic Vote')\n",
        "print(np.corrcoef(votes['pct_dem_change'].values, votes['ALAND'].values)[0,1])\n",
        "\n",
        "votes[['INC910213','ALAND']].plot.scatter('INC910213','ALAND', ax=ax[3])\n",
        "ax[3].set_xlabel('Per capita income')\n",
        "ax[3].set_ylabel('County land area')\n",
        "print(np.corrcoef(votes['INC910213'].values, votes['ALAND'].values)[0,1])\n",
        "\n",
        "f.tight_layout()\n",
        "plt.show()"
      ]
    },
    {
      "cell_type": "markdown",
      "id": "50d273fd",
      "metadata": {
        "id": "50d273fd"
      },
      "source": [
        "The first scatterplot compares the 2012 percent democratic vote to the 2016 percent democratic vote. The second two plots compare our predictor (2012-2016 % democractic vote, or pct_dem_change) to our two predictor variables (per capita income and county land area). In the fourth plot, we compare our two predictors (per capita income to county land area). We want to establish a trendline in the fourth plot using linear regression, and determine of the slope in that trendline is statistically significant.\n",
        "\n",
        "###Theret are some features of this data that make it poorly suited for linear regression:\n",
        "\n",
        "We are told above that we are going to be regressing the 2012-2016 change in percent democratic vote against per capita income and land area. The conditions that we need to meet for linear regression to be applicable are:\n",
        "1. Linear relationship: *it appears that the relationship is approximately inverse linear, though a linear fit might not be perfect*\n",
        "2. Multivariate normality: *this might be an issue...the variance in percent change democratic vote appears to increase as a function of decreasing income. This might mean that the residuals are non-normal*\n",
        "3. No or little multicollinearity: *The correlation coefficient between our two predictors (per capita income and county land area) is below 0.7. For the purposes of this example, paramters have been selected that do not exhibit collinearity. Note: this does not mean the parameters are *independent*, just that the are not linearly related.*\n",
        "4. No auto-correlation: *We will evaluate this later*\n",
        "5. Homoscedasticity: *We will evaluate this later*\n"
      ]
    },
    {
      "cell_type": "markdown",
      "id": "0a5c2d8f",
      "metadata": {
        "id": "0a5c2d8f"
      },
      "source": [
        "## Do we have spatial autocorrelation in our data?\n",
        "When we're looking at distributions of voting preferences, remember that we're aggregating these numbers over arbitrary (er...political) geographic regions.\n",
        "\n",
        "Each column in that dataframe represents a data value summarized over a US county, but US counties have widely different land areas and populations:"
      ]
    },
    {
      "cell_type": "code",
      "execution_count": null,
      "id": "831bc6d0",
      "metadata": {
        "id": "831bc6d0"
      },
      "outputs": [],
      "source": [
        "f,ax = plt.subplots(1,2, figsize=(2*3*1.6, 2))\n",
        "sns.kdeplot(votes['ALAND'].values, shade=True, color='slategrey', ax=ax[0])\n",
        "ax[0].set_xlabel('County Land Area')\n",
        "\n",
        "sns.kdeplot(votes['PST045214'].values, shade=True, color='slategrey', ax=ax[1])\n",
        "ax[1].set_xlabel('2014 County Population')"
      ]
    },
    {
      "cell_type": "markdown",
      "id": "ded538fa",
      "metadata": {
        "id": "ded538fa"
      },
      "source": [
        "Our *spatial sampling rate* (by county) may not accurately represent the spatial frequency of variability in voting preferences and/or income.\n",
        "\n",
        "First, let's focus on the spatial componnet: the fact that these counties are different sizes.\n",
        "\n",
        "If we want to identify spatial autocorrelation in our data, we need to first understand how this spatial autocorrelation decays as a function of distance.\n",
        "\n",
        "To do this, we calculate the Moran's I statistic, which you can think of as the \"slope\" that we'd get when we regress data values for all geographic entities with data values that neighbor within a given distance. Lets look at our data in lat/lon space again:"
      ]
    },
    {
      "cell_type": "code",
      "execution_count": null,
      "id": "74aec211",
      "metadata": {
        "id": "74aec211"
      },
      "outputs": [],
      "source": [
        "votes.crs"
      ]
    },
    {
      "cell_type": "markdown",
      "id": "0640f882",
      "metadata": {
        "id": "0640f882"
      },
      "source": [
        "### The horizontal unit (unit of distance) in our votes data is meters."
      ]
    },
    {
      "cell_type": "markdown",
      "id": "2359e7b5",
      "metadata": {
        "id": "2359e7b5"
      },
      "source": [
        "One issue is that we're sampling spatially at a distinct, and heterogenous, granulatiry. The smallest unit of measurement available in our dataset is the county level. Counties are different sizes. How can we evaluate whether this spatial sampling granularity is of sufficient resolution to capture the scale of variability in our dataset?\n",
        "\n",
        "* If we are sampling at too course of a spatial scale, we run the risk of missing key patterns of variability in our data (**UNDERSAMPLING**)\n",
        "\n",
        "* If we are sampling at too fine of a sptial scale, we run the risk of violating assumptions of independence between our individual observations (**OVERSAMPLING**)\n",
        "\n",
        "The county spatial unit represents a method for discretizing population-level opinions. Some counties may contain communities with very different voting patterns, which we won't be able to resolve with the data (undersampling). Especailly in rural areas, some counties may represent very few people, and could therefore represent an incidence of oversampling."
      ]
    },
    {
      "cell_type": "markdown",
      "id": "b38ea33a",
      "metadata": {
        "id": "b38ea33a"
      },
      "source": [
        "## Calculating a weights matrix:\n",
        "The first thing we want to tackle is a quantification of any spatial autocorrelation in our dataset. Spatial autocorrelation inflates our theoretical number of samples (N), artificially increasing the power in our test statistics. In other words, when we're calculating test statistics, spatial autocorrelation in our data can make it seem like parameters that are unimportant are actually significant.\n",
        "\n",
        "Since we're dealing with a heterogeneous sampling grid in our data, the first thing we want to do is calculate a weights matrix.\n",
        "\n",
        "We're going to use the Queen function in pysal to do this. Full documentation here: https://pysal.org/libpysal/generated/libpysal.weights.Queen.html\n",
        "\n",
        "Or just use the built in help with the function below:"
      ]
    },
    {
      "cell_type": "code",
      "execution_count": null,
      "id": "d30c9e6f",
      "metadata": {
        "id": "d30c9e6f"
      },
      "outputs": [],
      "source": [
        "#Calculate weights object\n",
        "weights = Queen.from_dataframe(votes)\n",
        "\n",
        "#Use built in plot function to visualize how the weights matrix works\n",
        "plot_spatial_weights(weights, votes)\n",
        "plt.show()"
      ]
    },
    {
      "cell_type": "markdown",
      "id": "5f71de98",
      "metadata": {
        "id": "5f71de98"
      },
      "source": [
        "The verticies in this plot represent two things:\n",
        "* First, they link \"neigbors\" based on the model parameters we set for defining neighborhood (here we use the defaul settings and consider any contiguous polygons).\n",
        "* The length of the verticies indicates the distance between the centers of neighborhing cells.\n",
        "\n",
        "\"Neighbors\" that are father matter less than \"neighbors\" that are closer in identifying the strength of spatial autocorrelation.\n",
        "\n",
        "## Calculate Moran's I:\n",
        "Moran's I statistic quantifies the spatial autocorrelation in your data. From https://en.wikipedia.org/wiki/Moran%27s_I\n",
        ">\"Spatial dependency leads to the spatial autocorrelation problem in statistics since, like temporal autocorrelation, this violates standard statistical techniques that assume independence among observations. For example, regression analyses that do not compensate for spatial dependency can have unstable parameter estimates and yield unreliable significance tests. Spatial regression models (see below) capture these relationships and do not suffer from these weaknesses. It is also appropriate to view spatial dependency as a source of information rather than something to be corrected.\""
      ]
    },
    {
      "cell_type": "code",
      "execution_count": null,
      "id": "f5393d4e",
      "metadata": {
        "id": "f5393d4e"
      },
      "outputs": [],
      "source": [
        "# calculate Moran and plot\n",
        "moran_votes = Moran(votes['pct_dem_change'], w=weights)\n",
        "plot_moran(moran_votes, zstandard=True, figsize=(10,4))\n",
        "plt.show()"
      ]
    },
    {
      "cell_type": "code",
      "source": [
        "# calculate Moran and plot\n",
        "moran_income = Moran(votes['INC910213'], w=weights)\n",
        "plot_moran(moran_income, zstandard=True, figsize=(10,4))\n",
        "plt.show()"
      ],
      "metadata": {
        "id": "CIfxNKLVm_bw"
      },
      "id": "CIfxNKLVm_bw",
      "execution_count": null,
      "outputs": []
    },
    {
      "cell_type": "code",
      "source": [
        "# calculate Moran and plot\n",
        "moran_land = Moran(votes['ALAND'], w=weights)\n",
        "plot_moran(moran_land, zstandard=True, figsize=(10,4))\n",
        "plt.show()"
      ],
      "metadata": {
        "id": "v1T9OJxOWkFQ"
      },
      "id": "v1T9OJxOWkFQ",
      "execution_count": null,
      "outputs": []
    },
    {
      "cell_type": "code",
      "execution_count": null,
      "id": "25ba3cd4",
      "metadata": {
        "id": "25ba3cd4"
      },
      "outputs": [],
      "source": [
        "print(moran_votes.p_norm)\n",
        "print(moran_income.p_norm)\n",
        "print(moran_land.p_norm)"
      ]
    },
    {
      "cell_type": "markdown",
      "id": "3d38a701",
      "metadata": {
        "id": "3d38a701"
      },
      "source": [
        "##Task 2: what do the p_norm values tell us? What hypothesis is being tested, what is the null hypothesis, and do we accept or reject the null hypothesis?\n"
      ]
    },
    {
      "cell_type": "markdown",
      "source": [
        "## Task 3: is there autocorrelation in the data? If so, which features exhibit autocorrelation?"
      ],
      "metadata": {
        "id": "kv1Ery8clSDU"
      },
      "id": "kv1Ery8clSDU"
    },
    {
      "cell_type": "markdown",
      "id": "dedff477",
      "metadata": {
        "id": "dedff477"
      },
      "source": [
        "## Caluculate a linear regression on the global data:\n",
        "In this next step, we're going to calculate a linear regression in our data an determine whether that analysis determines a statistically significant relationship between our percent income and percent change in democratic vote."
      ]
    },
    {
      "cell_type": "code",
      "execution_count": null,
      "id": "cc5f4ba0",
      "metadata": {
        "id": "cc5f4ba0"
      },
      "outputs": [],
      "source": [
        "#first, forumalate the model.\n",
        "#isolate and standardize the preditors:\n",
        "X_raw = np.array(votes[['INC910213', 'ALAND']].values)\n",
        "X = standardize(X_raw, columns=[0, 1])\n",
        "\n",
        "\n",
        "#isolate and standardize predictand:\n",
        "Y = np.array(votes['pct_dem_change'].values)\n",
        "Y= standardize(Y)\n",
        "\n",
        "lm = OLS(Y,X)\n",
        "lm_results = OLS(Y,X).fit().summary()"
      ]
    },
    {
      "cell_type": "code",
      "execution_count": null,
      "id": "823fea94",
      "metadata": {
        "id": "823fea94"
      },
      "outputs": [],
      "source": [
        "print(lm_results)"
      ]
    },
    {
      "cell_type": "markdown",
      "id": "3439ad1a",
      "metadata": {
        "id": "3439ad1a"
      },
      "source": [
        "\n",
        "With p-values of effectively zero, we can reject the null hypothesis that btoh the coefficient on INC910213 (x2) and ALAND (x2) are zero, and conclude that there is a statistically significant relationship. Increasing income and increasing land area are both associated with a statistically significant decrease in percent democratic vote. It is notable that the standard error on the standardized coefficient for both variables are nearly an order of magnitude smaller than the coefficient itself"
      ]
    },
    {
      "cell_type": "markdown",
      "id": "11690f15",
      "metadata": {
        "id": "11690f15"
      },
      "source": [
        "Now, let's plot our residuals to see if there are any spatial patterns in them.\n",
        "\n",
        "Remember residuals = predicted - fitted values"
      ]
    },
    {
      "cell_type": "code",
      "execution_count": null,
      "id": "96eae78c",
      "metadata": {
        "id": "96eae78c"
      },
      "outputs": [],
      "source": [
        "#Add model residuals to our \"votes\" geopandas dataframe:\n",
        "votes['lm_resid']=lm.fit().resid"
      ]
    },
    {
      "cell_type": "markdown",
      "id": "136dafbb",
      "metadata": {
        "id": "136dafbb"
      },
      "source": [
        "Remember, in OLS regression we depend out our residuals being normally distributed:"
      ]
    },
    {
      "cell_type": "code",
      "execution_count": null,
      "id": "0270685f",
      "metadata": {
        "id": "0270685f"
      },
      "outputs": [],
      "source": [
        "sns.kdeplot(votes['lm_resid'].values, shade=True, color='slategrey')\n",
        "ax[1].set_xlabel('OLS residuals')"
      ]
    },
    {
      "cell_type": "code",
      "execution_count": null,
      "id": "1448992a",
      "metadata": {
        "id": "1448992a"
      },
      "outputs": [],
      "source": [
        "#Plot them in space:\n",
        "f, ax1 = plt.subplots(figsize=(10, 6))\n",
        "votes.plot('lm_resid', ax=ax1, linewidth=.05, cmap='RdBu',legend = True)"
      ]
    },
    {
      "cell_type": "markdown",
      "id": "f73a181e",
      "metadata": {
        "id": "f73a181e"
      },
      "source": [
        "These are very not normal residuals. What's going on?\n",
        "\n",
        "## Task 5: What does a positive residual mean here (the model overpredicted change in democratic vote, the model underpredicted change in democratic vote)?\n",
        "\n"
      ]
    },
    {
      "cell_type": "markdown",
      "source": [
        "With spatial data, we also care about spatial autocorrelation of our *residuals*:"
      ],
      "metadata": {
        "id": "2C_H7ZsNlksM"
      },
      "id": "2C_H7ZsNlksM"
    },
    {
      "cell_type": "code",
      "execution_count": null,
      "id": "15a911ec",
      "metadata": {
        "id": "15a911ec"
      },
      "outputs": [],
      "source": [
        "# calculate Moran and plot\n",
        "moran = Moran(votes['lm_resid'], w=weights)\n",
        "plot_moran(moran, zstandard=True, figsize=(10,4))\n",
        "plt.show()"
      ]
    },
    {
      "cell_type": "code",
      "execution_count": null,
      "id": "41dc15d9",
      "metadata": {
        "id": "41dc15d9"
      },
      "outputs": [],
      "source": [
        "moran.p_norm"
      ]
    },
    {
      "cell_type": "markdown",
      "id": "9aba6557",
      "metadata": {
        "id": "9aba6557"
      },
      "source": [
        "## Task 6: Do we have spatially autocorrelated residuals? Provide numbers to back your claim. Why do we care?\n"
      ]
    },
    {
      "cell_type": "code",
      "execution_count": null,
      "id": "c6d7ccac",
      "metadata": {
        "id": "c6d7ccac"
      },
      "outputs": [],
      "source": [
        "f,ax = plt.subplots(1,3, figsize=(3*3*1.6, 2))\n",
        "\n",
        "votes[['INC910213','lm_resid']].plot.scatter('INC910213','lm_resid', ax=ax[0])\n",
        "ax[0].set_xlabel('county income')\n",
        "ax[0].set_ylabel('linear model residuals')\n",
        "\n",
        "votes[['ALAND','lm_resid']].plot.scatter('ALAND','lm_resid', ax=ax[1])\n",
        "ax[1].set_xlabel('county land area')\n",
        "ax[1].set_ylabel('linear model residuals')\n",
        "\n",
        "votes[['pct_dem_change','lm_resid']].plot.scatter('pct_dem_change','lm_resid', ax=ax[2])\n",
        "ax[2].set_xlabel('2012-2016 change in % democratic vote')\n",
        "ax[2].set_ylabel('linear model residuals')\n"
      ]
    },
    {
      "cell_type": "markdown",
      "id": "13e3f7df",
      "metadata": {
        "id": "13e3f7df"
      },
      "source": [
        "*The first two plots show heteroskedasticity in our residuals. The second plot shows bias in our model*"
      ]
    },
    {
      "cell_type": "markdown",
      "id": "98e86763",
      "metadata": {
        "id": "98e86763"
      },
      "source": [
        "\n",
        "## Autocovariate regression: spatial lag model\n",
        "Let's see if we can get different answers by accounting for our residuals in our model. First, we'll try a spatial lag model. A spatial lag model is a type of autocovariate model that assumes that dependencies exist directly among the levels of the dependent variable, and models them as an \"autocovariate\". So we create an autocovariate function that describes the degree to which the percent change in democratic vote at one location is affected by the percent change in democratic vote at the nearby locations. The coefficient and p-value for the autocovariate function are interpreted as for the independent variables."
      ]
    },
    {
      "cell_type": "code",
      "source": [
        "?spreg.ML_Lag"
      ],
      "metadata": {
        "id": "JIUjJWyDZlY3"
      },
      "id": "JIUjJWyDZlY3",
      "execution_count": null,
      "outputs": []
    },
    {
      "cell_type": "code",
      "execution_count": null,
      "id": "595a494f",
      "metadata": {
        "id": "595a494f"
      },
      "outputs": [],
      "source": [
        "Yl = Y.T\n",
        "Yl.shape = (len(Y),1)\n",
        "\n",
        "lag=spreg.ML_Lag(Yl, X, weights, name_x=[\"income\", \"area\"],name_y=\"vote\", name_w=\"weights\")\n",
        "print(lag.summary)\n"
      ]
    },
    {
      "cell_type": "code",
      "execution_count": null,
      "id": "04b3d5ab",
      "metadata": {
        "id": "04b3d5ab"
      },
      "outputs": [],
      "source": [
        "#Add model residuals to our \"votes\" geopandas dataframe:\n",
        "votes['slm_resid']=lag.u\n",
        "sns.kdeplot(votes['slm_resid'].values, shade=True, color='slategrey')\n",
        "ax[1].set_xlabel('SLM residuals')"
      ]
    },
    {
      "cell_type": "code",
      "execution_count": null,
      "id": "8876a6c6",
      "metadata": {
        "id": "8876a6c6"
      },
      "outputs": [],
      "source": [
        "# calculate Moran and plot\n",
        "moran = Moran(votes['slm_resid'], w=weights)\n",
        "plot_moran(moran, zstandard=True, figsize=(10,4))\n",
        "plt.show()"
      ]
    },
    {
      "cell_type": "code",
      "execution_count": null,
      "id": "702c34c3",
      "metadata": {
        "id": "702c34c3"
      },
      "outputs": [],
      "source": [
        "#Plot them in space:\n",
        "f, ax1 = plt.subplots(figsize=(10, 6))\n",
        "votes.plot('slm_resid', ax=ax1, linewidth=.05, cmap='RdBu',legend = True)"
      ]
    },
    {
      "cell_type": "code",
      "execution_count": null,
      "id": "42cd97a7",
      "metadata": {
        "id": "42cd97a7"
      },
      "outputs": [],
      "source": [
        "# calculate Moran and plot\n",
        "moran = Moran(votes['slm_resid'], w=weights)\n",
        "plot_moran(moran, zstandard=True, figsize=(10,4))\n",
        "plt.show()"
      ]
    },
    {
      "cell_type": "code",
      "source": [
        "moran.p_norm"
      ],
      "metadata": {
        "id": "0bQtu0pOcZDf"
      },
      "id": "0bQtu0pOcZDf",
      "execution_count": null,
      "outputs": []
    },
    {
      "cell_type": "code",
      "execution_count": null,
      "id": "233ea54c",
      "metadata": {
        "id": "233ea54c"
      },
      "outputs": [],
      "source": [
        "f,ax = plt.subplots(1,3, figsize=(3*3*1.6, 2))\n",
        "\n",
        "votes[['INC910213','slm_resid']].plot.scatter('INC910213','slm_resid', ax=ax[0])\n",
        "ax[0].set_xlabel('Per capita income')\n",
        "ax[0].set_ylabel('spatial lag model residuals')\n",
        "\n",
        "votes[['ALAND','slm_resid']].plot.scatter('ALAND','slm_resid', ax=ax[1])\n",
        "ax[1].set_xlabel('county land area')\n",
        "ax[1].set_ylabel('spatial lag model residuals')\n",
        "\n",
        "votes[['pct_dem_change','slm_resid']].plot.scatter('pct_dem_change','slm_resid', ax=ax[2])\n",
        "ax[2].set_xlabel('2012-2016 change in % democratic vote')\n",
        "ax[2].set_ylabel('spatial lag model residuals')"
      ]
    },
    {
      "cell_type": "markdown",
      "id": "f740100c",
      "metadata": {
        "id": "f740100c"
      },
      "source": [
        "## Task 7: When we account for spatial autocorrelation in our data using the spatial lag model, do we still see a significant relationship between our response and predictor variable?\n",
        "\n",
        "\n",
        "\n"
      ]
    },
    {
      "cell_type": "markdown",
      "id": "3106dc34",
      "metadata": {
        "id": "3106dc34"
      },
      "source": [
        "## Task 8: Compare these two models. Do you believe that there is a linear relationship between percent change in democratic vote and income level? What about between change in democratic vote and land area? Explain your interpretation using model parameters and outputs.\n",
        "\n"
      ]
    }
  ],
  "metadata": {
    "kernelspec": {
      "display_name": "geostats_env",
      "language": "python",
      "name": "geostats_env"
    },
    "language_info": {
      "codemirror_mode": {
        "name": "ipython",
        "version": 3
      },
      "file_extension": ".py",
      "mimetype": "text/x-python",
      "name": "python",
      "nbconvert_exporter": "python",
      "pygments_lexer": "ipython3",
      "version": "3.7.11"
    },
    "colab": {
      "provenance": [],
      "collapsed_sections": [
        "50d273fd",
        "2359e7b5"
      ],
      "include_colab_link": true
    }
  },
  "nbformat": 4,
  "nbformat_minor": 5
}