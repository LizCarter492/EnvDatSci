{
  "cells": [
    {
      "cell_type": "markdown",
      "metadata": {
        "id": "view-in-github",
        "colab_type": "text"
      },
      "source": [
        "<a href=\"https://colab.research.google.com/github/LizCarter492/EnvDatSci/blob/main/CodeSprints/regression101.ipynb\" target=\"_parent\"><img src=\"https://colab.research.google.com/assets/colab-badge.svg\" alt=\"Open In Colab\"/></a>"
      ]
    },
    {
      "cell_type": "markdown",
      "metadata": {
        "id": "bI8IOz6av_a4"
      },
      "source": [
        "## Part 1: Extract Raster Values at Point Locations in Python\n",
        "#### Adapted from assignment by Leah Wasser, Chris Holdgraf, Carson Farmer\n",
        "Here, you will extract pixel values that cover each field plot area where trees were measured in the NEON Field Sites. The idea is that you can calculate the mean or max height value for all pixels that fall in each NEON site.\n",
        "\n",
        "Then, you will compare that mean or max height value derived from the lidar data derived canopy height model pixels to height values calculated using human tree height measurements.\n",
        "\n",
        "To do this, you need to do the following:\n",
        "\n",
        "1. Import the canopy height model that you wish to extra tree height data from.\n",
        "2. Clean up that data. For instance if there are values of 0 for areas where there are no trees they will impact a mean value calculation. It is better to remove those values from the data.\n",
        "3. Finally you will import and create a buffer zone that represents the area where trees were sampled in each NEON field site.\n",
        "To begin, import your python libraries.\n",
        "\n",
        "https://www.earthdatascience.org/courses/use-data-open-source-python/spatial-data-applications/lidar-remote-sensing-uncertainty/extract-data-from-raster/"
      ]
    },
    {
      "cell_type": "code",
      "source": [
        "#attach to Google Drive\n",
        "from google.colab import drive\n",
        "drive.mount('/content/drive')"
      ],
      "metadata": {
        "id": "c7_dXpP3w3QR"
      },
      "execution_count": null,
      "outputs": []
    },
    {
      "cell_type": "code",
      "source": [
        "!pip install rasterio\n",
        "!pip install geopandas\n",
        "!pip install seaborn\n",
        "!pip install rioxarray\n",
        "!pip install rasterstats\n",
        "!pip install earthpy"
      ],
      "metadata": {
        "id": "miMN0rYSwOWX"
      },
      "execution_count": null,
      "outputs": []
    },
    {
      "cell_type": "code",
      "execution_count": null,
      "metadata": {
        "id": "nscVxH2sv_a6"
      },
      "outputs": [],
      "source": [
        "import os\n",
        "import matplotlib.pyplot as plt\n",
        "from math import *\n",
        "import numpy as np\n",
        "import numpy.ma as ma\n",
        "import pandas as pd\n",
        "import rasterio as rio\n",
        "from rasterio.plot import plotting_extent\n",
        "import geopandas as gpd\n",
        "import seaborn as sns\n",
        "import rioxarray as rxr\n",
        "\n",
        "# Rasterstats contains the zonalstatistics function\n",
        "# that you will use to extract raster values\n",
        "import rasterstats as rs\n",
        "import earthpy as et\n",
        "import earthpy.plot as ep\n",
        "\n",
        "# Set consistent plotting style\n",
        "sns.set_style(\"white\")\n",
        "sns.set(font_scale=1.5)\n",
        "\n",
        "# Download data and set working directory\n",
        "data = et.data.get_data(\"spatial-vector-lidar\")\n",
        "os.chdir(os.path.join(et.io.HOME, 'earth-analytics'))"
      ]
    },
    {
      "cell_type": "markdown",
      "source": [
        "# PART 1: Analysis Ready Data\n",
        "Our ability to directly sample many environmnetal processes on the ground is inherently limited. Often we need to be able to fill in the gaps between our sampled times/locations, predict values in places/times where it is unfeasible or impossible to sample, or characterize drivers of variability at spatiotemporal scales that aren't well represented by our *in-situ* data.\n",
        "\n",
        "Because of this, as the availability of global earth observations increases, it is increasingly common to combine georeferenced ground-based observations of an environmental process with global earth observations for supervised learning. In these workflows, ground-based observations often serves as the label or *predictand*, and global earth obserations serve as the *predictors*. A single dataset is then generated that presents contemporaneous values of predictand and predictors in a format that can serve as input to a statistical modelling software. This is called the **analysis ready dataset**. A classification or regression model is then trained to predict values of predictand at unsampled locations.\n",
        "\n",
        "With spatiotemporal data, generating the analysis ready dataset often involves a few common GIS operations, including:\n",
        "\n",
        "* CRS conversions: getting all datasets into a common coordinate reference system to ensure accurate spatial overlap and minimal areal distortion over the area of interest (AOI).\n",
        "* Spatial resampling: using basic interpolation to convert a raster dataset to finer (downsampling) or coarser (upsampling) spatial resolution so that pixels will overlap with another raster.\n",
        "* Spatial and/or data mergers: combining all predictors and predictands as either rows in a dataframe or layers of an array, with individual cells/rows corresponding to unique spatiotemporal records.\n",
        "\n",
        "Once all variables are organized into a dataframe or array, with each row/cell associated with a geographic entity (spatial vector or affine), additional data processing can occur using standard data processing software. Such steps include:\n",
        "* Processing of no-data values: missing observations in individual variables are either gap filled or assigned an appropriate no-data value, based on the statistical model and modelling objectives.\n",
        "* Feature reduction: creating a subset of meaningful predictors using domain expertise (feature engineering) or data compression (factor reduction).\n",
        "* Data standardization: translating all variables into a standardized unit scale that maintains key features of the variables' marginal distribution (calculating the z-score, standardizing between 0 and 1).\n",
        "\n",
        "The requisite data format and processing will be determined by the type of statistical model and statistical software/package that will be used.\n",
        "\n",
        "Here, we will create an analysis ready dataset that combines tree canopy height measurements (predictand) with estimates of canopy height from an aircraft-based LiDAR dataset (predictor). In the second part of this code sprint, we will use our analysis ready dataset to train a linear regression model. This linear regression model will be used to diangose the accuracy of our LiDAR-based canopy height model.\n",
        "\n"
      ],
      "metadata": {
        "id": "lEoD5PVOxSL5"
      }
    },
    {
      "cell_type": "markdown",
      "metadata": {
        "id": "za5G7dbcv_a8"
      },
      "source": [
        "#### Import Canopy Height Model\n",
        "First, you will import a canopy height model created by the National Ecological Observatory Network (NEON). This canopy height model by subtracting the Digital elevation model (DEM) from the Digital surface model (DSM).\n",
        "\n",
        "#### Context Managers and Rasterio\n",
        "As you learned in the previous raster lessons, you will use a context manager with to create a connection to your raster dataset. This connection will be automatically closed at the end of the with statement."
      ]
    },
    {
      "cell_type": "code",
      "execution_count": null,
      "metadata": {
        "id": "KbobGBeBv_a9"
      },
      "outputs": [],
      "source": [
        "# Load & plot the data\n",
        "sjer_lidar_chm_path = os.path.join(\"data\",\n",
        "                                   \"spatial-vector-lidar\",\n",
        "                                   \"california\",\n",
        "                                   \"neon-sjer-site\",\n",
        "                                   \"2013\",\n",
        "                                   \"lidar\",\n",
        "                                   \"SJER_lidarCHM.tif\")\n",
        "\n",
        "sjer_chm_data = rxr.open_rasterio(sjer_lidar_chm_path, masked=True).squeeze()\n",
        "\n"
      ]
    },
    {
      "cell_type": "code",
      "execution_count": null,
      "metadata": {
        "id": "0c9RYheRv_a-"
      },
      "outputs": [],
      "source": [
        "# Explore the data by plotting a histogram with earthpy\n",
        "ax=ep.hist(sjer_chm_data.values,\n",
        "        figsize=(8,8),\n",
        "        colors=\"purple\",\n",
        "        xlabel=\"Lidar Estimated Tree Height (m)\",\n",
        "        ylabel=\"Total Pixels\",\n",
        "        title=\"Distribution of Pixel Values \\n Lidar Canopy Height Model\")\n",
        "\n",
        "# Turn off scientific notation\n",
        "#ax[1].ticklabel_format(useOffset=False,\n",
        "#                     style='plain')"
      ]
    },
    {
      "cell_type": "code",
      "execution_count": null,
      "metadata": {
        "id": "tw6V5eJqv_a_"
      },
      "outputs": [],
      "source": [
        "# EXPLORE: View summary statistics of canopy height model\n",
        "# Notice the mean value with 0's included in the data\n",
        "print('Mean:', sjer_chm_data.mean().values)\n",
        "print('Max:', sjer_chm_data.max().values)\n",
        "print('Min:', sjer_chm_data.min().values)"
      ]
    },
    {
      "cell_type": "code",
      "execution_count": null,
      "metadata": {
        "id": "-TUapfT7v_a_"
      },
      "outputs": [],
      "source": [
        "# Plot model\n",
        "ep.plot_bands(sjer_chm_data,\n",
        "              title=\"Lidar Estimated Tree Height (m)\",\n",
        "              cmap=\"Greys\")\n",
        "\n",
        "plt.show()"
      ]
    },
    {
      "cell_type": "markdown",
      "metadata": {
        "id": "tt7V3kuOv_a_"
      },
      "source": [
        "### TASK 1: What type of object is the sjer_chm_data? How does it differ from the raster layer we read in using rasterior? Why did I refer to this dataset as a model?"
      ]
    },
    {
      "cell_type": "markdown",
      "metadata": {
        "id": "3qtDDADrv_bA"
      },
      "source": [
        "### Clean Up Data - Remove 0’s\n",
        "Looking at the distribution of data, you can see there are many pixels that have a value of 0 - where there are no trees. Also, using the NEON data, values below 2m are normally set to 0 given the accuracy of the lidar instrument used to collect these data.\n",
        "\n",
        "Set all pixel values ==0 to nan as they will impact calculation of plot mean height. A mean calculated with values of 0 will be significantly lower than a mean calculated with just tree height values.\n",
        "\n",
        "### TASK 2: Create mask that converts zero values to np.nan (no data or not a number). Replot the summary statistics (mean, min, and max). Plot the histogram again. What happend?"
      ]
    },
    {
      "cell_type": "code",
      "execution_count": null,
      "metadata": {
        "id": "dP7IRYk7v_bC"
      },
      "outputs": [],
      "source": [
        "# Task 2: mask data using rioxarray\n",
        "sjer_chm_data_no_zeros = sjer_chm_data.where(sjer_chm_data != 0, np.nan)\n",
        "\n",
        "# Task 2: view summary statistics of canopy height model after cleaning up the data\n"
      ]
    },
    {
      "cell_type": "code",
      "execution_count": null,
      "metadata": {
        "id": "WW4qTK2av_bC"
      },
      "outputs": [],
      "source": [
        "# Task 2: view histogram of canopy height model after cleaning up the data\n"
      ]
    },
    {
      "cell_type": "markdown",
      "metadata": {
        "id": "wOmlkkOnv_bD"
      },
      "source": [
        "#### Import Plot Location Data & Create Buffer\n",
        "You now have a cleaned canopy height model for your study area in California. However, how do the height values extracted from the CHM compare to our manually collected, field measured canopy height data? To figure this out, you will use in situ collected tree height data, measured within circular plots across our study area. You will compare the maximum measured tree height value to the maximum LiDAR derived height value for each circular plot using regression.\n",
        "\n",
        "First, import the shapefile that contains the plot centroid (the center point of each plot) locations using geopandas."
      ]
    },
    {
      "cell_type": "code",
      "execution_count": null,
      "metadata": {
        "id": "YvzdnzBlv_bE"
      },
      "outputs": [],
      "source": [
        "sjer_centroids_path = os.path.join(\"data\", \"spatial-vector-lidar\",\n",
        "                                   \"california\", \"neon-sjer-site\",\n",
        "                                   \"vector_data\", \"SJER_plot_centroids.shp\")\n",
        "\n",
        "SJER_plots_points = gpd.read_file(sjer_centroids_path)\n",
        "\n",
        "type(SJER_plots_points)"
      ]
    },
    {
      "cell_type": "markdown",
      "metadata": {
        "id": "1rpvxgaav_bF"
      },
      "source": [
        "#### Overlay Points on Top Of Your Raster Data\n",
        "Finally, a quick plot allows you to check that your points actually overlay on top of the canopy height model. This is a good sanity check just to ensure your data actually line up and are for the same location.\n",
        "\n",
        "If you recall in week 2, we discussed the spatial extent of a raster. Here is where you will need to set the spatial extent when plotting raster using imshow(). If you do not specify a spatial extent, your raster will not line up properly with your geopandas object."
      ]
    },
    {
      "cell_type": "code",
      "execution_count": null,
      "metadata": {
        "id": "cka7Gzqwv_bF"
      },
      "outputs": [],
      "source": [
        "fig, ax = plt.subplots(figsize=(10, 10))\n",
        "\n",
        "# We plot with the zeros in the data so the CHM can be better represented visually\n",
        "ep.plot_bands(sjer_chm_data,\n",
        "              extent=plotting_extent(sjer_chm_data,\n",
        "                                     sjer_chm_data.rio.transform()),  # Set spatial extent\n",
        "              cmap='Greys',\n",
        "              title=\"San Joachin Field Site \\n Vegetation Plot Locations\",\n",
        "              scale=False,\n",
        "              ax=ax)\n",
        "\n",
        "SJER_plots_points.plot(ax=ax,\n",
        "                       marker='s',\n",
        "                       markersize=45,\n",
        "                       color='purple')\n",
        "ax.set_axis_off()\n",
        "plt.show()\n"
      ]
    },
    {
      "cell_type": "markdown",
      "metadata": {
        "id": "tVZ_ELW0v_bG"
      },
      "source": [
        "### TASK 3: In your own words, caption this plot. What does the color scale represent? What do the purple points represent?\n",
        "\n",
        "*Type plot caption here*"
      ]
    },
    {
      "cell_type": "markdown",
      "metadata": {
        "id": "oo5qZwVzv_bG"
      },
      "source": [
        "### Create A Buffer Around Each Plot Point Location\n",
        "Each point in your data represent a point where tree height was measured on the ground. This height value is representative of the entire tree canopy, which will extend beyond the point. You want to extract tree height values derived from the LiDAR data for the entire tree canopy. To do this, you will need to create a BUFFER around the point representing the crown of the tree.\n",
        "\n",
        "In this case, we assume that individual trees have a canopy that is 40m in diameter. If you create a circular buffer with a 20m diameter, you will generate a polygon that approximates the area occupied by the tree canopy.\n",
        "\n",
        "You can use the .buffer() method to create this polygon. Here the buffer size is specified in the () of the function. You will send the new object to a new shapefile using .to_file().\n",
        "\n",
        "In the next cells, you will:\n",
        "\n",
        "1. Make a copy of the points layer that will become a new polygon layer.\n",
        "2. Buffer the points layer using the .buffer() method. This will produce a circle around each point that is x units radius. The units will coincide with the CRS of your data. This is known as a buffer.\n",
        "3. When you perform the buffer, you UPDATE the “geometry” column of your new poly layer with the buffer output.\n"
      ]
    },
    {
      "cell_type": "code",
      "execution_count": null,
      "metadata": {
        "id": "bW3T7tpHv_bH"
      },
      "outputs": [],
      "source": [
        "# Create a buffered polygon layer from your plot location points\n",
        "SJER_plots_poly = SJER_plots_points.copy()\n",
        "\n",
        "# Buffer each point using a 20 meter circle radius\n",
        "# and replace the point geometry with the new buffered geometry\n",
        "SJER_plots_poly[\"geometry\"] = SJER_plots_points.geometry.buffer(20)\n",
        "SJER_plots_poly.head()"
      ]
    },
    {
      "cell_type": "markdown",
      "metadata": {
        "id": "qsRbYQWdv_bI"
      },
      "source": [
        "### TASK 4: Plot SJER_plots_poly over the canopy model. What type of spatial file is SJER_plots_poly? Did we make this file or did we read it in from the internet? What does SJER_plots_poly represent?"
      ]
    },
    {
      "cell_type": "code",
      "execution_count": null,
      "metadata": {
        "id": "129_KKJ7v_bI"
      },
      "outputs": [],
      "source": [
        "#Task 4: Plot SJER_plots_poly over the canopy model\n"
      ]
    },
    {
      "cell_type": "markdown",
      "metadata": {
        "id": "9fOVr3L3v_bI"
      },
      "source": [
        "Finally, export the buffered layer as a new shapefile. You will use this layer when you use the zonalstats function. Below you first check to ensure the outputs directory exists that you wish to write your data to. Then you export the data using the to_file method."
      ]
    },
    {
      "cell_type": "code",
      "execution_count": null,
      "metadata": {
        "id": "UqlBahyDv_bJ"
      },
      "outputs": [],
      "source": [
        "# If the dir does not exist, create it\n",
        "output_path = os.path.join(\"data\", \"spatial-vector-lidar\", \"outputs\")\n",
        "\n",
        "if not os.path.isdir(output_path):\n",
        "    os.mkdir(output_path)\n",
        "\n",
        "# Export the buffered point layer as a shapefile to use in zonal stats\n",
        "plot_buffer_path = os.path.join(output_path, \"plot_buffer.shp\")\n",
        "SJER_plots_poly.to_file(plot_buffer_path)"
      ]
    },
    {
      "cell_type": "markdown",
      "metadata": {
        "id": "B2v7QDE_v_bJ"
      },
      "source": [
        "### Extract Pixel Values For Each Plot\n",
        "Once you have the boundary for each plot location (a 20m diameter circle) you can extract all of the pixels that fall within each circle using the function zonal_stats in the rasterstats library.\n",
        "\n",
        "\n",
        "#### There are several ways to use the zonal_stats function. In this case we are providing the following\n",
        "\n",
        "1. chm data (numpy array): SJER_chm_data in a numpy array format. Because a numpy array has no spatial information, you provide the affine data which is the spatial information needed to spatially located the array.\n",
        "2. plot_buffer_path: this is the path to the buffered point shapefile that you created at the top of this lesson\n",
        "\n",
        "Calculating zonal statistics is often a very important component of creating analysis-ready datasets for supervised machine learning operations using raster data. Learn more here:\n",
        "\n",
        "https://pythonhosted.org/rasterstats/manual.html"
      ]
    },
    {
      "cell_type": "code",
      "execution_count": null,
      "metadata": {
        "id": "F4x5ZQXZv_bJ"
      },
      "outputs": [],
      "source": [
        "# Extract zonal stats\n",
        "sjer_tree_heights = rs.zonal_stats(plot_buffer_path,\n",
        "                                   sjer_chm_data_no_zeros.values,\n",
        "                                   nodata=-999,\n",
        "                                   affine=sjer_chm_data_no_zeros.rio.transform(),\n",
        "                                   geojson_out=True,\n",
        "                                   copy_properties=True,\n",
        "                                   stats=\"count min mean max median\")\n",
        "\n",
        "# View object type\n",
        "type(sjer_tree_heights)"
      ]
    },
    {
      "cell_type": "markdown",
      "metadata": {
        "id": "Y-7WvGWev_bK"
      },
      "source": [
        "### TASK5: Open the rasterstats manual linked above. What does the \"affine\" argument in rs.zonal_stats accomplish? Why do we use it?"
      ]
    },
    {
      "cell_type": "markdown",
      "metadata": {
        "id": "ZWMDc4O0v_bK"
      },
      "source": [
        "### Analysis-ready data from maps\n",
        "Analysis-ready data is ready to be input directly into a statistical software for processing. If your statistical software is Microsoft Excel, for example, your analysis ready dataset would be an Excel spreadsheet. We will be mainly using statistical analysis packages written in Python in this class, and our analysis ready datasets will generally either be numpy arrays or pandas dataframes.  "
      ]
    },
    {
      "cell_type": "code",
      "execution_count": null,
      "metadata": {
        "id": "9jIcIvsxv_bK"
      },
      "outputs": [],
      "source": [
        "# Turn extracted data into a pandas geodataframe\n",
        "SJER_lidar_height_df = gpd.GeoDataFrame.from_features(sjer_tree_heights)\n",
        "SJER_lidar_height_df.head()"
      ]
    },
    {
      "cell_type": "markdown",
      "metadata": {
        "id": "yqTyIKgQv_bL"
      },
      "source": [
        "#### Below is a bar plot of max lidar derived tree height by plot id. This plot allows you to see how vegetation height varies across the field sites."
      ]
    },
    {
      "cell_type": "code",
      "execution_count": null,
      "metadata": {
        "id": "PHfpZ0sCv_bL"
      },
      "outputs": [],
      "source": [
        "fig, ax = plt.subplots(figsize=(10, 5))\n",
        "\n",
        "ax.bar(SJER_lidar_height_df['Plot_ID'],\n",
        "       SJER_lidar_height_df['max'],\n",
        "       color=\"purple\")\n",
        "\n",
        "ax.set(xlabel='Plot ID', ylabel='Max Height',\n",
        "       title='Maximum LIDAR Derived Tree Heights')\n",
        "\n",
        "plt.setp(ax.get_xticklabels(), rotation=45, horizontalalignment='right')\n",
        "plt.show()"
      ]
    },
    {
      "cell_type": "markdown",
      "metadata": {
        "id": "cUxLH5iqv_bL"
      },
      "source": [
        "## Part 2: Use Regression Analysis to Explore Data Relationships & Bad Data\n",
        "### by Max Joseph, Leah Wasser\n",
        "\n",
        "### https://www.earthdatascience.org/courses/use-data-open-source-python/spatial-data-applications/lidar-remote-sensing-uncertainty/compare-lidar-and-measured-tree-height-regression/\n",
        "\n",
        "\n",
        "### Learning Objectives\n",
        "1. Perform a basic least squares linear regression analysis on two variables of interest in Python.\n",
        "2. Analyze regression outputs to determine the strength of the relatonship between two variables.\n",
        "3. Define R-squared and p-value as it relates to regression.\n",
        "\n",
        "### In this lesson, you will learn you will learn the basic fundamentals of creating a linear regression model between the two variables.\n",
        "\n",
        "### Quantifying Relationships Between Variables: What Is A One to One Line?\n",
        "A one-to-one line is a line that represents what the relationship between two variables would be if their values were equal. For example, if lidar and ground measurements of tree height were always equal, then observations of height would fall on the one to one line in a scatterplot.\n",
        "\n",
        "See the example below."
      ]
    },
    {
      "cell_type": "code",
      "execution_count": null,
      "metadata": {
        "id": "T-6X2UXuv_bM"
      },
      "outputs": [],
      "source": [
        "# Setting consistent plotting style throughout notebook\n",
        "sns.set_style(\"white\")\n",
        "sns.set(font_scale=1.5)\n",
        "\n",
        "# Download data and set working directory\n",
        "data = et.data.get_data(\"spatial-vector-lidar\")\n",
        "os.chdir(os.path.join(et.io.HOME, 'earth-analytics'))"
      ]
    },
    {
      "cell_type": "code",
      "execution_count": null,
      "metadata": {
        "id": "NI2-0w8Ov_bM"
      },
      "outputs": [],
      "source": [
        "lidar_path = os.path.join(\"data\", \"spatial-vector-lidar\",\n",
        "                          \"california\", \"neon-sjer-site\",\n",
        "                          \"2013\", \"lidar\", \"SJER_lidarCHM.tif\")\n",
        "\n",
        "with rio.open(lidar_path) as lidar_chm_src:\n",
        "    SJER_chm_data = lidar_chm_src.read(1, masked=True)\n",
        "    SJER_chm_meta = lidar_chm_src.profile"
      ]
    },
    {
      "cell_type": "code",
      "execution_count": null,
      "metadata": {
        "id": "2KiFMvHsv_bM"
      },
      "outputs": [],
      "source": [
        "# Import plot locations and extract summary raster statistics\n",
        "plot_buffer_path = os.path.join(\"data\", \"spatial-vector-lidar\",\n",
        "                                \"outputs\", \"plot_buffer.shp\")\n",
        "\n",
        "sjer_tree_heights = rs.zonal_stats(plot_buffer_path,\n",
        "                                   SJER_chm_data,\n",
        "                                   affine=SJER_chm_meta['transform'],\n",
        "                                   geojson_out=True,\n",
        "                                   copy_properties=True,\n",
        "                                   stats=\"mean max\")\n",
        "\n",
        "\n",
        "\n",
        "SJER_lidar_height_df = gpd.GeoDataFrame.from_features(sjer_tree_heights)\n",
        "\n"
      ]
    },
    {
      "cell_type": "code",
      "execution_count": null,
      "metadata": {
        "id": "WWoCTV1nv_bN"
      },
      "outputs": [],
      "source": [
        "# Import in situ data\n",
        "path_insitu = os.path.join(\"data\", \"spatial-vector-lidar\",\n",
        "                           \"california\", \"neon-sjer-site\",\n",
        "                           \"2013\", \"insitu\",\n",
        "                           \"veg_structure/D17_2013_SJER_vegStr.csv\")\n",
        "\n",
        "SJER_insitu = pd.read_csv(path_insitu)\n",
        "\n",
        "\n",
        "# Get the max and mean stem height for each plot\n",
        "insitu_stem_ht = SJER_insitu.groupby('plotid', as_index=False)\n",
        "insitu_stem_ht = insitu_stem_ht['stemheight'].agg(['max', 'mean'])\n",
        "insitu_stem_ht = insitu_stem_ht.rename(\n",
        "    columns={'max': 'insitu_maxht', 'mean': 'insitu_meanht'})\n",
        "insitu_stem_ht.reset_index(inplace=True)\n",
        "\n",
        "# First rename columns so that we know which belongs to lidar\n",
        "SJER_lidar_height_df = SJER_lidar_height_df.rename(\n",
        "    columns={'max': 'lidar_max', 'mean': 'lidar_mean', 'min': 'lidar_min'})\n",
        "\n",
        "# Join the data\n",
        "SJER_final_height = SJER_lidar_height_df.merge(insitu_stem_ht,\n",
        "                                               left_on='Plot_ID',\n",
        "                                               right_on='plotid')\n",
        "# Convert to a dataframe so we can use standard pandas plotting\n",
        "SJER_final_height_df = pd.DataFrame(SJER_final_height)\n",
        "\n",
        "# Plot scatter plot\n",
        "fig, ax = plt.subplots(figsize=(10, 10))\n",
        "\n",
        "#csfont = {'fontname':'Myriad Pro'}\n",
        "SJER_final_height_df.plot('lidar_max', 'insitu_maxht',\n",
        "                          kind='scatter', color=\"purple\",\n",
        "                          s=60, ax=ax)\n",
        "\n",
        "# Add a diagonal line\n",
        "ax.set(xlim=[0, 30], ylim=[0, 30], label=\"Data\")\n",
        "ax.plot((0, 1), (0, 1), transform=ax.transAxes, ls='--',\n",
        "        c='k', label=\"1:1 line\")\n",
        "\n",
        "ax.set(xlabel=\"Lidar derived max tree height (m)\",\n",
        "       ylabel=\"Measured tree height (m)\", title=\"Lidar vs Measured Tree Height - SJER\")"
      ]
    },
    {
      "cell_type": "markdown",
      "metadata": {
        "id": "_xYITggwv_bO"
      },
      "source": [
        "In practice, observations from different methods rarely show a 1:1 relationship. For example above, you can see how lidar estimates compare to human made measurements of tree height. Notice that some measurements are similar, and close to the 1:1 line. In other cases, when points lie above or below the 1:1 line, the measurements are different.\n",
        "\n",
        "This all assumes that you decide that the human measurement is correct all of the time. But you know from discussions about uncertainty and from being a human yourself, that often times, humans make mistakes too! Some people may think that, particularly in dense forests, lidar does an even better job of measuring the tallest trees that humans can not fully get a clear view of to make a measurement.\n",
        "\n",
        "A 1:1 line is a start at comparing two sets of measurements. However, what if you want to predict one measurement from another? For example, given a measurement of lidar derived tree height, what would be the measured tree height on the ground?\n",
        "\n",
        "Linear regression is a way to predict one measurement from another. It accounts for the fact that the linear relationship between the two variables might not be a one to one line, and that there may be variation in the data around the line.\n",
        "\n",
        "## Linear regression requires two variables:\n",
        "\n",
        "An independent variable (let’s call it x) and a dependent variable (let’s call it y)\n",
        "\n",
        "Linear regression uses x to predict y by finding the “best fit” line between x and y, assuming the following model:\n",
        "\n",
        "`y=a+bx+error`\n",
        "\n",
        "Where:\n",
        "\n",
        "a is an intercept\n",
        "\n",
        "b is a slope\n",
        "\n",
        "Conceptually “best fit” means finding the values of a and b that minimize the error (or difference between predicted and actual y). One measure of fit is R-squared. When R2 is close to one, the model fits well, and when R2 is close to zero, the model fits poorly.\n",
        "\n",
        "You can run a regression analysis on the data above using the stats package in scipy.\n",
        "\n"
      ]
    },
    {
      "cell_type": "code",
      "execution_count": null,
      "metadata": {
        "id": "uRv-N1_zv_bO"
      },
      "outputs": [],
      "source": [
        "from scipy import stats\n",
        "#Note: some of you may get an error from this import function. What do you do about it?\n",
        "\n",
        "x = SJER_final_height_df.lidar_max\n",
        "y = SJER_final_height_df.insitu_maxht"
      ]
    },
    {
      "cell_type": "markdown",
      "metadata": {
        "id": "ScG3bcOpv_bO"
      },
      "source": [
        "### TASK 6: What is the data type of the variable \"x\"? what is the data type of variable y?"
      ]
    },
    {
      "cell_type": "code",
      "execution_count": null,
      "metadata": {
        "id": "UhGw-AKOv_bP"
      },
      "outputs": [],
      "source": [
        "#Task 7:"
      ]
    },
    {
      "cell_type": "code",
      "execution_count": null,
      "metadata": {
        "id": "A6rZjYH4v_bP"
      },
      "outputs": [],
      "source": [
        "# Train a linear regression model using stats.linregress\n",
        "slope, intercept, r_value, _, _ = stats.linregress(x, y)\n",
        "\n",
        "print(\"slope:\", slope,\n",
        "      \"\\nintercept:\", intercept,\n",
        "      \"\\nr squared:\", r_value**2)"
      ]
    },
    {
      "cell_type": "markdown",
      "metadata": {
        "id": "h1WBY6Z9v_bP"
      },
      "source": [
        "### TASK 7: Name three other model options that are available through the scipi stats library in Python."
      ]
    },
    {
      "cell_type": "code",
      "execution_count": null,
      "metadata": {
        "id": "7Rvqjlw_v_bP"
      },
      "outputs": [],
      "source": [
        "#Task 8:"
      ]
    },
    {
      "cell_type": "markdown",
      "metadata": {
        "id": "fZaLq13Mv_bP"
      },
      "source": [
        "### Translating the Output of the Linear Regression Model\n",
        "#### Intercept 2.98:\n",
        "Here our intercept is close to 3. This means that if the lidar derived height were 0, the estimated ground truth height would be close to 3, which may suggest some systematic offset between the lidar and ground measurements of height. But, we should be careful with this interpretation, because we did not have any lidar data with zero height measurements. Any conclusions we draw about such observations are extrapolations beyond the range of data that were observed.\n",
        "\n",
        "#### Slope of .76:\n",
        "The slope is positive and while it’s not 1, it’s also not that far from 1 at .76. This is not terrible. This slope suggests that for a one meter increase in lidar derived height, we expect a 76 cm increase in ground truth height. This actually could make some sense if you think about how difficult it can be to measure tall trees manually. But how hard it might be for lidar systems to reflect off of shorter and potentially smaller trees\n",
        "\n",
        "#### R squared of .69:\n",
        "This tells us that the linear regression model explains 69% of the variablility found in the data.\n",
        "\n",
        "Overall with results like these we can conclude that lidar does a reasonable job of estimating tree height."
      ]
    },
    {
      "cell_type": "markdown",
      "metadata": {
        "id": "mQOP-5bfv_bP"
      },
      "source": [
        "#### Plot Regression Fits Compared to 1:1\n",
        "Look at a plot of the data below. You have both the 1:1 line and the regression model fit. Are they different? Think about what this output tells you."
      ]
    },
    {
      "cell_type": "code",
      "execution_count": null,
      "metadata": {
        "id": "9T_F8IWxv_bP"
      },
      "outputs": [],
      "source": [
        "# Create scatter plot\n",
        "fig, ax = plt.subplots(figsize=(10, 10))\n",
        "\n",
        "m = slope.astype(float)\n",
        "\n",
        "SJER_final_height_df.plot('lidar_max', 'insitu_maxht',\n",
        "                          kind='scatter', color=\"purple\",\n",
        "                          s=60, ax=ax, label=\"Data\")\n",
        "\n",
        "# Add a diagonal line\n",
        "ax.set(xlim=[0, 30], ylim=[0, 30])\n",
        "ax.plot((0, 1), (0, 1), 'y-', transform=ax.transAxes, label=\"1:1 line\")\n",
        "ax.plot(x, m*x + intercept, 'grey', label='regression fitted line')\n",
        "\n",
        "ax.set(xlabel=\"Lidar derived max tree height (m)\",\n",
        "       ylabel=\"Measured tree height (m)\", title=\"Lidar vs Measured Tree Height - SJER\")\n",
        "plt.legend()"
      ]
    },
    {
      "cell_type": "markdown",
      "metadata": {
        "id": "TIi23_U7v_bQ"
      },
      "source": [
        "### Good Fit, Large Intercept\n",
        "Sometimes the question you are asking is whether one variable is the same (or similar to) another variable. In this case a model that implies that there is a strong relationship between two variables may indicate that the variables do not necessarily measure the same thing. For example, a model with a strong R-squared value may have a large intercept. In this case you know there is a significant bias where your predictor might under or overestimate the variable of interest:\n",
        "\n",
        "#### Example: Lidar has a very strong fit with human measurements but the slope is very small and the intercept is very large. See below:"
      ]
    },
    {
      "cell_type": "code",
      "execution_count": null,
      "metadata": {
        "id": "-rT0Uxchv_bQ"
      },
      "outputs": [],
      "source": [
        "# Create some points with a one to one relationships\n",
        "x = np.array([1, 22, 3, 14, 16, 45, 45])\n",
        "y = np.array([item+10 for item in x])\n",
        "\n",
        "slope, intercept, r_value, p_value, std_err = stats.linregress(x, y)\n",
        "\n",
        "fig, ax = plt.subplots(figsize=(10, 10))\n",
        "\n",
        "ax.scatter(x, y, c='blue', label=\"data\")\n",
        "\n",
        "ax.plot((0, 1), (0, 1), transform=ax.transAxes,\n",
        "        ls='--', c='k', label=\"1:1 line\")\n",
        "\n",
        "ax.plot(x, intercept + slope*x, 'grey', label='regression fitted line')\n",
        "\n",
        "ax.set(xlim=[0, 50], ylim=[0, 50])\n",
        "\n",
        "ax.set(xlabel=\"Variable A\", ylabel=\"Variable B\",\n",
        "       title=\"Data Points with a Strong \\nR-squared and P-value but not a 1:1\")\n",
        "\n",
        "plt.legend(fontsize=14)\n",
        "\n",
        "print(\"slope:\", slope,\n",
        "      \"\\nintercept:\", intercept,\n",
        "      \"\\nr squared:\", r_value**2,\n",
        "      \"\\np-value:\", p_value,\n",
        "      \"\\nst_error\", std_err,\n",
        "      \"\\nRMSE\", sqrt(std_err))"
      ]
    },
    {
      "cell_type": "markdown",
      "metadata": {
        "id": "F5brj7GAv_bQ"
      },
      "source": [
        "### Similarly maybe there is a positive bias in your predictor:"
      ]
    },
    {
      "cell_type": "code",
      "execution_count": null,
      "metadata": {
        "id": "tyKM4Yrsv_bR"
      },
      "outputs": [],
      "source": [
        "# Create some points with a one to one relationships\n",
        "x = np.array([1, 22, 3, 14, 16, 45, 45])\n",
        "y = np.array([item-5 for item in x])\n",
        "\n",
        "slope, intercept, r_value, p_value, std_err = stats.linregress(x, y)\n",
        "\n",
        "\n",
        "fig, ax = plt.subplots(figsize=(10, 10))\n",
        "\n",
        "ax.scatter(x, y, c='blue', label=\"data\")\n",
        "ax.plot((0, 1), (0, 1), transform=ax.transAxes,\n",
        "        ls='--', c='k', label=\"1:1 line\")\n",
        "\n",
        "ax.plot(x, intercept + slope*x, 'grey', label='regression fitted line')\n",
        "\n",
        "ax.set(xlim=[0, 50], ylim=[0, 50])\n",
        "\n",
        "ax.set(xlabel=\"Variable A\", ylabel=\"Variable B\",\n",
        "       title=\"Data Points with a Strong \\nR-squared but There is a Positive Bias\")\n",
        "\n",
        "plt.legend()\n",
        "\n",
        "print(\"slope:\", slope,\n",
        "      \"\\nintercept:\", intercept,\n",
        "      \"\\nr squared:\", r_value**2,\n",
        "      \"\\np-value:\", p_value,\n",
        "      \"\\nst_error\", std_err,\n",
        "      \"\\nRMSE\", sqrt(std_err))"
      ]
    },
    {
      "cell_type": "markdown",
      "metadata": {
        "id": "zpJ4NH2tv_bR"
      },
      "source": [
        "Other Linear Regression Model Outputs\n",
        "The ouputs of a linear regression model help you assess how statistically useful or significant the model is as compared to a hypothesis or theory that there is no relationship between the variables. If the data have no relationship, then the slope of the line is 0. In scientific terms this translates to whether you want to trust the model or not. These outputs includes:\n",
        "\n",
        "Root Mean Squared Error (RMSE): RMSE is an overall measure of how far the y-values lie from the estimated line on average. You can think of it as on average, how far away from a 1:1 relationship are the predicted data. If lidar is predicting human measurements is it on average 1m taller, 2m shorter, etc? Technically defined, it’s defined as the square root of the variance of the residuals.\n",
        "\n",
        "P-value: The p-value can be used to see how consistent the data are with the notion that the true slope of the line is zero (that there is no relationship between the variables of interest). A threshold of 0.05 is commonly used to determine whether there is sufficient evidence to reject the hypothesis that the true slope is zero. If p < 0.05, then one typically concludes the true slope is nonzero, though this threshold is arbitrary.\n",
        "\n",
        "Note that to calculate the RMSE you take the squareroot of the standard error provided to you by Python."
      ]
    },
    {
      "cell_type": "code",
      "execution_count": null,
      "metadata": {
        "id": "HrHzuxr-v_bS"
      },
      "outputs": [],
      "source": [
        "# Create some points with a one to one relationships\n",
        "x = np.array([1, 22, 3, 14, 16, 45, 45])\n",
        "y = np.array([item-5 for item in x])\n",
        "\n",
        "slope, intercept, r_value, p_value, std_err = stats.linregress(x, y)\n",
        "\n",
        "fig, ax = plt.subplots(figsize=(10, 10))\n",
        "\n",
        "ax.scatter(x, y, c='blue', label=\"data\")\n",
        "\n",
        "ax.plot((0, 1), (0, 1), transform=ax.transAxes,\n",
        "        ls='--', c='k', label=\"1:1 line\")\n",
        "\n",
        "ax.plot(x, intercept + slope*x, 'grey', label='regression fitted line',\n",
        "        color=\"purple\")\n",
        "\n",
        "ax.set(xlim=[0, 50], ylim=[0, 50])\n",
        "\n",
        "ax.set(xlabel=\"Variable A\", ylabel=\"Variable B\",\n",
        "       title=\"Data Points with a Strong \\nR-squared but There is a Positive Bias\")\n",
        "\n",
        "plt.legend()\n",
        "\n",
        "print(\"slope:\", slope,\n",
        "      \"\\nintercept:\", intercept,\n",
        "      \"\\nr squared:\", r_value**2,\n",
        "      \"\\np-value:\", p_value,\n",
        "      \"\\nst_error\", std_err,\n",
        "      \"\\nRMSE\", sqrt(std_err))"
      ]
    },
    {
      "cell_type": "markdown",
      "metadata": {
        "id": "NzxyPZj1v_bS"
      },
      "source": [
        "### Use Seaborn To Plot Regression Fit\n",
        "Below is a plot of the same data using the seaborn package. The Seaborn package wraps around Matplotlib. It makes it easier to make nice looking plots, quickly."
      ]
    },
    {
      "cell_type": "code",
      "source": [
        "SJER_final_height_df.columns"
      ],
      "metadata": {
        "id": "p29M1qTRLWpx"
      },
      "execution_count": null,
      "outputs": []
    },
    {
      "cell_type": "code",
      "execution_count": null,
      "metadata": {
        "id": "ZT5ZC_gvv_bS"
      },
      "outputs": [],
      "source": [
        "fig, ax = plt.subplots(figsize=(10, 10))\n",
        "\n",
        "ax = sns.regplot(x='lidar_max', y='insitu_maxht', data=SJER_final_height_df, color=\"purple\", ax=ax)\n",
        "\n",
        "# Add a diagonal line\n",
        "ax.set(xlim=[5, 30], ylim=[5, 30])\n",
        "ax.plot((0, 1), (0, 1), transform=ax.transAxes, ls='--', c='k')\n",
        "\n",
        "ax.set(xlabel=\"Lidar derived max tree height (m)\",\n",
        "       ylabel=\"Measured tree height (m)\", title=\"Lidar vs Measured Tree Height - SJER\")"
      ]
    },
    {
      "cell_type": "markdown",
      "metadata": {
        "id": "N9jjo4I-v_bT"
      },
      "source": [
        "### View Difference: Lidar vs. Measured\n",
        "A non statistical approach to understand the relationship between these two variables is a plain old difference plot. Below you can identify which ground plots have the largest difference and which ones have the smallest. If you were working with these data, you might want to explore each individual plot to see if you can figure out why this relationship works better in some plots compared to others.\n",
        "\n",
        "Below is the code for the challenege opportunity in the last lesson.\n",
        "\n",
        "#### Can you think of any things that could occur in particular plots that may through off your data?"
      ]
    },
    {
      "cell_type": "code",
      "execution_count": null,
      "metadata": {
        "id": "x8OqlPW2v_bT"
      },
      "outputs": [],
      "source": [
        "# Calculate difference and add the plot id to each xaxis label\n",
        "SJER_final_height[\"lidar_measured\"] = SJER_final_height[\"lidar_max\"] - \\\n",
        "    SJER_final_height[\"insitu_maxht\"]\n",
        "\n",
        "fig, ax = plt.subplots(figsize=(12, 7))\n",
        "\n",
        "ax.bar(SJER_final_height['plotid'], SJER_final_height['lidar_measured'],\n",
        "       color=\"purple\")\n",
        "\n",
        "ax.set(xlabel='Plot ID', ylabel='(Lidar - Measured) Height Difference (m)',\n",
        "       title='Difference Between lidar and Measured Tree Height')\n",
        "\n",
        "plt.setp(ax.get_xticklabels(), rotation=45, horizontalalignment='right')\n",
        "plt.show()"
      ]
    }
  ],
  "metadata": {
    "kernelspec": {
      "display_name": "geostats_env",
      "language": "python",
      "name": "geostats_env"
    },
    "language_info": {
      "codemirror_mode": {
        "name": "ipython",
        "version": 3
      },
      "file_extension": ".py",
      "mimetype": "text/x-python",
      "name": "python",
      "nbconvert_exporter": "python",
      "pygments_lexer": "ipython3",
      "version": "3.7.11"
    },
    "colab": {
      "provenance": [],
      "include_colab_link": true
    }
  },
  "nbformat": 4,
  "nbformat_minor": 0
}