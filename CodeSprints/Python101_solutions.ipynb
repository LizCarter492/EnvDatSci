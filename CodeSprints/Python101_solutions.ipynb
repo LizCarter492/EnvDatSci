{
<<<<<<< HEAD
 "cells": [
  {
   "cell_type": "markdown",
   "metadata": {
    "colab_type": "text",
    "id": "view-in-github"
   },
   "source": [
    "<a href=\"https://colab.research.google.com/github/BedrosKeushkerian/EnvDatSci/blob/main/CodeSprints/Python101.ipynb\" target=\"_parent\"><img src=\"https://colab.research.google.com/assets/colab-badge.svg\" alt=\"Open In Colab\"/></a>"
   ]
=======
  "cells": [
    {
      "cell_type": "markdown",
      "metadata": {
        "id": "view-in-github",
        "colab_type": "text"
      },
      "source": [
        "<a href=\"https://colab.research.google.com/github/BedrosKeushkerian/EnvDatSci/blob/main/CodeSprints/Python101.ipynb\" target=\"_parent\"><img src=\"https://colab.research.google.com/assets/colab-badge.svg\" alt=\"Open In Colab\"/></a>"
      ]
    },
    {
      "cell_type": "markdown",
      "metadata": {
        "id": "wJOJM85L2YBJ"
      },
      "source": [
        "# Welcome to jupyter notebooks!\n",
        "Congratulations, you have opened a Jupyter Notebook! The hardest step is always the first one.\n",
        "\n",
        "Learning objectives:\n",
        "1. Get comfortable with a jupyter notebook IDE\n",
        "2. Execute code in Google Colab\n",
        "3. Understand data types in python\n",
        "4. Manipulate datasets in Python\n",
        "\n"
      ]
    },
    {
      "cell_type": "markdown",
      "metadata": {
        "id": "_VfP8HKX2YBL"
      },
      "source": [
        "[![Open In Colab](https://colab.research.google.com/assets/colab-badge.svg)](https://colab.research.google.com/github/LizCarter492/EnvDatSci22/blob/master/CodeSprints/Python101.ipynb)"
      ]
    },
    {
      "cell_type": "markdown",
      "metadata": {
        "id": "CjoP2y_d2YBM"
      },
      "source": [
        "## What is a Jupyter Notebook?\n",
        "From www.jupyter.org:\n",
        ">Jupyter Notebooks are an open document format based on JSON. They contain a complete record of the user's sessions and include code, narrative text, equations, and rich output.\n",
        "\n",
        "On the top menu, go to \"Cell\" > \"Cell Type\"\n",
        "\n",
        "The first two options, Code, and Markdown, are our primary interests in this class.\n",
        "\n",
        "**Code cells (below)** allow you to run and execute Python code. Python commands will bring data from storage or the internet into RAM, allow you to manipulate the data, and allow you to print outputs, results, or figures directly to the screen of this notebook\n",
        "\n",
        "**Markdown cells (like this one)** allow you to write and format text descriptions, link to websites, upload and display videos and images, you name it. To learn more about Markdown formatting:\n",
        "1. Double click on this text. This opens the Markdown cell, allowing you to edit it.\n",
        "2. [Click on this link to learn about how to format text in markdown.](https://github.com/adam-p/markdown-here/wiki/Markdown-Cheatsheet)"
      ]
    },
    {
      "cell_type": "markdown",
      "metadata": {
        "id": "jB_tTbFp2YBN"
      },
      "source": [
        "## What is a variable?\n",
        "Your computer computes by taking data stored in files (either on your hard drive or on the internet) and reading them into random access memory (RAM), where the data can interact directly with your computers processors.\n",
        "\n",
        "In programming languages like R and Python, we know where to find data objects in RAM based on the names we give them. These are called variables.\n",
        "\n",
        "In the cell below, the variables are the words \"name,\" \"age\", \"address\", and \"story\".\n",
        "\n",
        "After the equal sign, we assign a certain data value to each of these variable names.\n",
        "\n",
        "## TASK 1: In the code cell below, change the variable names to make the story reflect who you are.\n"
      ]
    },
    {
      "cell_type": "code",
      "execution_count": null,
      "metadata": {
        "id": "dDbAs3T32YBO",
        "outputId": "1191e10f-3808-470f-ec55-51e556b49235",
        "colab": {
          "base_uri": "https://localhost:8080/"
        }
      },
      "outputs": [
        {
          "output_type": "stream",
          "name": "stdout",
          "text": [
            "My name is Bedros. I am 30 years old. \n",
            "I am a data scientist! \n",
            "It's kind of like being a wizard. \n",
            "To see if I can tell you something about your environmental past or future, visit me at 158 Link Hall.\n"
          ]
        }
      ],
      "source": [
        "name = \"Bedros\" #type your name before the pound sign, make sure you put it in quotes!\n",
        "age = \"30\" #type your age before the pound sign, make sure you put it in quotes! More on this later.\n",
        "address = \"158 Link Hall\" #type your address before the pound sign, make sure you put it in quotes!\n",
        "story = \"My name is \" + name + \". I am \" + age + \" years old. \\nI am a data scientist! \\nIt's kind of like being a wizard. \\nTo see if I can tell you something about your environmental past or future, visit me at \" + address + \".\"\n",
        "print(story)\n"
      ]
    },
    {
      "cell_type": "markdown",
      "metadata": {
        "id": "BoE_OPTr2YBQ"
      },
      "source": [
        "## Variable types:\n",
        "Variables are names in your python environment where you store values. A variable can be a number, a character string, or a more complex data structure (such as a pandas spatial dataframe...more later).\n",
        "\n",
        "At the most basic level, variables representing single values can either be numbers or strings.\n",
        "\n",
        "Numeric values can be stored as intergers, floating point numbers, or complex numbers.\n",
        "\n",
        "Strings represent strings of characters, like writing.\n",
        "\n",
        "We find out what type of variable we're dealing with by using the type() function.\n",
        "\n",
        "More info here: https://mindmajix.com/python-variable-types"
      ]
    },
    {
      "cell_type": "code",
      "execution_count": null,
      "metadata": {
        "id": "NuHC8qRs2YBR"
      },
      "outputs": [],
      "source": [
        "from IPython.display import Image\n",
        "Image(\"https://cdn.mindmajix.com/blog/images/Screenshot_12-460x385.png\")"
      ]
    },
    {
      "cell_type": "code",
      "execution_count": null,
      "metadata": {
        "id": "DQ9O8ML12YBS",
        "outputId": "1e46c404-3f16-452b-c4d5-8db1ffbb9cc9",
        "colab": {
          "base_uri": "https://localhost:8080/"
        }
      },
      "outputs": [
        {
          "output_type": "stream",
          "name": "stdout",
          "text": [
            "<class 'str'>\n",
            "<class 'str'>\n",
            "<class 'str'>\n",
            "<class 'str'>\n"
          ]
        }
      ],
      "source": [
        "print(type(name))\n",
        "print(type(age))\n",
        "print(type(address))\n",
        "print(type(story))"
      ]
    },
    {
      "cell_type": "code",
      "execution_count": null,
      "metadata": {
        "id": "trgnWajj2YBT",
        "outputId": "e1361f7b-74ac-4e38-beac-4d8390d2fad6",
        "colab": {
          "base_uri": "https://localhost:8080/"
        }
      },
      "outputs": [
        {
          "output_type": "stream",
          "name": "stdout",
          "text": [
            "30.0\n",
            "<class 'float'>\n"
          ]
        }
      ],
      "source": [
        "#We can convert numeric strings to numeric formats using either float() or int()\n",
        "age = float(age)\n",
        "print(age)\n",
        "print(type(age))\n"
      ]
    },
    {
      "cell_type": "code",
      "execution_count": null,
      "metadata": {
        "id": "fZbHn4Nq2YBU",
        "outputId": "f242faf6-bba0-4da4-c025-0c5b66b1e83a",
        "colab": {
          "base_uri": "https://localhost:8080/"
        }
      },
      "outputs": [
        {
          "output_type": "stream",
          "name": "stdout",
          "text": [
            "30\n",
            "<class 'int'>\n"
          ]
        }
      ],
      "source": [
        "age=int(age)\n",
        "print(age)\n",
        "print(type(age))\n"
      ]
    },
    {
      "cell_type": "code",
      "execution_count": null,
      "metadata": {
        "id": "c250Qu6C2YBV",
        "outputId": "f01991bf-b7cd-47ab-8800-a444582f611e",
        "colab": {
          "base_uri": "https://localhost:8080/",
          "height": 193
        }
      },
      "outputs": [
        {
          "output_type": "error",
          "ename": "TypeError",
          "evalue": "can only concatenate str (not \"int\") to str",
          "traceback": [
            "\u001b[0;31m---------------------------------------------------------------------------\u001b[0m",
            "\u001b[0;31mTypeError\u001b[0m                                 Traceback (most recent call last)",
            "\u001b[0;32m<ipython-input-5-231d074fea70>\u001b[0m in \u001b[0;36m<cell line: 3>\u001b[0;34m()\u001b[0m\n\u001b[1;32m      1\u001b[0m \u001b[0;31m#But we cannot input a numeric value into a string:\u001b[0m\u001b[0;34m\u001b[0m\u001b[0;34m\u001b[0m\u001b[0m\n\u001b[1;32m      2\u001b[0m \u001b[0;31m#Copy and paste this code into the code cell under task 2. Edit it to complete task 2.\u001b[0m\u001b[0;34m\u001b[0m\u001b[0;34m\u001b[0m\u001b[0m\n\u001b[0;32m----> 3\u001b[0;31m \u001b[0mstory\u001b[0m \u001b[0;34m=\u001b[0m \u001b[0;34m\"My name is \"\u001b[0m \u001b[0;34m+\u001b[0m \u001b[0mname\u001b[0m \u001b[0;34m+\u001b[0m \u001b[0;34m\". I am \"\u001b[0m \u001b[0;34m+\u001b[0m \u001b[0mage\u001b[0m \u001b[0;34m+\u001b[0m \u001b[0;34m\" years old. Find me at \"\u001b[0m \u001b[0;34m+\u001b[0m \u001b[0maddress\u001b[0m \u001b[0;34m+\u001b[0m \u001b[0;34m\".\"\u001b[0m\u001b[0;34m\u001b[0m\u001b[0;34m\u001b[0m\u001b[0m\n\u001b[0m\u001b[1;32m      4\u001b[0m \u001b[0mprint\u001b[0m\u001b[0;34m(\u001b[0m\u001b[0mstory\u001b[0m\u001b[0;34m)\u001b[0m\u001b[0;34m\u001b[0m\u001b[0;34m\u001b[0m\u001b[0m\n",
            "\u001b[0;31mTypeError\u001b[0m: can only concatenate str (not \"int\") to str"
          ]
        }
      ],
      "source": [
        "#But we cannot input a numeric value into a string:\n",
        "#Copy and paste this code into the code cell under task 2. Edit it to complete task 2.\n",
        "story = \"My name is \" + name + \". I am \" + age + \" years old. Find me at \" + address + \".\"\n",
        "print(story)\n"
      ]
    },
    {
      "cell_type": "markdown",
      "metadata": {
        "id": "_X1fuTkT2YBW"
      },
      "source": [
        "## Error messages\n",
        "Just now, I asked you to do something that breaks the rules of how the software functions. This is called an error message.\n",
        "\n",
        "When you see an error message, **DO NOT PANIC!!** I know they look scary, but error messages are your friend. Error messages are written to give you very specific examples of how to fix your code. Select the text in the error message, copy it, and paste it into a google search. See if the internet can help you fix the issue.\n",
        "\n",
        "## TASK 2:\n",
        "Edit the code in the above cell so that it will print your story without adding any additional lines of code."
      ]
    },
    {
      "cell_type": "code",
      "execution_count": null,
      "metadata": {
        "id": "q7WIdjut2YBX",
        "outputId": "cdb1200b-14d5-4ace-86f3-d317cb19d6ed",
        "colab": {
          "base_uri": "https://localhost:8080/"
        }
      },
      "outputs": [
        {
          "output_type": "stream",
          "name": "stdout",
          "text": [
            "My name is Bedros. I am 30 years old. \n",
            "I am a data scientist! \n",
            "It's kind of like being a wizard. \n",
            "To see if I can tell you something about your environmental past or future, visit me at 158 Link Hall.\n"
          ]
        }
      ],
      "source": [
<<<<<<< HEAD:CodeSprints/Python101.ipynb
        "#Type story herestory = \"My name is \" + name + \". I am \" + str(age) + \" years old. Find me at \" + address + \".\"\n",
        "print(story)\n",
        "\n"
=======
        "#Type story here\n",
        "\n",
        "story = \"My name is \" + name + \". I am \" + str(age) + \" years old. Find me at \" + address + \".\"\n",
        "print(story)"
>>>>>>> upstream/main:CodeSprints/Python101_solutions.ipynb
      ]
    },
    {
      "cell_type": "markdown",
      "metadata": {
        "id": "pcpAZ3a02YBX"
      },
      "source": [
        "## Mathematical operators in python:\n",
        "Python is a really powerful calculator. We use python commands and functions to process and analyse many different types of data. Below is a summary of common mathematical operators in Python.\n",
        "\n",
        "**Arithmatic operators in python:** are used for arithmatic.\n",
        "![PythonOperators.png](data:image/png;base64,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)\n",
        "\n",
        "**Relational operators in python:** are used for quantitative value comparisons.\n",
        "![relational-operator-in-python.png](data:image/png;base64,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)\n",
        "\n",
        "**Bitwise operators in python:** are used for binary value comparisons.\n",
        "\n",
        "![bitwise-opeartor-in-python.png](data:image/png;base64,iVBORw0KGgoAAAANSUhEUgAAAg0AAADNCAIAAAC0DdReAAAAAXNSR0IArs4c6QAAAARnQU1BAACxjwv8YQUAAAAJcEhZcwAADsMAAA7DAcdvqGQAADRASURBVHhe7Z3Pq2VZltcDutCCapvKIimjMISSQEwQIdEQEoS2cGDS9CBH9mucJBIiHZaQaIGJMbAaCtGwB5EDS9+kKEGacOREYtADKSRxKjFx0pD0WIg/QSg/93z3W7He2uece96N9yLuvfv74XBj/1h77bX32Wutc+7Lqnvv18YYY8wyLU9897vfffTo0Y/MWfPgwYOPPvqoVYwxZpnvf//7P/vZz5QgWp64d+/ev/zH/+AX/+af+zrj66/9lQef/b1PSqMvX7589deHH/zWs2fPWoJo/9y79z/+87/7f//npa8zvv7u3/4b//qf/sPS6MuXL1/99cO/9Bd/+ctftgTR/nGeGOBynvDly9fGy3li0Mt5wpcvXxsv54lBL+cJX758bbycJwa9nCd8+fK18XKeGPRynvDly9fGy3li0Mt5wpcvXxsv54lBL+cJX4dd//Zf/KMPfus3/+//+q+l3dcZXyeWJ/7nf/n3f/D7v8sxxUj4vd/57f/+n/6wyNz19cd/9GVpOcXLeeIUL6Izx+9v/fW/yuHHEUpvXH//7/xNOQiUrre/nCcGvE4pT/yrf3KBbRzTP/2TX1DlpP7Hn/4zjuyKw9zF9fAv/6C0nOLlPHG6Fy4wpYB7coRy8SylXryjdPnyddh1MnlCvtEffd4naH9nqYKJmK40nuLlPHG6F76w8krBy4ROKQmjdPnyddh1GnmC5yas4tWhtOuSz+AViJFIeN6nzMsH8lw4VUjyCiIXgt/7nd/Wu7O+y8K7/vd/+w+M5aKd9CO1WVIvNIF0MikCaqGAErX/8R99iU5mp4AZdKn9SC7nidO9OFRcHFSOXHml0GGml66cJzjPkuczvjjlrMbR5bTr6Oo1HTGGxyhOfgyRZ6kavhOehXy4AFdoyMy+Bvk65us08gQHF6uWQq28guOrQyxJnCFivRyDo0xVbyScb84651tljjJd6KGXAstnFFX1SjllLs2lMhcnHj3SSZmxVDFDmUaW0MtwzXU8l/PE6V4cQi5OdT6ZuvS4o1PK0VUjkpxMzmdEc3Vx7DmfNNIlF6CRsoYr3yCpXKLoH1VppqqBCHPg48yrV1V5n6yNLl+ndZ1GntDB5bO061JvBH3KHFB14QMEbo4yZeI1p1ntXMooOv2MlYwuGqOLCzeIKK+5VOZCobxLlwaGM1DOMx7V5TxxuheHUL7AoeV4c8jVzuHXQdUppap2ZIj+KiMcRzQecbjkDioXJ1I1tBUXYMbsAlTDWShkt6KaB/o6oes880Scaa54/NExLehhhy4NLxe9GhW9xUkol0yAz4QAhSWb3/vlPHG6F4dK50oP6XHGOIo6+TqlKssjCjl8I8BAtUcLZQ2Paswi5SpzFd+Rv6gcrhddeV5fJ3Sd0vdO+TjmSwdXL+DliEcvBYbHWS8XXUU5GjjTHHQKubc4CeV4e9CFZAhQWJrxvV/OE6d7cajiXMUrBW8M5ZTKC+QRai+XhvBkQ77JB1tDNDyqMWOW5MreoWr08nqNbRqYy75O7jqxv2PHK3a+dDT1NVE54lzxQi2XiHYutEmynHUp0atG6S1OQrnoRBI7Vab3aB3DeeJ0Lw5VnKt4pYiXCQnQqKoOc3yJpIsqh5+DGm/DGqKyhoQ2VWPGLMlVfIdy7uUJT28VThInfZ1GnuDS6eyPmg5x/DWvHHEuHrjkDHopiejPxSglnnLWVzyhdMkH8nSkjfA9uo7WN5wnTvfiUOVzpVeK/gDHsaSXYxnPWPpLdfEUDVG5dKkaM2ZJruI7lLOe3OXrdK+TyRNc+haVY6o/yum452ciLp1pvEIyElAZP8Gj6OXs0q7P3B5/uM4ZhU96UUgjetTFLAhT1dt0TEdvTEcXkowN/zyqy3nidC+eTvK3nXEmVeW8KVjTngU4mTwYcelM6nzKdxTQqfKewSV5eQcXLVTjUUzPRnIW+Q6a45DjC/SqigbKaNZFFc0h6euErlPKE1wcaI4p5xIjgXK4RwioXTKcTh1oXURwnXJ6ww12iq6QNo6y3IZPhuAhyCtt0IUnRJUL/RIGlCtJyIxAkkd1OU+c4lXOVRxXzuSsAKidAK2HoewRHGxaaGdUJAMFd4FwqcZRh96YVpqgykQo17wBGjS7rxO6TixP7L10WPks7b7K5Tzh664vnqWKJypz5BZfJ3E5Twx6OU/4utNLnlgauXjnLi2+jv86tzyh1+T4UsjX0uU84etOL32RRVag8Kd/8gsuMscf/P7v5u+BfZ3KdVZ5In956q9B1y/nCV93fZEh9OdAeDj9Z4f6652vk7vO7X3C18bLecKXL18bL+eJQS/nCV++fG28nCcGvZwnfPnytfGazxP3P/yADl9nfH37z/+57/6F75RGX758+eqvb/3Gb/z4xz9uCaL9c+/el19+SfYwZ8xHH3302WeftYoxxizz4YcfPnv2rCWI9s+9e7/61a9UNufKj370o5/+9KetYowxy/zwhz8kW6jsPDEQzhPGmI04TwyK84QxZiPOE4PiPGGM2YjzxKA4TxhjNuI8MSjOE8aYjThPDIrzhDFmI84Tg3IreeL169cffPBB/IfVB/P1119z6vhsdWPMMTF6nvjmm29Yb9BaB2A9T7TtuM7Dhw+fPHnCjjWhuTxB7wHh/o7yBNb2OrUWePToEfa31olPP/209d27l8sZNuHi4uLFixdtjDEDMHSeUHhSmONTUUBdZ8/e9wlCIRtCuFSVBKAtIjHkVFGYDc3vBT0BYE+rJ1gaq5jtffXqFe18qlo2gbzy8uVLpZA+zRhzrgydJwgTLDaeDSk7TwQEwRwixeXlJY2zwRcUVY8kT2CkksFsViPnca/pffr0aWu6gsZWWtgE0Mnp2405S4bOE3owlLfr8TNyxtmz5e8TfSjUG5gaiaFsF2W9kPGgTdcs9LbShBKJygxn50k/RO1IMKhViOeZPeckplBw53P9TmGbFCI8m9WwGW3oR6CooqWVJqiWTQDpp+tIkqIxd4rfJxq4fWsdg8PyBCGVxouLC8rEd+UG5QlQXFboJJIilquoohpP9wq1VF+9eqVvtCRJNb7aIn+EAUxNWKedgbpxKzEahYr+ZdIAAYbPhnuqrTRBtc8TwIsIXbNJyJgzY+g8ofAk+pb1J9ZT54A8QVYggkN8fQ/IsGkqE22pRswlOlMl1quqXpSoSiF2OA/kM+fskInkAcR35JWueuglo6gszX00V56goLSUF4W8CoLqbJ7QUZntMubMGDRP6IEUV9fzJkQoITBR7Z9Az4yNeaJAPI1AL2hcyhPA9kbQVwKIwEqUJ6CrnAfqGR+xrEcChZxOMtiTc7xuccwlIk8AGULaJENZ7YJq2JxxnjDjMGKeUOBQdNMzr1ALCeO83yTEYe8T2rr8eB77BjncCyVdtSCGBqrsOWQlZSDxGmFyEtPpMV8C6l2HsQxEuBBGCqq9nfpPmCi01gmqs8lA3zv1fwY35vwYLk9EYigvEIKHyhJQzpXD/j4BbBHt8VZBOXashHtB1GaraVT2VZXwmr+8mh1IyOadA3lumQTKq0ypCowpd1CZAyi0pi5PQPynXHy2pgmq/SagSvtQlBhzlgyXJxRxBAFIjUSN1pSCQn7gPT/25gk9WfchUv+N0PY8Uf7eS5WQXdTmgXyqIEI/o/S8r3buXckHoPCd84HQ/c3ylPMsQkkCWn15EyS59AcSY86MEb930pOgiFRBLGhNV/Rx5JzYmyf0mpVDJG8A+k+Y4q/E+mY/wqWqhGDCa+yeXuDir9mS0btFoGd5yTAQ/RrOJ+0qS4ZsQaaBPh9QJXznXBLo+y7GhlXYjBKVM1pgq8xtAqp0VJDsJzLmLBn679gZIogimoiAcq6s54m2Cx1EYaUBZBTERURSbWwJwSWk5rALetgXesxXIAaSQc4opArleATy11YiRkFrmsj6IYtBE7oCOyMLNonrYABrPPvjYUxm0Dxhtvx9whhjwHliUJwnjDEbcZ4YFOcJY8xGnCcGxXnCGLMR54lBcZ4wxmzEeWJQnCeMMRtxnhgU5wljzEbm84QxxhgTPH78uCWI9s+9e8+fP+eVwpwxH3/88eeff94qxhizzP3797/66quWINo//t5pAPy9kzFmI/77xKA4TxhjNuI8MSjOE8aYjThPDIrzhDFmI84Tg+I8YYzZiPPEoDhPGGM24jwxKM4TxpiNOE8Myq3kidfTT08/635/9KboJ4/84z/GHCfOEzsePnz49sHutFjPE5yBHv2UW/xSLPR5gt4Dwv2t5wnM0G+jyvJHjx7FD69C+YU7kX+qzxiTcZ7Y4TzRU34amsir8EpiyKmicAy/CYrlGHlxcRG/jfry5Utucf7pbP2+KcuRtaxIv9ga6zXGBM4TO5wneoikfdzkqZxGQmqrX0ep5f3mCb2akCRa/QoyAckjpwpeOIq1ev9473nOmGPDeWKH88QsnISSJxSF1UjAJTFQ1tbxzE7XLPS20oQCscoMJ4KTfrgFEaD1QkAvYT3nJL0W0M4nMq31OhKIN4mMEkPcaL0e5ayAMbTkb6iMMeA8scN5YhZOQskTemPQ0zrxXbkhtk5ZRJGXLIJYrioKx3dWtLDtVInpOWRTja+2CNlhAFOTNmhnoL4jyiFeMJZ2hrf6dWQeSlQteQK1Sk6zOcaYkXGe2OE8MQsnIecJsgKRFHIkRWY2TwAxnWo8nqsXJapSiHeCPJBPbofaIWSYN+cY5Psvl6Sn5LZAvaBqzhMYoz9XLH2lZszIOE/scJ6YZRdTr0OwjkAvaFzKE0DIjqBPO+UI4kR5wr3KeaDeMxDLeiRQyOlESOxGeSIgT5SlGWOE88QO54lZOAk55hJGqdKYH7qpruQJfU+lFsTQQJXXAshKykBSBcLkJKbTu4sE1LuCvndakpSS/nsnRu3ekq6/JxljAueJHc4Ts3AS+mdz9or2ePSmvJIngPhLSqBR3yCp+vTp0xyUZweSLXjnQJ6kIoHyvD/7+C/ziiqhxBDfg0WeoCz9ThXGzOI8scN5okd/A+jzhL7H354n9F8ZxdsDVcJxUZsH8qmCCP2MYur4qorkMXvLGMuQ3mwGSkOrd/9drF59lJbUYowRzhM7nCd6FDdzwOVZW/8JU0RbWqjG35NVZScJyhF/Cbs0xlO8ZOKv04LekGEg+jVcQV9lyRDHie/ALYucUZDlWKWXA8RoQT6nGQpUiyXKHExB45JyYwbEeWKH80SBMzALsVVpABkFcRHphPcGqgRcVUX+kzWUh30USglQRi0CqnJfchwnVdBCOwLKAUvo7x8SBszOevKMonVc2S9akzHD4zyxw3nCGGOWcJ7Y4TxhjDFLOE/scJ4wxpglnCd2OE8YY8wSzhOD4jxhjNmI88SgOE8YYzbiPDEozhPGmI3M5wljjDEmePz4cUsQ7Z97954/f84rhTljPv74488//7xVjDFmmfv373/11VctQbR//L3TAPh7J2PMRvz3iUFxnjDGbMR5YlCcJ4wxG3GeGBTnCWPMRpwnBsV5whizEeeJQXGeMMZsxHliUJwnjDEbcZ7Y4f8fwMN4Pf2Y6NtvXf7duuPh1atXT548YYGtfhCfTrTKiXCwwbd1HtCAHv+k4PHgPLH7mUzOJatu9TFYzxPsRg/ZlLiZfz66jwv0HhDujzZP6HdeW/0g7ihPcGhlG3ALuC/5B/7UnkEG+S07jJ7yc4S6Oz35xw1Ffx7yzwhu57byBDvfbL1C7fL3QI3AjJeXl/pBXODAsxXZDLVntm/sSeM8sXuZILpxdKA1DcDe9wk8nJMQMU5bJMfIqaJAwDonn9GSW+U4IGxxU7gL3CCFMG6Hftk7B+Vy+16+fMkQWvbeHVTN/qasfhE2fCSSKFFVLbPgXK30nmDh2NDbqQ0hK0QaYEVIIkZXtGir84YcvLEnzeh5gnOPA1DA2Vj4SgQ8M/bmCfwn+4PAr2jUjvXIhZwn7hTuCCb1obykiv72lQC3xJIAAZHhkSeEUkVMWlBqaZX3B1uhVBGbRgvLzHtIC+EeMQqt6QoyR04VB2/sSTN6nmCxEdc41ksR8PzY8veJ/vSzV9GIw+AhlBU7FEdmobeVJrThKjOc3Ez6wUXjRqBWz2i4aL4jTCGH53MpNkEvxiy7ySaYRdEfIuoRBeJrHGaMYBF5QguH2JBSRUNMGo+uWII2ycSkoHlDp6pMirBaMKYPWKCQRG+rJxS/2LcYSDXMA02HQKvPoc1pletoeOnVosL+fB6Ut3oQiIULhPNWsJOMzXa+5XkAdKIBOGzYmV8ahHaec9jqCSTpyjtZqls29tQZOk9wKPP9HuqV4rA8keMUGyUXUlwAOQyflPFGRd6ooopqbC8tuDdVfBgNISmXlhh+GwYwNe5NOwPl1ZIvLIlpioiwTB3DNaNihFYUwUijVJbBYU+pokGhB7UKGQhQzjKyhyCoKjBEJiGM2bJBGmJURls6G86AIfTKDKCclZQdmAUL4wYVsIrhca+FViR7GFjOQ949etmKXGWNLJmFq0VboU3TMtX+luch0NFlCMKUW+sVTEEvc7X6deiCMJXyTTf21Bk3T+jcl7PF7ec0t8pZc0CewJNxJ8juhEzEhbKl+DDVCGrqjShGIdw1D+Qz34KQYV4FC8BjkZ/1zBUxRRPmpRBGAgK0tMqkIYbkSAfsRt6QXEUs5s1hKMtgD8rzXJQ1il3K7XoY78MWqmjPxmfUG7eDsqZmCi2k3LueMLVH9yiUsxZspiXHesgyZfcUqcMA9cZYlhwbmAe+5XnIaFdn10g7tEqHemPbKd90Y08d/x17UDbmiQL+EIFe0BhxQaEkRzHcKZxcDh9eildHjMgDaZRY1iOBQg4fYl0MzQQ1WiJ1CVpiCYUcsACrwn7IVZbDRDlDiCwDUqgAhz2RG5ChvTCrjfa8Mxn1xlomHW8gSsaGz8KdLTuTmd1b9rPERxrDgLJ7zJ7TJHNRlTBdOcrngXQdfB4K7CczItlvrDS0Sod6wwBVg70bewY4TwzKYe8TikT5yZdqxAV5b/ZnHDJaEEMDVaIkZCVlIF6HMC7NdApDElDvCnvFZEBeFNASSyjkgAUMzGNLlcUSqiCn0iLDwlGotaM8lozMkg0ZgumKtSihN2anrKmZLiZdAQHMa5UO7W1MzT3SemnMYTfLUKCqsmAKbitjgTxBhEUD7WjISspAhGk54Dxk0M/sqFKqKOlNjXE7CnQBY6N6o409A5wnBuWwv0+AQkMORhEX5L3F2fBAHIlGBQJVCRDZUWcH4paEReQJXhLI8RdKFdbFUMhy9G1J2AxU88MsRMwqAYvheUNKVWhITNrLKLjImNY0ifFs3ioTCJQNAQxjbFEokGevoNWv3z4KVFcimna7VebQ3uZ9A6U9YLhaskzZPeCm08Iq6GJsVMuK+oEgC290HgKmiLVrUvSEzaCbUlYnNFfeHKrbN/Y8cJ4YlL15Ai/K/hDoq5vwScrhXfKoEt30pXA4ElVctKjNA/lUQYR+RuWvwgkWs169JKYoo3aZlEN5NhsZBFRmLF0qA5I5mlOOhWRjaIz2XBaKU4yNbATKXrkFG2IVGbRlawOZGotiLNWYmioz0hJLKzB1nr0HzQwve65ZIEzNMmX3BGZAmEGZJ49iVR44HYfDzwOwrv45AD0Mb/VpISiEUBiwh7SjX1UtefvGngfOE4OyN0/Il3KMI8Dhb9nBFPLCCVXFXXGe8G0cjMb44lsyJSQpSkqGgejXcD5pV1kyeCwOCQSX3qVhVgzQGZNSlUyeRUMwHkmMlKTWG1U9dTIFQRNhJKUEhRSkn/UyqWIW7ZRlw6SgodCTGyWJcroYq8/Wdx0kNS/TSQPmybC8q5RpQTJmwTBG0ciiYkUBjdmenv6Jm01AP41shVp0c+M86F6wP7RHnJVhYYBkolfkbWc4s+Q7pfKW84BaDEYs0qdAkkZgopia6dDGXCFMQXcqrIWbbux54DwxKOt5YudDc+AeOJ48RE4rIp0omkTgECUGhbCQJwvKqEVAVZw/xz5CQwTTFYfsxUKhBKIKCjpEBA1hgaE5iyk+EhEQoEoXK+KT9UoD7QoWilyTgmvbqBbBdFKYQbniIxr63gLbEuYhjxkR70DtQWhjaTIyNwJrYepW6cg3uoANcYP684BabUu+iWWufupYF6ATouWm50GjBHrUSKE1XRFdGMO26BYDyqnSqF5Qe7B3Y88G54lB2fL3CWOMAeeJQXGeMMZsxHliUJwnjDEbcZ4YFOcJY8xGnCcGxXnCGLMR54lBcZ4wxmxkPk+8ePHiz8xZ88knn3zxxRetYowxyzx48ODy6n8C9SZPGGOMMcHjx49bgmj/+H1iAPw+YYzZyPz7hP8+cfb47xPGmI3479iD4jxhjNmI88SgOE8YYzbiPDEozhPGmI04TwyK84QxZiPOE4PiPGGM2YjzxKA4TxhjNuI8MSi3kideT7/j9vY/zKKfjomfi3kbbsukt+fTiVa5bS4vL2d/mWco2IEnT55wu1v9OODW3MpJPiqcJwZlPU9wBnoePnxYfjetD8r0HuAkzhPbYYGo5bPVb5uLiws2sPxQ6HFCntAvALb6eyX/0N7Tp09z9QxwnhiUve8THHROQkQ6EgDBlxaCSE4VhfgdUHNHcEfudIfjh11b/bjRmWyV9wceUXaM6knk2o04TwzK3jzBE2sfL3inppFk0OrXUWpxnrg72GHieKvcJc4T28FTuCllx/ACnqju7rXvHeM8MShb/j7R5wlOfzTiA4QtyvqSh6cnumaht5UmlEhUZjjPYqSfhw8fRoJBLT5GL+6XcxJT6Hfz+USmtSaKSWh++vQpqijTQgE0UPFFSFhLiyqqmFotFxcXcnhkaET/q1evsAFoVxkxPiOIY6okVQWM0ZckUhh/XQiDaaFAL5+arocpZF5Gu8fA3LuydhHT0Y5ka51ALCTp2lk8WcVEaixor9AjsVga7bKBdnYmnq9lG9ayn8U2ppC8TMpnQ6og7wBlhFtl9a4xMHpRiJEyjypdsV7odwbJMCMOobqApVEVDFQjMHxpx04O54lBOSxP4E404oGU8WHlhvBbvIgqn5RxLYXFqMr3GDXJ7lrwN6q4pbxdklRxMInhZmEAU+OQtDNQ3i75TDEJVbIBl2Y48syIcglLSXg7MFZLYwrmkpMziiEyQxroQj+9sodeRUBJargkw3iJSSFlBlJVqJLBzIs9jNJWzMYXSSLT6hPYLzMoMwoB9FBeXzu9VKVKo/JNjNkpsASMBNSGTIYuDKCXgpaJZnVFO1BgFoVjZleVT1kepsokbQJiQCNlBBjLDqAz9ISkysxCr4xHD5bEXdMoumQMFgKamZ0qytd3BjFNhMEU6JXBCGsUE2muDC2oapUTZ9w8wb1npUKHNeA0tNL5ckCewEtxJwj3AGTwHJXxH6ryMdAOR9BRr0IqUAhvzwP5zN4VMswbtwnfRh5fVbVAV5gk90Y+V1WmEZ35XkfYwubcrlClVffOT1cYFtbCLnJc7R7aCFUqA6oYFfZTZgqVgWrYn5HxefO1w7GlkOPXytoRy6ZiG1vRKgmG5H3IQwL2Km8ImqUK4Tw7BcRiFhkTRyUfgKgiE+VYo+5azJgXtX7XQgzyKMjGLO1MMUNVDYF8rwOMQSZ24KQZN0/EUdMtB3k71XzazpWNeaKAz+SoBDTKn6E4D+A8eZ8phzvhkOFCeaACCmJZjwQKoblAV5i0EhGiqvvOvHHfmZ32gsIHXSAxwUKwpI+hWZLh5VDpCVdlCmEwUC1TCBpjiMj2C+5OaFOv2kFVrZ1CT9YjEOaOY3nfFUyrnLe23CAFbhmQjQEKfVWrKF3AhtOicl4jM1IuxF2jLDE4YGeKGarKQthtQbcJWe2pM2ie4MYXv9WNh6Xoc2Yc9j5Blca8dVTDW4ovgR4q1YKYohibX/a/DCRkI0yEYjo9D0pAvXtBMkySr6oMqsZEmEFVltAV7cwbGgp0QatcwTI5NpCTaJZkFqKbyoKuMIxCno5qDMzkIULLyW8Y2ihpU6/aQVWtMQp70Z1Cns/ZR+PdIhes1ZN4kA3IZZDZpapVlC7I68plZtSQHrpCDPIoUFVTRKFQzFA1ptttQbcJWe2p479PDMphf58AoiHtERCztxRfEnogpVFPdqryaNlHtzKQqERsRZ5QJYEchaFUg2ySfFVl6F1XQZC58kop56+JAAGN2sWDubAIUh5WZUnai0K6IozSGwYD1RiYoZGuVpkoM4I2St/1raydQv6mC5Y2U3CzsL8sQeSFCN0vWZtTiwzQfc/GgMwuVWT6LtB7icp5jcxYLMx3LcQgj4JsDIXZnSlmqCoLAf2gcpDVnjrOE4OyN0/gY5yE/vTjirRHWMneUnxJyKsJx1ElrBS1eSCfKojQzyimjrhDMIp5C9kk+arKoGrWT9iiBc35iyPiLI25BbM19RQQrhmfzci9uayvSvK8zBh7QldWQjUGZpaMz8LcF1rYHMora1cCzqk6jMmwD7HhDCyzC6nN9kuV9jC3s4c8ZKicjYGiXFWNLV2AkrBWelRev2shBnkUZGOWdqaYoaoshN2d7m6ZTr7uxanjPDEoe/ME/sZJyKcf51G8i6c2xSkacxXnwTnDo/ATGvWEC5LJzgzycMkwEP0aLm9UWTL4MO4HBIsIYZlikgwOY+S65dmZNaI2a6Os1ya6WI4+czuzSBIYq+WwUnqzJEgt8oixLkUN1kJVZRkc+4w81djhjHajGE8Uo1Fbh0IGskZ1raxdkwLDMRg7QyxDF0pkJ+WyS4IW2kMVC9Fu0I4xdEkzn5TDeJkd1XwAgHYppKxVx9bJDJVBa9TtYEYWQrW/awynPYzPo0A7I7OXdkYWSiHIwrzV2pxYEWAAw1vlxHGeGJT1PLFzlDnwN1xF/iYHFhHm5P/hPwIvCheFEBYolBKgjFoEVMXNckbBVyMQhJNnikmhB9Bcqm3M5PO5KohEiib4f/RqrFD4AEVDWviMhUtGqAWDwwA0K9Jlg6FUNTDD8ntTaZEB9Eao3bt25lL0ZFSObhm0SQYozO45xNLK/eKm6zxoeOzYim2UaWmVqao9USBWS5hR9NCy5a610kSZXUP6nSkmlSoCmMSMyOctyjacOs4Tg7Ll7xPm2CAKE8JaZQwU2SPHnArKHPnx6KRxnhgU54kTheflpcf/s+RE88SZ3SbniUFxnjhReETN372cPfqSJ3+ddfxg7WkZvBfniUFxnjhpLi8v42+5Z0z+44H+EnD88Bpxcm8/e3GeGBTnCWPMRpwnBsV5whizkfk88eLFiz8zZ80nn3zyxRdftIoxxizz4MGD+E+u3+QJY4wxJnj8+HFLEO0ff+80AP7eyRizEf99YlCcJ4wxG3GeGBTnCWPMRpwnBsV5whizEeeJQXGeMMZsxHliUJwnjDEbcZ4YFOcJY8xGnCcGxXnCGLMR54lBeZs88erVq6fTz5e2esenE61yxbNnu18H43St/OLNRl6+fPnkyZO3+T+GQ8PFxcWShtfTb7S9lx+ZWTes56a7+s033+h34g6AuW7lNxV2h+M4/k/92O34SaKD/x9e37s7vAOcJwZlS56Io8wnZQIEn7RzrPWrYRLr6R0DR2IIha+//hptlA9wyxgiJb3vbYSF6FcNljT0eYLwetP/E9ADhsCNlnbArl5eXhIcW2WCZbIVPdhQtCFZ8sRhsRXNGxe4Qm/2TXebfWDTWA53CntY2vpymBF5JuKT8nt3h3eJ88Tu9pe7WDjgCB4/e/OEHpG0cLkE+yDHAFVV3kIeC/LMVtkGjpQ1TK73VrGG57jtGngGv+kZOGCI2L60A3Z1VoD7q8fqMDgetDkGaukpd+Tdg9ksp2zCdna7fH03CNmt1HGn7vDed3IvQ+cJVipm/Vn3HsphOg/25gkWXs4uj6LRos1ReQtZm6LSjXaVR7bygD/5+Fvdl+0acGPsv1HQP2BIsN2wm+4qiWTpSyfiYDEYhXp8ZlRrSvR35L2gc3gr+8zOoKpVOvJWi9tyhyPZyXVGzBM6EDDrVHiFeuGw83cSbMkTejXO9I5BgVMO8W0GBXY49pbCtJcN5PWgKiRGVEUDVbr6QMYdUa+QDQwEYpnuJhEthzN9paB2lLfW60gDXipJytKAToZQ1USo2s16BUcCAXopYxWF/pD0Q2hEub6dAArMK+EedEKrTHGEKqOYLp7u1RLM7moPYktHmi4Gll7NokbM0DM15XJHsjHokSohS6IFVeV4LG1m3Flgu6iqvSDNS4uCWT3ZQmBepclAYzM03oU70IVwq6TkcWwMlCc43LoZMHuw4jzFTT1j9uYJHX2iz+xeqVe/qiZXJ9rSThl5ymUPEc4+QG8I6HlKMRqFZWDQa8A25JlRYYvbpy6iPF0yTPd0dglowE4CBL2xWNoZqEAf0yGQlRAvFK+RXNqfMkQWYq3KjKK6lCp2W5M2ByOlh+HZKijVPHCWlV7tQFmLMqjspIuFU1UX5Nm13tCvDYw7AuwYwv3xmN1MxChru2hhr5YsnzU7WNdDOVelqlU61Lt0u9XLRKyCSVHLGmnv1ysQZkirdNUjZJQ8oe8B8sEtyCW4za1+7mz5OzbejmuxLZzy4h5yDNwgV1WGnf+tOkYWkCOpDEuP/70GnLZVrivE5riPWMjA/kkQ8hDQEmL2PB0WUo0dYFSIMVHZGVGGcPCytUTeJasgG4ZM3hCUsLpWWd3VHiZVRJ5Fyw+DWZdSbHYZybRKNzuS2TYsyUvOi812Uug3k4Cb58Vs5ppNq8XswrqebAaU1fXcnTuU6hHi94k3yDGg3NSzZEueAI4+JzjcY8kTVI3eyS/WHCMLMEoPXEveLlY0AGVFJZQgWch5KCgadDxiilyWzjCP6MOG0Bvr7SlDKOeABVhLY6tcJxuGTA+mRu/KnhSIkrOhVqBHyjME97xGybRKN7uWHEFf3qQd4HPJztnNpJexhZwvA5kU+1xY1zNZ8Wa7yupmwUjEbt0dSvUI8d8nKnvTyXmwMU8IuQcbEk+Is44R27XXMYpAuB+NS7FsXQNl2YMN2bAVigbIU+SydObDQJmxCnCt6TplCOXy9sBwGlvlOpNdzbAyb4HelT0prHQBevJceAEtLBDijkhGZSizQ3zBgh7gtCg78hm5DSYz3xiDJNW8mVSL5iVkEhpa/TrrenZGJDOkqlVWuXV3KNUjZMQ8EbBSMXvOdLOh3OPzYG+e6L+j0Gu79uotHaMXANyPYEq8yDElWNdAWfZgA4WX1/8nAqUqigZmZyCPt6rm6aSzPyT6IqLfKChDKEdMEUzN2Fa5TjaMgUV/Xks2EvLAApZkyR56+zXy6J0tl4zKUGYHdo9Gbp/Sg6qkmT5H9nbmzaS3bBd3p99/mDU7WNczWfHGjLK6wp26Q6keIUPnCcEdKnexkG/52bA3T/BsiFO1yoSihp4ub+QYCsHZE7IAo/L2FslgRQNQDnsIN0SHMF6PxipnigatLlJUng7zqIaRWRvlmDdThhAocxWwUMG0JxumxJnfsWLU+q4WyhN9T456AbGbxu15QiZhg77bUZWDVPJ0tnN2M5Vg4gsiwLy4oRkNKWYDO8ak63pYV5gBZXWFO3WHUj1CnCcGZW+e4BjgSOHhHHoCVhz3EvgUZSSMG+BU2a/krvmhUuEPAYaghImkis+sNhOzM0RTSIN60cBAVTUdvVgF2ZIM2pCRzcxIOQIKzp8NVhVPRg+SDFQZkMkhIChDqKIfIxWssZDqbOBGftq8ZrP0AIEebbTH5qzvamu6YtbIgCHawFBOC7uBNhpDG/qpYpKq9MYdUQtgJ+2tMg3B5laZKAuc3UzKCDCXevU5jb4GYnRlCwVVhlNY0aONDTNA+6mb1d8auu7OHWZ38qhwnhiULd874S1ye44EB13+TJecU8j9WmWqttJEEQb5kuImOinQEjK05Ke/jB7fkMQGCQuGt9KE9OOKqKKKfMS1Au2xukhUkBUyXI1IUmVPVJZywNvD/wt5CDBdLJNRS0/3EhAyiU8FcSaNOBKqhCTzrkpMMIoNaZWOcssCVGFnbEueUY35jkgG6IpYDP3U0iCoLm0m+0OVRszICoMls0Vs+6yeMlbtTM0+IzZ7Au/UHWZ38qhwnhiUG/0d2xgzMs4Tg+I8YYzZiPPEoDhPGGM24jwxKM4TxpiNOE8MivOEMWYjzhOD4jxhjNnIfJ54/vw5qcKcMR9//PHnn3/eKsYYs8z9+/e/+uqrliDaP8YYY0zi8ePHLUG0f/y90wD4eydjzEb894lBcZ4wxmzEeWJQnCeMMRtxnhgU5wljzEacJwbFecIYsxHniUFxnjDGbMR5YlCcJ4wxG3GeGBTnCWPMRpwnBuVt8sSrV6+ePn36wcLPO8OnE61yxbNnu59j43Q9evSo/JDOTXn58uWTJ0/6KbaDhouFn6KD169fL/08znth2s79i337bYGDh3+9/FuEN4JtZ/Pf2S/2bLzXiL148YLNufVTsX7XZs3DfeLHl+IXme4U54lB2ZInOJ2K7PHrXTqvcUwl1sOhL+ee08wQCsQRtFGe/dWwdWKIlCy51l5YiILakobeOb/55pubRsADhiwxbef+xe7dlr17rieAVpnQRvWQ7HUkmtxcnjjgFgNqbyVPyM4Majl45ab093oWxAjoKFmRXFkvw+O38Ng6VIEs4XPlrvXmca5o4U7Rxc1CYai6O0bJE2w0N6NV5mDVhx3rE2VvntAbg84fJ5INzE6iqspbyGOBs74l8GW4O1nDLnDeUEMBd92uASe/qSseMOTtWd+WdRcAbvrsqx5ryXcwHhTYQ7XMsne6u4Yzg5GxIcRTReqD70s5xpn1I81GATKU+dTuhRnTTdt6FHvXewcnbaD3CdYlZvOBdh/e++F+N+zNE2xFcYnLy8to6Q/rOlkbWQef2e4YQGAqT1U3cq1ZtmtQuLmRKx4w5FZYWZRifasssDSWCJvvoFCwm/Um2DLdXcNJw4a8qJI5bkq/CWL9SHMMGFgOQ36zYeB2k4rrvZuTNtz3TtplWMoH6oUlBzgPtuQJjnKrXBFOEoeVAhEcCCXqokCMiHNPYdrOBvJ4VKtceSxbjQaqdDFWAwO9aEseZMPOsabfnVc84m7qYU1gAy1qX7qP0kAGkiRlaUAnQ6hqIoXIAIdEgF7KWEWhd9F+CI3xFAkUZh/b0Uwyxh6G6CsFqmU/IVad0b4hBv22SFswqakwqZbcQxejSi/VaGSWsJxqmS7ANqkKEI4WVLEtepHdTTARqhjLFK316uDRzpmZ3Uyhga1yNVfoL/daoI2W3ZQJnSIKMlICobk/0hlNmo0HGkFlhkB/14p50pOZPWl3wbh/n1B0gNk4QqN6EWtN58XePMHRZPk4wOzhUy9HnwPNaeYoa6MoI0+ZFkkKhLMr7tziSgCvw2/lGCgsA4NeA7Yhz4yMRYMCJXDv6JJhcrzZJaABOwlD9MZiaWeg3C+mQyArIcozigKSS/tThshCRQqNotpHN7pkCWZjAxbKvLKfDAdWBxSQD1Ur2yLNKs+CJENa5TpaTt5/0N5qURgg/bHkPB1qWUKuYpiWoBYWy65SZbiyqdp1HnbrnG5lGEAZaEQVetBGWV0FVOWtk1VMoSrDy72WbSinrJMJ6gKNVcTQwIgezJInKtClsehvTQl6Z+9abx7kjQXdmtj2O2L0v2MrH6zcYJ3vu74N754tf8fmjHJktT9lB3RYwznL2UW+bCm9+axnATSzySpDOF6h14Brtcp1hdgc3oiFDIy4kMlDQEuI2fN0xRUZFWJMNHs2yhDcPltLAFqySgPLJmRTi4CqYSpiS9uiBao8S0j2lFnYVYIaLcwVZ0AyfKpapsNgqpHP1BtjSYdxy/JAyoqYQqtGST4wiqRKVz10aV3ol2aOR5ghaKRLZckUY2JRlPWIIPLAaacXNxCkClhR6BcMXLprkGcB6WmVbtvvCL9P+H1iDTyZcxnZIhy7HFZVo7ccdKA3n/UswCg2mer6WV/RAJTlaXKbwuxNLBpwXSRjilwurkhIYkPojfX2lCGUc7wDrKWxVRJloMimKscU2+IMZ0mgHAGIIbMzCqLtUqgFzVJAcw64xfIyHXvFpsUmxB6qK6fMPBBtGpUDqwQKZXuD1n0FUb6/a7TLElD+K6uI2bMkSKHKZednQQ92MioPhDKWck4bCOdJZVKrLByYW2e4PLE3Aaznj7NhY54QuJZO51LQUTUOazn3QG8+60VA+okINJZnvWBdA2XZI7dR4zpFA+Qpcrl3RcqMjUjXU4ZQLm8PDKexVRL9XDBZ+sZUYg2nVMGLMmZE7CuSlGMWTJ2dUZRYXJBVsVimwzvkKeEmxfJ+ujAVCMcESvkgGkIJlIERW/lkIC0I5DWuw0AJhxK1Z2jPS+OQc7MmM+tfp7MkhHKgkCVXYEXoZ+xSjqFMb6t0k5b9mT0wt85AeWI9AdCoXp3ds2dvnsjPO4IW9kcnshxWVeOwlnMP9Oaz3gsAbon/EEpmA9a6BsqyR27D07HaRamKooHZGRjP1Hm6JVfU93L9RkEZQjk/IQJTM7ZVErNz9aayUTrPtOfMWiQpI6NyuWUZKWyVOWRV3n/gNtEIDKdaLO+n05sQjkYXY6OaDYZZOxFmA7WHEtCkwewtBiRDv3ajTxU05qUxF5LcHQnniYpkUR7lAnvSm8daGK5yGUs5uqBMWvanbPsdMUqeYHPXEwCrns0f58rePMF2FVdUKlVUKodV1Tis5dyjh9581rMAo/IpL5LBigagHPbg4ThhGE9ImlVYNGh1kaLydJhHNYzM2ijHvJkyRM+PeZlYOPtsWwaKYirlIhD0kmHekqnA2qFV5iDMMbZso24raKuL5bPT7SL9o0eRWSlzzEqizQNJ23EfQ78STN49zOsDMcjC2BCqzEhLmZGWWBoys/lbZEnIynf7nnY+g819Gsb+mKiMpYzmVukm1eNaqywcmFtn9L9jD8vePMExwKnC/TiIHOs4zSXw6exKGE/D+XOa0Xe+2VUoow0BhqCEiaSKz6w2E7MzRFNIg3rl/6pqOnqxCrIlGbQhI5uZkXLESkWiMFhVfBU9SDJQZUAm9iRThlBFP0YqD2Eh1chJmX6v0DBt55tVIECVeYFwwyzaMUmiOST7bZExZWqmiyGzMIuW0+rTXZBydlgt0s9nrpbp2GEaaVFVMr0xIcOMVCVAOZYmGRZLI7bN3gLQdNgZq0MVSmhEg6bgU1UJYLCGaHtZHVPIAEnGXOiUpKpokHk6URnpjBlBC9d+MmTlrhXzJExLqJIAqujSMbgLnCcGZcv3TriHnno4EvJJnV1chRZBY6m20kQRBh1lDjdq0UmBlpChZenBVj6PJDZIWMgJA+nHD+VOyIdHFWiP1eGZ4WNZIcPVqECpmEhZygEH1p705CHAdLFMRpXgKPLuxdStPqEWNCuUZPp9aKUJqtjJKNZbdpj2CEM9RU8GC0NVtpwyLbPTlbn6qWOLgKm5j7FSCnErGcjG6t6xG1TVntGoQFYBSjQQ8nTacJkdkwrkif6tMlG2JdTqSE/zvAFhhvPJYiWP/tgWtYii9uc//3krTeaVXhkM5aTdBc4Tg3Kjv2Ob40EhslUmaCEIRhw0bwNRnuTUKhNkdOI7MbrVh8R5YlCcJ04UniL7lMDjanlLMAdAxuWdoE8JJObZ979xcJ4YFOeJE+XR9GUOz7wKZ3ySIe70O4dxIBmwt/pSiBcL0gbbS1Z2DnaeGBTniRNF3zvFH0h4vXAUu0VID0+u/mrFp79xEs4Tg+I8YYzZiPPEoDhPGGM2Mp8nvvzyS1rNGfPRRx999tlnrWKMMct8+OGH8V9PtDzxrW996wc/+AEJxJwx3/nOd773ve+1ijHGLPPtb3/7Jz/5yS49/PrX/x+3p9Uwqf/aNQAAAABJRU5ErkJggg==)\n",
        "\n",
        "**Assignment operators in python:** are used to assign values to variables.\n",
        "\n",
        "![Assignment-Operators-python.png](data:image/png;base64,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)"
      ]
    },
    {
      "cell_type": "markdown",
      "metadata": {
        "id": "3RO4ENpZ2YBZ"
      },
      "source": [
        "We can apply mathematical operators to variables by writing equations, just like we do with a calculator.\n",
        "\n",
        "## TASK 3:\n",
        "Using your \"age\" variable. how old will you be in five years (call this variable \"a\")? How many months have you been alive (we're going to estimate this, based on the fact that there are 12 months in a year, call this variable \"b\")? Are you older than 100 (call this variable \"c\")?"
      ]
    },
    {
      "cell_type": "code",
      "execution_count": null,
      "metadata": {
        "id": "f3dsSKp_2YBZ",
        "outputId": "2590dca9-f06e-4ab2-8e2d-2997b4ced0e4",
        "colab": {
          "base_uri": "https://localhost:8080/"
        }
      },
      "outputs": [
        {
          "output_type": "stream",
          "name": "stdout",
          "text": [
            "35 360 False\n"
          ]
        }
      ],
      "source": [
        "#first, convert \"age\" back to a numeric (float) variable\n",
<<<<<<< HEAD:CodeSprints/Python101.ipynb
        "age = 30\n",
        "\n",
        "#Complete your equations in python syntax below. Remember to use \"age\" as a variable.\n",
        "a = age +5\n",
        "b =age*12\n",
        "c =age>100\n",
=======
        "age = float(age)\n",
        "\n",
        "#Complete your equations in python syntax below. Remember to use \"age\" as a variable.\n",
        "a = age + 5\n",
        "b = age * 12\n",
        "c = age > 100\n",
>>>>>>> upstream/main:CodeSprints/Python101_solutions.ipynb
        "print(a,b,c)"
      ]
    },
    {
      "cell_type": "markdown",
      "metadata": {
        "id": "WJKiYXwi2YBa"
      },
      "source": [
        "## Functions\n",
        "Functions are another type of variable. Instead of storing a data value, they store a set of instructions on how to process the data. Often in life, we want to repeat the same sequence of operations on multiple values. To do this, we use functions. Functions are blocks of code that will repeat the same task over and over again (return some outputs) on different variables (inputs). [Learn more about functions here](https://docs.python.org/3/tutorial/controlflow.html#defining-functions)"
      ]
    },
    {
      "cell_type": "code",
      "execution_count": null,
      "metadata": {
        "id": "OG-b15zX2YBa",
        "outputId": "8b7faa91-d93d-4570-aa2c-aa0d5930be1a",
        "colab": {
          "base_uri": "https://localhost:8080/"
        }
      },
      "outputs": [
        {
          "output_type": "execute_result",
          "data": {
            "text/plain": [
              "4"
            ]
          },
          "metadata": {},
          "execution_count": 9
        }
      ],
      "source": [
        "#For example, this function takes one input value, X:\n",
        "def fun1 (x):\n",
        "\n",
        "#The functions job is to produce the square of x\n",
        "    return x*x # note the indentation\n",
        "\n",
        "fun1(2)\n",
        "# what happens if you delete the indentation?"
      ]
    },
    {
      "cell_type": "code",
      "execution_count": null,
      "metadata": {
        "id": "wn2chIzn2YBa",
        "outputId": "e01f690c-15be-4244-9678-2bb0513c4e5a",
        "colab": {
          "base_uri": "https://localhost:8080/"
        }
      },
      "outputs": [
        {
          "output_type": "execute_result",
          "data": {
            "text/plain": [
              "6"
            ]
          },
          "metadata": {},
          "execution_count": 10
        }
      ],
      "source": [
        "#Functions can have more than one input:\n",
        "def fun2 (x, y):\n",
        "    return x * y\n",
        "\n",
        "fun2(2,3) #experiment with different values"
      ]
    },
    {
      "cell_type": "code",
      "execution_count": null,
      "metadata": {
        "id": "4zTWMDes2YBc",
        "outputId": "37baca9a-3617-439d-e456-16500bf79fcf",
        "colab": {
          "base_uri": "https://localhost:8080/"
        }
      },
      "outputs": [
        {
          "output_type": "stream",
          "name": "stdout",
          "text": [
            "10\n",
            "100\n"
          ]
        }
      ],
      "source": [
        "#And we often store what the function returns as a new variable\n",
        "#Here, we're creating two variables: x and x_sq\n",
        "x = 10\n",
        "x_sq = fun1(x)\n",
        "\n",
        "print(x)\n",
        "print(x_sq)"
      ]
    },
    {
      "cell_type": "markdown",
      "metadata": {
        "id": "B8DsTqTe2YBc"
      },
      "source": [
        "## Create a function.\n",
        "\n",
        "Functions simplify our workflows as computational scientists, and make it possible for other people to see every step we've make with a computation.\n",
        "\n",
        "## TASK 4:\n",
        "\n",
        "To simplify your future restaurant interactions, write a function that calculates a 15% tip and adds it to any check amount. Name your function tip15. How much will you owe in total on a $42.75 check?"
      ]
    },
    {
      "cell_type": "code",
      "execution_count": null,
      "metadata": {
        "id": "TF2eULfe2YBc",
        "outputId": "6f7b7da5-88e9-4882-9cf0-f305c949ad24",
        "colab": {
          "base_uri": "https://localhost:8080/"
        }
      },
      "outputs": [
        {
          "output_type": "execute_result",
          "data": {
            "text/plain": [
              "49.162499999999994"
            ]
          },
          "metadata": {},
          "execution_count": 13
        }
      ],
      "source": [
        "#write tip15 function here\n",
<<<<<<< HEAD:CodeSprints/Python101.ipynb
        "def tip15 (x):\n",
        "  return x*1.15\n",
        "\n",
        "tip15(42.75)\n"
=======
        "def tip15(check):\n",
        "    total = check * 1.15\n",
        "    return total\n",
        "\n",
        "print(tip15(42.75))\n"
>>>>>>> upstream/main:CodeSprints/Python101_solutions.ipynb
      ]
    },
    {
      "cell_type": "markdown",
      "metadata": {
        "id": "ZhQlmZqT2YBc"
      },
      "source": [
        "## TASK 5:\n",
        "\n",
        "To customize your future restaurant interactions to future exemplary service, write a function that calculates a variable tip and adds it to any check amount. Name your function tip. How much will you owe in total if you're tipping 25% on a $42.75 check?"
      ]
    },
    {
      "cell_type": "code",
      "execution_count": null,
      "metadata": {
        "id": "-zSWJ5Ys2YBd",
        "outputId": "c0b1f11f-df53-4ca1-cfd3-b0fee793a59e",
        "colab": {
          "base_uri": "https://localhost:8080/"
        }
      },
      "outputs": [
        {
          "output_type": "execute_result",
          "data": {
            "text/plain": [
              "53.4375"
            ]
          },
          "metadata": {},
          "execution_count": 14
        }
      ],
      "source": [
        "#write tip function here\n",
<<<<<<< HEAD:CodeSprints/Python101.ipynb
        "def tip (x,y):\n",
        "  return y*(1+x/100)\n",
        "\n",
        "tip (25,42.75)\n"
=======
        "def tip(check, rate):\n",
        "    total = check * (1 + rate)\n",
        "    return total\n",
        "\n",
        "print(tip(42.75, 0.25))"
>>>>>>> upstream/main:CodeSprints/Python101_solutions.ipynb
      ]
    },
    {
      "cell_type": "markdown",
      "metadata": {
        "id": "-zbcpGzj2YBd"
      },
      "source": [
        "## Lists\n",
        "Python and R both make it possible to create your own data objects for storing lots of different values.\n",
        "\n",
        "One of the simplest ways to create a variable containing multiple values is to create a list.\n",
        "\n",
        "[Click here to learn more.](https://www.earthdatascience.org/courses/intro-to-earth-data-science/python-code-fundamentals/)\n",
        "\n",
        "Using base python, you can store multiple variables as a list by wrapping them in square brackets. A list can accept any kind of variable: float, integer, or string:"
      ]
    },
    {
      "cell_type": "code",
      "execution_count": null,
      "metadata": {
        "id": "a7PgOjXl2YBd",
        "outputId": "b1392e2e-6495-46d2-dd68-162539de901c",
        "colab": {
          "base_uri": "https://localhost:8080/"
        }
      },
      "outputs": [
        {
          "output_type": "stream",
          "name": "stdout",
          "text": [
            "['Homer', 'Marge', 'Bart', 'Maggie', 'Lisa']\n",
            "[40, 39, 11, 1, 9]\n"
          ]
        },
        {
          "output_type": "execute_result",
          "data": {
            "text/plain": [
              "list"
            ]
          },
          "metadata": {},
          "execution_count": 15
        }
      ],
      "source": [
        "names = [\"Homer\", \"Marge\", \"Bart\", \"Maggie\", \"Lisa\"]\n",
        "ages = [40,39,11,1,9]\n",
        "print(names)\n",
        "print(ages)\n",
        "type(names)\n",
        "type(ages)"
      ]
    },
    {
      "cell_type": "markdown",
      "metadata": {
        "id": "HSi7Mlzv2YBe"
      },
      "source": [
        "We can make lists of lists, which are more complex data objects:"
      ]
    },
    {
      "cell_type": "code",
      "execution_count": null,
      "metadata": {
        "id": "7u9tWMn42YBe",
        "outputId": "1e00dd8b-b1af-4ee5-87bb-ddb3a60a41a8",
        "colab": {
          "base_uri": "https://localhost:8080/"
        }
      },
      "outputs": [
        {
          "output_type": "stream",
          "name": "stdout",
          "text": [
            "[['Homer', 'Marge', 'Bart', 'Maggie', 'Lisa'], [40, 39, 11, 1, 9]]\n"
          ]
        },
        {
          "output_type": "execute_result",
          "data": {
            "text/plain": [
              "list"
            ]
          },
          "metadata": {},
          "execution_count": 16
        }
      ],
      "source": [
        "names_and_ages = [names, ages]\n",
        "print(names_and_ages)\n",
        "type(names_and_ages)"
      ]
    },
    {
      "cell_type": "markdown",
      "metadata": {
        "id": "vbRYk1Pa2YBe"
      },
      "source": [
        "## Indexing\n",
        "\n",
        "In applications like Microsoft Excel, the user can select individual values in one of two ways. First, they can manually scroll to and select a cell in a spread sheet. The second method would be to specific the specific cell using **indexing** terms. In Excel, the column is always given a letter, the row is given a number value. For multi-dimensional arrays in Excel, the third dimension is given a sheet name. For example, to A1 is the first row in the first column of data.\n",
        "\n",
        "In python and R, indexing is very easy and very powerful, once you get used to it.\n",
        "\n",
        "To get us started, we can extract individual values from the list using a square bracket. We'd use our python mathematical operator on this single variable the same way we would use a calculator. For example, the age of the first person in the list is:\n",
        "\n",
        "*Note: in python, the first value in a list/row/column will be zero; in R it will be 1*"
      ]
    },
    {
      "cell_type": "code",
      "execution_count": null,
      "metadata": {
        "id": "UGUn_S642YBe",
        "outputId": "d9119c20-6387-466d-af57-d909bbeb224b",
        "colab": {
          "base_uri": "https://localhost:8080/"
        }
      },
      "outputs": [
        {
          "output_type": "stream",
          "name": "stdout",
          "text": [
            "40\n"
          ]
        }
      ],
      "source": [
        "first = ages[0]\n",
        "print(first)"
      ]
    },
    {
      "cell_type": "markdown",
      "metadata": {
        "id": "iq7lhkyT2YBe"
      },
      "source": [
        "And we can ask: How old will the first numeric element on our list be in five years?"
      ]
    },
    {
      "cell_type": "code",
      "execution_count": null,
      "metadata": {
        "id": "_iwBxGWW2YBe",
        "outputId": "850d8b48-b45a-4201-e5dd-c5aaf488f0e1",
        "colab": {
          "base_uri": "https://localhost:8080/"
        }
      },
      "outputs": [
        {
          "output_type": "execute_result",
          "data": {
            "text/plain": [
              "45"
            ]
          },
          "metadata": {},
          "execution_count": 18
        }
      ],
      "source": [
        "ages[0]+5"
      ]
    },
    {
      "cell_type": "markdown",
      "metadata": {
        "id": "az5rFz0n2YBf"
      },
      "source": [
        "## TASK 6:\n",
        "Find the name and age of the third person in your list"
      ]
    },
    {
      "cell_type": "code",
      "execution_count": 10,
      "metadata": {
        "id": "s8Ds_LIx2YBf",
        "outputId": "4e81ead1-d3ea-4dcd-e64f-0ce421fbfd55",
        "colab": {
          "base_uri": "https://localhost:8080/"
        }
      },
      "outputs": [
        {
          "output_type": "stream",
          "name": "stdout",
          "text": [
            "The third person is Bart and they are 11 years old.\n"
          ]
        }
      ],
      "source": [
        "# type answer here\n",
<<<<<<< HEAD:CodeSprints/Python101.ipynb
        "names = [\"Homer\", \"Marge\", \"Bart\", \"Maggie\", \"Lisa\"]\n",
        "ages = [40, 39, 11, 1, 9]\n",
        "names_and_ages = [names, ages]\n",
        "third_person_name = names_and_ages[0][2]\n",
        "third_person_age = names_and_ages[1][2]\n",
        "print(f\"The third person is {third_person_name} and they are {third_person_age} years old.\")"
=======
        "print(names[2]+ ' is ' + str(ages[2]) + \" years old.\")"
>>>>>>> upstream/main:CodeSprints/Python101_solutions.ipynb
      ]
    },
    {
      "cell_type": "markdown",
      "metadata": {
        "id": "02Z8OYw12YBf"
      },
      "source": [
        "## TASK 7:\n",
        "Add an extra person to the list, named Grandpa, who is 67 years old. *Hint: Google \"add values to a list python\" if you're not sure what to do!!!!"
      ]
    },
    {
      "cell_type": "code",
      "execution_count": 11,
      "metadata": {
        "id": "ZBFhfRLQ2YBf",
        "outputId": "78f532bf-5876-4134-8acd-765b9cb0f44e",
        "colab": {
          "base_uri": "https://localhost:8080/"
        }
      },
      "outputs": [
        {
          "output_type": "stream",
          "name": "stdout",
          "text": [
            "Names: ['Homer', 'Marge', 'Bart', 'Maggie', 'Lisa', 'Grandpa']\n",
            "Ages: [40, 39, 11, 1, 9, 67]\n"
          ]
        }
      ],
      "source": [
        "# type answer here\n",
<<<<<<< HEAD:CodeSprints/Python101.ipynb
        "names_and_ages[0].append(\"Grandpa\")\n",
        "names_and_ages[1].append(67)\n",
        "print(\"Names:\", names_and_ages[0])\n",
        "print(\"Ages:\", names_and_ages[1])"
=======
        "names.append(\"Grandpa\")\n",
        "ages.append(67)\n",
        "print(names_and_ages)"
>>>>>>> upstream/main:CodeSprints/Python101_solutions.ipynb
      ]
    },
    {
      "cell_type": "markdown",
      "metadata": {
        "id": "r1EAEzpi2YBg"
      },
      "source": [
        "## TASK 8:\n",
        "Maggie just had a birthday! Change her age accordingly in the list."
      ]
    },
    {
      "cell_type": "code",
      "execution_count": 12,
      "metadata": {
        "id": "TTjJPURM2YBg",
        "outputId": "24bc065d-fd15-4e28-fa93-162701bd848a",
        "colab": {
          "base_uri": "https://localhost:8080/"
        }
      },
      "outputs": [
        {
          "output_type": "stream",
          "name": "stdout",
          "text": [
            "Names: ['Homer', 'Marge', 'Bart', 'Maggie', 'Lisa', 'Grandpa']\n",
            "Ages: [40, 39, 11, 2, 9, 67]\n"
          ]
        }
      ],
      "source": [
<<<<<<< HEAD:CodeSprints/Python101.ipynb
        "maggie_index = names_and_ages[0].index(\"Maggie\")\n",
        "names_and_ages[1][maggie_index] += 1\n",
        "print(\"Names:\", names_and_ages[0])\n",
        "print(\"Ages:\", names_and_ages[1])\n"
=======
        "# type answer here\n",
        "\n",
        "names_and_ages[1][3] = names_and_ages[1][3]+1\n",
        "print(names_and_ages)"
>>>>>>> upstream/main:CodeSprints/Python101_solutions.ipynb
      ]
    },
    {
      "cell_type": "markdown",
      "metadata": {
        "id": "e3fwrnv62YBg"
      },
      "source": [
        "Some data types can store multiple types of values, and some data types can only store one type of values. Lists can store elements that are either character strings or numeric. Because of this, we cannot apply a mathematical operator to a list.\n",
        "\n",
        "For example, what happens when we try to run the cell below to find out how old will everyone be in five years?"
      ]
    },
    {
      "cell_type": "code",
      "execution_count": 14,
      "metadata": {
        "id": "0tXSxws12YBg",
        "outputId": "d389c34d-bdce-4a18-ce96-9b42f1e55fa5",
        "colab": {
          "base_uri": "https://localhost:8080/"
        }
      },
      "outputs": [
        {
          "output_type": "stream",
          "name": "stdout",
          "text": [
            "In 5 years, Homer will be 45 years old.\n",
            "In 5 years, Marge will be 44 years old.\n",
            "In 5 years, Bart will be 16 years old.\n",
            "In 5 years, Maggie will be 7 years old.\n",
            "In 5 years, Lisa will be 14 years old.\n",
            "In 5 years, Grandpa will be 72 years old.\n"
          ]
        }
      ],
      "source": [
        "ages_in_5_years = [age + 5 for age in ages]\n",
        "for name, age in zip(names, ages_in_5_years):\n",
        "    print(f\"In 5 years, {name} will be {age} years old.\")\n",
        "#this returns an error. But hey! Errors are opportunities! Google your error message, see if you can find a workaround!"
      ]
    },
    {
      "cell_type": "markdown",
      "metadata": {
        "id": "19_S0IPl2YBh"
      },
      "source": [
        "# For loops\n",
        "One way that we can run an entire operation on a list is to use a for loop. A for loop iterates through every element of a sequence, and completes a task or a set of tasks. Example:"
      ]
    },
    {
      "cell_type": "code",
      "execution_count": 15,
      "metadata": {
        "id": "y7gV1C3e2YBh",
        "outputId": "5c42abdd-9dab-4385-f824-74326fa9d2de",
        "colab": {
          "base_uri": "https://localhost:8080/"
        }
      },
      "outputs": [
        {
          "output_type": "stream",
          "name": "stdout",
          "text": [
            "cat 3\n",
            "window 6\n",
            "defenestrate 12\n"
          ]
        }
      ],
      "source": [
        "#Measure some strings\n",
        "words = ['cat', 'window', 'defenestrate']\n",
        "for w in words:\n",
        "    print(w, len(w))"
      ]
    },
    {
      "cell_type": "markdown",
      "metadata": {
        "id": "0UNqluId2YBh"
      },
      "source": [
        "This for loop creates a new variable, w, for each element in the words list. One at a time, it applies the operation to each element.\n",
        "\n",
        "[Learn more about for loops here](https://www.earthdatascience.org/courses/earth-analytics/automate-science-workflows/create-for-loops-r/)\n",
        "\n",
        "A very handy function that folks use a lot when write for loops is the range function. range() creates a range object, which generates list of intergers for each element in a series.\n"
      ]
    },
    {
      "cell_type": "code",
      "execution_count": 16,
      "metadata": {
        "id": "vec-_fC62YBi",
        "outputId": "f632b599-d8b2-4809-99ec-863de40c7bd2",
        "colab": {
          "base_uri": "https://localhost:8080/"
        }
      },
      "outputs": [
        {
          "output_type": "stream",
          "name": "stdout",
          "text": [
            "6\n",
            "range(0, 6)\n"
          ]
        }
      ],
      "source": [
        "print(len(ages))\n",
        "# What does len() do?\n",
        "print(range(len(ages)))"
      ]
    },
    {
      "cell_type": "code",
      "execution_count": 17,
      "metadata": {
        "id": "hywN1U-L2YBi",
        "outputId": "f80e7716-8f29-43d0-b721-d89cce4cdbcb",
        "colab": {
          "base_uri": "https://localhost:8080/"
        }
      },
      "outputs": [
        {
          "output_type": "stream",
          "name": "stdout",
          "text": [
            "40\n",
            "39\n",
            "11\n",
            "2\n",
            "9\n",
            "67\n"
          ]
        }
      ],
      "source": [
        "for y in range(len(ages)):\n",
        "    print(ages[y])"
      ]
    },
    {
      "cell_type": "markdown",
      "metadata": {
        "id": "oTCpPWcI2YBj"
      },
      "source": [
        "## TASK 9:\n",
        "Use the range function in a for loop to add 1 year to everyone's age in the names_and_ages list and print the result to the screen."
      ]
    },
    {
      "cell_type": "code",
      "execution_count": 19,
      "metadata": {
        "id": "MWA7Vv_D2YBj",
        "outputId": "20a45270-d9f7-4f84-8422-836a2243bb72",
        "colab": {
          "base_uri": "https://localhost:8080/"
        }
      },
      "outputs": [
        {
          "output_type": "stream",
          "name": "stdout",
          "text": [
            "Homer is now 41 years old.\n",
            "Marge is now 40 years old.\n",
            "Bart is now 12 years old.\n",
            "Maggie is now 3 years old.\n",
            "Lisa is now 10 years old.\n",
            "Grandpa is now 68 years old.\n"
          ]
        }
      ],
      "source": [
<<<<<<< HEAD:CodeSprints/Python101.ipynb
        "for i in range(len(names_and_ages[1])):  # Iterate over the length of the ages list\n",
        "    names_and_ages[1][i] += 1\n",
        "\n",
        "for i in range(len(names_and_ages[0])):  # Iterate over the length of the names list\n",
        "    print(f\"{names_and_ages[0][i]} is now {names_and_ages[1][i]} years old.\")\n"
=======
        "# type your for loop here\n",
        "for y in range(len(ages)):\n",
        "    ages[y] = ages[y] + 1\n",
        "\n",
        "print(names_and_ages)"
>>>>>>> upstream/main:CodeSprints/Python101_solutions.ipynb
      ]
    },
    {
      "cell_type": "markdown",
      "metadata": {
        "id": "tFVTaarI2YBj"
      },
      "source": [
        "# Be logical!!! if/else statements\n",
        "Another thing that is commonly used in for loops is an if/else statement. This allows us to select certain attributes that we want to use to treat elements that we're iterating over differently."
      ]
    },
    {
      "cell_type": "code",
      "execution_count": 20,
      "metadata": {
        "id": "r0CobJ0h2YBk",
        "outputId": "11126e44-c7fb-4a83-ea14-db479fb26823",
        "colab": {
          "base_uri": "https://localhost:8080/"
        }
      },
      "outputs": [
        {
          "output_type": "stream",
          "name": "stdout",
          "text": [
            "Homer is an adult\n",
            "Marge is an adult\n",
            "Bart is an adolescent\n",
            "Maggie is a child\n",
            "Lisa is an adolescent\n",
            "Grandpa is an adult\n"
          ]
        }
      ],
      "source": [
        "for y in range(len(ages)):\n",
        "    if ages[y]>=18:\n",
        "        print(names[y] + \" is an adult\")\n",
        "    elif ages[y] >= 10:\n",
        "        print(names[y]+\" is an adolescent\")\n",
        "    else:\n",
        "        print(names[y] + \" is a child\")"
      ]
    },
    {
      "cell_type": "markdown",
      "metadata": {
        "id": "OJaE2SpF2YBk"
      },
      "source": [
        "The above statement reads: if the age of the person is greater than or equal to 18, the person is an adult, or else if the age of the person is greater than or equal to 10, the person is an adolescent,  or else the person is a child.\n",
        "\n",
        "Pay attention to the use of indentation in the above statement!"
      ]
    },
    {
      "cell_type": "markdown",
      "metadata": {
        "id": "XkhR79Fb2YBk"
      },
      "source": [
        "## TASK 10:\n",
        "Using if, elif, and/or else statements, write a for loop that adds 1 year to everyone's life except Maggie...since we already gave her an extra birthday."
      ]
    },
    {
      "cell_type": "code",
      "execution_count": 21,
      "metadata": {
        "id": "QzxVblRl2YBl",
        "outputId": "ee9d26da-5974-4017-b8ca-7b459c017ec6",
        "colab": {
          "base_uri": "https://localhost:8080/"
        }
      },
      "outputs": [
        {
          "output_type": "stream",
          "name": "stdout",
          "text": [
            "Homer is now 42 years old.\n",
            "Marge is now 41 years old.\n",
            "Bart is now 13 years old.\n",
            "Maggie is now 3 years old.\n",
            "Lisa is now 11 years old.\n",
            "Grandpa is now 69 years old.\n"
          ]
        }
      ],
      "source": [
        "# Write for loop here\n",
<<<<<<< HEAD:CodeSprints/Python101.ipynb
        "for i in range(len(names_and_ages[0])):\n",
        "    if names_and_ages[0][i] == \"Maggie\":\n",
        "\n",
        "        continue\n",
        "    else:\n",
        "        names_and_ages[1][i] += 1\n",
        "\n",
        "for i in range(len(names_and_ages[0])):\n",
        "    print(f\"{names_and_ages[0][i]} is now {names_and_ages[1][i]} years old.\")"
=======
        "for y in range(len(ages)):\n",
        "    if names[y] != \"Maggie\":\n",
        "        ages[y] = ages[y] + 1"
>>>>>>> upstream/main:CodeSprints/Python101_solutions.ipynb
      ]
    },
    {
      "cell_type": "markdown",
      "metadata": {
        "id": "5UnXEja62YBl"
      },
      "source": [
        "# numpy arrays and pandas dataframes"
      ]
    },
    {
      "cell_type": "markdown",
      "metadata": {
        "id": "MS3gmeEm2YBl"
      },
      "source": [
        "or loops can take a lot of time on large datasets. To deal with this issue, we can rely on two other packages for data structures, called numpy and pandas.\n",
        "\n",
        "*Packages* are collections of *modules*. *Modules* contain executables, functions, and object types that someone else has already written for you.\n",
        "\n",
        "Numpy arrays are standard gridded data formats (lists, matrices, and multi-dimensional arrays) where all items are of one data type, and have implicit indexing. [Click here to learn more](https://www.earthdatascience.org/courses/intro-to-earth-data-science/scientific-data-structures-python/numpy-arrays/)\n",
        "\n",
        "\n",
        "Pandas data frames allow for mixed data types to be stored in different columns, and have explicit indicing. Pandas data frames work just like excel spreadsheets. [Click here to learn more](https://www.earthdatascience.org/courses/intro-to-earth-data-science/scientific-data-structures-python/pandas-dataframes/). Either numpy arrays or pandas data frames allow mathematical operators to be applied to all numeric elements.\n",
        "\n",
        "We're going to start off by loading the numpy and pandas packages. We're going to short their names to \"np\" and \"pd\", just so we don't have to type as many characters. These packages should have been downloaded automatically in Anaconda, but if you can't load them, raise your hand and share you're screen. We'll talk about installing packages and everyone will be all the wiser.\n",
        "\n",
        "Note: if importing python packages is new to you, please [Click here to learn more](https://www.earthdatascience.org/courses/intro-to-earth-data-science/python-code-fundamentals/use-python-packages/)."
      ]
    },
    {
      "cell_type": "code",
      "execution_count": null,
      "metadata": {
        "id": "xmHK9Gkt2YBm"
      },
      "outputs": [],
      "source": [
        "import numpy as np #import the numpy package, and call it np\n",
        "ages = np.array(ages)\n",
        "ages + 5\n",
        "#Wait! Did you get an error? Read it carefull...and if it doesn't make sense, try Googling it."
      ]
    },
    {
      "cell_type": "code",
      "execution_count": null,
      "metadata": {
        "id": "I0Lq8lRs2YBm",
        "scrolled": true
      },
      "outputs": [],
      "source": [
        "import pandas as pd #import the pandas pacakge, and call it pd\n",
        "names_and_ages = pd.DataFrame({'names':names,'ages':ages})\n",
        "print(names_and_ages)\n",
        "type(names_and_ages)\n",
        "#How does the \"type\" of variable change?"
      ]
    },
    {
      "cell_type": "markdown",
      "metadata": {
        "id": "S1iWyKr72YBm"
      },
      "source": [
        "The cell bellow shows how to add a new column to a pandas data frame called 'ages_5yr', and how to calculate values for the new column:"
      ]
    },
    {
      "cell_type": "code",
      "execution_count": null,
      "metadata": {
        "id": "zPwvkba02YBn"
      },
      "outputs": [],
      "source": [
        "names_and_ages['ages_5yr']=names_and_ages.ages + 5\n",
        "print(names_and_ages)"
      ]
    },
    {
      "cell_type": "markdown",
      "metadata": {
        "id": "x-A1j82L2YBn"
      },
      "source": [
        "There are three(?) ways to select a column in a pandas dataframe:\n",
        "\n",
        "*? = probably many more!"
      ]
    },
    {
      "cell_type": "code",
      "execution_count": null,
      "metadata": {
        "id": "hkM74eLc2YBn"
      },
      "outputs": [],
      "source": [
        "print(names_and_ages['names']) #index by column name"
      ]
    },
    {
      "cell_type": "code",
      "execution_count": null,
      "metadata": {
        "id": "HQFTGA5G2YBn"
      },
      "outputs": [],
      "source": [
        "print(names_and_ages.names) #call column name as an object attribute"
      ]
    },
    {
      "cell_type": "code",
      "execution_count": null,
      "metadata": {
        "id": "_Br6mw_j2YBn"
      },
      "outputs": [],
      "source": [
        "print(names_and_ages.iloc[:,0]) #use pandas built-in indexing function"
      ]
    },
    {
      "cell_type": "markdown",
      "metadata": {
        "id": "fGQxycM-2YBn"
      },
      "source": [
        "The last option, iloc, is a pandas function. The first slot (before the comma) tells us which *rows* to pick. The second slot (after the comma) tells us which *columns* to pick. To pick find the value \"ages_5yrs\" of the first row, for example, we could use iloc like this:"
      ]
    },
    {
      "cell_type": "code",
      "execution_count": null,
      "metadata": {
        "id": "Yf0Y58if2YBn"
      },
      "outputs": [],
      "source": [
        "print(names_and_ages.iloc[0,2])"
      ]
    },
    {
      "cell_type": "markdown",
      "metadata": {
        "id": "Dg1uWLFn2YBo"
      },
      "source": [
        "## TASK 11:\n",
        "Create a new column in names_and_ages called \"age_months\", and populate it with each indiviuals age in months (approximately age in years times 12)."
      ]
    },
    {
      "cell_type": "code",
      "execution_count": null,
      "metadata": {
        "id": "N44cck_Z2YBo"
      },
      "outputs": [],
      "source": [
        "#Complete task eleven in the space below\n",
        "names_and_ages['age_months'] = names_and_ages.ages*12\n",
        "names_and_ages"
      ]
    },
    {
      "cell_type": "markdown",
      "metadata": {
        "id": "zEIGE4U52YBo"
      },
      "source": [
        "## TASK 12:\n",
        "Create a new column in names_and_ages called \"maturity\", and populate it with \"adult\", \"adolescent\", and \"child\", based on the age cutoffs mentioned above."
      ]
    },
    {
      "cell_type": "code",
      "execution_count": null,
      "metadata": {
        "id": "VUp7Fgs_2YBo"
      },
      "outputs": [],
      "source": [
        "# Create new column, fill it with empty values (np.NaN)\n",
        "names_and_ages['maturity']=np.NaN\n",
        "\n",
        "# Write for loop here\n",
        "for i in range(names_and_ages.shape[0]):\n",
        "    if names_and_ages.ages[i]>= 18:\n",
        "        names_and_ages.maturity.iloc[i] = \"adult\"\n",
        "    elif names_and_ages.ages[i]>=10:\n",
        "        names_and_ages.maturity.iloc[i] = \"adolescent\"\n",
        "    else:\n",
        "        names_and_ages.maturity.iloc[i] = \"child\"\n",
        "\n",
        "print(names_and_ages)\n",
        "\n",
        "# Notice that warning message below?\n",
        "# A warning message generally means that the code was executed, but there are issues.\n",
        "# I used a slow indexing method here. There is a better way.\n",
        "# Click the link below to learn how to do it better.\n"
      ]
    },
    {
      "cell_type": "markdown",
      "metadata": {
        "id": "JIvlP68o2YBp"
      },
      "source": [
        "# Read in data.\n",
        "You will often be using python to process files or data stored locally on your computer or server. Here will learn how to use the package os to set a path to the files you want, called your working directory.\n",
        "\n",
        "Note that if you're running this notebook in Google Colab, your working directory is a folder on a Google Server somewhere."
      ]
    },
    {
      "cell_type": "code",
      "execution_count": null,
      "metadata": {
        "id": "gLYEHJRh2YBp"
      },
      "outputs": [],
      "source": [
        "import os #read in the os package, more info here: https://docs.python.org/3/library/os.html\n",
        "\n",
        "os.listdir()"
      ]
    },
    {
      "cell_type": "markdown",
      "metadata": {
        "id": "n3AGrLY14tXD"
      },
      "source": [
        "## Getting a dataset onto Google Drive and accessing your Google Drive via Google Colab.\n",
        "\n",
        "If you are not currently accessing this file from the EnvDatSci22 class repository, you probably opened it as a link right from Blackboard > Coursework > 3.1 Python 101.\n",
        "\n",
        "Go back to that Blackboard page. Click on the link called [USGS_04240105_SYRACUSE_NY.csv](https://blackboard.syracuse.edu/bbcswebdav/pid-8320683-dt-content-rid-94758325_1/xid-94758325_1). This will downlad a .csv file to the default download location on your computer.\n",
        "\n",
        "In another browser tab, sign into your [Google Drive](https://drive.google.com/). Create a new folder called \"data\". Once inside the folder, upload that csv file you just downloaded.\n",
        "\n",
        "Run the cell below to mount your Google Drive to Google Colab.\n",
        "\n",
        "Note: if you have more than one Google account, make sure you're mounting the right Google Drive!"
      ]
    },
    {
      "cell_type": "code",
      "execution_count": null,
      "metadata": {
        "id": "EBdDnIkU6BfU"
      },
      "outputs": [],
      "source": [
        "from google.colab import drive\n",
        "drive.mount('/content/drive')\n",
        "\n",
        "os.chdir('/content/drive/MyDrive')"
      ]
    },
    {
      "cell_type": "markdown",
      "metadata": {
        "id": "doNW25622YBp"
      },
      "source": [
        "This .csv file is a record of daily discharge from a USGS stream gage near campus for the past year. It contains two columns, \"Date\" and \"Discharge\". It was downloaded with some modifications from [https://maps.waterdata.usgs.gov/mapper/index.html]. This is a great source of data for surface water measurements!\n",
        "\n",
        "Now that you've got the filepath set up so that python can see your stream discharge data, let's open it as a pandas data frame using the pandas.read_csv() function. This is similar to what we would do opening new data in Excel"
      ]
    },
    {
      "cell_type": "code",
      "execution_count": null,
      "metadata": {
        "id": "0NqPMuNC2YBp"
      },
      "outputs": [],
      "source": [
        "#If you are running this from Google Colab outside the GitHub repository, uncoment the line below\n",
        "stream = pd.read_csv('data/USGS_04240105_SYRACUSE_NY.csv', infer_datetime_format=True)\n",
        "\n",
        "#If you are running this from a GitHub repository, uncomment the line below.\n",
        "#stream = pd.read_csv('../data/USGS_04240105_SYRACUSE_NY.csv', infer_datetime_format=True)\n",
        "\n",
        "print(type(stream))\n",
        "\n",
        "\n",
        "#the \"head\" function is built into a pandas.DataFrame object, and it allows you to specify the number of rows you want to see\n",
        "stream.head(5)"
      ]
    },
    {
      "cell_type": "markdown",
      "metadata": {
        "id": "6kheER2k2YBq"
      },
      "source": [
        "##### Here, we see the date (as \"%m/%d/%Y\" format) and the mean daily discharge in cubic feet/second measured by the streamgage for each day.\n"
      ]
    },
    {
      "cell_type": "markdown",
      "metadata": {
        "id": "sXGj7WEa2YBq"
      },
      "source": [
        "# Check documentation on an object\n",
        "The pandas dataframe is an object that is associated with many attributes and functions. How can we tell what other people have enabled their modules to do, and learn how to use them?\n",
        "\n",
        "Remember, we just read in our data (USGS_04240105_SYRACUSE_NY.csv\") as a 'pandas.core.frame.DataFrame'. What does that mean?"
      ]
    },
    {
      "cell_type": "code",
      "execution_count": null,
      "metadata": {
        "id": "aYyEX75Q2YBq"
      },
      "outputs": [],
      "source": [
        "#We can ask a question:\n",
        "?stream"
      ]
    },
    {
      "cell_type": "code",
      "execution_count": null,
      "metadata": {
        "id": "V_rQz_6R2YBq"
      },
      "outputs": [],
      "source": [
        "#We can ask a deeper queston:\n",
        "??stream\n",
        "#This gives you full documentation"
      ]
    },
    {
      "cell_type": "code",
      "execution_count": null,
      "metadata": {
        "id": "itDzoLUP2YBr"
      },
      "outputs": [],
      "source": [
        "#Or we can use the 'dot' 'tab' magic.\n",
        "stream.\n",
        "#Don't click Enter!!! Click 'Tab'. What happens?"
      ]
    },
    {
      "cell_type": "code",
      "execution_count": null,
      "metadata": {
        "id": "uJWIRB832YBr"
      },
      "outputs": [],
      "source": [
        "#We can use 'dot' 'tab' and question marks together!\n",
        "?stream.min"
      ]
    },
    {
      "cell_type": "markdown",
      "metadata": {
        "id": "7B-UvMtc2YBr"
      },
      "source": [
        "\n",
        "## TASK 13: use pandas.DataFrame built in functions to determine the minimum, maximum, and mean daily discharge over the record for the station."
      ]
    },
    {
      "cell_type": "code",
      "execution_count": null,
      "metadata": {
        "id": "0wlzj7Cb2YBr"
      },
      "outputs": [],
      "source": [
        "#use pandas.DataFrame functions to assign appropriate values to the variables here.\n",
        "min_dis = stream.Discharge.min()\n",
        "max_dis = stream.Discharge.max()\n",
        "mean_dis = stream.Discharge.mean()\n",
        "print(min_dis, max_dis, mean_dis)"
      ]
    },
    {
      "cell_type": "markdown",
      "metadata": {
        "id": "STqv3bd-2YBs"
      },
      "source": [
        "## TASK 14: create a new column called \"Discharge_total\" where cumulative daily discharge is calculated (hint: there are 24 x 60 x 60 seconds in a day)"
      ]
    },
    {
      "cell_type": "code",
      "execution_count": null,
      "metadata": {
        "id": "T37eb3cW2YBs"
      },
      "outputs": [],
      "source": [
        "#enter calculations here\n",
        "stream['Discharge_total'] = stream.Discharge*24*60*60\n",
        "stream.head()"
      ]
    },
    {
      "cell_type": "markdown",
      "metadata": {
        "id": "mCIEZzEM2YBs"
      },
      "source": [
        "## EXTRA CREDIT: Use indexing to determine the DATE on which the maximum daily discharge occured.\n",
        "(Hint! check out ?stream.iloc and ?stream.argmax, then try Googling \"Find row where value of column is maximum in pandas DataFrame\" or something similar)\n",
        "\n",
        "(Still stuck? Enter the last thing you tried in this box, and then post your unsolved code on the Questions and Answers page on blackboard)."
      ]
    },
    {
      "cell_type": "code",
      "execution_count": null,
      "metadata": {
        "id": "K8HNETRl2YBs"
      },
      "outputs": [],
      "source": [
        "#Type your answer here, see if you can get it in one line of code!\n",
        "\n",
        "stream.Date.iloc[stream['Discharge'].idxmax()]"
      ]
    },
    {
      "cell_type": "markdown",
      "metadata": {
        "id": "SZPJwwlb2YBt"
      },
      "source": [
        "# You're almost done for today! Last steps:\n",
        "## * save your .ipynb: go to file > Save a copy on Google Drive\n",
        "## * share the Python101.ipynb with me at ekcarter@g.syr.edu\n",
        "\n",
        "## If this was brand new to you, please take time to work through Sections 4,6, and 7 in [https://www.earthdatascience.org/courses/intro-to-earth-data-science/]"
      ]
    }
  ],
  "metadata": {
    "colab": {
      "provenance": [],
      "include_colab_link": true
    },
    "kernelspec": {
      "display_name": "Python 3 (ipykernel)",
      "language": "python",
      "name": "python3"
    },
    "language_info": {
      "codemirror_mode": {
        "name": "ipython",
        "version": 3
      },
      "file_extension": ".py",
      "mimetype": "text/x-python",
      "name": "python",
      "nbconvert_exporter": "python",
      "pygments_lexer": "ipython3",
      "version": "3.9.12"
    }
>>>>>>> b72c414 (Created using Colab)
  },
  {
   "cell_type": "markdown",
   "metadata": {
    "id": "wJOJM85L2YBJ"
   },
   "source": [
    "# Welcome to jupyter notebooks!\n",
    "Congratulations, you have opened a Jupyter Notebook! The hardest step is always the first one.\n",
    "\n",
    "Learning objectives:\n",
    "1. Get comfortable with a jupyter notebook IDE\n",
    "2. Execute code in Google Colab\n",
    "3. Understand data types in python\n",
    "4. Manipulate datasets in Python\n",
    "\n"
   ]
  },
  {
   "cell_type": "markdown",
   "metadata": {
    "id": "_VfP8HKX2YBL"
   },
   "source": [
    "[![Open In Colab](https://colab.research.google.com/assets/colab-badge.svg)](https://colab.research.google.com/github/LizCarter492/EnvDatSci22/blob/master/CodeSprints/Python101.ipynb)"
   ]
  },
  {
   "cell_type": "markdown",
   "metadata": {
    "id": "CjoP2y_d2YBM"
   },
   "source": [
    "## What is a Jupyter Notebook?\n",
    "From www.jupyter.org:\n",
    ">Jupyter Notebooks are an open document format based on JSON. They contain a complete record of the user's sessions and include code, narrative text, equations, and rich output.\n",
    "\n",
    "On the top menu, go to \"Cell\" > \"Cell Type\"\n",
    "\n",
    "The first two options, Code, and Markdown, are our primary interests in this class.\n",
    "\n",
    "**Code cells (below)** allow you to run and execute Python code. Python commands will bring data from storage or the internet into RAM, allow you to manipulate the data, and allow you to print outputs, results, or figures directly to the screen of this notebook\n",
    "\n",
    "**Markdown cells (like this one)** allow you to write and format text descriptions, link to websites, upload and display videos and images, you name it. To learn more about Markdown formatting:\n",
    "1. Double click on this text. This opens the Markdown cell, allowing you to edit it.\n",
    "2. [Click on this link to learn about how to format text in markdown.](https://github.com/adam-p/markdown-here/wiki/Markdown-Cheatsheet)"
   ]
  },
  {
   "cell_type": "markdown",
   "metadata": {
    "id": "jB_tTbFp2YBN"
   },
   "source": [
    "## What is a variable?\n",
    "Your computer computes by taking data stored in files (either on your hard drive or on the internet) and reading them into random access memory (RAM), where the data can interact directly with your computers processors.\n",
    "\n",
    "In programming languages like R and Python, we know where to find data objects in RAM based on the names we give them. These are called variables.\n",
    "\n",
    "In the cell below, the variables are the words \"name,\" \"age\", \"address\", and \"story\".\n",
    "\n",
    "After the equal sign, we assign a certain data value to each of these variable names.\n",
    "\n",
    "## TASK 1: In the code cell below, change the variable names to make the story reflect who you are.\n"
   ]
  },
  {
   "cell_type": "code",
   "execution_count": null,
   "metadata": {
    "colab": {
     "base_uri": "https://localhost:8080/"
    },
    "id": "dDbAs3T32YBO",
    "outputId": "1191e10f-3808-470f-ec55-51e556b49235"
   },
   "outputs": [
    {
     "name": "stdout",
     "output_type": "stream",
     "text": [
      "My name is Bedros. I am 30 years old. \n",
      "I am a data scientist! \n",
      "It's kind of like being a wizard. \n",
      "To see if I can tell you something about your environmental past or future, visit me at 158 Link Hall.\n"
     ]
    }
   ],
   "source": [
    "name = \"Bedros\" #type your name before the pound sign, make sure you put it in quotes!\n",
    "age = \"30\" #type your age before the pound sign, make sure you put it in quotes! More on this later.\n",
    "address = \"158 Link Hall\" #type your address before the pound sign, make sure you put it in quotes!\n",
    "story = \"My name is \" + name + \". I am \" + age + \" years old. \\nI am a data scientist! \\nIt's kind of like being a wizard. \\nTo see if I can tell you something about your environmental past or future, visit me at \" + address + \".\"\n",
    "print(story)\n"
   ]
  },
  {
   "cell_type": "markdown",
   "metadata": {
    "id": "BoE_OPTr2YBQ"
   },
   "source": [
    "## Variable types:\n",
    "Variables are names in your python environment where you store values. A variable can be a number, a character string, or a more complex data structure (such as a pandas spatial dataframe...more later).\n",
    "\n",
    "At the most basic level, variables representing single values can either be numbers or strings.\n",
    "\n",
    "Numeric values can be stored as intergers, floating point numbers, or complex numbers.\n",
    "\n",
    "Strings represent strings of characters, like writing.\n",
    "\n",
    "We find out what type of variable we're dealing with by using the type() function.\n",
    "\n",
    "More info here: https://mindmajix.com/python-variable-types"
   ]
  },
  {
   "cell_type": "code",
   "execution_count": null,
   "metadata": {
    "id": "NuHC8qRs2YBR"
   },
   "outputs": [],
   "source": [
    "from IPython.display import Image\n",
    "Image(\"https://cdn.mindmajix.com/blog/images/Screenshot_12-460x385.png\")"
   ]
  },
  {
   "cell_type": "code",
   "execution_count": null,
   "metadata": {
    "colab": {
     "base_uri": "https://localhost:8080/"
    },
    "id": "DQ9O8ML12YBS",
    "outputId": "1e46c404-3f16-452b-c4d5-8db1ffbb9cc9"
   },
   "outputs": [
    {
     "name": "stdout",
     "output_type": "stream",
     "text": [
      "<class 'str'>\n",
      "<class 'str'>\n",
      "<class 'str'>\n",
      "<class 'str'>\n"
     ]
    }
   ],
   "source": [
    "print(type(name))\n",
    "print(type(age))\n",
    "print(type(address))\n",
    "print(type(story))"
   ]
  },
  {
   "cell_type": "code",
   "execution_count": null,
   "metadata": {
    "colab": {
     "base_uri": "https://localhost:8080/"
    },
    "id": "trgnWajj2YBT",
    "outputId": "e1361f7b-74ac-4e38-beac-4d8390d2fad6"
   },
   "outputs": [
    {
     "name": "stdout",
     "output_type": "stream",
     "text": [
      "30.0\n",
      "<class 'float'>\n"
     ]
    }
   ],
   "source": [
    "#We can convert numeric strings to numeric formats using either float() or int()\n",
    "age = float(age)\n",
    "print(age)\n",
    "print(type(age))\n"
   ]
  },
  {
   "cell_type": "code",
   "execution_count": null,
   "metadata": {
    "colab": {
     "base_uri": "https://localhost:8080/"
    },
    "id": "fZbHn4Nq2YBU",
    "outputId": "f242faf6-bba0-4da4-c025-0c5b66b1e83a"
   },
   "outputs": [
    {
     "name": "stdout",
     "output_type": "stream",
     "text": [
      "30\n",
      "<class 'int'>\n"
     ]
    }
   ],
   "source": [
    "age=int(age)\n",
    "print(age)\n",
    "print(type(age))\n"
   ]
  },
  {
   "cell_type": "code",
   "execution_count": null,
   "metadata": {
    "colab": {
     "base_uri": "https://localhost:8080/",
     "height": 193
    },
    "id": "c250Qu6C2YBV",
    "outputId": "f01991bf-b7cd-47ab-8800-a444582f611e"
   },
   "outputs": [
    {
     "ename": "TypeError",
     "evalue": "can only concatenate str (not \"int\") to str",
     "output_type": "error",
     "traceback": [
      "\u001b[0;31m---------------------------------------------------------------------------\u001b[0m",
      "\u001b[0;31mTypeError\u001b[0m                                 Traceback (most recent call last)",
      "\u001b[0;32m<ipython-input-5-231d074fea70>\u001b[0m in \u001b[0;36m<cell line: 3>\u001b[0;34m()\u001b[0m\n\u001b[1;32m      1\u001b[0m \u001b[0;31m#But we cannot input a numeric value into a string:\u001b[0m\u001b[0;34m\u001b[0m\u001b[0;34m\u001b[0m\u001b[0m\n\u001b[1;32m      2\u001b[0m \u001b[0;31m#Copy and paste this code into the code cell under task 2. Edit it to complete task 2.\u001b[0m\u001b[0;34m\u001b[0m\u001b[0;34m\u001b[0m\u001b[0m\n\u001b[0;32m----> 3\u001b[0;31m \u001b[0mstory\u001b[0m \u001b[0;34m=\u001b[0m \u001b[0;34m\"My name is \"\u001b[0m \u001b[0;34m+\u001b[0m \u001b[0mname\u001b[0m \u001b[0;34m+\u001b[0m \u001b[0;34m\". I am \"\u001b[0m \u001b[0;34m+\u001b[0m \u001b[0mage\u001b[0m \u001b[0;34m+\u001b[0m \u001b[0;34m\" years old. Find me at \"\u001b[0m \u001b[0;34m+\u001b[0m \u001b[0maddress\u001b[0m \u001b[0;34m+\u001b[0m \u001b[0;34m\".\"\u001b[0m\u001b[0;34m\u001b[0m\u001b[0;34m\u001b[0m\u001b[0m\n\u001b[0m\u001b[1;32m      4\u001b[0m \u001b[0mprint\u001b[0m\u001b[0;34m(\u001b[0m\u001b[0mstory\u001b[0m\u001b[0;34m)\u001b[0m\u001b[0;34m\u001b[0m\u001b[0;34m\u001b[0m\u001b[0m\n",
      "\u001b[0;31mTypeError\u001b[0m: can only concatenate str (not \"int\") to str"
     ]
    }
   ],
   "source": [
    "#But we cannot input a numeric value into a string:\n",
    "#Copy and paste this code into the code cell under task 2. Edit it to complete task 2.\n",
    "story = \"My name is \" + name + \". I am \" + age + \" years old. Find me at \" + address + \".\"\n",
    "print(story)\n"
   ]
  },
  {
   "cell_type": "markdown",
   "metadata": {
    "id": "_X1fuTkT2YBW"
   },
   "source": [
    "## Error messages\n",
    "Just now, I asked you to do something that breaks the rules of how the software functions. This is called an error message.\n",
    "\n",
    "When you see an error message, **DO NOT PANIC!!** I know they look scary, but error messages are your friend. Error messages are written to give you very specific examples of how to fix your code. Select the text in the error message, copy it, and paste it into a google search. See if the internet can help you fix the issue.\n",
    "\n",
    "## TASK 2:\n",
    "Edit the code in the above cell so that it will print your story without adding any additional lines of code."
   ]
  },
  {
   "cell_type": "code",
   "execution_count": null,
   "metadata": {
    "colab": {
     "base_uri": "https://localhost:8080/"
    },
    "id": "q7WIdjut2YBX",
    "outputId": "cdb1200b-14d5-4ace-86f3-d317cb19d6ed"
   },
   "outputs": [
    {
     "name": "stdout",
     "output_type": "stream",
     "text": [
      "My name is Bedros. I am 30 years old. \n",
      "I am a data scientist! \n",
      "It's kind of like being a wizard. \n",
      "To see if I can tell you something about your environmental past or future, visit me at 158 Link Hall.\n"
     ]
    }
   ],
   "source": [
    "#Type story herestory = \"My name is \" + name + \". I am \" + str(age) + \" years old. Find me at \" + address + \".\"\n",
    "print(story)\n",
    "\n"
   ]
  },
  {
   "cell_type": "markdown",
   "metadata": {
    "id": "pcpAZ3a02YBX"
   },
   "source": [
    "## Mathematical operators in python:\n",
    "Python is a really powerful calculator. We use python commands and functions to process and analyse many different types of data. Below is a summary of common mathematical operators in Python.\n",
    "\n",
    "**Arithmatic operators in python:** are used for arithmatic.\n",
    "![PythonOperators.png](data:image/png;base64,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)\n",
    "\n",
    "**Relational operators in python:** are used for quantitative value comparisons.\n",
    "![relational-operator-in-python.png](data:image/png;base64,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)\n",
    "\n",
    "**Bitwise operators in python:** are used for binary value comparisons.\n",
    "\n",
    "![bitwise-opeartor-in-python.png](data:image/png;base64,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)\n",
    "\n",
    "**Assignment operators in python:** are used to assign values to variables.\n",
    "\n",
    "![Assignment-Operators-python.png](data:image/png;base64,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)"
   ]
  },
  {
   "cell_type": "markdown",
   "metadata": {
    "id": "3RO4ENpZ2YBZ"
   },
   "source": [
    "We can apply mathematical operators to variables by writing equations, just like we do with a calculator.\n",
    "\n",
    "## TASK 3:\n",
    "Using your \"age\" variable. how old will you be in five years (call this variable \"a\")? How many months have you been alive (we're going to estimate this, based on the fact that there are 12 months in a year, call this variable \"b\")? Are you older than 100 (call this variable \"c\")?"
   ]
  },
  {
   "cell_type": "code",
   "execution_count": null,
   "metadata": {
    "colab": {
     "base_uri": "https://localhost:8080/"
    },
    "id": "f3dsSKp_2YBZ",
    "outputId": "2590dca9-f06e-4ab2-8e2d-2997b4ced0e4"
   },
   "outputs": [
    {
     "name": "stdout",
     "output_type": "stream",
     "text": [
      "35 360 False\n"
     ]
    }
   ],
   "source": [
    "#first, convert \"age\" back to a numeric (float) variable\n",
    "age = 30\n",
    "\n",
    "#Complete your equations in python syntax below. Remember to use \"age\" as a variable.\n",
    "a = age +5\n",
    "b =age*12\n",
    "c =age>100\n",
    "print(a,b,c)"
   ]
  },
  {
   "cell_type": "markdown",
   "metadata": {
    "id": "WJKiYXwi2YBa"
   },
   "source": [
    "## Functions\n",
    "Functions are another type of variable. Instead of storing a data value, they store a set of instructions on how to process the data. Often in life, we want to repeat the same sequence of operations on multiple values. To do this, we use functions. Functions are blocks of code that will repeat the same task over and over again (return some outputs) on different variables (inputs). [Learn more about functions here](https://docs.python.org/3/tutorial/controlflow.html#defining-functions)"
   ]
  },
  {
   "cell_type": "code",
   "execution_count": null,
   "metadata": {
    "colab": {
     "base_uri": "https://localhost:8080/"
    },
    "id": "OG-b15zX2YBa",
    "outputId": "8b7faa91-d93d-4570-aa2c-aa0d5930be1a"
   },
   "outputs": [
    {
     "data": {
      "text/plain": [
       "4"
      ]
     },
     "execution_count": 9,
     "metadata": {},
     "output_type": "execute_result"
    }
   ],
   "source": [
    "#For example, this function takes one input value, X:\n",
    "def fun1 (x):\n",
    "\n",
    "#The functions job is to produce the square of x\n",
    "    return x*x # note the indentation\n",
    "\n",
    "fun1(2)\n",
    "# what happens if you delete the indentation?"
   ]
  },
  {
   "cell_type": "code",
   "execution_count": null,
   "metadata": {
    "colab": {
     "base_uri": "https://localhost:8080/"
    },
    "id": "wn2chIzn2YBa",
    "outputId": "e01f690c-15be-4244-9678-2bb0513c4e5a"
   },
   "outputs": [
    {
     "data": {
      "text/plain": [
       "6"
      ]
     },
     "execution_count": 10,
     "metadata": {},
     "output_type": "execute_result"
    }
   ],
   "source": [
    "#Functions can have more than one input:\n",
    "def fun2 (x, y):\n",
    "    return x * y\n",
    "\n",
    "fun2(2,3) #experiment with different values"
   ]
  },
  {
   "cell_type": "code",
   "execution_count": null,
   "metadata": {
    "colab": {
     "base_uri": "https://localhost:8080/"
    },
    "id": "4zTWMDes2YBc",
    "outputId": "37baca9a-3617-439d-e456-16500bf79fcf"
   },
   "outputs": [
    {
     "name": "stdout",
     "output_type": "stream",
     "text": [
      "10\n",
      "100\n"
     ]
    }
   ],
   "source": [
    "#And we often store what the function returns as a new variable\n",
    "#Here, we're creating two variables: x and x_sq\n",
    "x = 10\n",
    "x_sq = fun1(x)\n",
    "\n",
    "print(x)\n",
    "print(x_sq)"
   ]
  },
  {
   "cell_type": "markdown",
   "metadata": {
    "id": "B8DsTqTe2YBc"
   },
   "source": [
    "## Create a function.\n",
    "\n",
    "Functions simplify our workflows as computational scientists, and make it possible for other people to see every step we've make with a computation.\n",
    "\n",
    "## TASK 4:\n",
    "\n",
    "To simplify your future restaurant interactions, write a function that calculates a 15% tip and adds it to any check amount. Name your function tip15. How much will you owe in total on a $42.75 check?"
   ]
  },
  {
   "cell_type": "code",
   "execution_count": null,
   "metadata": {
    "colab": {
     "base_uri": "https://localhost:8080/"
    },
    "id": "TF2eULfe2YBc",
    "outputId": "6f7b7da5-88e9-4882-9cf0-f305c949ad24"
   },
   "outputs": [
    {
     "data": {
      "text/plain": [
       "49.162499999999994"
      ]
     },
     "execution_count": 13,
     "metadata": {},
     "output_type": "execute_result"
    }
   ],
   "source": [
    "#write tip15 function here\n",
    "def tip15 (x):\n",
    "  return x*1.15\n",
    "\n",
    "tip15(42.75)\n"
   ]
  },
  {
   "cell_type": "markdown",
   "metadata": {
    "id": "ZhQlmZqT2YBc"
   },
   "source": [
    "## TASK 5:\n",
    "\n",
    "To customize your future restaurant interactions to future exemplary service, write a function that calculates a variable tip and adds it to any check amount. Name your function tip. How much will you owe in total if you're tipping 25% on a $42.75 check?"
   ]
  },
  {
   "cell_type": "code",
   "execution_count": null,
   "metadata": {
    "colab": {
     "base_uri": "https://localhost:8080/"
    },
    "id": "-zSWJ5Ys2YBd",
    "outputId": "c0b1f11f-df53-4ca1-cfd3-b0fee793a59e"
   },
   "outputs": [
    {
     "data": {
      "text/plain": [
       "53.4375"
      ]
     },
     "execution_count": 14,
     "metadata": {},
     "output_type": "execute_result"
    }
   ],
   "source": [
    "#write tip function here\n",
    "def tip (x,y):\n",
    "  return y*(1+x/100)\n",
    "\n",
    "tip (25,42.75)\n"
   ]
  },
  {
   "cell_type": "markdown",
   "metadata": {
    "id": "-zbcpGzj2YBd"
   },
   "source": [
    "## Lists\n",
    "Python and R both make it possible to create your own data objects for storing lots of different values.\n",
    "\n",
    "One of the simplest ways to create a variable containing multiple values is to create a list.\n",
    "\n",
    "[Click here to learn more.](https://www.earthdatascience.org/courses/intro-to-earth-data-science/python-code-fundamentals/)\n",
    "\n",
    "Using base python, you can store multiple variables as a list by wrapping them in square brackets. A list can accept any kind of variable: float, integer, or string:"
   ]
  },
  {
   "cell_type": "code",
   "execution_count": null,
   "metadata": {
    "colab": {
     "base_uri": "https://localhost:8080/"
    },
    "id": "a7PgOjXl2YBd",
    "outputId": "b1392e2e-6495-46d2-dd68-162539de901c"
   },
   "outputs": [
    {
     "name": "stdout",
     "output_type": "stream",
     "text": [
      "['Homer', 'Marge', 'Bart', 'Maggie', 'Lisa']\n",
      "[40, 39, 11, 1, 9]\n"
     ]
    },
    {
     "data": {
      "text/plain": [
       "list"
      ]
     },
     "execution_count": 15,
     "metadata": {},
     "output_type": "execute_result"
    }
   ],
   "source": [
    "names = [\"Homer\", \"Marge\", \"Bart\", \"Maggie\", \"Lisa\"]\n",
    "ages = [40,39,11,1,9]\n",
    "print(names)\n",
    "print(ages)\n",
    "type(names)\n",
    "type(ages)"
   ]
  },
  {
   "cell_type": "markdown",
   "metadata": {
    "id": "HSi7Mlzv2YBe"
   },
   "source": [
    "We can make lists of lists, which are more complex data objects:"
   ]
  },
  {
   "cell_type": "code",
   "execution_count": null,
   "metadata": {
    "colab": {
     "base_uri": "https://localhost:8080/"
    },
    "id": "7u9tWMn42YBe",
    "outputId": "1e00dd8b-b1af-4ee5-87bb-ddb3a60a41a8"
   },
   "outputs": [
    {
     "name": "stdout",
     "output_type": "stream",
     "text": [
      "[['Homer', 'Marge', 'Bart', 'Maggie', 'Lisa'], [40, 39, 11, 1, 9]]\n"
     ]
    },
    {
     "data": {
      "text/plain": [
       "list"
      ]
     },
     "execution_count": 16,
     "metadata": {},
     "output_type": "execute_result"
    }
   ],
   "source": [
    "names_and_ages = [names, ages]\n",
    "print(names_and_ages)\n",
    "type(names_and_ages)"
   ]
  },
  {
   "cell_type": "markdown",
   "metadata": {
    "id": "vbRYk1Pa2YBe"
   },
   "source": [
    "## Indexing\n",
    "\n",
    "In applications like Microsoft Excel, the user can select individual values in one of two ways. First, they can manually scroll to and select a cell in a spread sheet. The second method would be to specific the specific cell using **indexing** terms. In Excel, the column is always given a letter, the row is given a number value. For multi-dimensional arrays in Excel, the third dimension is given a sheet name. For example, to A1 is the first row in the first column of data.\n",
    "\n",
    "In python and R, indexing is very easy and very powerful, once you get used to it.\n",
    "\n",
    "To get us started, we can extract individual values from the list using a square bracket. We'd use our python mathematical operator on this single variable the same way we would use a calculator. For example, the age of the first person in the list is:\n",
    "\n",
    "*Note: in python, the first value in a list/row/column will be zero; in R it will be 1*"
   ]
  },
  {
   "cell_type": "code",
   "execution_count": null,
   "metadata": {
    "colab": {
     "base_uri": "https://localhost:8080/"
    },
    "id": "UGUn_S642YBe",
    "outputId": "d9119c20-6387-466d-af57-d909bbeb224b"
   },
   "outputs": [
    {
     "name": "stdout",
     "output_type": "stream",
     "text": [
      "40\n"
     ]
    }
   ],
   "source": [
    "first = ages[0]\n",
    "print(first)"
   ]
  },
  {
   "cell_type": "markdown",
   "metadata": {
    "id": "iq7lhkyT2YBe"
   },
   "source": [
    "And we can ask: How old will the first numeric element on our list be in five years?"
   ]
  },
  {
   "cell_type": "code",
   "execution_count": null,
   "metadata": {
    "colab": {
     "base_uri": "https://localhost:8080/"
    },
    "id": "_iwBxGWW2YBe",
    "outputId": "850d8b48-b45a-4201-e5dd-c5aaf488f0e1"
   },
   "outputs": [
    {
     "data": {
      "text/plain": [
       "45"
      ]
     },
     "execution_count": 18,
     "metadata": {},
     "output_type": "execute_result"
    }
   ],
   "source": [
    "ages[0]+5"
   ]
  },
  {
   "cell_type": "markdown",
   "metadata": {
    "id": "az5rFz0n2YBf"
   },
   "source": [
    "## TASK 6:\n",
    "Find the name and age of the third person in your list"
   ]
  },
  {
   "cell_type": "code",
   "execution_count": null,
   "metadata": {
    "colab": {
     "base_uri": "https://localhost:8080/"
    },
    "id": "s8Ds_LIx2YBf",
    "outputId": "4e81ead1-d3ea-4dcd-e64f-0ce421fbfd55"
   },
   "outputs": [
    {
     "name": "stdout",
     "output_type": "stream",
     "text": [
      "The third person is Bart and they are 11 years old.\n"
     ]
    }
   ],
   "source": [
    "# type answer here\n",
    "names = [\"Homer\", \"Marge\", \"Bart\", \"Maggie\", \"Lisa\"]\n",
    "ages = [40, 39, 11, 1, 9]\n",
    "names_and_ages = [names, ages]\n",
    "third_person_name = names_and_ages[0][2]\n",
    "third_person_age = names_and_ages[1][2]\n",
    "print(f\"The third person is {third_person_name} and they are {third_person_age} years old.\")"
   ]
  },
  {
   "cell_type": "markdown",
   "metadata": {
    "id": "02Z8OYw12YBf"
   },
   "source": [
    "## TASK 7:\n",
    "Add an extra person to the list, named Grandpa, who is 67 years old. *Hint: Google \"add values to a list python\" if you're not sure what to do!!!!"
   ]
  },
  {
   "cell_type": "code",
   "execution_count": null,
   "metadata": {
    "colab": {
     "base_uri": "https://localhost:8080/"
    },
    "id": "ZBFhfRLQ2YBf",
    "outputId": "78f532bf-5876-4134-8acd-765b9cb0f44e"
   },
   "outputs": [
    {
     "name": "stdout",
     "output_type": "stream",
     "text": [
      "Names: ['Homer', 'Marge', 'Bart', 'Maggie', 'Lisa', 'Grandpa']\n",
      "Ages: [40, 39, 11, 1, 9, 67]\n"
     ]
    }
   ],
   "source": [
    "# type answer here\n",
    "names_and_ages[0].append(\"Grandpa\")\n",
    "names_and_ages[1].append(67)\n",
    "print(\"Names:\", names_and_ages[0])\n",
    "print(\"Ages:\", names_and_ages[1])"
   ]
  },
  {
   "cell_type": "markdown",
   "metadata": {
    "id": "r1EAEzpi2YBg"
   },
   "source": [
    "## TASK 8:\n",
    "Maggie just had a birthday! Change her age accordingly in the list."
   ]
  },
  {
   "cell_type": "code",
   "execution_count": null,
   "metadata": {
    "colab": {
     "base_uri": "https://localhost:8080/"
    },
    "id": "TTjJPURM2YBg",
    "outputId": "24bc065d-fd15-4e28-fa93-162701bd848a"
   },
   "outputs": [
    {
     "name": "stdout",
     "output_type": "stream",
     "text": [
      "Names: ['Homer', 'Marge', 'Bart', 'Maggie', 'Lisa', 'Grandpa']\n",
      "Ages: [40, 39, 11, 2, 9, 67]\n"
     ]
    }
   ],
   "source": [
    "maggie_index = names_and_ages[0].index(\"Maggie\")\n",
    "names_and_ages[1][maggie_index] += 1\n",
    "print(\"Names:\", names_and_ages[0])\n",
    "print(\"Ages:\", names_and_ages[1])\n"
   ]
  },
  {
   "cell_type": "markdown",
   "metadata": {
    "id": "e3fwrnv62YBg"
   },
   "source": [
    "Some data types can store multiple types of values, and some data types can only store one type of values. Lists can store elements that are either character strings or numeric. Because of this, we cannot apply a mathematical operator to a list.\n",
    "\n",
    "For example, what happens when we try to run the cell below to find out how old will everyone be in five years?"
   ]
  },
  {
   "cell_type": "code",
   "execution_count": null,
   "metadata": {
    "colab": {
     "base_uri": "https://localhost:8080/"
    },
    "id": "0tXSxws12YBg",
    "outputId": "d389c34d-bdce-4a18-ce96-9b42f1e55fa5"
   },
   "outputs": [
    {
     "name": "stdout",
     "output_type": "stream",
     "text": [
      "In 5 years, Homer will be 45 years old.\n",
      "In 5 years, Marge will be 44 years old.\n",
      "In 5 years, Bart will be 16 years old.\n",
      "In 5 years, Maggie will be 7 years old.\n",
      "In 5 years, Lisa will be 14 years old.\n",
      "In 5 years, Grandpa will be 72 years old.\n"
     ]
    }
   ],
   "source": [
    "ages_in_5_years = [age + 5 for age in ages]\n",
    "for name, age in zip(names, ages_in_5_years):\n",
    "    print(f\"In 5 years, {name} will be {age} years old.\")\n",
    "#this returns an error. But hey! Errors are opportunities! Google your error message, see if you can find a workaround!"
   ]
  },
  {
   "cell_type": "markdown",
   "metadata": {
    "id": "19_S0IPl2YBh"
   },
   "source": [
    "# For loops\n",
    "One way that we can run an entire operation on a list is to use a for loop. A for loop iterates through every element of a sequence, and completes a task or a set of tasks. Example:"
   ]
  },
  {
   "cell_type": "code",
   "execution_count": null,
   "metadata": {
    "colab": {
     "base_uri": "https://localhost:8080/"
    },
    "id": "y7gV1C3e2YBh",
    "outputId": "5c42abdd-9dab-4385-f824-74326fa9d2de"
   },
   "outputs": [
    {
     "name": "stdout",
     "output_type": "stream",
     "text": [
      "cat 3\n",
      "window 6\n",
      "defenestrate 12\n"
     ]
    }
   ],
   "source": [
    "#Measure some strings\n",
    "words = ['cat', 'window', 'defenestrate']\n",
    "for w in words:\n",
    "    print(w, len(w))"
   ]
  },
  {
   "cell_type": "markdown",
   "metadata": {
    "id": "0UNqluId2YBh"
   },
   "source": [
    "This for loop creates a new variable, w, for each element in the words list. One at a time, it applies the operation to each element.\n",
    "\n",
    "[Learn more about for loops here](https://www.earthdatascience.org/courses/earth-analytics/automate-science-workflows/create-for-loops-r/)\n",
    "\n",
    "A very handy function that folks use a lot when write for loops is the range function. range() creates a range object, which generates list of intergers for each element in a series.\n"
   ]
  },
  {
   "cell_type": "code",
   "execution_count": null,
   "metadata": {
    "colab": {
     "base_uri": "https://localhost:8080/"
    },
    "id": "vec-_fC62YBi",
    "outputId": "f632b599-d8b2-4809-99ec-863de40c7bd2"
   },
   "outputs": [
    {
     "name": "stdout",
     "output_type": "stream",
     "text": [
      "6\n",
      "range(0, 6)\n"
     ]
    }
   ],
   "source": [
    "print(len(ages))\n",
    "# What does len() do?\n",
    "print(range(len(ages)))"
   ]
  },
  {
   "cell_type": "code",
   "execution_count": null,
   "metadata": {
    "colab": {
     "base_uri": "https://localhost:8080/"
    },
    "id": "hywN1U-L2YBi",
    "outputId": "f80e7716-8f29-43d0-b721-d89cce4cdbcb"
   },
   "outputs": [
    {
     "name": "stdout",
     "output_type": "stream",
     "text": [
      "40\n",
      "39\n",
      "11\n",
      "2\n",
      "9\n",
      "67\n"
     ]
    }
   ],
   "source": [
    "for y in range(len(ages)):\n",
    "    print(ages[y])"
   ]
  },
  {
   "cell_type": "markdown",
   "metadata": {
    "id": "oTCpPWcI2YBj"
   },
   "source": [
    "## TASK 9:\n",
    "Use the range function in a for loop to add 1 year to everyone's age in the names_and_ages list and print the result to the screen."
   ]
  },
  {
   "cell_type": "code",
   "execution_count": null,
   "metadata": {
    "colab": {
     "base_uri": "https://localhost:8080/"
    },
    "id": "MWA7Vv_D2YBj",
    "outputId": "20a45270-d9f7-4f84-8422-836a2243bb72"
   },
   "outputs": [
    {
     "name": "stdout",
     "output_type": "stream",
     "text": [
      "Homer is now 41 years old.\n",
      "Marge is now 40 years old.\n",
      "Bart is now 12 years old.\n",
      "Maggie is now 3 years old.\n",
      "Lisa is now 10 years old.\n",
      "Grandpa is now 68 years old.\n"
     ]
    }
   ],
   "source": [
    "for i in range(len(names_and_ages[1])):  # Iterate over the length of the ages list\n",
    "    names_and_ages[1][i] += 1\n",
    "\n",
    "for i in range(len(names_and_ages[0])):  # Iterate over the length of the names list\n",
    "    print(f\"{names_and_ages[0][i]} is now {names_and_ages[1][i]} years old.\")\n"
   ]
  },
  {
   "cell_type": "markdown",
   "metadata": {
    "id": "tFVTaarI2YBj"
   },
   "source": [
    "# Be logical!!! if/else statements\n",
    "Another thing that is commonly used in for loops is an if/else statement. This allows us to select certain attributes that we want to use to treat elements that we're iterating over differently."
   ]
  },
  {
   "cell_type": "code",
   "execution_count": null,
   "metadata": {
    "colab": {
     "base_uri": "https://localhost:8080/"
    },
    "id": "r0CobJ0h2YBk",
    "outputId": "11126e44-c7fb-4a83-ea14-db479fb26823"
   },
   "outputs": [
    {
     "name": "stdout",
     "output_type": "stream",
     "text": [
      "Homer is an adult\n",
      "Marge is an adult\n",
      "Bart is an adolescent\n",
      "Maggie is a child\n",
      "Lisa is an adolescent\n",
      "Grandpa is an adult\n"
     ]
    }
   ],
   "source": [
    "for y in range(len(ages)):\n",
    "    if ages[y]>=18:\n",
    "        print(names[y] + \" is an adult\")\n",
    "    elif ages[y] >= 10:\n",
    "        print(names[y]+\" is an adolescent\")\n",
    "    else:\n",
    "        print(names[y] + \" is a child\")"
   ]
  },
  {
   "cell_type": "markdown",
   "metadata": {
    "id": "OJaE2SpF2YBk"
   },
   "source": [
    "The above statement reads: if the age of the person is greater than or equal to 18, the person is an adult, or else if the age of the person is greater than or equal to 10, the person is an adolescent,  or else the person is a child.\n",
    "\n",
    "Pay attention to the use of indentation in the above statement!"
   ]
  },
  {
   "cell_type": "markdown",
   "metadata": {
    "id": "XkhR79Fb2YBk"
   },
   "source": [
    "## TASK 10:\n",
    "Using if, elif, and/or else statements, write a for loop that adds 1 year to everyone's life except Maggie...since we already gave her an extra birthday."
   ]
  },
  {
   "cell_type": "code",
   "execution_count": null,
   "metadata": {
    "colab": {
     "base_uri": "https://localhost:8080/"
    },
    "id": "QzxVblRl2YBl",
    "outputId": "ee9d26da-5974-4017-b8ca-7b459c017ec6"
   },
   "outputs": [
    {
     "name": "stdout",
     "output_type": "stream",
     "text": [
      "Homer is now 42 years old.\n",
      "Marge is now 41 years old.\n",
      "Bart is now 13 years old.\n",
      "Maggie is now 3 years old.\n",
      "Lisa is now 11 years old.\n",
      "Grandpa is now 69 years old.\n"
     ]
    }
   ],
   "source": [
    "# Write for loop here\n",
    "for i in range(len(names_and_ages[0])):\n",
    "    if names_and_ages[0][i] == \"Maggie\":\n",
    "\n",
    "        continue\n",
    "    else:\n",
    "        names_and_ages[1][i] += 1\n",
    "\n",
    "for i in range(len(names_and_ages[0])):\n",
    "    print(f\"{names_and_ages[0][i]} is now {names_and_ages[1][i]} years old.\")"
   ]
  },
  {
   "cell_type": "markdown",
   "metadata": {
    "id": "5UnXEja62YBl"
   },
   "source": [
    "# numpy arrays and pandas dataframes"
   ]
  },
  {
   "cell_type": "markdown",
   "metadata": {
    "id": "MS3gmeEm2YBl"
   },
   "source": [
    "or loops can take a lot of time on large datasets. To deal with this issue, we can rely on two other packages for data structures, called numpy and pandas.\n",
    "\n",
    "*Packages* are collections of *modules*. *Modules* contain executables, functions, and object types that someone else has already written for you.\n",
    "\n",
    "Numpy arrays are standard gridded data formats (lists, matrices, and multi-dimensional arrays) where all items are of one data type, and have implicit indexing. [Click here to learn more](https://www.earthdatascience.org/courses/intro-to-earth-data-science/scientific-data-structures-python/numpy-arrays/)\n",
    "\n",
    "\n",
    "Pandas data frames allow for mixed data types to be stored in different columns, and have explicit indicing. Pandas data frames work just like excel spreadsheets. [Click here to learn more](https://www.earthdatascience.org/courses/intro-to-earth-data-science/scientific-data-structures-python/pandas-dataframes/). Either numpy arrays or pandas data frames allow mathematical operators to be applied to all numeric elements.\n",
    "\n",
    "We're going to start off by loading the numpy and pandas packages. We're going to short their names to \"np\" and \"pd\", just so we don't have to type as many characters. These packages should have been downloaded automatically in Anaconda, but if you can't load them, raise your hand and share you're screen. We'll talk about installing packages and everyone will be all the wiser.\n",
    "\n",
    "Note: if importing python packages is new to you, please [Click here to learn more](https://www.earthdatascience.org/courses/intro-to-earth-data-science/python-code-fundamentals/use-python-packages/)."
   ]
  },
  {
   "cell_type": "code",
   "execution_count": null,
   "metadata": {
    "colab": {
     "base_uri": "https://localhost:8080/"
    },
    "id": "xmHK9Gkt2YBm",
    "outputId": "7fa06f9b-597f-4058-e9e1-da2e85dfa0cf"
   },
   "outputs": [
    {
     "data": {
      "text/plain": [
       "array([47, 46, 18,  8, 16, 74])"
      ]
     },
     "execution_count": 22,
     "metadata": {},
     "output_type": "execute_result"
    }
   ],
   "source": [
    "import numpy as np #import the numpy package, and call it np\n",
    "ages = np.array(ages)\n",
    "ages + 5\n",
    "#Wait! Did you get an error? Read it carefull...and if it doesn't make sense, try Googling it."
   ]
  },
  {
   "cell_type": "code",
   "execution_count": null,
   "metadata": {
    "colab": {
     "base_uri": "https://localhost:8080/",
     "height": 325
    },
    "id": "I0Lq8lRs2YBm",
    "outputId": "4260e583-668e-4543-d1da-76a7ec212b2f",
    "scrolled": true
   },
   "outputs": [
    {
     "name": "stdout",
     "output_type": "stream",
     "text": [
      "     names  ages\n",
      "0    Homer    42\n",
      "1    Marge    41\n",
      "2     Bart    13\n",
      "3   Maggie     3\n",
      "4     Lisa    11\n",
      "5  Grandpa    69\n"
     ]
    },
    {
     "data": {
      "text/html": [
       "<div style=\"max-width:800px; border: 1px solid var(--colab-border-color);\"><style>\n",
       "      pre.function-repr-contents {\n",
       "        overflow-x: auto;\n",
       "        padding: 8px 12px;\n",
       "        max-height: 500px;\n",
       "      }\n",
       "\n",
       "      pre.function-repr-contents.function-repr-contents-collapsed {\n",
       "        cursor: pointer;\n",
       "        max-height: 100px;\n",
       "      }\n",
       "    </style>\n",
       "    <pre style=\"white-space: initial; background:\n",
       "         var(--colab-secondary-surface-color); padding: 8px 12px;\n",
       "         border-bottom: 1px solid var(--colab-border-color);\"><b>pandas.core.frame.DataFrame</b><br/>def __init__(data=None, index: Axes | None=None, columns: Axes | None=None, dtype: Dtype | None=None, copy: bool | None=None) -&gt; None</pre><pre class=\"function-repr-contents function-repr-contents-collapsed\" style=\"\"><a class=\"filepath\" style=\"display:none\" href=\"#\">/usr/local/lib/python3.10/dist-packages/pandas/core/frame.py</a>Two-dimensional, size-mutable, potentially heterogeneous tabular data.\n",
       "\n",
       "Data structure also contains labeled axes (rows and columns).\n",
       "Arithmetic operations align on both row and column labels. Can be\n",
       "thought of as a dict-like container for Series objects. The primary\n",
       "pandas data structure.\n",
       "\n",
       "Parameters\n",
       "----------\n",
       "data : ndarray (structured or homogeneous), Iterable, dict, or DataFrame\n",
       "    Dict can contain Series, arrays, constants, dataclass or list-like objects. If\n",
       "    data is a dict, column order follows insertion-order. If a dict contains Series\n",
       "    which have an index defined, it is aligned by its index. This alignment also\n",
       "    occurs if data is a Series or a DataFrame itself. Alignment is done on\n",
       "    Series/DataFrame inputs.\n",
       "\n",
       "    If data is a list of dicts, column order follows insertion-order.\n",
       "\n",
       "index : Index or array-like\n",
       "    Index to use for resulting frame. Will default to RangeIndex if\n",
       "    no indexing information part of input data and no index provided.\n",
       "columns : Index or array-like\n",
       "    Column labels to use for resulting frame when data does not have them,\n",
       "    defaulting to RangeIndex(0, 1, 2, ..., n). If data contains column labels,\n",
       "    will perform column selection instead.\n",
       "dtype : dtype, default None\n",
       "    Data type to force. Only a single dtype is allowed. If None, infer.\n",
       "copy : bool or None, default None\n",
       "    Copy data from inputs.\n",
       "    For dict data, the default of None behaves like ``copy=True``.  For DataFrame\n",
       "    or 2d ndarray input, the default of None behaves like ``copy=False``.\n",
       "    If data is a dict containing one or more Series (possibly of different dtypes),\n",
       "    ``copy=False`` will ensure that these inputs are not copied.\n",
       "\n",
       "    .. versionchanged:: 1.3.0\n",
       "\n",
       "See Also\n",
       "--------\n",
       "DataFrame.from_records : Constructor from tuples, also record arrays.\n",
       "DataFrame.from_dict : From dicts of Series, arrays, or dicts.\n",
       "read_csv : Read a comma-separated values (csv) file into DataFrame.\n",
       "read_table : Read general delimited file into DataFrame.\n",
       "read_clipboard : Read text from clipboard into DataFrame.\n",
       "\n",
       "Notes\n",
       "-----\n",
       "Please reference the :ref:`User Guide &lt;basics.dataframe&gt;` for more information.\n",
       "\n",
       "Examples\n",
       "--------\n",
       "Constructing DataFrame from a dictionary.\n",
       "\n",
       "&gt;&gt;&gt; d = {&#x27;col1&#x27;: [1, 2], &#x27;col2&#x27;: [3, 4]}\n",
       "&gt;&gt;&gt; df = pd.DataFrame(data=d)\n",
       "&gt;&gt;&gt; df\n",
       "   col1  col2\n",
       "0     1     3\n",
       "1     2     4\n",
       "\n",
       "Notice that the inferred dtype is int64.\n",
       "\n",
       "&gt;&gt;&gt; df.dtypes\n",
       "col1    int64\n",
       "col2    int64\n",
       "dtype: object\n",
       "\n",
       "To enforce a single dtype:\n",
       "\n",
       "&gt;&gt;&gt; df = pd.DataFrame(data=d, dtype=np.int8)\n",
       "&gt;&gt;&gt; df.dtypes\n",
       "col1    int8\n",
       "col2    int8\n",
       "dtype: object\n",
       "\n",
       "Constructing DataFrame from a dictionary including Series:\n",
       "\n",
       "&gt;&gt;&gt; d = {&#x27;col1&#x27;: [0, 1, 2, 3], &#x27;col2&#x27;: pd.Series([2, 3], index=[2, 3])}\n",
       "&gt;&gt;&gt; pd.DataFrame(data=d, index=[0, 1, 2, 3])\n",
       "   col1  col2\n",
       "0     0   NaN\n",
       "1     1   NaN\n",
       "2     2   2.0\n",
       "3     3   3.0\n",
       "\n",
       "Constructing DataFrame from numpy ndarray:\n",
       "\n",
       "&gt;&gt;&gt; df2 = pd.DataFrame(np.array([[1, 2, 3], [4, 5, 6], [7, 8, 9]]),\n",
       "...                    columns=[&#x27;a&#x27;, &#x27;b&#x27;, &#x27;c&#x27;])\n",
       "&gt;&gt;&gt; df2\n",
       "   a  b  c\n",
       "0  1  2  3\n",
       "1  4  5  6\n",
       "2  7  8  9\n",
       "\n",
       "Constructing DataFrame from a numpy ndarray that has labeled columns:\n",
       "\n",
       "&gt;&gt;&gt; data = np.array([(1, 2, 3), (4, 5, 6), (7, 8, 9)],\n",
       "...                 dtype=[(&quot;a&quot;, &quot;i4&quot;), (&quot;b&quot;, &quot;i4&quot;), (&quot;c&quot;, &quot;i4&quot;)])\n",
       "&gt;&gt;&gt; df3 = pd.DataFrame(data, columns=[&#x27;c&#x27;, &#x27;a&#x27;])\n",
       "...\n",
       "&gt;&gt;&gt; df3\n",
       "   c  a\n",
       "0  3  1\n",
       "1  6  4\n",
       "2  9  7\n",
       "\n",
       "Constructing DataFrame from dataclass:\n",
       "\n",
       "&gt;&gt;&gt; from dataclasses import make_dataclass\n",
       "&gt;&gt;&gt; Point = make_dataclass(&quot;Point&quot;, [(&quot;x&quot;, int), (&quot;y&quot;, int)])\n",
       "&gt;&gt;&gt; pd.DataFrame([Point(0, 0), Point(0, 3), Point(2, 3)])\n",
       "   x  y\n",
       "0  0  0\n",
       "1  0  3\n",
       "2  2  3\n",
       "\n",
       "Constructing DataFrame from Series/DataFrame:\n",
       "\n",
       "&gt;&gt;&gt; ser = pd.Series([1, 2, 3], index=[&quot;a&quot;, &quot;b&quot;, &quot;c&quot;])\n",
       "&gt;&gt;&gt; df = pd.DataFrame(data=ser, index=[&quot;a&quot;, &quot;c&quot;])\n",
       "&gt;&gt;&gt; df\n",
       "   0\n",
       "a  1\n",
       "c  3\n",
       "\n",
       "&gt;&gt;&gt; df1 = pd.DataFrame([1, 2, 3], index=[&quot;a&quot;, &quot;b&quot;, &quot;c&quot;], columns=[&quot;x&quot;])\n",
       "&gt;&gt;&gt; df2 = pd.DataFrame(data=df1, index=[&quot;a&quot;, &quot;c&quot;])\n",
       "&gt;&gt;&gt; df2\n",
       "   x\n",
       "a  1\n",
       "c  3</pre>\n",
       "      <script>\n",
       "      if (google.colab.kernel.accessAllowed && google.colab.files && google.colab.files.view) {\n",
       "        for (const element of document.querySelectorAll('.filepath')) {\n",
       "          element.style.display = 'block'\n",
       "          element.onclick = (event) => {\n",
       "            event.preventDefault();\n",
       "            event.stopPropagation();\n",
       "            google.colab.files.view(element.textContent, 491);\n",
       "          };\n",
       "        }\n",
       "      }\n",
       "      for (const element of document.querySelectorAll('.function-repr-contents')) {\n",
       "        element.onclick = (event) => {\n",
       "          event.preventDefault();\n",
       "          event.stopPropagation();\n",
       "          element.classList.toggle('function-repr-contents-collapsed');\n",
       "        };\n",
       "      }\n",
       "      </script>\n",
       "      </div>"
      ],
      "text/plain": [
       "pandas.core.frame.DataFrame"
      ]
     },
     "execution_count": 23,
     "metadata": {},
     "output_type": "execute_result"
    }
   ],
   "source": [
    "import pandas as pd #import the pandas pacakge, and call it pd\n",
    "names_and_ages = pd.DataFrame({'names':names,'ages':ages})\n",
    "print(names_and_ages)\n",
    "type(names_and_ages)\n",
    "#How does the \"type\" of variable change?"
   ]
  },
  {
   "cell_type": "markdown",
   "metadata": {
    "id": "S1iWyKr72YBm"
   },
   "source": [
    "The cell bellow shows how to add a new column to a pandas data frame called 'ages_5yr', and how to calculate values for the new column:"
   ]
  },
  {
   "cell_type": "code",
   "execution_count": null,
   "metadata": {
    "colab": {
     "base_uri": "https://localhost:8080/"
    },
    "id": "zPwvkba02YBn",
    "outputId": "d70b7213-f411-419a-fcf4-0b07240d287c"
   },
   "outputs": [
    {
     "name": "stdout",
     "output_type": "stream",
     "text": [
      "     names  ages  ages_5yr\n",
      "0    Homer    42        47\n",
      "1    Marge    41        46\n",
      "2     Bart    13        18\n",
      "3   Maggie     3         8\n",
      "4     Lisa    11        16\n",
      "5  Grandpa    69        74\n"
     ]
    }
   ],
   "source": [
    "names_and_ages['ages_5yr']=names_and_ages.ages + 5\n",
    "print(names_and_ages)"
   ]
  },
  {
   "cell_type": "markdown",
   "metadata": {
    "id": "x-A1j82L2YBn"
   },
   "source": [
    "There are three(?) ways to select a column in a pandas dataframe:\n",
    "\n",
    "*? = probably many more!"
   ]
  },
  {
   "cell_type": "code",
   "execution_count": null,
   "metadata": {
    "colab": {
     "base_uri": "https://localhost:8080/"
    },
    "id": "hkM74eLc2YBn",
    "outputId": "2fe09f37-9906-4766-e7c4-380cd802ab77"
   },
   "outputs": [
    {
     "name": "stdout",
     "output_type": "stream",
     "text": [
      "0      Homer\n",
      "1      Marge\n",
      "2       Bart\n",
      "3     Maggie\n",
      "4       Lisa\n",
      "5    Grandpa\n",
      "Name: names, dtype: object\n"
     ]
    }
   ],
   "source": [
    "print(names_and_ages['names']) #index by column name"
   ]
  },
  {
   "cell_type": "code",
   "execution_count": null,
   "metadata": {
    "colab": {
     "base_uri": "https://localhost:8080/"
    },
    "id": "HQFTGA5G2YBn",
    "outputId": "21735123-04cc-4c79-a9c8-5b6b8b2ef0bb"
   },
   "outputs": [
    {
     "name": "stdout",
     "output_type": "stream",
     "text": [
      "0      Homer\n",
      "1      Marge\n",
      "2       Bart\n",
      "3     Maggie\n",
      "4       Lisa\n",
      "5    Grandpa\n",
      "Name: names, dtype: object\n"
     ]
    }
   ],
   "source": [
    "print(names_and_ages.names) #call column name as an object attribute"
   ]
  },
  {
   "cell_type": "code",
   "execution_count": null,
   "metadata": {
    "colab": {
     "base_uri": "https://localhost:8080/"
    },
    "id": "_Br6mw_j2YBn",
    "outputId": "d5bae287-04a2-4a31-a4b9-2bcf5f258d09"
   },
   "outputs": [
    {
     "name": "stdout",
     "output_type": "stream",
     "text": [
      "0      Homer\n",
      "1      Marge\n",
      "2       Bart\n",
      "3     Maggie\n",
      "4       Lisa\n",
      "5    Grandpa\n",
      "Name: names, dtype: object\n"
     ]
    }
   ],
   "source": [
    "print(names_and_ages.iloc[:,0]) #use pandas built-in indexing function"
   ]
  },
  {
   "cell_type": "markdown",
   "metadata": {
    "id": "fGQxycM-2YBn"
   },
   "source": [
    "The last option, iloc, is a pandas function. The first slot (before the comma) tells us which *rows* to pick. The second slot (after the comma) tells us which *columns* to pick. To pick find the value \"ages_5yrs\" of the first row, for example, we could use iloc like this:"
   ]
  },
  {
   "cell_type": "code",
   "execution_count": null,
   "metadata": {
    "colab": {
     "base_uri": "https://localhost:8080/"
    },
    "id": "Yf0Y58if2YBn",
    "outputId": "51652c31-b5d2-4004-f9a8-379dd772ac94"
   },
   "outputs": [
    {
     "name": "stdout",
     "output_type": "stream",
     "text": [
      "47\n"
     ]
    }
   ],
   "source": [
    "print(names_and_ages.iloc[0,2])"
   ]
  },
  {
   "cell_type": "markdown",
   "metadata": {
    "id": "Dg1uWLFn2YBo"
   },
   "source": [
    "## TASK 11:\n",
    "Create a new column in names_and_ages called \"age_months\", and populate it with each indiviuals age in months (approximately age in years times 12)."
   ]
  },
  {
   "cell_type": "code",
   "execution_count": null,
   "metadata": {
    "colab": {
     "base_uri": "https://localhost:8080/"
    },
    "id": "N44cck_Z2YBo",
    "outputId": "be4e0bf2-6a39-42f4-95b7-92a6f1a887b6"
   },
   "outputs": [
    {
     "name": "stdout",
     "output_type": "stream",
     "text": [
      "\n",
      "DataFrame with age in months:\n",
      "     names  ages  ages_5yr  age_months\n",
      "0    Homer    42        47         504\n",
      "1    Marge    41        46         492\n",
      "2     Bart    13        18         156\n",
      "3   Maggie     3         8          36\n",
      "4     Lisa    11        16         132\n",
      "5  Grandpa    69        74         828\n"
     ]
    }
   ],
   "source": [
    "#Complete task eleven in the space below\n",
    "# To create a new column for age in months\n",
    "names_and_ages['age_months'] = names_and_ages['ages'] * 12\n",
    "# To print the DataFrame with the new \"age_months\" column\n",
    "print(\"\\nDataFrame with age in months:\")\n",
    "print(names_and_ages)"
   ]
  },
  {
   "cell_type": "markdown",
   "metadata": {
    "id": "zEIGE4U52YBo"
   },
   "source": [
    "## TASK 12:\n",
    "Create a new column in names_and_ages called \"maturity\", and populate it with \"adult\", \"adolescent\", and \"child\", based on the age cutoffs mentioned above."
   ]
  },
  {
   "cell_type": "code",
   "execution_count": null,
   "metadata": {
    "colab": {
     "base_uri": "https://localhost:8080/"
    },
    "id": "VUp7Fgs_2YBo",
    "outputId": "bd7c8f65-b0cf-45f7-d6fb-62a1697f9dfe"
   },
   "outputs": [
    {
     "name": "stdout",
     "output_type": "stream",
     "text": [
      "DataFrame with maturity classification:\n",
      "     names  ages  ages_5yr  age_months    maturity\n",
      "0    Homer    42        47         504       adult\n",
      "1    Marge    41        46         492       adult\n",
      "2     Bart    13        18         156  adolescent\n",
      "3   Maggie     3         8          36       child\n",
      "4     Lisa    11        16         132  adolescent\n",
      "5  Grandpa    69        74         828       adult\n"
     ]
    },
    {
     "name": "stderr",
     "output_type": "stream",
     "text": [
      "<ipython-input-31-f2dc1db8b8f2>:11: FutureWarning: Setting an item of incompatible dtype is deprecated and will raise in a future error of pandas. Value 'adult' has dtype incompatible with float64, please explicitly cast to a compatible dtype first.\n",
      "  names_and_ages.at[index, 'maturity'] = 'adult'\n"
     ]
    }
   ],
   "source": [
    "# Create new column, fill it with empty values (np.NaN)\n",
    "names_and_ages['maturity']=np.NaN\n",
    "\n",
    "# Write for loop here\n",
    "for index, row in names_and_ages.iterrows():\n",
    "    if row['ages'] < 10:\n",
    "        names_and_ages.at[index, 'maturity'] = 'child'\n",
    "    elif 10 <= row['ages'] < 18:\n",
    "        names_and_ages.at[index, 'maturity'] = 'adolescent'\n",
    "    else:\n",
    "        names_and_ages.at[index, 'maturity'] = 'adult'\n",
    "\n",
    "print(\"DataFrame with maturity classification:\")\n",
    "print(names_and_ages)"
   ]
  },
  {
   "cell_type": "markdown",
   "metadata": {
    "id": "JIvlP68o2YBp"
   },
   "source": [
    "# Read in data.\n",
    "You will often be using python to process files or data stored locally on your computer or server. Here will learn how to use the package os to set a path to the files you want, called your working directory.\n",
    "\n",
    "Note that if you're running this notebook in Google Colab, your working directory is a folder on a Google Server somewhere."
   ]
  },
  {
   "cell_type": "code",
   "execution_count": null,
   "metadata": {
    "colab": {
     "base_uri": "https://localhost:8080/"
    },
    "id": "gLYEHJRh2YBp",
    "outputId": "67eacf2b-f996-4dfa-e860-39c93c031a46"
   },
   "outputs": [
    {
     "data": {
      "text/plain": [
       "['.config', 'sample_data']"
      ]
     },
     "execution_count": 1,
     "metadata": {},
     "output_type": "execute_result"
    }
   ],
   "source": [
    "import os #read in the os package, more info here: https://docs.python.org/3/library/os.html\n",
    "\n",
    "os.listdir()"
   ]
  },
  {
   "cell_type": "markdown",
   "metadata": {
    "id": "n3AGrLY14tXD"
   },
   "source": [
    "## Getting a dataset onto Google Drive and accessing your Google Drive via Google Colab.\n",
    "\n",
    "If you are not currently accessing this file from the EnvDatSci22 class repository, you probably opened it as a link right from Blackboard > Coursework > 3.1 Python 101.\n",
    "\n",
    "Go back to that Blackboard page. Click on the link called [USGS_04240105_SYRACUSE_NY.csv](https://blackboard.syracuse.edu/bbcswebdav/pid-8320683-dt-content-rid-94758325_1/xid-94758325_1). This will downlad a .csv file to the default download location on your computer.\n",
    "\n",
    "In another browser tab, sign into your [Google Drive](https://drive.google.com/). Create a new folder called \"data\". Once inside the folder, upload that csv file you just downloaded.\n",
    "\n",
    "Run the cell below to mount your Google Drive to Google Colab.\n",
    "\n",
    "Note: if you have more than one Google account, make sure you're mounting the right Google Drive!"
   ]
  },
  {
   "cell_type": "code",
   "execution_count": null,
   "metadata": {
    "colab": {
     "base_uri": "https://localhost:8080/"
    },
    "id": "EBdDnIkU6BfU",
    "outputId": "f29b5987-94ee-4bd3-ec54-c0b117f39858"
   },
   "outputs": [
    {
     "name": "stdout",
     "output_type": "stream",
     "text": [
      "Drive already mounted at /content/drive; to attempt to forcibly remount, call drive.mount(\"/content/drive\", force_remount=True).\n"
     ]
    }
   ],
   "source": [
    "from google.colab import drive\n",
    "drive.mount('/content/drive')\n",
    "import os\n",
    "os.chdir('/content/drive/MyDrive')\n"
   ]
  },
  {
   "cell_type": "markdown",
   "metadata": {
    "id": "doNW25622YBp"
   },
   "source": [
    "This .csv file is a record of daily discharge from a USGS stream gage near campus for the past year. It contains two columns, \"Date\" and \"Discharge\". It was downloaded with some modifications from [https://maps.waterdata.usgs.gov/mapper/index.html]. This is a great source of data for surface water measurements!\n",
    "\n",
    "Now that you've got the filepath set up so that python can see your stream discharge data, let's open it as a pandas data frame using the pandas.read_csv() function. This is similar to what we would do opening new data in Excel"
   ]
  },
  {
   "cell_type": "code",
   "execution_count": null,
   "metadata": {
    "colab": {
     "base_uri": "https://localhost:8080/",
     "height": 278
    },
    "id": "0NqPMuNC2YBp",
    "outputId": "45aa3ed0-1be7-418a-ef7c-c3e50c7cbfa9"
   },
   "outputs": [
    {
     "name": "stderr",
     "output_type": "stream",
     "text": [
      "<ipython-input-7-7e44bb09f4e6>:3: FutureWarning: The argument 'infer_datetime_format' is deprecated and will be removed in a future version. A strict version of it is now the default, see https://pandas.pydata.org/pdeps/0004-consistent-to-datetime-parsing.html. You can safely remove this argument.\n",
      "  stream = pd.read_csv('EnvDataAnalysis/USGS_04240105_SYRACUSE_NY.csv', infer_datetime_format=True)\n"
     ]
    },
    {
     "name": "stdout",
     "output_type": "stream",
     "text": [
      "<class 'pandas.core.frame.DataFrame'>\n"
     ]
    },
    {
     "data": {
      "application/vnd.google.colaboratory.intrinsic+json": {
       "summary": "{\n  \"name\": \"stream\",\n  \"rows\": 366,\n  \"fields\": [\n    {\n      \"column\": \"Date\",\n      \"properties\": {\n        \"dtype\": \"object\",\n        \"num_unique_values\": 366,\n        \"samples\": [\n          \"3/19/2020\",\n          \"10/11/2019\",\n          \"9/23/2019\"\n        ],\n        \"semantic_type\": \"\",\n        \"description\": \"\"\n      }\n    },\n    {\n      \"column\": \"Discharge\",\n      \"properties\": {\n        \"dtype\": \"number\",\n        \"std\": 8.796689447523447,\n        \"min\": 4.42,\n        \"max\": 79.2,\n        \"num_unique_values\": 266,\n        \"samples\": [\n          8.17,\n          9.79,\n          49.2\n        ],\n        \"semantic_type\": \"\",\n        \"description\": \"\"\n      }\n    }\n  ]\n}",
       "type": "dataframe",
       "variable_name": "stream"
      },
      "text/html": [
       "\n",
       "  <div id=\"df-0b511f94-16b4-4d08-89c1-c8d0c1fe6a6e\" class=\"colab-df-container\">\n",
       "    <div>\n",
       "<style scoped>\n",
       "    .dataframe tbody tr th:only-of-type {\n",
       "        vertical-align: middle;\n",
       "    }\n",
       "\n",
       "    .dataframe tbody tr th {\n",
       "        vertical-align: top;\n",
       "    }\n",
       "\n",
       "    .dataframe thead th {\n",
       "        text-align: right;\n",
       "    }\n",
       "</style>\n",
       "<table border=\"1\" class=\"dataframe\">\n",
       "  <thead>\n",
       "    <tr style=\"text-align: right;\">\n",
       "      <th></th>\n",
       "      <th>Date</th>\n",
       "      <th>Discharge</th>\n",
       "    </tr>\n",
       "  </thead>\n",
       "  <tbody>\n",
       "    <tr>\n",
       "      <th>0</th>\n",
       "      <td>9/8/2019</td>\n",
       "      <td>6.61</td>\n",
       "    </tr>\n",
       "    <tr>\n",
       "      <th>1</th>\n",
       "      <td>9/9/2019</td>\n",
       "      <td>6.49</td>\n",
       "    </tr>\n",
       "    <tr>\n",
       "      <th>2</th>\n",
       "      <td>9/10/2019</td>\n",
       "      <td>6.49</td>\n",
       "    </tr>\n",
       "    <tr>\n",
       "      <th>3</th>\n",
       "      <td>9/11/2019</td>\n",
       "      <td>6.97</td>\n",
       "    </tr>\n",
       "    <tr>\n",
       "      <th>4</th>\n",
       "      <td>9/12/2019</td>\n",
       "      <td>6.49</td>\n",
       "    </tr>\n",
       "  </tbody>\n",
       "</table>\n",
       "</div>\n",
       "    <div class=\"colab-df-buttons\">\n",
       "\n",
       "  <div class=\"colab-df-container\">\n",
       "    <button class=\"colab-df-convert\" onclick=\"convertToInteractive('df-0b511f94-16b4-4d08-89c1-c8d0c1fe6a6e')\"\n",
       "            title=\"Convert this dataframe to an interactive table.\"\n",
       "            style=\"display:none;\">\n",
       "\n",
       "  <svg xmlns=\"http://www.w3.org/2000/svg\" height=\"24px\" viewBox=\"0 -960 960 960\">\n",
       "    <path d=\"M120-120v-720h720v720H120Zm60-500h600v-160H180v160Zm220 220h160v-160H400v160Zm0 220h160v-160H400v160ZM180-400h160v-160H180v160Zm440 0h160v-160H620v160ZM180-180h160v-160H180v160Zm440 0h160v-160H620v160Z\"/>\n",
       "  </svg>\n",
       "    </button>\n",
       "\n",
       "  <style>\n",
       "    .colab-df-container {\n",
       "      display:flex;\n",
       "      gap: 12px;\n",
       "    }\n",
       "\n",
       "    .colab-df-convert {\n",
       "      background-color: #E8F0FE;\n",
       "      border: none;\n",
       "      border-radius: 50%;\n",
       "      cursor: pointer;\n",
       "      display: none;\n",
       "      fill: #1967D2;\n",
       "      height: 32px;\n",
       "      padding: 0 0 0 0;\n",
       "      width: 32px;\n",
       "    }\n",
       "\n",
       "    .colab-df-convert:hover {\n",
       "      background-color: #E2EBFA;\n",
       "      box-shadow: 0px 1px 2px rgba(60, 64, 67, 0.3), 0px 1px 3px 1px rgba(60, 64, 67, 0.15);\n",
       "      fill: #174EA6;\n",
       "    }\n",
       "\n",
       "    .colab-df-buttons div {\n",
       "      margin-bottom: 4px;\n",
       "    }\n",
       "\n",
       "    [theme=dark] .colab-df-convert {\n",
       "      background-color: #3B4455;\n",
       "      fill: #D2E3FC;\n",
       "    }\n",
       "\n",
       "    [theme=dark] .colab-df-convert:hover {\n",
       "      background-color: #434B5C;\n",
       "      box-shadow: 0px 1px 3px 1px rgba(0, 0, 0, 0.15);\n",
       "      filter: drop-shadow(0px 1px 2px rgba(0, 0, 0, 0.3));\n",
       "      fill: #FFFFFF;\n",
       "    }\n",
       "  </style>\n",
       "\n",
       "    <script>\n",
       "      const buttonEl =\n",
       "        document.querySelector('#df-0b511f94-16b4-4d08-89c1-c8d0c1fe6a6e button.colab-df-convert');\n",
       "      buttonEl.style.display =\n",
       "        google.colab.kernel.accessAllowed ? 'block' : 'none';\n",
       "\n",
       "      async function convertToInteractive(key) {\n",
       "        const element = document.querySelector('#df-0b511f94-16b4-4d08-89c1-c8d0c1fe6a6e');\n",
       "        const dataTable =\n",
       "          await google.colab.kernel.invokeFunction('convertToInteractive',\n",
       "                                                    [key], {});\n",
       "        if (!dataTable) return;\n",
       "\n",
       "        const docLinkHtml = 'Like what you see? Visit the ' +\n",
       "          '<a target=\"_blank\" href=https://colab.research.google.com/notebooks/data_table.ipynb>data table notebook</a>'\n",
       "          + ' to learn more about interactive tables.';\n",
       "        element.innerHTML = '';\n",
       "        dataTable['output_type'] = 'display_data';\n",
       "        await google.colab.output.renderOutput(dataTable, element);\n",
       "        const docLink = document.createElement('div');\n",
       "        docLink.innerHTML = docLinkHtml;\n",
       "        element.appendChild(docLink);\n",
       "      }\n",
       "    </script>\n",
       "  </div>\n",
       "\n",
       "\n",
       "<div id=\"df-99f7cfe6-c46f-467f-90b1-1049775de07f\">\n",
       "  <button class=\"colab-df-quickchart\" onclick=\"quickchart('df-99f7cfe6-c46f-467f-90b1-1049775de07f')\"\n",
       "            title=\"Suggest charts\"\n",
       "            style=\"display:none;\">\n",
       "\n",
       "<svg xmlns=\"http://www.w3.org/2000/svg\" height=\"24px\"viewBox=\"0 0 24 24\"\n",
       "     width=\"24px\">\n",
       "    <g>\n",
       "        <path d=\"M19 3H5c-1.1 0-2 .9-2 2v14c0 1.1.9 2 2 2h14c1.1 0 2-.9 2-2V5c0-1.1-.9-2-2-2zM9 17H7v-7h2v7zm4 0h-2V7h2v10zm4 0h-2v-4h2v4z\"/>\n",
       "    </g>\n",
       "</svg>\n",
       "  </button>\n",
       "\n",
       "<style>\n",
       "  .colab-df-quickchart {\n",
       "      --bg-color: #E8F0FE;\n",
       "      --fill-color: #1967D2;\n",
       "      --hover-bg-color: #E2EBFA;\n",
       "      --hover-fill-color: #174EA6;\n",
       "      --disabled-fill-color: #AAA;\n",
       "      --disabled-bg-color: #DDD;\n",
       "  }\n",
       "\n",
       "  [theme=dark] .colab-df-quickchart {\n",
       "      --bg-color: #3B4455;\n",
       "      --fill-color: #D2E3FC;\n",
       "      --hover-bg-color: #434B5C;\n",
       "      --hover-fill-color: #FFFFFF;\n",
       "      --disabled-bg-color: #3B4455;\n",
       "      --disabled-fill-color: #666;\n",
       "  }\n",
       "\n",
       "  .colab-df-quickchart {\n",
       "    background-color: var(--bg-color);\n",
       "    border: none;\n",
       "    border-radius: 50%;\n",
       "    cursor: pointer;\n",
       "    display: none;\n",
       "    fill: var(--fill-color);\n",
       "    height: 32px;\n",
       "    padding: 0;\n",
       "    width: 32px;\n",
       "  }\n",
       "\n",
       "  .colab-df-quickchart:hover {\n",
       "    background-color: var(--hover-bg-color);\n",
       "    box-shadow: 0 1px 2px rgba(60, 64, 67, 0.3), 0 1px 3px 1px rgba(60, 64, 67, 0.15);\n",
       "    fill: var(--button-hover-fill-color);\n",
       "  }\n",
       "\n",
       "  .colab-df-quickchart-complete:disabled,\n",
       "  .colab-df-quickchart-complete:disabled:hover {\n",
       "    background-color: var(--disabled-bg-color);\n",
       "    fill: var(--disabled-fill-color);\n",
       "    box-shadow: none;\n",
       "  }\n",
       "\n",
       "  .colab-df-spinner {\n",
       "    border: 2px solid var(--fill-color);\n",
       "    border-color: transparent;\n",
       "    border-bottom-color: var(--fill-color);\n",
       "    animation:\n",
       "      spin 1s steps(1) infinite;\n",
       "  }\n",
       "\n",
       "  @keyframes spin {\n",
       "    0% {\n",
       "      border-color: transparent;\n",
       "      border-bottom-color: var(--fill-color);\n",
       "      border-left-color: var(--fill-color);\n",
       "    }\n",
       "    20% {\n",
       "      border-color: transparent;\n",
       "      border-left-color: var(--fill-color);\n",
       "      border-top-color: var(--fill-color);\n",
       "    }\n",
       "    30% {\n",
       "      border-color: transparent;\n",
       "      border-left-color: var(--fill-color);\n",
       "      border-top-color: var(--fill-color);\n",
       "      border-right-color: var(--fill-color);\n",
       "    }\n",
       "    40% {\n",
       "      border-color: transparent;\n",
       "      border-right-color: var(--fill-color);\n",
       "      border-top-color: var(--fill-color);\n",
       "    }\n",
       "    60% {\n",
       "      border-color: transparent;\n",
       "      border-right-color: var(--fill-color);\n",
       "    }\n",
       "    80% {\n",
       "      border-color: transparent;\n",
       "      border-right-color: var(--fill-color);\n",
       "      border-bottom-color: var(--fill-color);\n",
       "    }\n",
       "    90% {\n",
       "      border-color: transparent;\n",
       "      border-bottom-color: var(--fill-color);\n",
       "    }\n",
       "  }\n",
       "</style>\n",
       "\n",
       "  <script>\n",
       "    async function quickchart(key) {\n",
       "      const quickchartButtonEl =\n",
       "        document.querySelector('#' + key + ' button');\n",
       "      quickchartButtonEl.disabled = true;  // To prevent multiple clicks.\n",
       "      quickchartButtonEl.classList.add('colab-df-spinner');\n",
       "      try {\n",
       "        const charts = await google.colab.kernel.invokeFunction(\n",
       "            'suggestCharts', [key], {});\n",
       "      } catch (error) {\n",
       "        console.error('Error during call to suggestCharts:', error);\n",
       "      }\n",
       "      quickchartButtonEl.classList.remove('colab-df-spinner');\n",
       "      quickchartButtonEl.classList.add('colab-df-quickchart-complete');\n",
       "    }\n",
       "    (() => {\n",
       "      let quickchartButtonEl =\n",
       "        document.querySelector('#df-99f7cfe6-c46f-467f-90b1-1049775de07f button');\n",
       "      quickchartButtonEl.style.display =\n",
       "        google.colab.kernel.accessAllowed ? 'block' : 'none';\n",
       "    })();\n",
       "  </script>\n",
       "</div>\n",
       "\n",
       "    </div>\n",
       "  </div>\n"
      ],
      "text/plain": [
       "        Date  Discharge\n",
       "0   9/8/2019       6.61\n",
       "1   9/9/2019       6.49\n",
       "2  9/10/2019       6.49\n",
       "3  9/11/2019       6.97\n",
       "4  9/12/2019       6.49"
      ]
     },
     "execution_count": 7,
     "metadata": {},
     "output_type": "execute_result"
    }
   ],
   "source": [
    "#If you are running this from Google Colab outside the GitHub repository, uncoment the line below\n",
    "import pandas as pd\n",
    "stream = pd.read_csv('EnvDataAnalysis/USGS_04240105_SYRACUSE_NY.csv', infer_datetime_format=True)\n",
    "\n",
    "#If you are running this from a GitHub repository, uncomment the line below.\n",
    "#stream = pd.read_csv('../data/USGS_04240105_SYRACUSE_NY(1).csv', infer_datetime_format=True)\n",
    "\n",
    "print(type(stream))\n",
    "\n",
    "\n",
    "#the \"head\" function is built into a pandas.DataFrame object, and it allows you to specify the number of rows you want to see\n",
    "stream.head(5)"
   ]
  },
  {
   "cell_type": "markdown",
   "metadata": {
    "id": "6kheER2k2YBq"
   },
   "source": [
    "##### Here, we see the date (as \"%m/%d/%Y\" format) and the mean daily discharge in cubic feet/second measured by the streamgage for each day.\n"
   ]
  },
  {
   "cell_type": "markdown",
   "metadata": {
    "id": "sXGj7WEa2YBq"
   },
   "source": [
    "# Check documentation on an object\n",
    "The pandas dataframe is an object that is associated with many attributes and functions. How can we tell what other people have enabled their modules to do, and learn how to use them?\n",
    "\n",
    "Remember, we just read in our data (USGS_04240105_SYRACUSE_NY.csv\") as a 'pandas.core.frame.DataFrame'. What does that mean?"
   ]
  },
  {
   "cell_type": "code",
   "execution_count": null,
   "metadata": {
    "id": "aYyEX75Q2YBq"
   },
   "outputs": [],
   "source": [
    "#We can ask a question:\n",
    "?stream"
   ]
  },
  {
   "cell_type": "code",
   "execution_count": null,
   "metadata": {
    "id": "V_rQz_6R2YBq"
   },
   "outputs": [],
   "source": [
    "#We can ask a deeper queston:\n",
    "??stream\n",
    "#This gives you full documentation"
   ]
  },
  {
   "cell_type": "code",
   "execution_count": null,
   "metadata": {
    "colab": {
     "base_uri": "https://localhost:8080/",
     "height": 458
    },
    "id": "itDzoLUP2YBr",
    "outputId": "5dedb4ed-616b-4644-c878-37101cdcc461"
   },
   "outputs": [
    {
     "data": {
      "text/html": [
       "<div>\n",
       "<style scoped>\n",
       "    .dataframe tbody tr th:only-of-type {\n",
       "        vertical-align: middle;\n",
       "    }\n",
       "\n",
       "    .dataframe tbody tr th {\n",
       "        vertical-align: top;\n",
       "    }\n",
       "\n",
       "    .dataframe thead th {\n",
       "        text-align: right;\n",
       "    }\n",
       "</style>\n",
       "<table border=\"1\" class=\"dataframe\">\n",
       "  <thead>\n",
       "    <tr style=\"text-align: right;\">\n",
       "      <th></th>\n",
       "      <th>Date</th>\n",
       "    </tr>\n",
       "  </thead>\n",
       "  <tbody>\n",
       "    <tr>\n",
       "      <th>0</th>\n",
       "      <td>9/8/2019</td>\n",
       "    </tr>\n",
       "    <tr>\n",
       "      <th>1</th>\n",
       "      <td>9/9/2019</td>\n",
       "    </tr>\n",
       "    <tr>\n",
       "      <th>2</th>\n",
       "      <td>9/10/2019</td>\n",
       "    </tr>\n",
       "    <tr>\n",
       "      <th>3</th>\n",
       "      <td>9/11/2019</td>\n",
       "    </tr>\n",
       "    <tr>\n",
       "      <th>4</th>\n",
       "      <td>9/12/2019</td>\n",
       "    </tr>\n",
       "    <tr>\n",
       "      <th>...</th>\n",
       "      <td>...</td>\n",
       "    </tr>\n",
       "    <tr>\n",
       "      <th>361</th>\n",
       "      <td>9/3/2020</td>\n",
       "    </tr>\n",
       "    <tr>\n",
       "      <th>362</th>\n",
       "      <td>9/4/2020</td>\n",
       "    </tr>\n",
       "    <tr>\n",
       "      <th>363</th>\n",
       "      <td>9/5/2020</td>\n",
       "    </tr>\n",
       "    <tr>\n",
       "      <th>364</th>\n",
       "      <td>9/6/2020</td>\n",
       "    </tr>\n",
       "    <tr>\n",
       "      <th>365</th>\n",
       "      <td>9/7/2020</td>\n",
       "    </tr>\n",
       "  </tbody>\n",
       "</table>\n",
       "<p>366 rows × 1 columns</p>\n",
       "</div><br><label><b>dtype:</b> object</label>"
      ],
      "text/plain": [
       "0       9/8/2019\n",
       "1       9/9/2019\n",
       "2      9/10/2019\n",
       "3      9/11/2019\n",
       "4      9/12/2019\n",
       "         ...    \n",
       "361     9/3/2020\n",
       "362     9/4/2020\n",
       "363     9/5/2020\n",
       "364     9/6/2020\n",
       "365     9/7/2020\n",
       "Name: Date, Length: 366, dtype: object"
      ]
     },
     "execution_count": 14,
     "metadata": {},
     "output_type": "execute_result"
    }
   ],
   "source": [
    "#Or we can use the 'dot' 'tab' magic.\n",
    "stream.Date\n",
    "#Don't click Enter!!! Click 'Tab'. What happens?"
   ]
  },
  {
   "cell_type": "code",
   "execution_count": null,
   "metadata": {
    "id": "uJWIRB832YBr"
   },
   "outputs": [],
   "source": [
    "#We can use 'dot' 'tab' and question marks together!\n",
    "?stream.min"
   ]
  },
  {
   "cell_type": "markdown",
   "metadata": {
    "id": "7B-UvMtc2YBr"
   },
   "source": [
    "\n",
    "## TASK 13: use pandas.DataFrame built in functions to determine the minimum, maximum, and mean daily discharge over the record for the station."
   ]
  },
  {
   "cell_type": "code",
   "execution_count": null,
   "metadata": {
    "colab": {
     "base_uri": "https://localhost:8080/"
    },
    "id": "0wlzj7Cb2YBr",
    "outputId": "3fe14cde-dbef-4bc8-b3d1-5d677afefadb"
   },
   "outputs": [
    {
     "name": "stdout",
     "output_type": "stream",
     "text": [
      "4.42 79.2 11.27308743169399\n"
     ]
    }
   ],
   "source": [
    "#use pandas.DataFrame functions to assign appropriate values to the variables here.\n",
    "min_dis = min(stream[\"Discharge\"])\n",
    "max_dis =max(stream[\"Discharge\"])\n",
    "import statistics\n",
    "mean_dis =statistics.mean(stream[\"Discharge\"])\n",
    "print(min_dis, max_dis, mean_dis)"
   ]
  },
  {
   "cell_type": "markdown",
   "metadata": {
    "id": "STqv3bd-2YBs"
   },
   "source": [
    "## TASK 14: create a new column called \"Discharge_total\" where cumulative daily discharge is calculated (hint: there are 24 x 60 x 60 seconds in a day)"
   ]
  },
  {
   "cell_type": "code",
   "execution_count": null,
   "metadata": {
    "colab": {
     "base_uri": "https://localhost:8080/"
    },
    "id": "T37eb3cW2YBs",
    "outputId": "6cc6005f-3951-4570-9952-19f76597daaf"
   },
   "outputs": [
    {
     "name": "stdout",
     "output_type": "stream",
     "text": [
      "          Date  Discharge  Discharge_total\n",
      "0     9/8/2019       6.61         571104.0\n",
      "1     9/9/2019       6.49         560736.0\n",
      "2    9/10/2019       6.49         560736.0\n",
      "3    9/11/2019       6.97         602208.0\n",
      "4    9/12/2019       6.49         560736.0\n",
      "..         ...        ...              ...\n",
      "361   9/3/2020       4.79         413856.0\n",
      "362   9/4/2020       4.74         409536.0\n",
      "363   9/5/2020       4.70         406080.0\n",
      "364   9/6/2020       4.56         393984.0\n",
      "365   9/7/2020       4.48         387072.0\n",
      "\n",
      "[366 rows x 3 columns]\n"
     ]
    }
   ],
   "source": [
    "#enter calculations here\n",
    "\n",
    "\n",
    "stream[\"Discharge_total\"] = stream[\"Discharge\"]*24*60*60\n",
    "print (stream)"
   ]
  },
  {
   "cell_type": "markdown",
   "metadata": {
    "id": "mCIEZzEM2YBs"
   },
   "source": [
    "## EXTRA CREDIT: Use indexing to determine the DATE on which the maximum daily discharge occured.\n",
    "(Hint! check out ?stream.iloc and ?stream.argmax, then try Googling \"Find row where value of column is maximum in pandas DataFrame\" or something similar)\n",
    "\n",
    "(Still stuck? Enter the last thing you tried in this box, and then post your unsolved code on the Questions and Answers page on blackboard)."
   ]
  },
  {
   "cell_type": "code",
   "execution_count": 25,
   "metadata": {
    "colab": {
     "base_uri": "https://localhost:8080/"
    },
    "id": "K8HNETRl2YBs",
    "outputId": "22d14adc-d53b-4326-d950-17a74d54211a"
   },
   "outputs": [
    {
     "name": "stdout",
     "output_type": "stream",
     "text": [
      "The date with the maximum daily discharge is: 11/1/2019\n"
     ]
    }
   ],
   "source": [
    "#Type your answer here, see if you can get it in one line of code!\n",
    "?stream.iloc\n",
    "\n",
    "\n",
    "# Find the index of the row with the maximum discharge\n",
    "max_discharge_index = stream['Discharge'].idxmax()\n",
    "\n",
    "# Get the date corresponding to that row\n",
    "max_discharge_date = stream.iloc[max_discharge_index]['Date']\n",
    "\n",
    "print(f\"The date with the maximum daily discharge is: {max_discharge_date}\")\n"
   ]
  },
  {
   "cell_type": "markdown",
   "metadata": {
    "id": "SZPJwwlb2YBt"
   },
   "source": [
    "# You're almost done for today! Last steps:\n",
    "## * save your .ipynb: go to file > Save a copy on Google Drive\n",
    "## * share the Python101.ipynb with me at ekcarter@g.syr.edu\n",
    "\n",
    "## If this was brand new to you, please take time to work through Sections 4,6, and 7 in [https://www.earthdatascience.org/courses/intro-to-earth-data-science/]"
   ]
  }
 ],
 "metadata": {
  "colab": {
   "include_colab_link": true,
   "provenance": []
  },
  "kernelspec": {
   "display_name": "Python 3 (ipykernel)",
   "language": "python",
   "name": "python3"
  },
  "language_info": {
   "codemirror_mode": {
    "name": "ipython",
    "version": 3
   },
   "file_extension": ".py",
   "mimetype": "text/x-python",
   "name": "python",
   "nbconvert_exporter": "python",
   "pygments_lexer": "ipython3",
   "version": "3.12.4"
  }
 },
 "nbformat": 4,
 "nbformat_minor": 4
}
