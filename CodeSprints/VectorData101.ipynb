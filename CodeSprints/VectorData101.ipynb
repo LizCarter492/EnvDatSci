{
<<<<<<< HEAD
  "cells": [
    {
      "cell_type": "markdown",
      "metadata": {
        "id": "view-in-github",
        "colab_type": "text"
      },
      "source": [
        "<a href=\"https://colab.research.google.com/github/alen-ho/EnvDatSci/blob/main/CodeSprints/VectorData101.ipynb\" target=\"_parent\"><img src=\"https://colab.research.google.com/assets/colab-badge.svg\" alt=\"Open In Colab\"/></a>"
      ]
    },
    {
      "cell_type": "markdown",
      "metadata": {
        "id": "Wy65tB7NAWRy"
      },
      "source": [
        "# Spatial Vector Data in Python w/ Geopandas\n",
        "You will use the geopandas library to work with vector data in Python. Geopandas is built on top of the Python Pandas library. It stores spatial data in a tabular, dataframe format.\n",
        "\n",
        "This notebook will take you through [Lesson 3 in Introductory Earth Data Science](https://www.earthdatascience.org/courses/intro-to-earth-data-science/file-formats/use-spatial-data/use-vector-data/) with some additional exercises from the [Geopandas project page](https://geopandas.org/en/v0.8.2/)\n"
      ]
    },
    {
      "cell_type": "markdown",
      "source": [
        "# Sync your colab environment with your Google Drive and GitHub"
      ],
      "metadata": {
        "id": "AoZASwHLwpAS"
      }
    },
    {
      "cell_type": "code",
      "execution_count": 1,
      "metadata": {
        "id": "n63jAsimAWR1",
        "outputId": "6f4e0f79-6fc4-4177-ae51-0f946b331a5c",
        "colab": {
          "base_uri": "https://localhost:8080/"
        }
      },
      "outputs": [
        {
          "output_type": "stream",
          "name": "stdout",
          "text": [
            "Mounted at /content/drive\n"
          ]
        }
      ],
      "source": [
        "#attach to Google Drive\n",
        "from google.colab import drive\n",
        "drive.mount('/content/drive')"
      ]
    },
    {
      "cell_type": "markdown",
      "source": [
        "# The Code Sprint"
      ],
      "metadata": {
        "id": "WmOwykNxwvL1"
      }
    },
    {
      "cell_type": "code",
      "source": [
        "!pip install geopandas"
      ],
      "metadata": {
        "id": "9KyeM4C89orB",
        "outputId": "23322ba9-b956-4c6d-b4a6-65dcd4bdde4f",
        "colab": {
          "base_uri": "https://localhost:8080/"
        }
      },
      "execution_count": 2,
      "outputs": [
        {
          "output_type": "stream",
          "name": "stdout",
          "text": [
            "Requirement already satisfied: geopandas in /usr/local/lib/python3.10/dist-packages (1.0.1)\n",
            "Requirement already satisfied: numpy>=1.22 in /usr/local/lib/python3.10/dist-packages (from geopandas) (1.26.4)\n",
            "Requirement already satisfied: pyogrio>=0.7.2 in /usr/local/lib/python3.10/dist-packages (from geopandas) (0.9.0)\n",
            "Requirement already satisfied: packaging in /usr/local/lib/python3.10/dist-packages (from geopandas) (24.1)\n",
            "Requirement already satisfied: pandas>=1.4.0 in /usr/local/lib/python3.10/dist-packages (from geopandas) (2.2.2)\n",
            "Requirement already satisfied: pyproj>=3.3.0 in /usr/local/lib/python3.10/dist-packages (from geopandas) (3.6.1)\n",
            "Requirement already satisfied: shapely>=2.0.0 in /usr/local/lib/python3.10/dist-packages (from geopandas) (2.0.6)\n",
            "Requirement already satisfied: python-dateutil>=2.8.2 in /usr/local/lib/python3.10/dist-packages (from pandas>=1.4.0->geopandas) (2.8.2)\n",
            "Requirement already satisfied: pytz>=2020.1 in /usr/local/lib/python3.10/dist-packages (from pandas>=1.4.0->geopandas) (2024.2)\n",
            "Requirement already satisfied: tzdata>=2022.7 in /usr/local/lib/python3.10/dist-packages (from pandas>=1.4.0->geopandas) (2024.2)\n",
            "Requirement already satisfied: certifi in /usr/local/lib/python3.10/dist-packages (from pyogrio>=0.7.2->geopandas) (2024.8.30)\n",
            "Requirement already satisfied: six>=1.5 in /usr/local/lib/python3.10/dist-packages (from python-dateutil>=2.8.2->pandas>=1.4.0->geopandas) (1.16.0)\n"
          ]
        }
      ]
    },
    {
      "cell_type": "code",
      "source": [
        "!pip install earthpy\n",
        "!pip install rtree\n",
        "!pip install pygeos\n",
        "!pip install mapclassify>=2.4.0"
      ],
      "metadata": {
        "id": "xgMUKEkJLmB6",
        "outputId": "0ee8c440-e5f7-4297-927c-a3a59880006a",
        "colab": {
          "base_uri": "https://localhost:8080/"
        }
      },
      "execution_count": 5,
      "outputs": [
        {
          "output_type": "stream",
          "name": "stdout",
          "text": [
            "Requirement already satisfied: earthpy in /usr/local/lib/python3.10/dist-packages (0.9.4)\n",
            "Requirement already satisfied: geopandas in /usr/local/lib/python3.10/dist-packages (from earthpy) (1.0.1)\n",
            "Requirement already satisfied: matplotlib>=2.0.0 in /usr/local/lib/python3.10/dist-packages (from earthpy) (3.7.1)\n",
            "Requirement already satisfied: numpy>=1.14.0 in /usr/local/lib/python3.10/dist-packages (from earthpy) (1.26.4)\n",
            "Requirement already satisfied: rasterio in /usr/local/lib/python3.10/dist-packages (from earthpy) (1.4.1)\n",
            "Requirement already satisfied: scikit-image in /usr/local/lib/python3.10/dist-packages (from earthpy) (0.24.0)\n",
            "Requirement already satisfied: requests in /usr/local/lib/python3.10/dist-packages (from earthpy) (2.32.3)\n",
            "Requirement already satisfied: contourpy>=1.0.1 in /usr/local/lib/python3.10/dist-packages (from matplotlib>=2.0.0->earthpy) (1.3.0)\n",
            "Requirement already satisfied: cycler>=0.10 in /usr/local/lib/python3.10/dist-packages (from matplotlib>=2.0.0->earthpy) (0.12.1)\n",
            "Requirement already satisfied: fonttools>=4.22.0 in /usr/local/lib/python3.10/dist-packages (from matplotlib>=2.0.0->earthpy) (4.54.1)\n",
            "Requirement already satisfied: kiwisolver>=1.0.1 in /usr/local/lib/python3.10/dist-packages (from matplotlib>=2.0.0->earthpy) (1.4.7)\n",
            "Requirement already satisfied: packaging>=20.0 in /usr/local/lib/python3.10/dist-packages (from matplotlib>=2.0.0->earthpy) (24.1)\n",
            "Requirement already satisfied: pillow>=6.2.0 in /usr/local/lib/python3.10/dist-packages (from matplotlib>=2.0.0->earthpy) (10.4.0)\n",
            "Requirement already satisfied: pyparsing>=2.3.1 in /usr/local/lib/python3.10/dist-packages (from matplotlib>=2.0.0->earthpy) (3.1.4)\n",
            "Requirement already satisfied: python-dateutil>=2.7 in /usr/local/lib/python3.10/dist-packages (from matplotlib>=2.0.0->earthpy) (2.8.2)\n",
            "Requirement already satisfied: pyogrio>=0.7.2 in /usr/local/lib/python3.10/dist-packages (from geopandas->earthpy) (0.9.0)\n",
            "Requirement already satisfied: pandas>=1.4.0 in /usr/local/lib/python3.10/dist-packages (from geopandas->earthpy) (2.2.2)\n",
            "Requirement already satisfied: pyproj>=3.3.0 in /usr/local/lib/python3.10/dist-packages (from geopandas->earthpy) (3.6.1)\n",
            "Requirement already satisfied: shapely>=2.0.0 in /usr/local/lib/python3.10/dist-packages (from geopandas->earthpy) (2.0.6)\n",
            "Requirement already satisfied: affine in /usr/local/lib/python3.10/dist-packages (from rasterio->earthpy) (2.4.0)\n",
            "Requirement already satisfied: attrs in /usr/local/lib/python3.10/dist-packages (from rasterio->earthpy) (24.2.0)\n",
            "Requirement already satisfied: certifi in /usr/local/lib/python3.10/dist-packages (from rasterio->earthpy) (2024.8.30)\n",
            "Requirement already satisfied: click>=4.0 in /usr/local/lib/python3.10/dist-packages (from rasterio->earthpy) (8.1.7)\n",
            "Requirement already satisfied: cligj>=0.5 in /usr/local/lib/python3.10/dist-packages (from rasterio->earthpy) (0.7.2)\n",
            "Requirement already satisfied: click-plugins in /usr/local/lib/python3.10/dist-packages (from rasterio->earthpy) (1.1.1)\n",
            "Requirement already satisfied: charset-normalizer<4,>=2 in /usr/local/lib/python3.10/dist-packages (from requests->earthpy) (3.3.2)\n",
            "Requirement already satisfied: idna<4,>=2.5 in /usr/local/lib/python3.10/dist-packages (from requests->earthpy) (3.10)\n",
            "Requirement already satisfied: urllib3<3,>=1.21.1 in /usr/local/lib/python3.10/dist-packages (from requests->earthpy) (2.2.3)\n",
            "Requirement already satisfied: scipy>=1.9 in /usr/local/lib/python3.10/dist-packages (from scikit-image->earthpy) (1.13.1)\n",
            "Requirement already satisfied: networkx>=2.8 in /usr/local/lib/python3.10/dist-packages (from scikit-image->earthpy) (3.3)\n",
            "Requirement already satisfied: imageio>=2.33 in /usr/local/lib/python3.10/dist-packages (from scikit-image->earthpy) (2.35.1)\n",
            "Requirement already satisfied: tifffile>=2022.8.12 in /usr/local/lib/python3.10/dist-packages (from scikit-image->earthpy) (2024.9.20)\n",
            "Requirement already satisfied: lazy-loader>=0.4 in /usr/local/lib/python3.10/dist-packages (from scikit-image->earthpy) (0.4)\n",
            "Requirement already satisfied: pytz>=2020.1 in /usr/local/lib/python3.10/dist-packages (from pandas>=1.4.0->geopandas->earthpy) (2024.2)\n",
            "Requirement already satisfied: tzdata>=2022.7 in /usr/local/lib/python3.10/dist-packages (from pandas>=1.4.0->geopandas->earthpy) (2024.2)\n",
            "Requirement already satisfied: six>=1.5 in /usr/local/lib/python3.10/dist-packages (from python-dateutil>=2.7->matplotlib>=2.0.0->earthpy) (1.16.0)\n",
            "Requirement already satisfied: rtree in /usr/local/lib/python3.10/dist-packages (1.3.0)\n",
            "Requirement already satisfied: pygeos in /usr/local/lib/python3.10/dist-packages (0.14)\n",
            "Requirement already satisfied: numpy>=1.13 in /usr/local/lib/python3.10/dist-packages (from pygeos) (1.26.4)\n"
          ]
        }
      ]
    },
    {
      "cell_type": "code",
      "source": [
        "import os\n",
        "import matplotlib.pyplot as plt\n",
        "import geopandas as gpd\n",
        "import earthpy as et\n"
      ],
      "metadata": {
        "id": "fxgQBbU3Oxbl"
      },
      "execution_count": 4,
      "outputs": []
    },
    {
      "cell_type": "markdown",
      "metadata": {
        "id": "5sE97xoBAWR4"
      },
      "source": [
        "To begin, set your working directory to earth-analytics and then download a single shapefile.\n",
        "\n",
        "You will start with working with the Natural Earth country boundary lines layer: https://www.naturalearthdata.com/downloads/\n",
        "\n",
        "Note that below you are using EarthPy to download a dataset from naturalearthdata.com (via Amazon Web Services).\n",
        "\n",
        "EarthPy automatically creates the earth-analytics directory for you when you use it, but by default makes this directory in your home directory. We're doing this here because you guys are on PCs.\n",
        "\n",
        "You set the working directory after you download the data as a precaution to ensure that the earth-analytics directory already exists on your computer. This is not a standard order of operations, as we are not using our SU H drive, but we are demonstrating it here to ensure the notebook runs on all computers!"
      ]
    },
    {
      "cell_type": "code",
      "execution_count": 6,
      "metadata": {
        "id": "HX73ilrbAWR5",
        "outputId": "b97ec6f5-ef3e-43ae-82cc-00539770f208",
        "colab": {
          "base_uri": "https://localhost:8080/"
        }
      },
      "outputs": [
        {
          "output_type": "stream",
          "name": "stdout",
          "text": [
            "Downloading from https://naturalearth.s3.amazonaws.com/50m_cultural/ne_50m_admin_0_boundary_lines_land.zip\n",
            "Extracted output to /root/earth-analytics/data/earthpy-downloads/ne_50m_admin_0_boundary_lines_land\n"
          ]
        }
      ],
      "source": [
        "# Download a political boundaries shapefile and set your working directory\n",
        "et.data.get_data(\n",
        "    url='https://naturalearth.s3.amazonaws.com/50m_cultural/ne_50m_admin_0_boundary_lines_land.zip')\n",
        "\n",
        "# Set working directory - earthpy creates earth-analytics for you in your home dir\n",
        "os.chdir(os.path.join(et.io.HOME, 'earth-analytics'))"
      ]
    },
    {
      "cell_type": "code",
      "source": [
        "os.path.join(et.io.HOME, 'earth-analytics')"
      ],
      "metadata": {
        "id": "76c6VRtJhHcr",
        "outputId": "3280ef0e-2b98-4e17-f534-f65be20ea673",
        "colab": {
          "base_uri": "https://localhost:8080/",
          "height": 35
        }
      },
      "execution_count": 16,
      "outputs": [
        {
          "output_type": "execute_result",
          "data": {
            "text/plain": [
              "'/root/earth-analytics'"
            ],
            "application/vnd.google.colaboratory.intrinsic+json": {
              "type": "string"
            }
          },
          "metadata": {},
          "execution_count": 16
        }
      ]
    },
    {
      "cell_type": "markdown",
      "metadata": {
        "id": "p1FhqaeJAWR5"
      },
      "source": [
        "### geopandas\n",
        "Next, you open the data using geopandas.\n",
        "\n",
        "***geopandas*** takes all of the data science magic from the pandas library and makes it compatible with shapfiles.\n",
        "\n",
        "Learn more here: https://geopandas.org/\n",
        "\n",
        "You can view the first 5 rows of the data using .head() in the same way you used .head() for Pandas dataframes.¶"
      ]
    },
    {
      "cell_type": "code",
      "execution_count": 7,
      "metadata": {
        "id": "daU0NJvsAWR6",
        "outputId": "a407fc4c-965e-49a5-d210-337179c2a732",
        "colab": {
          "base_uri": "https://localhost:8080/",
          "height": 35
        }
      },
      "outputs": [
        {
          "output_type": "execute_result",
          "data": {
            "text/plain": [
              "'/root/earth-analytics'"
            ],
            "application/vnd.google.colaboratory.intrinsic+json": {
              "type": "string"
            }
          },
          "metadata": {},
          "execution_count": 7
        }
      ],
      "source": [
        "os.getcwd()"
      ]
    },
    {
      "cell_type": "markdown",
      "metadata": {
        "id": "cNBjUKF1AWR7"
      },
      "source": [
        "We're going to download a second dataset, called coastlines:"
      ]
    },
    {
      "cell_type": "code",
      "execution_count": 8,
      "metadata": {
        "id": "im1CUtUbAWR8",
        "outputId": "20f6da32-5912-4781-ff21-8db7726df17e",
        "colab": {
          "base_uri": "https://localhost:8080/",
          "height": 494
        }
      },
      "outputs": [
        {
          "output_type": "stream",
          "name": "stdout",
          "text": [
            "Downloading from https://naturalearth.s3.amazonaws.com/50m_physical/ne_50m_coastline.zip\n",
            "Extracted output to /root/earth-analytics/data/earthpy-downloads/ne_50m_coastline\n"
          ]
        },
        {
          "output_type": "execute_result",
          "data": {
            "text/plain": [
              "   scalerank featurecla  min_zoom  \\\n",
              "0          0  Coastline       1.5   \n",
              "1          0  Coastline       4.0   \n",
              "2          0  Coastline       4.0   \n",
              "3          0  Coastline       3.0   \n",
              "4          0  Coastline       4.0   \n",
              "\n",
              "                                            geometry  \n",
              "0  LINESTRING (180 -16.15293, 179.84814 -16.21426...  \n",
              "1  LINESTRING (177.25752 -17.0542, 177.2874 -17.0...  \n",
              "2  LINESTRING (127.37266 0.79131, 127.35381 0.847...  \n",
              "3  LINESTRING (-81.32231 24.68506, -81.42007 24.7...  \n",
              "4  LINESTRING (-80.79941 24.84629, -80.83887 24.8...  "
            ],
            "text/html": [
              "\n",
              "  <div id=\"df-2b454c50-51ec-4711-a4bd-84cd2c9f2bdd\" class=\"colab-df-container\">\n",
              "    <div>\n",
              "<style scoped>\n",
              "    .dataframe tbody tr th:only-of-type {\n",
              "        vertical-align: middle;\n",
              "    }\n",
              "\n",
              "    .dataframe tbody tr th {\n",
              "        vertical-align: top;\n",
              "    }\n",
              "\n",
              "    .dataframe thead th {\n",
              "        text-align: right;\n",
              "    }\n",
              "</style>\n",
              "<table border=\"1\" class=\"dataframe\">\n",
              "  <thead>\n",
              "    <tr style=\"text-align: right;\">\n",
              "      <th></th>\n",
              "      <th>scalerank</th>\n",
              "      <th>featurecla</th>\n",
              "      <th>min_zoom</th>\n",
              "      <th>geometry</th>\n",
              "    </tr>\n",
              "  </thead>\n",
              "  <tbody>\n",
              "    <tr>\n",
              "      <th>0</th>\n",
              "      <td>0</td>\n",
              "      <td>Coastline</td>\n",
              "      <td>1.5</td>\n",
              "      <td>LINESTRING (180 -16.15293, 179.84814 -16.21426...</td>\n",
              "    </tr>\n",
              "    <tr>\n",
              "      <th>1</th>\n",
              "      <td>0</td>\n",
              "      <td>Coastline</td>\n",
              "      <td>4.0</td>\n",
              "      <td>LINESTRING (177.25752 -17.0542, 177.2874 -17.0...</td>\n",
              "    </tr>\n",
              "    <tr>\n",
              "      <th>2</th>\n",
              "      <td>0</td>\n",
              "      <td>Coastline</td>\n",
              "      <td>4.0</td>\n",
              "      <td>LINESTRING (127.37266 0.79131, 127.35381 0.847...</td>\n",
              "    </tr>\n",
              "    <tr>\n",
              "      <th>3</th>\n",
              "      <td>0</td>\n",
              "      <td>Coastline</td>\n",
              "      <td>3.0</td>\n",
              "      <td>LINESTRING (-81.32231 24.68506, -81.42007 24.7...</td>\n",
              "    </tr>\n",
              "    <tr>\n",
              "      <th>4</th>\n",
              "      <td>0</td>\n",
              "      <td>Coastline</td>\n",
              "      <td>4.0</td>\n",
              "      <td>LINESTRING (-80.79941 24.84629, -80.83887 24.8...</td>\n",
              "    </tr>\n",
              "  </tbody>\n",
              "</table>\n",
              "</div>\n",
              "    <div class=\"colab-df-buttons\">\n",
              "\n",
              "  <div class=\"colab-df-container\">\n",
              "    <button class=\"colab-df-convert\" onclick=\"convertToInteractive('df-2b454c50-51ec-4711-a4bd-84cd2c9f2bdd')\"\n",
              "            title=\"Convert this dataframe to an interactive table.\"\n",
              "            style=\"display:none;\">\n",
              "\n",
              "  <svg xmlns=\"http://www.w3.org/2000/svg\" height=\"24px\" viewBox=\"0 -960 960 960\">\n",
              "    <path d=\"M120-120v-720h720v720H120Zm60-500h600v-160H180v160Zm220 220h160v-160H400v160Zm0 220h160v-160H400v160ZM180-400h160v-160H180v160Zm440 0h160v-160H620v160ZM180-180h160v-160H180v160Zm440 0h160v-160H620v160Z\"/>\n",
              "  </svg>\n",
              "    </button>\n",
              "\n",
              "  <style>\n",
              "    .colab-df-container {\n",
              "      display:flex;\n",
              "      gap: 12px;\n",
              "    }\n",
              "\n",
              "    .colab-df-convert {\n",
              "      background-color: #E8F0FE;\n",
              "      border: none;\n",
              "      border-radius: 50%;\n",
              "      cursor: pointer;\n",
              "      display: none;\n",
              "      fill: #1967D2;\n",
              "      height: 32px;\n",
              "      padding: 0 0 0 0;\n",
              "      width: 32px;\n",
              "    }\n",
              "\n",
              "    .colab-df-convert:hover {\n",
              "      background-color: #E2EBFA;\n",
              "      box-shadow: 0px 1px 2px rgba(60, 64, 67, 0.3), 0px 1px 3px 1px rgba(60, 64, 67, 0.15);\n",
              "      fill: #174EA6;\n",
              "    }\n",
              "\n",
              "    .colab-df-buttons div {\n",
              "      margin-bottom: 4px;\n",
              "    }\n",
              "\n",
              "    [theme=dark] .colab-df-convert {\n",
              "      background-color: #3B4455;\n",
              "      fill: #D2E3FC;\n",
              "    }\n",
              "\n",
              "    [theme=dark] .colab-df-convert:hover {\n",
              "      background-color: #434B5C;\n",
              "      box-shadow: 0px 1px 3px 1px rgba(0, 0, 0, 0.15);\n",
              "      filter: drop-shadow(0px 1px 2px rgba(0, 0, 0, 0.3));\n",
              "      fill: #FFFFFF;\n",
              "    }\n",
              "  </style>\n",
              "\n",
              "    <script>\n",
              "      const buttonEl =\n",
              "        document.querySelector('#df-2b454c50-51ec-4711-a4bd-84cd2c9f2bdd button.colab-df-convert');\n",
              "      buttonEl.style.display =\n",
              "        google.colab.kernel.accessAllowed ? 'block' : 'none';\n",
              "\n",
              "      async function convertToInteractive(key) {\n",
              "        const element = document.querySelector('#df-2b454c50-51ec-4711-a4bd-84cd2c9f2bdd');\n",
              "        const dataTable =\n",
              "          await google.colab.kernel.invokeFunction('convertToInteractive',\n",
              "                                                    [key], {});\n",
              "        if (!dataTable) return;\n",
              "\n",
              "        const docLinkHtml = 'Like what you see? Visit the ' +\n",
              "          '<a target=\"_blank\" href=https://colab.research.google.com/notebooks/data_table.ipynb>data table notebook</a>'\n",
              "          + ' to learn more about interactive tables.';\n",
              "        element.innerHTML = '';\n",
              "        dataTable['output_type'] = 'display_data';\n",
              "        await google.colab.output.renderOutput(dataTable, element);\n",
              "        const docLink = document.createElement('div');\n",
              "        docLink.innerHTML = docLinkHtml;\n",
              "        element.appendChild(docLink);\n",
              "      }\n",
              "    </script>\n",
              "  </div>\n",
              "\n",
              "\n",
              "<div id=\"df-6e0c3c40-acb0-4b99-990d-be93c23c5e56\">\n",
              "  <button class=\"colab-df-quickchart\" onclick=\"quickchart('df-6e0c3c40-acb0-4b99-990d-be93c23c5e56')\"\n",
              "            title=\"Suggest charts\"\n",
              "            style=\"display:none;\">\n",
              "\n",
              "<svg xmlns=\"http://www.w3.org/2000/svg\" height=\"24px\"viewBox=\"0 0 24 24\"\n",
              "     width=\"24px\">\n",
              "    <g>\n",
              "        <path d=\"M19 3H5c-1.1 0-2 .9-2 2v14c0 1.1.9 2 2 2h14c1.1 0 2-.9 2-2V5c0-1.1-.9-2-2-2zM9 17H7v-7h2v7zm4 0h-2V7h2v10zm4 0h-2v-4h2v4z\"/>\n",
              "    </g>\n",
              "</svg>\n",
              "  </button>\n",
              "\n",
              "<style>\n",
              "  .colab-df-quickchart {\n",
              "      --bg-color: #E8F0FE;\n",
              "      --fill-color: #1967D2;\n",
              "      --hover-bg-color: #E2EBFA;\n",
              "      --hover-fill-color: #174EA6;\n",
              "      --disabled-fill-color: #AAA;\n",
              "      --disabled-bg-color: #DDD;\n",
              "  }\n",
              "\n",
              "  [theme=dark] .colab-df-quickchart {\n",
              "      --bg-color: #3B4455;\n",
              "      --fill-color: #D2E3FC;\n",
              "      --hover-bg-color: #434B5C;\n",
              "      --hover-fill-color: #FFFFFF;\n",
              "      --disabled-bg-color: #3B4455;\n",
              "      --disabled-fill-color: #666;\n",
              "  }\n",
              "\n",
              "  .colab-df-quickchart {\n",
              "    background-color: var(--bg-color);\n",
              "    border: none;\n",
              "    border-radius: 50%;\n",
              "    cursor: pointer;\n",
              "    display: none;\n",
              "    fill: var(--fill-color);\n",
              "    height: 32px;\n",
              "    padding: 0;\n",
              "    width: 32px;\n",
              "  }\n",
              "\n",
              "  .colab-df-quickchart:hover {\n",
              "    background-color: var(--hover-bg-color);\n",
              "    box-shadow: 0 1px 2px rgba(60, 64, 67, 0.3), 0 1px 3px 1px rgba(60, 64, 67, 0.15);\n",
              "    fill: var(--button-hover-fill-color);\n",
              "  }\n",
              "\n",
              "  .colab-df-quickchart-complete:disabled,\n",
              "  .colab-df-quickchart-complete:disabled:hover {\n",
              "    background-color: var(--disabled-bg-color);\n",
              "    fill: var(--disabled-fill-color);\n",
              "    box-shadow: none;\n",
              "  }\n",
              "\n",
              "  .colab-df-spinner {\n",
              "    border: 2px solid var(--fill-color);\n",
              "    border-color: transparent;\n",
              "    border-bottom-color: var(--fill-color);\n",
              "    animation:\n",
              "      spin 1s steps(1) infinite;\n",
              "  }\n",
              "\n",
              "  @keyframes spin {\n",
              "    0% {\n",
              "      border-color: transparent;\n",
              "      border-bottom-color: var(--fill-color);\n",
              "      border-left-color: var(--fill-color);\n",
              "    }\n",
              "    20% {\n",
              "      border-color: transparent;\n",
              "      border-left-color: var(--fill-color);\n",
              "      border-top-color: var(--fill-color);\n",
              "    }\n",
              "    30% {\n",
              "      border-color: transparent;\n",
              "      border-left-color: var(--fill-color);\n",
              "      border-top-color: var(--fill-color);\n",
              "      border-right-color: var(--fill-color);\n",
              "    }\n",
              "    40% {\n",
              "      border-color: transparent;\n",
              "      border-right-color: var(--fill-color);\n",
              "      border-top-color: var(--fill-color);\n",
              "    }\n",
              "    60% {\n",
              "      border-color: transparent;\n",
              "      border-right-color: var(--fill-color);\n",
              "    }\n",
              "    80% {\n",
              "      border-color: transparent;\n",
              "      border-right-color: var(--fill-color);\n",
              "      border-bottom-color: var(--fill-color);\n",
              "    }\n",
              "    90% {\n",
              "      border-color: transparent;\n",
              "      border-bottom-color: var(--fill-color);\n",
              "    }\n",
              "  }\n",
              "</style>\n",
              "\n",
              "  <script>\n",
              "    async function quickchart(key) {\n",
              "      const quickchartButtonEl =\n",
              "        document.querySelector('#' + key + ' button');\n",
              "      quickchartButtonEl.disabled = true;  // To prevent multiple clicks.\n",
              "      quickchartButtonEl.classList.add('colab-df-spinner');\n",
              "      try {\n",
              "        const charts = await google.colab.kernel.invokeFunction(\n",
              "            'suggestCharts', [key], {});\n",
              "      } catch (error) {\n",
              "        console.error('Error during call to suggestCharts:', error);\n",
              "      }\n",
              "      quickchartButtonEl.classList.remove('colab-df-spinner');\n",
              "      quickchartButtonEl.classList.add('colab-df-quickchart-complete');\n",
              "    }\n",
              "    (() => {\n",
              "      let quickchartButtonEl =\n",
              "        document.querySelector('#df-6e0c3c40-acb0-4b99-990d-be93c23c5e56 button');\n",
              "      quickchartButtonEl.style.display =\n",
              "        google.colab.kernel.accessAllowed ? 'block' : 'none';\n",
              "    })();\n",
              "  </script>\n",
              "</div>\n",
              "\n",
              "    </div>\n",
              "  </div>\n"
            ],
            "application/vnd.google.colaboratory.intrinsic+json": {
              "type": "dataframe",
              "variable_name": "coastlines",
              "summary": "{\n  \"name\": \"coastlines\",\n  \"rows\": 1428,\n  \"fields\": [\n    {\n      \"column\": \"scalerank\",\n      \"properties\": {\n        \"dtype\": \"number\",\n        \"std\": 0,\n        \"min\": 0,\n        \"max\": 0,\n        \"num_unique_values\": 1,\n        \"samples\": [\n          0\n        ],\n        \"semantic_type\": \"\",\n        \"description\": \"\"\n      }\n    },\n    {\n      \"column\": \"featurecla\",\n      \"properties\": {\n        \"dtype\": \"category\",\n        \"num_unique_values\": 1,\n        \"samples\": [\n          \"Coastline\"\n        ],\n        \"semantic_type\": \"\",\n        \"description\": \"\"\n      }\n    },\n    {\n      \"column\": \"min_zoom\",\n      \"properties\": {\n        \"dtype\": \"number\",\n        \"std\": 1.0831262229910925,\n        \"min\": 0.0,\n        \"max\": 4.0,\n        \"num_unique_values\": 7,\n        \"samples\": [\n          1.5\n        ],\n        \"semantic_type\": \"\",\n        \"description\": \"\"\n      }\n    },\n    {\n      \"column\": \"geometry\",\n      \"properties\": {\n        \"dtype\": \"geometry\",\n        \"num_unique_values\": 1428,\n        \"samples\": [\n          \"LINESTRING (-70.54345703125 -72.66445312500002, -70.06308593749999 -72.62617187500001, -69.20932617187499 -72.5341796875, -69.14926757812499 -72.42656250000002, -68.6400390625 -72.20976562500002, -68.54257812499999 -72.15761718750002, -68.46074218749999 -72.08535156250002, -68.39389648437499 -71.9751953125, -68.24101562499999 -71.82216796875002, -68.22783203124999 -71.7251953125, -68.25244140625 -71.3134765625, -68.27792968749999 -71.09707031250002, -68.31401367187499 -70.91171875, -68.33598632812499 -70.8560546875, -68.45078124999999 -70.81787109375, -68.45947265625 -70.68291015625002, -68.55351562499999 -70.58144531250002, -68.73056640624999 -70.40810546875002, -69.091259765625 -70.09033203125, -69.2337890625 -69.90908203125002, -69.352978515625 -69.66630859375002, -69.416943359375 -69.58320312500001, -69.70756835937499 -69.3208984375, -69.85498046875 -69.27656250000001, -69.91328125 -69.26728515625001, -70.079345703125 -69.31093750000002, -70.05112304687499 -69.1890625, -70.052734375 -69.13955078125002, -70.10546875 -68.95937500000002, -70.154296875 -68.92294921875, -70.3119140625 -68.83222656250001, -70.4169921875 -68.78896484375002, -71.391552734375 -68.87353515625, -71.86899414062499 -68.941015625, -71.99013671875 -68.97080078125, -72.057861328125 -69.0009765625, -72.108642578125 -69.06005859375, -72.137890625 -69.11455078125002, -72.13515625 -69.17656250000002, -72.11435546874999 -69.22539062500002, -72.08066406249999 -69.2671875, -71.96323242187499 -69.3287109375, -71.83359374999999 -69.366796875, -71.742919921875 -69.42275390625002, -71.718212890625 -69.5240234375, -71.76650390625 -69.6494140625, -71.852001953125 -69.80703125000002, -71.86767578125 -69.84716796875, -71.87924804687499 -69.90898437500002, -71.85361328124999 -69.9693359375, -71.8099609375 -70.00517578125002, -71.728515625 -70.0537109375, -71.69609374999999 -70.06777343750002, -71.1205078125 -70.19648437500001, -71.02373046874999 -70.20136718750001, -70.926220703125 -70.1923828125, -70.71953124999999 -70.13945312500002, -70.32763671875 -70.15966796875, -70.23408203125 -70.18046875000002, -70.11787109375 -70.23417968750002, -69.8830078125 -70.30517578125, -69.618359375 -70.398046875, -69.65986328125 -70.41230468750001, -69.70205078125 -70.41474609375001, -69.97529296875 -70.36015625000002, -70.09042968749999 -70.35068359375, -70.328076171875 -70.36123046875002, -70.56210937499999 -70.40410156250002, -71.06108398437499 -70.537109375, -71.19003906249999 -70.65957031250002, -71.17265624999999 -70.71298828125, -71.04941406249999 -70.76210937500002, -70.916943359375 -70.78583984375001, -70.66064453125 -70.81787109375, -70.29868164062499 -70.83613281250001, -70.196240234375 -70.8505859375, -70.093994140625 -70.88261718750002, -69.99301757812499 -70.8970703125, -69.93320312499999 -70.88037109375, -69.87578124999999 -70.8759765625, -69.83041992187499 -70.913671875, -69.822509765625 -70.97343750000002, -69.82285156249999 -71.03369140625, -69.835107421875 -71.09257812500002, -69.869775390625 -71.12568359375001, -69.916455078125 -71.1337890625, -70.26767578124999 -70.96474609375002, -70.322900390625 -70.951171875, -70.38066406249999 -70.94638671875, -70.74111328125 -70.99257812500002, -71.19404296875 -70.98476562500002, -71.30751953125 -71.01083984375, -71.50449218749999 -71.11152343750001, -71.718505859375 -71.1451171875, -72.35634765625 -71.0748046875, -72.71044921875 -71.07294921875001, -73.06040039062499 -71.126953125, -72.99453125 -71.1865234375, -72.90546875 -71.22314453125, -72.430078125 -71.275, -72.211669921875 -71.33505859375, -72.62158203125 -71.38837890625001, -72.821044921875 -71.38359375000002, -73.0197265625 -71.36865234375, -73.397412109375 -71.32119140625002, -73.47397460937499 -71.32490234375001, -73.6044921875 -71.35078125000001, -73.61708984375 -71.39658203125, -73.5921875 -71.44804687500002, -73.38017578124999 -71.5279296875, -73.4271484375 -71.55888671875002, -73.47900390625 -71.5787109375, -73.545361328125 -71.57304687500002, -73.724267578125 -71.51699218750002, -73.93710937499999 -71.43818359375001, -74.040966796875 -71.41044921875002, -74.18720703125 -71.38300781250001, -74.236083984375 -71.38837890625001, -74.30791015624999 -71.39990234375, -74.375 -71.41494140625002, -74.42539062499999 -71.45693359375002, -74.4203125 -71.50722656250002, -74.380078125 -71.57939453125002, -74.37333984374999 -71.61796875000002, -74.391796875 -71.63818359375, -74.41865234375 -71.64326171875001, -74.487451171875 -71.64150390625002, -74.636376953125 -71.61748046875002, -74.86313476562499 -71.54335937500002, -75.09965820312499 -71.55537109375001, -75.29257812499999 -71.61494140625001, -75.33544921875 -71.64521484375001, -75.35312499999999 -71.6796875, -75.32490234375 -71.7255859375, -75.330810546875 -71.75234375000002, -75.3732421875 -71.7802734375, -75.38271484375 -71.82792968750002, -75.35307617187499 -71.87841796875, -75.25888671874999 -71.91396484375002, -75.12973632812499 -71.96396484375, -75.02412109375 -71.98847656250001, -74.90825195312499 -72.03330078125, -74.78583984375 -72.06357421875, -74.663232421875 -72.069921875, -74.42929687499999 -72.05556640625002, -74.32177734375 -72.07265625000002, -74.208935546875 -72.14228515625001, -74.152978515625 -72.1587890625, -73.99560546875 -72.16982421875002, -73.89926757812499 -72.15234375, -73.537109375 -72.02236328125002, -73.57231445312499 -71.98095703125, -73.690576171875 -71.92939453125001, -73.82988281249999 -71.87021484375, -73.77597656249999 -71.84892578125002, -73.63291015624999 -71.8349609375, -73.40996093749999 -71.853125, -73.16669921875 -71.90458984375002, -72.9720703125 -71.92363281250002, -72.92763671875 -71.92167968750002, -72.41220703124999 -71.66230468750001, -72.33662109375 -71.63222656250002, -72.25908203124999 -71.6412109375, -72.04594726562499 -71.73964843750002, -71.816162109375 -71.821875, -71.5744140625 -71.8505859375, -71.46464843749999 -71.837890625, -71.35498046875 -71.83642578125, -70.82099609375 -71.90654296875002, -70.84462890625 -71.94580078125, -70.89111328125 -71.98740234375, -71.034375 -72.03457031250002, -71.106640625 -72.04707031250001, -71.89755859374999 -72.12080078125001, -71.89218749999999 -72.15283203125, -71.66147460937499 -72.24980468750002, -71.412548828125 -72.28447265625002, -71.177734375 -72.26406250000002, -70.94516601562499 -72.2291015625, -70.64140624999999 -72.16962890625001, -70.533203125 -72.16337890625002, -70.42416992187499 -72.16777343750002, -70.314208984375 -72.191015625, -70.206005859375 -72.22773437500001, -70.427685546875 -72.32255859375002, -70.671142578125 -72.35634765625002, -70.87260742187499 -72.36640625000001, -71.60532226562499 -72.358984375, -72.1349609375 -72.33134765625002, -72.37607421874999 -72.29628906250002, -72.61821289062499 -72.27509765625001, -72.7375 -72.28056640625002, -72.85483398437499 -72.30419921875, -73.086376953125 -72.4078125, -73.05742187499999 -72.44755859375002, -73.00703125 -72.48408203125001, -72.887646484375 -72.54667968750002, -72.78037109374999 -72.58056640625, -72.67021484374999 -72.59589843750001, -72.53081054687499 -72.58955078125001, -72.4798828125 -72.61728515625, -72.43330078125 -72.65830078125, -72.36748046874999 -72.66972656250002, -71.846142578125 -72.63935546875001, -71.15859375 -72.626953125, -70.92294921874999 -72.61308593750002, -70.73134765625 -72.62294921875002, -70.54345703125 -72.66445312500002)\"\n        ],\n        \"semantic_type\": \"\",\n        \"description\": \"\"\n      }\n    }\n  ]\n}"
            }
          },
          "metadata": {},
          "execution_count": 8
        }
      ],
      "source": [
        "#set URL for the dataset\n",
        "coastlines_url = \"https://naturalearth.s3.amazonaws.com/50m_physical/ne_50m_coastline.zip\"\n",
        "\n",
        "#download the URL into your earth-analytics folder\n",
        "et.data.get_data(url=coastlines_url)\n",
        "\n",
        "#name the filepath relative to your working directory: note this is operating system agnostic\n",
        "coastlines_path = os.path.join(\"data\", \"earthpy-downloads\",\n",
        "                               \"ne_50m_coastline\",\n",
        "                               \"ne_50m_coastline.shp\")\n",
        "\n",
        "#use geopandas as gpd to \"read_file\"\n",
        "coastlines = gpd.read_file(coastlines_path)\n",
        "\n",
        "#prints \"head\" just like pandas!\n",
        "coastlines.head()"
      ]
    },
    {
      "cell_type": "markdown",
      "metadata": {
        "id": "AWVggDwWAWR9"
      },
      "source": [
        "## GeoPandas creates GeoDataFrames\n",
        "The structure of a Geopandas GeoDataFrame is very similar to a Pandas dataframe. This means that all the awesome data wrangling functionality of pandas dataframes can be applied to our spatial vector data as well.\n",
        "\n",
        "### A few differences include:\n",
        "The GeoDataFrame contains a geometry column which stores spatial information. The geometry column in your GeoDataFrame stores the boundary information (the lines that make up each shape in your data). This allows you to plot points, lines or polygons.\n",
        "\n",
        "The GeoDataFrame stores spatial attributes such as coordinate reference systems and spatial extents.\n",
        "\n",
        "Similar to Pandas, you can plot the data using .plot()"
      ]
    },
    {
      "cell_type": "code",
      "execution_count": 9,
      "metadata": {
        "id": "wf3hUYvnAWR-",
        "outputId": "6faae465-cf16-4be0-e2c3-b7385a85b9ee",
        "colab": {
          "base_uri": "https://localhost:8080/",
          "height": 519
        }
      },
      "outputs": [
        {
          "output_type": "display_data",
          "data": {
            "text/plain": [
              "<Figure size 1200x600 with 1 Axes>"
            ],
            "image/png": "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\n"
          },
          "metadata": {}
        }
      ],
      "source": [
        "# Plot the data\n",
        "f, ax1 = plt.subplots(figsize=(12, 6))\n",
        "coastlines.plot(ax=ax1)\n",
        "\n",
        "# Add a title to your plot\n",
        "ax1.set(title=\"Global Coastline Boundaries\")\n",
        "plt.show()"
      ]
    },
    {
      "cell_type": "markdown",
      "metadata": {
        "id": "YiF7ytzZAWR_"
      },
      "source": [
        "### Check the Spatial Vector Data Type\n",
        "You can look at the data to figure out what type of data are stored in the shapefile (points, line or polygons). However, you can also get that information by calling .geom_type"
      ]
    },
    {
      "cell_type": "code",
      "execution_count": 10,
      "metadata": {
        "id": "Xw9ujP22AWR_",
        "outputId": "7f82a73d-160e-4f50-b7a8-6be81779be5a",
        "colab": {
          "base_uri": "https://localhost:8080/",
          "height": 458
        }
      },
      "outputs": [
        {
          "output_type": "execute_result",
          "data": {
            "text/plain": [
              "0       LineString\n",
              "1       LineString\n",
              "2       LineString\n",
              "3       LineString\n",
              "4       LineString\n",
              "           ...    \n",
              "1423    LineString\n",
              "1424    LineString\n",
              "1425    LineString\n",
              "1426    LineString\n",
              "1427    LineString\n",
              "Length: 1428, dtype: object"
            ],
            "text/html": [
              "<div>\n",
              "<style scoped>\n",
              "    .dataframe tbody tr th:only-of-type {\n",
              "        vertical-align: middle;\n",
              "    }\n",
              "\n",
              "    .dataframe tbody tr th {\n",
              "        vertical-align: top;\n",
              "    }\n",
              "\n",
              "    .dataframe thead th {\n",
              "        text-align: right;\n",
              "    }\n",
              "</style>\n",
              "<table border=\"1\" class=\"dataframe\">\n",
              "  <thead>\n",
              "    <tr style=\"text-align: right;\">\n",
              "      <th></th>\n",
              "      <th>0</th>\n",
              "    </tr>\n",
              "  </thead>\n",
              "  <tbody>\n",
              "    <tr>\n",
              "      <th>0</th>\n",
              "      <td>LineString</td>\n",
              "    </tr>\n",
              "    <tr>\n",
              "      <th>1</th>\n",
              "      <td>LineString</td>\n",
              "    </tr>\n",
              "    <tr>\n",
              "      <th>2</th>\n",
              "      <td>LineString</td>\n",
              "    </tr>\n",
              "    <tr>\n",
              "      <th>3</th>\n",
              "      <td>LineString</td>\n",
              "    </tr>\n",
              "    <tr>\n",
              "      <th>4</th>\n",
              "      <td>LineString</td>\n",
              "    </tr>\n",
              "    <tr>\n",
              "      <th>...</th>\n",
              "      <td>...</td>\n",
              "    </tr>\n",
              "    <tr>\n",
              "      <th>1423</th>\n",
              "      <td>LineString</td>\n",
              "    </tr>\n",
              "    <tr>\n",
              "      <th>1424</th>\n",
              "      <td>LineString</td>\n",
              "    </tr>\n",
              "    <tr>\n",
              "      <th>1425</th>\n",
              "      <td>LineString</td>\n",
              "    </tr>\n",
              "    <tr>\n",
              "      <th>1426</th>\n",
              "      <td>LineString</td>\n",
              "    </tr>\n",
              "    <tr>\n",
              "      <th>1427</th>\n",
              "      <td>LineString</td>\n",
              "    </tr>\n",
              "  </tbody>\n",
              "</table>\n",
              "<p>1428 rows × 1 columns</p>\n",
              "</div><br><label><b>dtype:</b> object</label>"
            ]
          },
          "metadata": {},
          "execution_count": 10
        }
      ],
      "source": [
        "# Is the geometry type point, line or polygon?\n",
        "coastlines.geom_type"
      ]
    },
    {
      "cell_type": "markdown",
      "metadata": {
        "id": "0Z3XseEqAWSA"
      },
      "source": [
        "Also similar to Pandas, you can view descriptive information about the GeoDataFrame using .info(). This includes the number of columns, rows and the header name and type of each column.¶"
      ]
    },
    {
      "cell_type": "code",
      "execution_count": 11,
      "metadata": {
        "id": "ZMNnZaOUAWSB",
        "outputId": "ca40dfa9-218e-4c89-98db-f5efe0a9645d",
        "colab": {
          "base_uri": "https://localhost:8080/"
        }
      },
      "outputs": [
        {
          "output_type": "stream",
          "name": "stdout",
          "text": [
            "<class 'geopandas.geodataframe.GeoDataFrame'>\n",
            "RangeIndex: 1428 entries, 0 to 1427\n",
            "Data columns (total 4 columns):\n",
            " #   Column      Non-Null Count  Dtype   \n",
            "---  ------      --------------  -----   \n",
            " 0   scalerank   1428 non-null   int64   \n",
            " 1   featurecla  1428 non-null   object  \n",
            " 2   min_zoom    1428 non-null   float64 \n",
            " 3   geometry    1428 non-null   geometry\n",
            "dtypes: float64(1), geometry(1), int64(1), object(1)\n",
            "memory usage: 44.8+ KB\n"
          ]
        }
      ],
      "source": [
        "coastlines.info()"
      ]
    },
    {
      "cell_type": "markdown",
      "metadata": {
        "id": "v6t7ulmJAWSC"
      },
      "source": [
        "### Open point data\n",
        "Next, you will accesss another online shapefile using Geopandas."
      ]
    },
    {
      "cell_type": "code",
      "execution_count": 12,
      "metadata": {
        "id": "XMCHAAnXAWSC",
        "outputId": "2fff721b-e36f-4e9b-c424-e14e40b9f23f",
        "colab": {
          "base_uri": "https://localhost:8080/"
        }
      },
      "outputs": [
        {
          "output_type": "stream",
          "name": "stdout",
          "text": [
            "Downloading from https://naturalearth.s3.amazonaws.com/50m_cultural/ne_50m_populated_places_simple.zip\n",
            "Extracted output to /root/earth-analytics/data/earthpy-downloads/ne_50m_populated_places_simple\n"
          ]
        }
      ],
      "source": [
        "# Open a second layer\n",
        "et.data.get_data(\n",
        "    url='https://naturalearth.s3.amazonaws.com/50m_cultural/ne_50m_populated_places_simple.zip')\n",
        "\n",
        "# Create a path to the populated places shapefile\n",
        "populated_places_path = os.path.join(\"data\", \"earthpy-downloads\",\n",
        "                                     \"ne_50m_populated_places_simple\",\n",
        "                                     \"ne_50m_populated_places_simple.shp\")\n",
        "\n",
        "#read in a new geopandas data frame called \"cities\"\n",
        "cities = gpd.read_file(populated_places_path)"
      ]
    },
    {
      "cell_type": "markdown",
      "metadata": {
        "id": "cuHhWHjiAWSD"
      },
      "source": [
        "### TASK 1: Is cities a point, line, or polygon file? Type a command to find out and interpret the answer."
      ]
    },
    {
      "cell_type": "code",
      "execution_count": 13,
      "metadata": {
        "id": "e6BEiY2ZAWSD"
      },
      "outputs": [],
      "source": [
        "# Task 1 answer here"
      ]
    },
    {
      "cell_type": "code",
      "source": [
        "cities.info()"
      ],
      "metadata": {
        "id": "pD01tlnxgLy6",
        "outputId": "8e78506f-d358-493b-bdaf-c5d60467afbd",
        "colab": {
          "base_uri": "https://localhost:8080/"
        }
      },
      "execution_count": 14,
      "outputs": [
        {
          "output_type": "stream",
          "name": "stdout",
          "text": [
            "<class 'geopandas.geodataframe.GeoDataFrame'>\n",
            "RangeIndex: 1251 entries, 0 to 1250\n",
            "Data columns (total 32 columns):\n",
            " #   Column      Non-Null Count  Dtype   \n",
            "---  ------      --------------  -----   \n",
            " 0   scalerank   1251 non-null   int32   \n",
            " 1   natscale    1251 non-null   int32   \n",
            " 2   labelrank   1251 non-null   int32   \n",
            " 3   featurecla  1251 non-null   object  \n",
            " 4   name        1251 non-null   object  \n",
            " 5   namepar     77 non-null     object  \n",
            " 6   namealt     223 non-null    object  \n",
            " 7   nameascii   1251 non-null   object  \n",
            " 8   adm0cap     1251 non-null   int32   \n",
            " 9   capalt      1251 non-null   int32   \n",
            " 10  capin       35 non-null     object  \n",
            " 11  worldcity   1251 non-null   int32   \n",
            " 12  megacity    1251 non-null   int32   \n",
            " 13  sov0name    1251 non-null   object  \n",
            " 14  sov_a3      1251 non-null   object  \n",
            " 15  adm0name    1251 non-null   object  \n",
            " 16  adm0_a3     1251 non-null   object  \n",
            " 17  adm1name    1164 non-null   object  \n",
            " 18  iso_a2      1251 non-null   object  \n",
            " 19  note        8 non-null      object  \n",
            " 20  latitude    1251 non-null   float64 \n",
            " 21  longitude   1251 non-null   float64 \n",
            " 22  pop_max     1251 non-null   int64   \n",
            " 23  pop_min     1251 non-null   int64   \n",
            " 24  pop_other   1250 non-null   float64 \n",
            " 25  rank_max    1251 non-null   int32   \n",
            " 26  rank_min    1251 non-null   int32   \n",
            " 27  meganame    463 non-null    object  \n",
            " 28  ls_name     1223 non-null   object  \n",
            " 29  min_zoom    1251 non-null   float64 \n",
            " 30  ne_id       1251 non-null   int64   \n",
            " 31  geometry    1251 non-null   geometry\n",
            "dtypes: float64(4), geometry(1), int32(9), int64(3), object(15)\n",
            "memory usage: 268.9+ KB\n"
          ]
        }
      ]
    },
    {
      "cell_type": "code",
      "source": [
        "cities.geom_type"
      ],
      "metadata": {
        "id": "PtaaM0oRgZ-Z",
        "outputId": "3fd2c9ac-ec4a-4357-fe61-f473d1a1674e",
        "colab": {
          "base_uri": "https://localhost:8080/",
          "height": 458
        }
      },
      "execution_count": 15,
      "outputs": [
        {
          "output_type": "execute_result",
          "data": {
            "text/plain": [
              "0       Point\n",
              "1       Point\n",
              "2       Point\n",
              "3       Point\n",
              "4       Point\n",
              "        ...  \n",
              "1246    Point\n",
              "1247    Point\n",
              "1248    Point\n",
              "1249    Point\n",
              "1250    Point\n",
              "Length: 1251, dtype: object"
            ],
            "text/html": [
              "<div>\n",
              "<style scoped>\n",
              "    .dataframe tbody tr th:only-of-type {\n",
              "        vertical-align: middle;\n",
              "    }\n",
              "\n",
              "    .dataframe tbody tr th {\n",
              "        vertical-align: top;\n",
              "    }\n",
              "\n",
              "    .dataframe thead th {\n",
              "        text-align: right;\n",
              "    }\n",
              "</style>\n",
              "<table border=\"1\" class=\"dataframe\">\n",
              "  <thead>\n",
              "    <tr style=\"text-align: right;\">\n",
              "      <th></th>\n",
              "      <th>0</th>\n",
              "    </tr>\n",
              "  </thead>\n",
              "  <tbody>\n",
              "    <tr>\n",
              "      <th>0</th>\n",
              "      <td>Point</td>\n",
              "    </tr>\n",
              "    <tr>\n",
              "      <th>1</th>\n",
              "      <td>Point</td>\n",
              "    </tr>\n",
              "    <tr>\n",
              "      <th>2</th>\n",
              "      <td>Point</td>\n",
              "    </tr>\n",
              "    <tr>\n",
              "      <th>3</th>\n",
              "      <td>Point</td>\n",
              "    </tr>\n",
              "    <tr>\n",
              "      <th>4</th>\n",
              "      <td>Point</td>\n",
              "    </tr>\n",
              "    <tr>\n",
              "      <th>...</th>\n",
              "      <td>...</td>\n",
              "    </tr>\n",
              "    <tr>\n",
              "      <th>1246</th>\n",
              "      <td>Point</td>\n",
              "    </tr>\n",
              "    <tr>\n",
              "      <th>1247</th>\n",
              "      <td>Point</td>\n",
              "    </tr>\n",
              "    <tr>\n",
              "      <th>1248</th>\n",
              "      <td>Point</td>\n",
              "    </tr>\n",
              "    <tr>\n",
              "      <th>1249</th>\n",
              "      <td>Point</td>\n",
              "    </tr>\n",
              "    <tr>\n",
              "      <th>1250</th>\n",
              "      <td>Point</td>\n",
              "    </tr>\n",
              "  </tbody>\n",
              "</table>\n",
              "<p>1251 rows × 1 columns</p>\n",
              "</div><br><label><b>dtype:</b> object</label>"
            ]
          },
          "metadata": {},
          "execution_count": 15
        }
      ]
    },
    {
      "cell_type": "markdown",
      "metadata": {
        "id": "lWs792nPAWSD"
      },
      "source": [
        "The attributes for a shapefile imported into a GeoDataFrame can be viewed in the GeoDataFrame itself."
      ]
    },
    {
      "cell_type": "code",
      "execution_count": null,
      "metadata": {
        "id": "zU47qq6jAWSD"
      },
      "outputs": [],
      "source": [
        "# View first 5 rows of GeoDataFrame\n",
        "cities.head()\n",
        "\n",
        "\n",
        "# Experiment! How would you view the first 10 rows of a GeoDataFrame?"
      ]
    },
    {
      "cell_type": "markdown",
      "metadata": {
        "id": "_4zDORD5AWSE"
      },
      "source": [
        "Just like with Pandas DataFrames, standard arguments can be used to calculate summary statistics on your GeoPandas object:"
      ]
    },
    {
      "cell_type": "code",
      "execution_count": null,
      "metadata": {
        "id": "nZlzvjoVAWSE"
      },
      "outputs": [],
      "source": [
        "#Let's see what our most populous city is\n",
        "#print out the column with maximum population\n",
        "print(cities.pop_max)\n",
        "print(cities.iloc[cities.pop_max.idxmax()])\n",
        "\n",
        "print(\"The world's largest city  by population is \" + cities.name.iloc[cities.pop_max.idxmax()] +\n",
        "      \" with \" + str(cities.pop_max.max()) +\n",
        "      \" people!\")"
      ]
    },
    {
      "cell_type": "markdown",
      "source": [
        "## Geopandas = geographic pandas data frames\n",
        "The handy thing about working with vector data in geopandas is that you have all of the functionality of pandas at your fingertips. This means that it is easy to do things like:\n",
        "1. Subset your shapefile based on certain crtiera\n",
        "2. Merge your shapefile with other datasets\n",
        "3. Process fields (columns) in your shapefile using python commands.\n",
        "\n",
        "For example, let's say we are conducting a study on megacities. We can easily identify our megacities using the pop_max field, and use that to create a new geopandas DataFrame of only megacities (cities with a population greater than 10 million."
      ],
      "metadata": {
        "id": "bD4altg7ZcY6"
      }
    },
    {
      "cell_type": "code",
      "source": [
        "megacities = cities[cities.pop_max >= 10000000]\n",
        "print(megacities)\n",
        "type(megacities)"
      ],
      "metadata": {
        "id": "RgmN45l7X9x-"
      },
      "execution_count": null,
      "outputs": []
    },
    {
      "cell_type": "markdown",
      "metadata": {
        "id": "fsIQrDG7AWSF"
      },
      "source": [
        "### Creating Maps Using Multiple Shapefiles\n",
        "You can create maps using multiple shapefiles with Geopandas in a similar way that you may do so using a graphical user interface (GUI) tool like ArcGIS or QGIS (open source alternative to ArcGIS). To do this you will need to open a second spatial file. Below you will use the Natural Earth populated places shapefile to add additional layers to your map.\n",
        "\n",
        "To plot two datasets together, you will first create a Matplotlib figure object. Notice in the example below that you define the figure ax1 in the first line. You then tell GeoPandas to plot the data on that particular figure using the parameter ax=\n",
        "\n",
        "The code looks like this:"
      ]
    },
    {
      "cell_type": "code",
      "execution_count": null,
      "metadata": {
        "id": "sbKWWShmAWSF"
      },
      "outputs": [],
      "source": [
        "#Experiment!\n",
        "#What happens if you change FigSize numbers?\n",
        "#What happens if you \"comment out\" (put a # in front of) plt.show()?\n",
        "#What happens if you change the color?\n",
        "\n",
        "f, ax1 = plt.subplots(figsize=(10, 6))\n",
        "coastlines.plot(ax=ax1,\n",
        "               color = \"black\")\n",
        "plt.show()"
      ]
    },
    {
      "cell_type": "markdown",
      "metadata": {
        "id": "RMXUgNKcAWSG"
      },
      "source": [
        "To add another layer to your map, you can add a second .plot() call and specify the ax= to be ax1 again. This tells Python to layer the two datasets in the same figure. Identify the lines of code that differ between the cell above and below. What do these lines of code do?"
      ]
    },
    {
      "cell_type": "code",
      "execution_count": null,
      "metadata": {
        "id": "2lE915VxAWSG"
      },
      "outputs": [],
      "source": [
        "# Create a map or plot with two data layers\n",
        "\n",
        "#Experiment! What happens if you remove ax=ax1 from coastlines.plot() and cities.plot()?\n",
        "\n",
        "f, ax1 = plt.subplots(figsize=(10, 6))\n",
        "coastlines.plot(ax=ax1,\n",
        "                color=\"black\")\n",
        "cities.plot(ax=ax1)\n",
        "\n",
        "# Add a title\n",
        "ax1.set(title=\"Map of Cities and Global Lines\")\n",
        "plt.show()"
      ]
    },
    {
      "cell_type": "markdown",
      "metadata": {
        "id": "PJNsynPYAWSG"
      },
      "source": [
        "Learn more about custom plotting in Python:\n",
        "\n",
        "https://www.earthdatascience.org/courses/scientists-guide-to-plotting-data-in-python/plot-spatial-data/customize-vector-plots/python-customize-map-legends-geopandas/\n",
        "\n",
        "https://geopandas.org/gallery/plotting_with_geoplot.html"
      ]
    },
    {
      "cell_type": "markdown",
      "metadata": {
        "id": "nZqRAA7CAWSH"
      },
      "source": [
        "### TASK 2\n",
        "Using the resources above, create a map that contains:\n",
        "1. Coastal lines (black)\n",
        "2. Cities, excluding megacities (points), with a color scale for pop_max\n",
        "3. Megacities (large black points)\n",
        "3. A legend"
      ]
    },
    {
      "cell_type": "code",
      "execution_count": null,
      "metadata": {
        "id": "wKAakadnAWSH"
      },
      "outputs": [],
      "source": [
        "# Format and plot your results from task 2\n",
        "# hint:\n",
        "?cities.plot"
      ]
    },
    {
      "cell_type": "markdown",
      "metadata": {
        "id": "RvqqbRFfAWSI"
      },
      "source": [
        "### Geoprocessing Vector Data Geoprocessing in Python: Clip Data\n",
        "Sometimes you have spatial data for a larger area than you need to process. For example you may be working on a project for your state or country. But perhaps you have data for the entire globe.\n",
        "\n",
        "You can clip the data spatially to another boundary to make it smaller. Once the data are clipped, your processing operations will be faster. It will also make creating maps of your study area easier and cleaner.\n",
        "\n",
        "In this workflow, you'll subset your cities data to only look at counties in the United States. First, we'll import a dataset of global political boundaries."
      ]
    },
    {
      "cell_type": "code",
      "execution_count": null,
      "metadata": {
        "id": "SBQLJxdoAWSJ"
      },
      "outputs": [],
      "source": [
        "country_data_url = \"https://naturalearth.s3.amazonaws.com/50m_cultural/ne_50m_admin_0_countries.zip\"\n",
        "et.data.get_data(url=country_data_url)\n",
        "\n",
        "# Create a path to the countries shapefile\n",
        "countries_path = os.path.join(\"data\", \"earthpy-downloads\",\n",
        "                              \"ne_50m_admin_0_countries\",\n",
        "                              \"ne_50m_admin_0_countries.shp\")\n",
        "\n",
        "# Read in the countries shapefile as GeoPandas dataframe\n",
        "countries = gpd.read_file(countries_path)\n",
        "\n",
        "# View attribute table:\n",
        "countries.head()"
      ]
    },
    {
      "cell_type": "code",
      "execution_count": null,
      "metadata": {
        "id": "UlWM-PnWAWSJ"
      },
      "outputs": [],
      "source": [
        "f, ax = plt.subplots(figsize=(10, 6))\n",
        "countries.plot(ax=ax)\n",
        "plt.show()"
      ]
    },
    {
      "cell_type": "markdown",
      "metadata": {
        "id": "46TuC7lPAWSK"
      },
      "source": [
        "### Next, we'll use built-in pandas funcitonality to subset the shapefile to just the US boundary"
      ]
    },
    {
      "cell_type": "code",
      "execution_count": null,
      "metadata": {
        "id": "WMmfKI3TAWSK"
      },
      "outputs": [],
      "source": [
        "# Subset the countries data to just a single country\n",
        "united_states_boundary = countries.loc[countries['SOVEREIGNT']\n",
        "                                       == 'United States of America']\n",
        "\n",
        "# Notice in the plot below, that only the boundary for the USA is in the new variable\n",
        "f, ax = plt.subplots(figsize=(10, 6))\n",
        "united_states_boundary.plot(ax=ax)\n",
        "plt.show()"
      ]
    },
    {
      "cell_type": "markdown",
      "metadata": {
        "id": "sz7Xo5MWAWSL"
      },
      "source": [
        "### Now, we'll subset the cities layer to include only records which overlap in space with the united_states_boundary layer (aka are in the United States)"
      ]
    },
    {
      "cell_type": "code",
      "execution_count": null,
      "metadata": {
        "id": "EiVaflFIAWSL"
      },
      "outputs": [],
      "source": [
        "# Clip the cities data to the USA boundary\n",
        "# Note -- this operation may take some time to run - be patient\n",
        "cities_in_usa = gpd.clip(cities, united_states_boundary)\n",
        "\n",
        "# Plot your final clipped data\n",
        "f, ax = plt.subplots()\n",
        "cities_in_usa.plot(ax=ax)\n",
        "ax.set(title=\"Cities clipped to the USA Boundary\")\n",
        "plt.show()"
      ]
    },
    {
      "cell_type": "markdown",
      "source": [
        "## TASK 3: How many cities are in the United States?"
      ],
      "metadata": {
        "id": "9s4e3Ll4cSPn"
      }
    },
    {
      "cell_type": "code",
      "source": [
        "# Task 3 code here"
      ],
      "metadata": {
        "id": "5cfuchoecP6T"
      },
      "execution_count": null,
      "outputs": []
    },
    {
      "cell_type": "markdown",
      "metadata": {
        "id": "vC497LtLAWSM"
      },
      "source": [
        "## TASK 4: What is the largest city in the United States? What is the population of that city?\n"
      ]
    },
    {
      "cell_type": "code",
      "execution_count": null,
      "metadata": {
        "id": "nXb-CVCjAWSM"
      },
      "outputs": [],
      "source": [
        "#Task 4 code here\n"
      ]
    },
    {
      "cell_type": "markdown",
      "source": [
        "## Merging vector data in geopandas\n",
        "One of our primary goals using geographic information systems (GIS) software in Environmental Data Science is to collocate information from different sources into a single analaysis-ready dataset. When we're working with vector data, this often means adding new columns to a geopandas dataframe containing values from another dataset.\n",
        "\n",
        "There are two ways to combine datasets in geopandas – attribute joins and spatial joins. [From Geopandas.org](https://geopandas.org/en/v0.8.2/mergingdata.html)\n",
        "\n",
        "*   **Attribute joins:** a GeoSeries or GeoDataFrame is combined with a regular pandas Series or DataFrame based on a common variable. This is analogous to normal merging or joining in pandas.\n",
        "\n",
        "*   **Spatial joins:** a Spatial Join, observations from two GeoSeries or GeoDataFrames are combined based on their spatial relationship to one another.Indented block\n",
        "\n",
        "First, we'll bring in another dataset of countries:\n"
      ],
      "metadata": {
        "id": "CUH9oYodc47X"
      }
    },
    {
      "cell_type": "code",
      "source": [
        "# read in country shapefile from the geopandas datasets collection\n",
        "world = gpd.read_file(gpd.datasets.get_path('naturalearth_lowres'))\n",
        "print(world)"
      ],
      "metadata": {
        "id": "hqofNW42cmkI"
      },
      "execution_count": null,
      "outputs": []
    },
    {
      "cell_type": "markdown",
      "source": [
        "Let's say we want to add the \"continent\" field (column) in the world geodataframe to the cities dataframe. Using an attribute join, we first find two columns that contain the same values:"
      ],
      "metadata": {
        "id": "8Lbpg8J2gZTW"
      }
    },
    {
      "cell_type": "code",
      "source": [
        "print(sorted(world.iso_a3.unique()))\n",
        "print(sorted(cities.sov_a3.unique()))\n",
        "print(\"There are \" + str(len(world.iso_a3.unique()))+ \" unique country codes in the world dataset\")\n",
        "print(\"There are \" + str(len(cities.sov_a3.unique()))+ \" unique country codes in the city dataset\")"
      ],
      "metadata": {
        "id": "vNJfea09gVcV"
      },
      "execution_count": null,
      "outputs": []
    },
    {
      "cell_type": "markdown",
      "source": [
        "We do not have continent data for all of the countries represented in the city database, but we have some!"
      ],
      "metadata": {
        "id": "BSyYd4DIkpyt"
      }
    },
    {
      "cell_type": "code",
      "source": [
        "# First, we'll make a new pandas dataframe containing only the  iso_a3, and continent information:\n",
        "continents = world[['iso_a3', 'continent']]"
      ],
      "metadata": {
        "id": "SEtpsbkvkncQ"
      },
      "execution_count": null,
      "outputs": []
    },
    {
      "cell_type": "code",
      "source": [
        "# Then, we'll merge this data to the cities dataset:\n",
        "cities = cities.merge(continents, left_on='sov_a3', right_on='iso_a3')\n",
        "\n",
        "# Is cities still a geopandas dataframe?\n",
        "type(cities)\n",
        "\n",
        "#On what continents do we have cities?\n",
        "cities.continent.unique()"
      ],
      "metadata": {
        "id": "yVRmCKVQkQFW"
      },
      "execution_count": null,
      "outputs": []
    },
    {
      "cell_type": "markdown",
      "source": [
        "A spatial join involves fusing two datasets based on the euclidian distances calculated between feature locations.\n",
        "\n",
        "\n",
        "Sjoin Arguments\n",
        "\n",
        "`sjoin()` has two core arguments: how and op.\n",
        "\n",
        "**op**\n",
        "\n",
        "The op argument specifies how geopandas decides whether or not to join the attributes of one object to another. There are three different join options as follows:\n",
        "\n",
        "    intersects: The attributes will be joined if the boundary and interior of the object intersect in any way with the boundary and/or interior of the other object.\n",
        "\n",
        "    within: The attributes will be joined if the object’s boundary and interior intersect only with the interior of the other object (not its boundary or exterior).\n",
        "\n",
        "    contains: The attributes will be joined if the object’s interior contains the boundary and interior of the other object and their boundaries do not touch at all.\n",
        "\n",
        "You can read more about each join type in the Shapely documentation.\n",
        "\n",
        "**how**\n",
        "\n",
        "The how argument specifies the type of join that will occur and which geometry is retained in the resultant geodataframe. It accepts the following options:\n",
        "\n",
        "    left: use the index from the first (or left_df) geodataframe that you provide to sjoin; retain only the left_df geometry column\n",
        "\n",
        "    right: use index from second (or right_df); retain only the right_df geometry column\n",
        "\n",
        "    inner: use intersection of index values from both geodataframes; retain only the left_df geometry column\n",
        "\n",
        "Note more complicated spatial relationships can be studied by combining geometric operations with spatial join. To find all polygons within a given distance of a point, for example, one can first use the buffer method to expand each point into a circle of appropriate radius, then intersect those buffered circles with the polygons in question.\n"
      ],
      "metadata": {
        "id": "KFSeBixZmB9c"
      }
    },
    {
      "cell_type": "code",
      "source": [
        "# Create a countries shapefile with only one attribute (column), called 'name':\n",
        "countries = world[['geometry', 'name']]\n",
        "countries.head()\n"
      ],
      "metadata": {
        "id": "6ptYDRH6mBnf"
      },
      "execution_count": null,
      "outputs": []
    },
    {
      "cell_type": "code",
      "source": [
        "# Recall all the attributes of cities:\n",
        "cities.head()"
      ],
      "metadata": {
        "id": "Q87DNaF4nCHK"
      },
      "execution_count": null,
      "outputs": []
    },
    {
      "cell_type": "code",
      "source": [
        "# Check and see if the merge worked\n",
        "cities_with_country = gpd.sjoin(cities, countries, how=\"inner\", op='intersects')\n",
        "cities_with_country.head()"
      ],
      "metadata": {
        "id": "bszSgKS-nGOS"
      },
      "execution_count": null,
      "outputs": []
    },
    {
      "cell_type": "markdown",
      "source": [
        "## TASK 5:\n",
        "In this markdown cell in your own words, explain how the spatial join worked. How does this differ from the attribute join?"
      ],
      "metadata": {
        "id": "IRdwL71Xs6MR"
      }
    },
    {
      "cell_type": "markdown",
      "source": [
        "## Nested features\n",
        "Often, vector spatial features will be nested within each other. For example, in the world dataset, there are countries which are nested within continents.\n",
        "\n",
        "If you wanted to extract just the continent outlines, you would need to erase the country boundaries within each continent. We can use the **dissolve** function to do this.\n",
        "\n",
        "In a non-spatial setting, when all we need are summary statistics of the data, we aggregate our data using the `groupby` function. But for spatial data, we sometimes alsoIn a non-spatial setting, when all we need are summary statistics of the data, we aggregate our data using the groupby function. But for spatial data, we sometimes also need to aggregate geometric features. In the geopandas library, we can aggregate geometric features using the dissolve function.\n",
        "\n",
        "dissolve can be thought of as doing three things: (a) it dissolves all the geometries within a given group together into a single geometric feature (using the unary_union method), and (b) it aggregates all the rows of data in a group using groupby.aggregate(), and (c) it combines those two results.\n",
        "\n",
        "```\n",
        "# This is formatted as code\n",
        "```\n",
        "\n",
        " need to aggregate geometric features. In the geopandas library, we can aggregate geometric features using the `dissolve` function.\n",
        "\n",
        "`dissolve` can be thought of as doing three things: (a) it dissolves all the geometries within a given group together into a single geometric feature (using the unary_union method), and (b) it aggregates all the rows of data in a group using `groupby.aggregate()`, and (c) it combines those two results."
      ],
      "metadata": {
        "id": "FRn005lstNno"
      }
    },
    {
      "cell_type": "code",
      "source": [
        "world = world[['continent', 'geometry']]\n",
        "\n",
        "continents = world.dissolve(by='continent')\n",
        "\n",
        "continents.plot();\n",
        "\n",
        "continents.head()"
      ],
      "metadata": {
        "id": "oZZ6er1Et_XP"
      },
      "execution_count": null,
      "outputs": []
    },
    {
      "cell_type": "markdown",
      "source": [
        "If we are interested in aggregate populations, however, we can pass different functions to the dissolve method to aggregate populations using the `aggfunc = ` argument:"
      ],
      "metadata": {
        "id": "pna_Qn2aurYI"
      }
    },
    {
      "cell_type": "code",
      "source": [
        "# Re-read in the world dataset\n",
        "world = gpd.read_file(gpd.datasets.get_path('naturalearth_lowres'))\n",
        "\n",
        "# Select only the attributes we're interested in:\n",
        "world = world[['continent', 'geometry', 'pop_est']]\n",
        "\n",
        "# Dissolve into country aggregates, collecting the sum of other attributes\n",
        "continents = world.dissolve(by='continent', aggfunc='sum')\n",
        "\n",
        "continents.plot(column = 'pop_est', scheme='quantiles', cmap='YlOrRd');\n",
        "continents.head()"
      ],
      "metadata": {
        "id": "IbG_sgdiuyX5"
      },
      "execution_count": null,
      "outputs": []
    },
    {
      "cell_type": "markdown",
      "source": [
        "## TASK 6-8: putting it together\n",
        "Use your skills with `merge`, `dissolve`, and pandas math to do the following:\n",
        "6. What is the total urban population on each continent? Show your results as a chloropleth map and a table.\n",
        "7. What fraction of the total population lives in cities in each continent? Show your results as a chloropleth map and a table.\n",
        "8. What is the most urban continent on earth (largest share of the population lives in cities)?"
      ],
      "metadata": {
        "id": "ILJ15rlfvjRX"
      }
    },
    {
      "cell_type": "code",
      "source": [
        " # Task 6 code here:"
      ],
      "metadata": {
        "id": "Ij3UEmxqvNwW"
      },
      "execution_count": null,
      "outputs": []
    },
    {
      "cell_type": "code",
      "source": [
        "# Task 6 code here:"
      ],
      "metadata": {
        "id": "9Xzpz9CCwc2S"
      },
      "execution_count": null,
      "outputs": []
    },
    {
      "cell_type": "code",
      "source": [
        "# Task 8 code here:"
      ],
      "metadata": {
        "id": "G-FlMvOnwgdF"
      },
      "execution_count": null,
      "outputs": []
    }
  ],
  "metadata": {
    "kernelspec": {
      "display_name": "Python 3 (ipykernel)",
      "language": "python",
      "name": "python3"
    },
    "language_info": {
      "codemirror_mode": {
        "name": "ipython",
        "version": 3
      },
      "file_extension": ".py",
      "mimetype": "text/x-python",
      "name": "python",
      "nbconvert_exporter": "python",
      "pygments_lexer": "ipython3",
      "version": "3.9.12"
    },
    "colab": {
      "provenance": [],
      "include_colab_link": true
    }
=======
 "cells": [
  {
   "cell_type": "markdown",
   "metadata": {
    "colab_type": "text",
    "id": "view-in-github"
   },
   "source": [
    "<a href=\"https://colab.research.google.com/github/LizCarter492/EnvDatSci/blob/main/CodeSprints/VectorData101.ipynb\" target=\"_parent\"><img src=\"https://colab.research.google.com/assets/colab-badge.svg\" alt=\"Open In Colab\"/></a>"
   ]
>>>>>>> upstream/main
  },
  {
   "cell_type": "markdown",
   "metadata": {
    "id": "Wy65tB7NAWRy"
   },
   "source": [
    "# Spatial Vector Data in Python w/ Geopandas\n",
    "You will use the geopandas library to work with vector data in Python. Geopandas is built on top of the Python Pandas library. It stores spatial data in a tabular, dataframe format.\n",
    "\n",
    "This notebook will take you through [Lesson 3 in Introductory Earth Data Science](https://www.earthdatascience.org/courses/intro-to-earth-data-science/file-formats/use-spatial-data/use-vector-data/) with some additional exercises from the [Geopandas project page](https://geopandas.org/en/v0.8.2/)\n"
   ]
  },
  {
   "cell_type": "markdown",
   "metadata": {
    "id": "AoZASwHLwpAS"
   },
   "source": [
    "# Sync your colab environment with your Google Drive and GitHub"
   ]
  },
  {
   "cell_type": "code",
   "execution_count": null,
   "metadata": {
    "id": "n63jAsimAWR1"
   },
   "outputs": [],
   "source": [
    "#attach to Google Drive\n",
    "from google.colab import drive\n",
    "drive.mount('/content/drive')"
   ]
  },
  {
   "cell_type": "markdown",
   "metadata": {
    "id": "WmOwykNxwvL1"
   },
   "source": [
    "# The Code Sprint"
   ]
  },
  {
   "cell_type": "code",
   "execution_count": null,
   "metadata": {
    "id": "9KyeM4C89orB"
   },
   "outputs": [],
   "source": [
    "!pip install geopandas"
   ]
  },
  {
   "cell_type": "code",
   "execution_count": null,
   "metadata": {
    "id": "xgMUKEkJLmB6"
   },
   "outputs": [],
   "source": [
    "!pip install earthpy\n",
    "!pip install rtree\n",
    "!pip install pygeos\n",
    "!pip install mapclassify>=2.4.0"
   ]
  },
  {
   "cell_type": "code",
   "execution_count": null,
   "metadata": {
    "id": "fxgQBbU3Oxbl"
   },
   "outputs": [],
   "source": [
    "import os\n",
    "import matplotlib.pyplot as plt\n",
    "import geopandas as gpd\n",
    "import earthpy as et\n"
   ]
  },
  {
   "cell_type": "markdown",
   "metadata": {
    "id": "5sE97xoBAWR4"
   },
   "source": [
    "To begin, set your working directory to earth-analytics and then download a single shapefile.\n",
    "\n",
    "You will start with working with the Natural Earth country boundary lines layer: https://www.naturalearthdata.com/downloads/\n",
    "\n",
    "Note that below you are using EarthPy to download a dataset from naturalearthdata.com (via Amazon Web Services).\n",
    "\n",
    "EarthPy automatically creates the earth-analytics directory for you when you use it, but by default makes this directory in your home directory. We're doing this here because you guys are on PCs.\n",
    "\n",
    "You set the working directory after you download the data as a precaution to ensure that the earth-analytics directory already exists on your computer. This is not a standard order of operations, as we are not using our SU H drive, but we are demonstrating it here to ensure the notebook runs on all computers!"
   ]
  },
  {
   "cell_type": "code",
   "execution_count": null,
   "metadata": {
    "id": "HX73ilrbAWR5"
   },
   "outputs": [],
   "source": [
    "# Download a political boundaries shapefile and set your working directory\n",
    "et.data.get_data(\n",
    "    url='https://naturalearth.s3.amazonaws.com/50m_cultural/ne_50m_admin_0_boundary_lines_land.zip')\n",
    "\n",
    "# Set working directory - earthpy creates earth-analytics for you in your home dir\n",
    "os.chdir(os.path.join(et.io.HOME, 'earth-analytics'))"
   ]
  },
  {
   "cell_type": "markdown",
   "metadata": {
    "id": "p1FhqaeJAWR5"
   },
   "source": [
    "### geopandas\n",
    "Next, you open the data using geopandas.\n",
    "\n",
    "***geopandas*** takes all of the data science magic from the pandas library and makes it compatible with shapfiles.\n",
    "\n",
    "Learn more here: https://geopandas.org/\n",
    "\n",
    "You can view the first 5 rows of the data using .head() in the same way you used .head() for Pandas dataframes.¶"
   ]
  },
  {
   "cell_type": "code",
   "execution_count": null,
   "metadata": {
    "id": "daU0NJvsAWR6"
   },
   "outputs": [],
   "source": [
    "os.getcwd()"
   ]
  },
  {
   "cell_type": "markdown",
   "metadata": {
    "id": "cNBjUKF1AWR7"
   },
   "source": [
    "We're going to download a second dataset, called coastlines:"
   ]
  },
  {
   "cell_type": "code",
   "execution_count": null,
   "metadata": {
    "id": "im1CUtUbAWR8"
   },
   "outputs": [],
   "source": [
    "#set URL for the dataset\n",
    "coastlines_url = \"https://naturalearth.s3.amazonaws.com/50m_physical/ne_50m_coastline.zip\"\n",
    "\n",
    "#download the URL into your earth-analytics folder\n",
    "et.data.get_data(url=coastlines_url)\n",
    "\n",
    "#name the filepath relative to your working directory: note this is operating system agnostic\n",
    "coastlines_path = os.path.join(\"data\", \"earthpy-downloads\",\n",
    "                               \"ne_50m_coastline\",\n",
    "                               \"ne_50m_coastline.shp\")\n",
    "\n",
    "#use geopandas as gpd to \"read_file\"\n",
    "coastlines = gpd.read_file(coastlines_path)\n",
    "\n",
    "#prints \"head\" just like pandas!\n",
    "coastlines.head()"
   ]
  },
  {
   "cell_type": "markdown",
   "metadata": {
    "id": "AWVggDwWAWR9"
   },
   "source": [
    "## GeoPandas creates GeoDataFrames\n",
    "The structure of a Geopandas GeoDataFrame is very similar to a Pandas dataframe. This means that all the awesome data wrangling functionality of pandas dataframes can be applied to our spatial vector data as well.\n",
    "\n",
    "### A few differences include:\n",
    "The GeoDataFrame contains a geometry column which stores spatial information. The geometry column in your GeoDataFrame stores the boundary information (the lines that make up each shape in your data). This allows you to plot points, lines or polygons.\n",
    "\n",
    "The GeoDataFrame stores spatial attributes such as coordinate reference systems and spatial extents.\n",
    "\n",
    "Similar to Pandas, you can plot the data using .plot()"
   ]
  },
  {
   "cell_type": "code",
   "execution_count": null,
   "metadata": {
    "id": "wf3hUYvnAWR-"
   },
   "outputs": [],
   "source": [
    "# Plot the data\n",
    "f, ax1 = plt.subplots(figsize=(12, 6))\n",
    "coastlines.plot(ax=ax1)\n",
    "\n",
    "# Add a title to your plot\n",
    "ax1.set(title=\"Global Coastline Boundaries\")\n",
    "plt.show()"
   ]
  },
  {
   "cell_type": "markdown",
   "metadata": {
    "id": "YiF7ytzZAWR_"
   },
   "source": [
    "### Check the Spatial Vector Data Type\n",
    "You can look at the data to figure out what type of data are stored in the shapefile (points, line or polygons). However, you can also get that information by calling .geom_type"
   ]
  },
  {
   "cell_type": "code",
   "execution_count": null,
   "metadata": {
    "id": "Xw9ujP22AWR_"
   },
   "outputs": [],
   "source": [
    "# Is the geometry type point, line or polygon?\n",
    "coastlines.geom_type"
   ]
  },
  {
   "cell_type": "markdown",
   "metadata": {
    "id": "0Z3XseEqAWSA"
   },
   "source": [
    "Also similar to Pandas, you can view descriptive information about the GeoDataFrame using .info(). This includes the number of columns, rows and the header name and type of each column.¶"
   ]
  },
  {
   "cell_type": "code",
   "execution_count": null,
   "metadata": {
    "id": "ZMNnZaOUAWSB"
   },
   "outputs": [],
   "source": [
    "coastlines.info()"
   ]
  },
  {
   "cell_type": "markdown",
   "metadata": {
    "id": "v6t7ulmJAWSC"
   },
   "source": [
    "### Open point data\n",
    "Next, you will accesss another online shapefile using Geopandas."
   ]
  },
  {
   "cell_type": "code",
   "execution_count": null,
   "metadata": {
    "id": "XMCHAAnXAWSC"
   },
   "outputs": [],
   "source": [
    "# Open a second layer\n",
    "et.data.get_data(\n",
    "    url='https://naturalearth.s3.amazonaws.com/50m_cultural/ne_50m_populated_places_simple.zip')\n",
    "\n",
    "# Create a path to the populated places shapefile\n",
    "populated_places_path = os.path.join(\"data\", \"earthpy-downloads\",\n",
    "                                     \"ne_50m_populated_places_simple\",\n",
    "                                     \"ne_50m_populated_places_simple.shp\")\n",
    "\n",
    "#read in a new geopandas data frame called \"cities\"\n",
    "cities = gpd.read_file(populated_places_path)"
   ]
  },
  {
   "cell_type": "markdown",
   "metadata": {
    "id": "cuHhWHjiAWSD"
   },
   "source": [
    "### TASK 1: Is cities a point, line, or polygon file? Type a command to find out and interpret the answer."
   ]
  },
  {
   "cell_type": "code",
   "execution_count": null,
   "metadata": {
    "id": "e6BEiY2ZAWSD"
   },
   "outputs": [],
   "source": [
    "# Task 1 answer here"
   ]
  },
  {
   "cell_type": "markdown",
   "metadata": {
    "id": "lWs792nPAWSD"
   },
   "source": [
    "The attributes for a shapefile imported into a GeoDataFrame can be viewed in the GeoDataFrame itself."
   ]
  },
  {
   "cell_type": "code",
   "execution_count": null,
   "metadata": {
    "id": "zU47qq6jAWSD"
   },
   "outputs": [],
   "source": [
    "# View first 5 rows of GeoDataFrame\n",
    "cities.head()\n",
    "\n",
    "\n",
    "# Experiment! How would you view the first 10 rows of a GeoDataFrame?"
   ]
  },
  {
   "cell_type": "markdown",
   "metadata": {
    "id": "_4zDORD5AWSE"
   },
   "source": [
    "Just like with Pandas DataFrames, standard arguments can be used to calculate summary statistics on your GeoPandas object:"
   ]
  },
  {
   "cell_type": "code",
   "execution_count": null,
   "metadata": {
    "id": "nZlzvjoVAWSE"
   },
   "outputs": [],
   "source": [
    "#Let's see what our most populous city is\n",
    "#print out the column with maximum population\n",
    "print(cities.pop_max)\n",
    "print(cities.iloc[cities.pop_max.idxmax()])\n",
    "\n",
    "print(\"The world's largest city  by population is \" + cities.name.iloc[cities.pop_max.idxmax()] +\n",
    "      \" with \" + str(cities.pop_max.max()) +\n",
    "      \" people!\")"
   ]
  },
  {
   "cell_type": "markdown",
   "metadata": {
    "id": "bD4altg7ZcY6"
   },
   "source": [
    "## Geopandas = geographic pandas data frames\n",
    "The handy thing about working with vector data in geopandas is that you have all of the functionality of pandas at your fingertips. This means that it is easy to do things like:\n",
    "1. Subset your shapefile based on certain crtiera\n",
    "2. Merge your shapefile with other datasets\n",
    "3. Process fields (columns) in your shapefile using python commands.\n",
    "\n",
    "For example, let's say we are conducting a study on megacities. We can easily identify our megacities using the pop_max field, and use that to create a new geopandas DataFrame of only megacities (cities with a population greater than 10 million."
   ]
  },
  {
   "cell_type": "code",
   "execution_count": null,
   "metadata": {
    "id": "RgmN45l7X9x-"
   },
   "outputs": [],
   "source": [
    "megacities = cities[cities.pop_max >= 10000000]\n",
    "print(megacities)\n",
    "type(megacities)"
   ]
  },
  {
   "cell_type": "markdown",
   "metadata": {
    "id": "fsIQrDG7AWSF"
   },
   "source": [
    "### Creating Maps Using Multiple Shapefiles\n",
    "You can create maps using multiple shapefiles with Geopandas in a similar way that you may do so using a graphical user interface (GUI) tool like ArcGIS or QGIS (open source alternative to ArcGIS). To do this you will need to open a second spatial file. Below you will use the Natural Earth populated places shapefile to add additional layers to your map.\n",
    "\n",
    "To plot two datasets together, you will first create a Matplotlib figure object. Notice in the example below that you define the figure ax1 in the first line. You then tell GeoPandas to plot the data on that particular figure using the parameter ax=\n",
    "\n",
    "The code looks like this:"
   ]
  },
  {
   "cell_type": "code",
   "execution_count": null,
   "metadata": {
    "id": "sbKWWShmAWSF"
   },
   "outputs": [],
   "source": [
    "#Experiment!\n",
    "#What happens if you change FigSize numbers?\n",
    "#What happens if you \"comment out\" (put a # in front of) plt.show()?\n",
    "#What happens if you change the color?\n",
    "\n",
    "f, ax1 = plt.subplots(figsize=(10, 6))\n",
    "coastlines.plot(ax=ax1,\n",
    "               color = \"black\")\n",
    "plt.show()"
   ]
  },
  {
   "cell_type": "markdown",
   "metadata": {
    "id": "RMXUgNKcAWSG"
   },
   "source": [
    "To add another layer to your map, you can add a second .plot() call and specify the ax= to be ax1 again. This tells Python to layer the two datasets in the same figure. Identify the lines of code that differ between the cell above and below. What do these lines of code do?"
   ]
  },
  {
   "cell_type": "code",
   "execution_count": null,
   "metadata": {
    "id": "2lE915VxAWSG"
   },
   "outputs": [],
   "source": [
    "# Create a map or plot with two data layers\n",
    "\n",
    "#Experiment! What happens if you remove ax=ax1 from coastlines.plot() and cities.plot()?\n",
    "\n",
    "f, ax1 = plt.subplots(figsize=(10, 6))\n",
    "coastlines.plot(ax=ax1,\n",
    "                color=\"black\")\n",
    "cities.plot(ax=ax1)\n",
    "\n",
    "# Add a title\n",
    "ax1.set(title=\"Map of Cities and Global Lines\")\n",
    "plt.show()"
   ]
  },
  {
   "cell_type": "markdown",
   "metadata": {
    "id": "PJNsynPYAWSG"
   },
   "source": [
    "Learn more about custom plotting in Python:\n",
    "\n",
    "https://www.earthdatascience.org/courses/scientists-guide-to-plotting-data-in-python/plot-spatial-data/customize-vector-plots/python-customize-map-legends-geopandas/\n",
    "\n",
    "https://geopandas.org/gallery/plotting_with_geoplot.html"
   ]
  },
  {
   "cell_type": "markdown",
   "metadata": {
    "id": "nZqRAA7CAWSH"
   },
   "source": [
    "### TASK 2\n",
    "Using the resources above, create a map that contains:\n",
    "1. Coastal lines (black)\n",
    "2. Cities, excluding megacities (points), with a color scale for pop_max\n",
    "3. Megacities (large black points)\n",
    "3. A legend"
   ]
  },
  {
   "cell_type": "code",
   "execution_count": null,
   "metadata": {
    "id": "wKAakadnAWSH"
   },
   "outputs": [],
   "source": [
    "# Format and plot your results from task 2\n",
    "# hint:\n",
    "?cities.plot"
   ]
  },
  {
   "cell_type": "markdown",
   "metadata": {
    "id": "RvqqbRFfAWSI"
   },
   "source": [
    "### Geoprocessing Vector Data Geoprocessing in Python: Clip Data\n",
    "Sometimes you have spatial data for a larger area than you need to process. For example you may be working on a project for your state or country. But perhaps you have data for the entire globe.\n",
    "\n",
    "You can clip the data spatially to another boundary to make it smaller. Once the data are clipped, your processing operations will be faster. It will also make creating maps of your study area easier and cleaner.\n",
    "\n",
    "In this workflow, you'll subset your cities data to only look at counties in the United States. First, we'll import a dataset of global political boundaries."
   ]
  },
  {
   "cell_type": "code",
   "execution_count": null,
   "metadata": {
    "id": "SBQLJxdoAWSJ"
   },
   "outputs": [],
   "source": [
    "country_data_url = \"https://naturalearth.s3.amazonaws.com/50m_cultural/ne_50m_admin_0_countries.zip\"\n",
    "et.data.get_data(url=country_data_url)\n",
    "\n",
    "# Create a path to the countries shapefile\n",
    "countries_path = os.path.join(\"data\", \"earthpy-downloads\",\n",
    "                              \"ne_50m_admin_0_countries\",\n",
    "                              \"ne_50m_admin_0_countries.shp\")\n",
    "\n",
    "# Read in the countries shapefile as GeoPandas dataframe\n",
    "countries = gpd.read_file(countries_path)\n",
    "\n",
    "# View attribute table:\n",
    "countries.head()"
   ]
  },
  {
   "cell_type": "code",
   "execution_count": null,
   "metadata": {
    "id": "UlWM-PnWAWSJ"
   },
   "outputs": [],
   "source": [
    "f, ax = plt.subplots(figsize=(10, 6))\n",
    "countries.plot(ax=ax)\n",
    "plt.show()"
   ]
  },
  {
   "cell_type": "markdown",
   "metadata": {
    "id": "46TuC7lPAWSK"
   },
   "source": [
    "### Next, we'll use built-in pandas funcitonality to subset the shapefile to just the US boundary"
   ]
  },
  {
   "cell_type": "code",
   "execution_count": null,
   "metadata": {
    "id": "WMmfKI3TAWSK"
   },
   "outputs": [],
   "source": [
    "# Subset the countries data to just a single country\n",
    "united_states_boundary = countries.loc[countries['SOVEREIGNT']\n",
    "                                       == 'United States of America']\n",
    "\n",
    "# Notice in the plot below, that only the boundary for the USA is in the new variable\n",
    "f, ax = plt.subplots(figsize=(10, 6))\n",
    "united_states_boundary.plot(ax=ax)\n",
    "plt.show()"
   ]
  },
  {
   "cell_type": "markdown",
   "metadata": {
    "id": "sz7Xo5MWAWSL"
   },
   "source": [
    "### Now, we'll subset the cities layer to include only records which overlap in space with the united_states_boundary layer (aka are in the United States)"
   ]
  },
  {
   "cell_type": "code",
   "execution_count": null,
   "metadata": {
    "id": "EiVaflFIAWSL"
   },
   "outputs": [],
   "source": [
    "# Clip the cities data to the USA boundary\n",
    "# Note -- this operation may take some time to run - be patient\n",
    "cities_in_usa = gpd.clip(cities, united_states_boundary)\n",
    "\n",
    "# Plot your final clipped data\n",
    "f, ax = plt.subplots()\n",
    "cities_in_usa.plot(ax=ax)\n",
    "ax.set(title=\"Cities clipped to the USA Boundary\")\n",
    "plt.show()"
   ]
  },
  {
   "cell_type": "markdown",
   "metadata": {
    "id": "9s4e3Ll4cSPn"
   },
   "source": [
    "## TASK 3: How many cities are in the United States?"
   ]
  },
  {
   "cell_type": "code",
   "execution_count": null,
   "metadata": {
    "id": "5cfuchoecP6T"
   },
   "outputs": [],
   "source": [
    "# Task 3 code here"
   ]
  },
  {
   "cell_type": "markdown",
   "metadata": {
    "id": "vC497LtLAWSM"
   },
   "source": [
    "## TASK 4: What is the largest city in the United States? What is the population of that city?\n"
   ]
  },
  {
   "cell_type": "code",
   "execution_count": null,
   "metadata": {
    "id": "nXb-CVCjAWSM"
   },
   "outputs": [],
   "source": [
    "#Task 4 code here\n"
   ]
  },
  {
   "cell_type": "markdown",
   "metadata": {
    "id": "CUH9oYodc47X"
   },
   "source": [
    "## Merging vector data in geopandas\n",
    "One of our primary goals using geographic information systems (GIS) software in Environmental Data Science is to collocate information from different sources into a single analaysis-ready dataset. When we're working with vector data, this often means adding new columns to a geopandas dataframe containing values from another dataset.\n",
    "\n",
    "There are two ways to combine datasets in geopandas – attribute joins and spatial joins. [From Geopandas.org](https://geopandas.org/en/v0.8.2/mergingdata.html)\n",
    "\n",
    "*   **Attribute joins:** a GeoSeries or GeoDataFrame is combined with a regular pandas Series or DataFrame based on a common variable. This is analogous to normal merging or joining in pandas.\n",
    "\n",
    "*   **Spatial joins:** a Spatial Join, observations from two GeoSeries or GeoDataFrames are combined based on their spatial relationship to one another.Indented block\n",
    "\n",
    "First, we'll bring in another dataset of countries:\n"
   ]
  },
  {
   "cell_type": "code",
   "execution_count": null,
   "metadata": {
    "id": "hqofNW42cmkI"
   },
   "outputs": [],
   "source": [
    "# read in country shapefile from the geopandas datasets collection\n",
    "world = gpd.read_file(gpd.datasets.get_path('naturalearth_lowres'))\n",
    "print(world)"
   ]
  },
  {
   "cell_type": "markdown",
   "metadata": {
    "id": "8Lbpg8J2gZTW"
   },
   "source": [
    "Let's say we want to add the \"continent\" field (column) in the world geodataframe to the cities dataframe. Using an attribute join, we first find two columns that contain the same values:"
   ]
  },
  {
   "cell_type": "code",
   "execution_count": null,
   "metadata": {
    "id": "vNJfea09gVcV"
   },
   "outputs": [],
   "source": [
    "print(sorted(world.iso_a3.unique()))\n",
    "print(sorted(cities.sov_a3.unique()))\n",
    "print(\"There are \" + str(len(world.iso_a3.unique()))+ \" unique country codes in the world dataset\")\n",
    "print(\"There are \" + str(len(cities.sov_a3.unique()))+ \" unique country codes in the city dataset\")"
   ]
  },
  {
   "cell_type": "markdown",
   "metadata": {
    "id": "BSyYd4DIkpyt"
   },
   "source": [
    "We do not have continent data for all of the countries represented in the city database, but we have some!"
   ]
  },
  {
   "cell_type": "code",
   "execution_count": null,
   "metadata": {
    "id": "SEtpsbkvkncQ"
   },
   "outputs": [],
   "source": [
    "# First, we'll make a new pandas dataframe containing only the  iso_a3, and continent information:\n",
    "continents = world[['iso_a3', 'continent']]"
   ]
  },
  {
   "cell_type": "code",
   "execution_count": null,
   "metadata": {
    "id": "yVRmCKVQkQFW"
   },
   "outputs": [],
   "source": [
    "# Then, we'll merge this data to the cities dataset:\n",
    "cities = cities.merge(continents, left_on='sov_a3', right_on='iso_a3')\n",
    "\n",
    "# Is cities still a geopandas dataframe?\n",
    "type(cities)\n",
    "\n",
    "#On what continents do we have cities?\n",
    "cities.continent.unique()"
   ]
  },
  {
   "cell_type": "markdown",
   "metadata": {
    "id": "KFSeBixZmB9c"
   },
   "source": [
    "A spatial join involves fusing two datasets based on the euclidian distances calculated between feature locations.\n",
    "\n",
    "\n",
    "Sjoin Arguments\n",
    "\n",
    "`sjoin()` has two core arguments: how and op.\n",
    "\n",
    "**op**\n",
    "\n",
    "The op argument specifies how geopandas decides whether or not to join the attributes of one object to another. There are three different join options as follows:\n",
    "\n",
    "    intersects: The attributes will be joined if the boundary and interior of the object intersect in any way with the boundary and/or interior of the other object.\n",
    "\n",
    "    within: The attributes will be joined if the object’s boundary and interior intersect only with the interior of the other object (not its boundary or exterior).\n",
    "\n",
    "    contains: The attributes will be joined if the object’s interior contains the boundary and interior of the other object and their boundaries do not touch at all.\n",
    "\n",
    "You can read more about each join type in the Shapely documentation.\n",
    "\n",
    "**how**\n",
    "\n",
    "The how argument specifies the type of join that will occur and which geometry is retained in the resultant geodataframe. It accepts the following options:\n",
    "\n",
    "    left: use the index from the first (or left_df) geodataframe that you provide to sjoin; retain only the left_df geometry column\n",
    "\n",
    "    right: use index from second (or right_df); retain only the right_df geometry column\n",
    "\n",
    "    inner: use intersection of index values from both geodataframes; retain only the left_df geometry column\n",
    "\n",
    "Note more complicated spatial relationships can be studied by combining geometric operations with spatial join. To find all polygons within a given distance of a point, for example, one can first use the buffer method to expand each point into a circle of appropriate radius, then intersect those buffered circles with the polygons in question.\n"
   ]
  },
  {
   "cell_type": "code",
   "execution_count": null,
   "metadata": {
    "id": "6ptYDRH6mBnf"
   },
   "outputs": [],
   "source": [
    "# Create a countries shapefile with only one attribute (column), called 'name':\n",
    "countries = world[['geometry', 'name']]\n",
    "countries.head()\n"
   ]
  },
  {
   "cell_type": "code",
   "execution_count": null,
   "metadata": {
    "id": "Q87DNaF4nCHK"
   },
   "outputs": [],
   "source": [
    "# Recall all the attributes of cities:\n",
    "cities.head()"
   ]
  },
  {
   "cell_type": "code",
   "execution_count": null,
   "metadata": {
    "id": "bszSgKS-nGOS"
   },
   "outputs": [],
   "source": [
    "# Check and see if the merge worked\n",
    "cities_with_country = gpd.sjoin(cities, countries, how=\"inner\", op='intersects')\n",
    "cities_with_country.head()"
   ]
  },
  {
   "cell_type": "markdown",
   "metadata": {
    "id": "IRdwL71Xs6MR"
   },
   "source": [
    "## TASK 5:\n",
    "In this markdown cell in your own words, explain how the spatial join worked. How does this differ from the attribute join?"
   ]
  },
  {
   "cell_type": "markdown",
   "metadata": {
    "id": "FRn005lstNno"
   },
   "source": [
    "## Nested features\n",
    "Often, vector spatial features will be nested within each other. For example, in the world dataset, there are countries which are nested within continents.\n",
    "\n",
    "If you wanted to extract just the continent outlines, you would need to erase the country boundaries within each continent. We can use the **dissolve** function to do this.\n",
    "\n",
    "In a non-spatial setting, when all we need are summary statistics of the data, we aggregate our data using the `groupby` function. But for spatial data, we sometimes alsoIn a non-spatial setting, when all we need are summary statistics of the data, we aggregate our data using the groupby function. But for spatial data, we sometimes also need to aggregate geometric features. In the geopandas library, we can aggregate geometric features using the dissolve function.\n",
    "\n",
    "dissolve can be thought of as doing three things: (a) it dissolves all the geometries within a given group together into a single geometric feature (using the unary_union method), and (b) it aggregates all the rows of data in a group using groupby.aggregate(), and (c) it combines those two results.\n",
    "\n",
    "```\n",
    "# This is formatted as code\n",
    "```\n",
    "\n",
    " need to aggregate geometric features. In the geopandas library, we can aggregate geometric features using the `dissolve` function.\n",
    "\n",
    "`dissolve` can be thought of as doing three things: (a) it dissolves all the geometries within a given group together into a single geometric feature (using the unary_union method), and (b) it aggregates all the rows of data in a group using `groupby.aggregate()`, and (c) it combines those two results."
   ]
  },
  {
   "cell_type": "code",
   "execution_count": null,
   "metadata": {
    "id": "oZZ6er1Et_XP"
   },
   "outputs": [],
   "source": [
    "world = world[['continent', 'geometry']]\n",
    "\n",
    "continents = world.dissolve(by='continent')\n",
    "\n",
    "continents.plot();\n",
    "\n",
    "continents.head()"
   ]
  },
  {
   "cell_type": "markdown",
   "metadata": {
    "id": "pna_Qn2aurYI"
   },
   "source": [
    "If we are interested in aggregate populations, however, we can pass different functions to the dissolve method to aggregate populations using the `aggfunc = ` argument:"
   ]
  },
  {
   "cell_type": "code",
   "execution_count": null,
   "metadata": {
    "id": "IbG_sgdiuyX5"
   },
   "outputs": [],
   "source": [
    "# Re-read in the world dataset\n",
    "world = gpd.read_file(gpd.datasets.get_path('naturalearth_lowres'))\n",
    "\n",
    "# Select only the attributes we're interested in:\n",
    "world = world[['continent', 'geometry', 'pop_est']]\n",
    "\n",
    "# Dissolve into country aggregates, collecting the sum of other attributes\n",
    "continents = world.dissolve(by='continent', aggfunc='sum')\n",
    "\n",
    "continents.plot(column = 'pop_est', scheme='quantiles', cmap='YlOrRd');\n",
    "continents.head()"
   ]
  },
  {
   "cell_type": "markdown",
   "metadata": {
    "id": "ILJ15rlfvjRX"
   },
   "source": [
    "## TASK 6-8: putting it together\n",
    "Use your skills with `merge`, `dissolve`, and pandas math to do the following:\n",
    "6. What is the total urban population on each continent? Show your results as a chloropleth map and a table.\n",
    "7. What fraction of the total population lives in cities in each continent? Show your results as a chloropleth map and a table.\n",
    "8. What is the most urban continent on earth (largest share of the population lives in cities)?"
   ]
  },
  {
   "cell_type": "code",
   "execution_count": null,
   "metadata": {
    "id": "Ij3UEmxqvNwW"
   },
   "outputs": [],
   "source": [
    " # Task 6 code here:"
   ]
  },
  {
   "cell_type": "code",
   "execution_count": null,
   "metadata": {
    "id": "9Xzpz9CCwc2S"
   },
   "outputs": [],
   "source": [
    "# Task 6 code here:"
   ]
  },
  {
   "cell_type": "code",
   "execution_count": null,
   "metadata": {
    "id": "G-FlMvOnwgdF"
   },
   "outputs": [],
   "source": [
    "# Task 8 code here:"
   ]
  }
 ],
 "metadata": {
  "colab": {
   "include_colab_link": true,
   "provenance": []
  },
  "kernelspec": {
   "display_name": "Python 3 (ipykernel)",
   "language": "python",
   "name": "python3"
  },
  "language_info": {
   "codemirror_mode": {
    "name": "ipython",
    "version": 3
   },
   "file_extension": ".py",
   "mimetype": "text/x-python",
   "name": "python",
   "nbconvert_exporter": "python",
   "pygments_lexer": "ipython3",
   "version": "3.11.7"
  }
 },
 "nbformat": 4,
 "nbformat_minor": 4
}
