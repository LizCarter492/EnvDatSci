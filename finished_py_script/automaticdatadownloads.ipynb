{
  "cells": [
    {
      "cell_type": "markdown",
      "metadata": {
        "id": "view-in-github",
        "colab_type": "text"
      },
      "source": [
        "<a href=\"https://colab.research.google.com/github/alen-ho/EnvDatSci/blob/main/finished_py_script/automaticdatadownloads.ipynb\" target=\"_parent\"><img src=\"https://colab.research.google.com/assets/colab-badge.svg\" alt=\"Open In Colab\"/></a>"
      ]
    },
    {
      "cell_type": "markdown",
      "metadata": {
        "id": "smvDyGWp7vko"
      },
      "source": [
        "# Automatic Data Downloads\n",
        "Satellite images and outputs from global earth systems models can be very large files. If we're dealing with time series, large spatial areas, or multivariate model outputs, we can quickly be moving into data volumes that exceed the memory and storage capacity of personal computers. To access these types of global data, we are interfacing with online databases. Today's lesson is intended to give you the tools to programmatically access online databases. These tools will enable you to use your personal computer to convert these large datasets into analysis-ready data for your research project. Specifically, today we'll learn to:\n",
        "\n",
        "1. Interpret directory structure of ftp and http addresses.\n",
        "2. Create a project directory on your local machine.\n",
        "3. Configure a .gitignore file to ignore raw data.\n",
        "4. Use the command line to download files from the internet.\n",
        "\n",
        "If there's time, we'll break into groups based on research interest and start utilizing APIs to search datasets on public geospatial data repositories that match the location and time period of your study area."
      ]
    },
    {
      "cell_type": "code",
      "execution_count": null,
      "metadata": {
        "id": "unL86Vf57vkr"
      },
      "outputs": [],
      "source": [
        "import pandas as pd\n",
        "from IPython.display import HTML\n",
        "import os\n",
        "import urllib.request"
      ]
    },
    {
      "cell_type": "markdown",
      "metadata": {
        "id": "QR0ZcsJ-7vks"
      },
      "source": [
        "## G is for *Generalizable*\n",
        "When we're making measurements of an earth system process, we often care deeply about how well uur experimental results apply to other times/places. Since it is often too expensive or two difficult to collect in-situ samples of our earth systems process at all the times and locations that matter, environmental data science allows us to use statistical models to leverage globally available observations to improve the generalizability of our system. These models will generalize our inferences about our earth systems process in one of three ways:\n",
        "\n",
        "1. *Prediction*: can our model allow us to generalize our observations to out-of-sample times and locations? For example: will my model linking air temperature to green-up time from my experimental forest accurately apply to a forest 200 miles away?\n",
        "2. *Interpolation*: can our model allow us to \"fill in the gaps\" in our spatial/temporal sampling schele? For example: do my measurements of precipitation for my two precipitation gage locations accurately represent the total precipitation that fell in my watershed?\n",
        "3. *Diagnosis*: can our model help us to interpret what processes are either drivers of or covariates with our earth systems process, allowing us to improve our physical understanding of trends and variability in that system: for example: is air temperature or precipitation a more important driver of current cropping system productivity, and how might this impact cropping system function under climate change?\n",
        "\n",
        "### These global observations are often publically available to researchers on online geodatabases.\n",
        "For example:\n",
        " - NASA: https://earthdata.nasa.gov/\n",
        " - USGS: https://earthexplorer.usgs.gov/\n",
        " - NOAA: https://psl.noaa.gov/data/gridded/\n",
        " - Google Earth Engine: https://developers.google.com/earth-engine/datasets\n",
        " - NY State: https://cugir.library.cornell.edu/\n"
      ]
    },
    {
      "cell_type": "markdown",
      "metadata": {
        "id": "FIAOL8e67vkt"
      },
      "source": [
        "## R is for *Reproducible*\n",
        "Since the raw data for our generalizable analysis is globally available, programmatically accessing our data gives us an important added benefit: we can design our version controlled, collaborative project repositories so they directly interface with these public geodatabases. That way, anyone who wants to can access the raw data required to reproduce our analytic workflow.\n",
        "\n",
        "A reminder on why reproducible science is so important:"
      ]
    },
    {
      "cell_type": "code",
      "execution_count": null,
      "metadata": {
        "colab": {
          "base_uri": "https://localhost:8080/",
          "height": 579
        },
        "id": "km7UBlVx7vkt",
        "outputId": "34a23224-edc5-4007-874c-668658531dd1"
      },
      "outputs": [
        {
          "output_type": "stream",
          "name": "stderr",
          "text": [
            "/usr/local/lib/python3.10/dist-packages/IPython/core/display.py:724: UserWarning: Consider using IPython.display.IFrame instead\n",
            "  warnings.warn(\"Consider using IPython.display.IFrame instead\")\n"
          ]
        },
        {
          "output_type": "execute_result",
          "data": {
            "text/plain": [
              "<IPython.core.display.HTML object>"
            ],
            "text/html": [
              "<iframe width=\"930\" height=\"523\" src=\"https://www.youtube.com/embed/NGFO0kdbZmk\", frameborder=\"0\" allowfullscreen></iframe>"
            ]
          },
          "metadata": {},
          "execution_count": 2
        }
      ],
      "source": [
        "HTML('<iframe width=\"930\" height=\"523\" src=\"https://www.youtube.com/embed/NGFO0kdbZmk\", frameborder=\"0\" allowfullscreen></iframe>')"
      ]
    },
    {
      "cell_type": "markdown",
      "metadata": {
        "id": "NOgH4VCO7vku"
      },
      "source": [
        "### Project Repository\n",
        "Your project repository is where you store all of the elements of your data science workflow. At it's core, it should have folders for raw data, processed data, code, outputs, and images. A good project repository is.\n",
        "\n",
        "1. Human readable: use directory names that are easy to understand, includes a highly detailed README file that explains what's in each folder, how to sequence inputs and outputs to code files, and how to cite the repository.\n",
        "2. Machine readable - avoid funky characters OR SPACES.\n",
        "3. Supportive of sorting - If you have a list of input files, it’s nice to be able to sort them to quickly see what’s there and find what you need.\n",
        "\n",
        "You should also take extra steps to preserve raw data so it’s not modified. More on this later.\n",
        "\n",
        "We're going to create a new repository for your class project. The os package (os stands for **O**perating **S**ystem) allows you to manipulate files on your computer. Ask it what it does:"
      ]
    },
    {
      "cell_type": "code",
      "execution_count": null,
      "metadata": {
        "id": "Idxjw8Ut7vkv"
      },
      "outputs": [],
      "source": [
        "?os"
      ]
    },
    {
      "cell_type": "code",
      "execution_count": null,
      "metadata": {
        "id": "7-m-ftvT7vkw",
        "outputId": "95369075-051b-4b94-9c08-fe59fa59a650",
        "colab": {
          "base_uri": "https://localhost:8080/",
          "height": 35
        }
      },
      "outputs": [
        {
          "output_type": "execute_result",
          "data": {
            "text/plain": [
              "'/content/C:\\\\EnvDatSci\\\\project'"
            ],
            "application/vnd.google.colaboratory.intrinsic+json": {
              "type": "string"
            }
          },
          "metadata": {},
          "execution_count": 10
        }
      ],
      "source": [
        "#For example, this command is the equivalent of ls in terminal:\n",
        "os.getcwd()"
      ]
    },
    {
      "cell_type": "code",
      "execution_count": null,
      "metadata": {
        "id": "qp81aQ4F7vkw"
      },
      "outputs": [],
      "source": [
        "# RUN THIS CELL IF YOU ARE ON A PC!\n",
        "\n",
        "#this command is the equivalent of:\n",
        "# mkdir C:/EnvDatSci/project\n",
        "os.mkdir('C:\\\\EnvDatSci\\\\project')\n",
        "\n",
        "#this command is the equivalent of:\n",
        "# cd C:/EnvDatSci/project\n",
        "os.chdir('C:\\\\EnvDatSci\\\\project')"
      ]
    },
    {
      "cell_type": "code",
      "source": [
        "from google.colab import drive\n",
        "drive.mount('/content/drive')"
      ],
      "metadata": {
        "id": "D6GMHKED6DWx",
        "outputId": "4ba8a73f-80cb-4350-fe5c-1c82bc3b3d03",
        "colab": {
          "base_uri": "https://localhost:8080/"
        }
      },
      "execution_count": 23,
      "outputs": [
        {
          "output_type": "stream",
          "name": "stdout",
          "text": [
            "Mounted at /content/drive\n"
          ]
        }
      ]
    },
    {
      "cell_type": "code",
      "source": [
        "# RUN THIS CELL IF YOU ARE ON GOOGLE COLAB!\n",
        "from google.colab import drive\n",
        "drive.mount('/content/drive')\n",
        "os.chdir(\"/content/drive/MyDrive/env_data/project\")\n",
        "#this command is the equivalend of:\n",
        "#mkdir content/drive/MyDrive/EnvDatSci/project\n",
        "\n",
        "# this command is the equivalent of:\n",
        "#cd  content/drive/MyDrive/EnvDatSci/project\n"
      ],
      "metadata": {
        "id": "5r1q9Cln8lMb",
        "outputId": "81eeb30a-7d7e-42c3-8aa1-b345e05c4ec0",
        "colab": {
          "base_uri": "https://localhost:8080/"
        }
      },
      "execution_count": 38,
      "outputs": [
        {
          "output_type": "stream",
          "name": "stdout",
          "text": [
            "Drive already mounted at /content/drive; to attempt to forcibly remount, call drive.mount(\"/content/drive\", force_remount=True).\n"
          ]
        }
      ]
    },
    {
      "cell_type": "markdown",
      "metadata": {
        "id": "MIDD78XS7vkx"
      },
      "source": [
        "### TASK 1: enter a command in the below cell to check and make sure you're in your project directory:"
      ]
    },
    {
      "cell_type": "code",
      "execution_count": 25,
      "metadata": {
        "id": "zszpDQEv7vky",
        "outputId": "67f54860-56fd-4722-af51-50da3f53cf28",
        "colab": {
          "base_uri": "https://localhost:8080/",
          "height": 35
        }
      },
      "outputs": [
        {
          "output_type": "execute_result",
          "data": {
            "text/plain": [
              "'/content/drive/MyDrive/env_data/project'"
            ],
            "application/vnd.google.colaboratory.intrinsic+json": {
              "type": "string"
            }
          },
          "metadata": {},
          "execution_count": 25
        }
      ],
      "source": [
        "#Task 1:\n",
        "os.getcwd()"
      ]
    },
    {
      "cell_type": "markdown",
      "metadata": {
        "id": "7OscYwl_7vkz"
      },
      "source": [
        "### TASK 2: populate your project directory with appropriate files\n",
        "Read Chapter 4.1 of the textbook: https://www.earthdatascience.org/courses/earth-analytics/document-your-science/file-organization-101/\n",
        "\n",
        "Using os commands, populate your project directory with subfolders.\n",
        "\n",
        "Print your directory to the screen (hint: see Task 1)"
      ]
    },
    {
      "cell_type": "code",
      "execution_count": 39,
      "metadata": {
        "id": "QKAKIibY7vkz"
      },
      "outputs": [],
      "source": [
        "#Task 2:\n",
        "path = \"/content/drive/MyDrive/env_data/project/test_folder\"\n",
        "os.makedirs(path, exist_ok=True)"
      ]
    },
    {
      "cell_type": "code",
      "source": [
        "path_sub = \"/content/drive/MyDrive/env_data/project/test_folder/test_subfolder\"\n",
        "os.makedirs(path_sub, exist_ok=True)"
      ],
      "metadata": {
        "id": "H_Pc4mYj74UU"
      },
      "execution_count": 42,
      "outputs": []
    },
    {
      "cell_type": "code",
      "source": [
        "os.getcwd()"
      ],
      "metadata": {
        "id": "vZSi1gk_8gmS",
        "outputId": "9adb8f21-cde8-443f-ea19-aa3c2f919d0f",
        "colab": {
          "base_uri": "https://localhost:8080/",
          "height": 35
        }
      },
      "execution_count": 43,
      "outputs": [
        {
          "output_type": "execute_result",
          "data": {
            "text/plain": [
              "'/content/drive/MyDrive/env_data/project'"
            ],
            "application/vnd.google.colaboratory.intrinsic+json": {
              "type": "string"
            }
          },
          "metadata": {},
          "execution_count": 43
        }
      ]
    },
    {
      "cell_type": "markdown",
      "metadata": {
        "id": "mCscDoxO7vk0"
      },
      "source": [
        "### TASK 3: change the current working directory to your the folder where you intend to store raw data."
      ]
    },
    {
      "cell_type": "code",
      "execution_count": 44,
      "metadata": {
        "id": "npKo69Rg7vk0",
        "outputId": "4eab91a0-5183-44d2-ee47-aedacb9ca116",
        "colab": {
          "base_uri": "https://localhost:8080/",
          "height": 35
        }
      },
      "outputs": [
        {
          "output_type": "execute_result",
          "data": {
            "text/plain": [
              "'/content/drive/MyDrive/env_data/project'"
            ],
            "application/vnd.google.colaboratory.intrinsic+json": {
              "type": "string"
            }
          },
          "metadata": {},
          "execution_count": 44
        }
      ],
      "source": [
        "#Task 3:\n",
        "os.getcwd()"
      ]
    },
    {
      "cell_type": "code",
      "source": [
        "os.chdir(\"/content/drive/MyDrive/env_data/project/test_folder/test_subfolder\")"
      ],
      "metadata": {
        "id": "SCSbtcyq8cRB"
      },
      "execution_count": 45,
      "outputs": []
    },
    {
      "cell_type": "code",
      "source": [
        "os.getcwd()"
      ],
      "metadata": {
        "id": "2itXrOZZ8dQI",
        "outputId": "78ce947f-cd52-4e6f-f7ee-f5c5498524b9",
        "colab": {
          "base_uri": "https://localhost:8080/",
          "height": 35
        }
      },
      "execution_count": 46,
      "outputs": [
        {
          "output_type": "execute_result",
          "data": {
            "text/plain": [
              "'/content/drive/MyDrive/env_data/project/test_folder/test_subfolder'"
            ],
            "application/vnd.google.colaboratory.intrinsic+json": {
              "type": "string"
            }
          },
          "metadata": {},
          "execution_count": 46
        }
      ]
    },
    {
      "cell_type": "markdown",
      "metadata": {
        "id": "t1uADeoz7vk0"
      },
      "source": [
        "## Decoding the file structure of online geodatabases\n",
        "Just like we can use code to find and access files on our local machine, we can use code to find and access files on public geodatabases. Since these geodatabases are version controlled, providing code that links to the online files helps prevent us from making redundant copies of data on the internet. Programatically accessing public geodatabases requires that we understand how the database itself has been organized.\n",
        "\n",
        " - Click on the following link to the National Oceanic and Atmospheric Association databse website: https://psl.noaa.gov/data/gridded/\n",
        "\n",
        " - Navigate to the \"NCEP/NCAR Reanalysis dataset\"\n",
        " - Of the seven sections they've divided data into, click on \"Surface\"\n",
        " - Under \"Air Temperature: Daily\", click \"See list\"\n",
        " - Under \"Surface\", click \"See list\"\n",
        "\n",
        "### TASK 4: Right click on the first link in the list, and select \"copy link\". Paste that link address below:\n",
        "https://downloads.psl.noaa.gov/Datasets/ncep.reanalysis.dailyavgs/surface/air.sig995.1948.nc"
      ]
    },
    {
      "cell_type": "markdown",
      "metadata": {
        "id": "wfmUoPsN7vk1"
      },
      "source": [
        "##### Task 4: double click on this markdown cell to add text\n",
        "\n",
        "https://downloads.psl.noaa.gov/Datasets/ncep.reanalysis.dailyavgs/surface/air.sig995.1948.nc"
      ]
    },
    {
      "cell_type": "markdown",
      "metadata": {
        "id": "53K2xtki7vk1"
      },
      "source": [
        "### Tasking your computer to download files\n",
        "Our goal is to write a script that can download files, extract a relevant subset of information from the files, and then delete the files. The first part of this task to to learn the filenames that we want to download.\n",
        "\n",
        "In the link above, we can break the filepath down into substrings, using basic text commands:"
      ]
    },
    {
      "cell_type": "code",
      "execution_count": 47,
      "metadata": {
        "id": "waX9wXHE7vk2",
        "outputId": "55c775b6-6239-4ff2-faa3-ba49f53e7131",
        "colab": {
          "base_uri": "https://localhost:8080/"
        }
      },
      "outputs": [
        {
          "output_type": "stream",
          "name": "stdout",
          "text": [
            "https://downloads.psl.noaa.gov/Datasets/ncep.reanalysis.dailyavgs/surface/air.sig995.2010.nc\n"
          ]
        }
      ],
      "source": [
        "http_dir = \"https://downloads.psl.noaa.gov/Datasets/\"\n",
        "dataset = \"ncep.reanalysis.dailyavgs\"\n",
        "lev_type = \"surface\"\n",
        "variable = \"air.sig995.\"\n",
        "time = \"2010\"\n",
        "file_type = \".nc\"\n",
        "filepaths= http_dir + dataset + \"/\" + lev_type + \"/\" + variable + time + file_type\n",
        "print(filepaths)"
      ]
    },
    {
      "cell_type": "markdown",
      "metadata": {
        "id": "idVIpBXK7vk3"
      },
      "source": [
        "What happens if you click on that link? You can also have python download the file for you using the <urllib.request.urlretrieve> function:"
      ]
    },
    {
      "cell_type": "code",
      "execution_count": 48,
      "metadata": {
        "id": "SiW40GTk7vk3"
      },
      "outputs": [],
      "source": [
        "#what does this function do and how do we use it?\n",
        "?urllib.request.urlretrieve"
      ]
    },
    {
      "cell_type": "code",
      "source": [
        "print(url)"
      ],
      "metadata": {
        "id": "Vu9kD72tCKHS",
        "outputId": "8a3dfb3d-24ff-4d89-9454-a4b86e75f43e",
        "colab": {
          "base_uri": "https://localhost:8080/"
        }
      },
      "execution_count": 61,
      "outputs": [
        {
          "output_type": "stream",
          "name": "stdout",
          "text": [
            "https://downloads.psl.noaa.gov/Datasets/ncep.reanalysis.dailyavgs/surface/air.sig995.2010.nc\n"
          ]
        }
      ]
    },
    {
      "cell_type": "code",
      "source": [
        "print(filename)"
      ],
      "metadata": {
        "id": "WpSh3SpqCTo4",
        "outputId": "b00a8b8d-b030-4252-97a0-4fd140dd43ee",
        "colab": {
          "base_uri": "https://localhost:8080/"
        }
      },
      "execution_count": 62,
      "outputs": [
        {
          "output_type": "stream",
          "name": "stdout",
          "text": [
            "air.sig995.2010.nc\n"
          ]
        }
      ]
    },
    {
      "cell_type": "code",
      "execution_count": 49,
      "metadata": {
        "id": "3q3Ptnlo7vk4",
        "outputId": "b3761856-6eee-45e3-d9b6-882381b7e6a7",
        "colab": {
          "base_uri": "https://localhost:8080/"
        }
      },
      "outputs": [
        {
          "output_type": "stream",
          "name": "stdout",
          "text": [
            "https://downloads.psl.noaa.gov/Datasets/ncep.reanalysis.dailyavgs/surface/air.sig995.2010.nc air.sig995.2010.nc\n"
          ]
        }
      ],
      "source": [
        "url = filepaths\n",
        "filename = variable + time + file_type\n",
        "urllib.request.urlretrieve(url, filename)\n",
        "print(url, filename)"
      ]
    },
    {
      "cell_type": "code",
      "execution_count": 50,
      "metadata": {
        "id": "eO0bTLO17vk4",
        "outputId": "c3ff3e2c-1b36-4e54-c80d-7f61c0c46891",
        "colab": {
          "base_uri": "https://localhost:8080/"
        }
      },
      "outputs": [
        {
          "output_type": "execute_result",
          "data": {
            "text/plain": [
              "['air.sig995.2010.nc']"
            ]
          },
          "metadata": {},
          "execution_count": 50
        }
      ],
      "source": [
        "#what happens?\n",
        "os.listdir()"
      ]
    },
    {
      "cell_type": "markdown",
      "metadata": {
        "id": "yS2A7-wF7vk4"
      },
      "source": [
        "We can infer patterns from the database itself and generate the names of multiple files. For example, if we need five years of daily air temperature data:"
      ]
    },
    {
      "cell_type": "code",
      "execution_count": 51,
      "metadata": {
        "id": "fh71Pddj7vk4",
        "outputId": "d5aefbb4-9579-4bbf-88eb-bf59fdf46488",
        "colab": {
          "base_uri": "https://localhost:8080/"
        }
      },
      "outputs": [
        {
          "output_type": "stream",
          "name": "stdout",
          "text": [
            "0    https://downloads.psl.noaa.gov/Datasets/ncep.r...\n",
            "1    https://downloads.psl.noaa.gov/Datasets/ncep.r...\n",
            "2    https://downloads.psl.noaa.gov/Datasets/ncep.r...\n",
            "3    https://downloads.psl.noaa.gov/Datasets/ncep.r...\n",
            "4    https://downloads.psl.noaa.gov/Datasets/ncep.r...\n",
            "dtype: object\n"
          ]
        }
      ],
      "source": [
        "time =pd.Series(list(range(1965,1970)))\n",
        "time = time.apply(str)\n",
        "filepaths= http_dir + dataset + \"/\" + lev_type + \"/\" + variable + time + file_type\n",
        "print(filepaths)"
      ]
    },
    {
      "cell_type": "markdown",
      "metadata": {
        "id": "HNi70_eu7vk5"
      },
      "source": [
        "### TASK 5: Write a \"for\" loop that downloads all five years worth of air temperature data into you working directory. Print the contents of your directory to the screen."
      ]
    },
    {
      "cell_type": "code",
      "source": [
        "filenames = variable + time + file_type\n",
        "print(filenames)"
      ],
      "metadata": {
        "id": "ghr-Wc8MDfdP",
        "outputId": "5f9abd46-357a-40e0-bb78-b30e51b04138",
        "colab": {
          "base_uri": "https://localhost:8080/"
        }
      },
      "execution_count": 71,
      "outputs": [
        {
          "output_type": "stream",
          "name": "stdout",
          "text": [
            "0    air.sig995.1965.nc\n",
            "1    air.sig995.1966.nc\n",
            "2    air.sig995.1967.nc\n",
            "3    air.sig995.1968.nc\n",
            "4    air.sig995.1969.nc\n",
            "dtype: object\n"
          ]
        }
      ]
    },
    {
      "cell_type": "code",
      "execution_count": 72,
      "metadata": {
        "id": "1Fo-oaCa7vk5",
        "outputId": "be493ef1-91a1-4e39-8ab8-6427acfa5a53",
        "colab": {
          "base_uri": "https://localhost:8080/"
        }
      },
      "outputs": [
        {
          "output_type": "stream",
          "name": "stdout",
          "text": [
            "Downloaded https://downloads.psl.noaa.gov/Datasets/ncep.reanalysis.dailyavgs/surface/air.sig995.1965.nc as air.sig995.1965.nc\n",
            "Downloaded https://downloads.psl.noaa.gov/Datasets/ncep.reanalysis.dailyavgs/surface/air.sig995.1966.nc as air.sig995.1966.nc\n",
            "Downloaded https://downloads.psl.noaa.gov/Datasets/ncep.reanalysis.dailyavgs/surface/air.sig995.1967.nc as air.sig995.1967.nc\n",
            "Downloaded https://downloads.psl.noaa.gov/Datasets/ncep.reanalysis.dailyavgs/surface/air.sig995.1968.nc as air.sig995.1968.nc\n",
            "Downloaded https://downloads.psl.noaa.gov/Datasets/ncep.reanalysis.dailyavgs/surface/air.sig995.1969.nc as air.sig995.1969.nc\n"
          ]
        }
      ],
      "source": [
        "#Task 5\n",
        "for file, filename in zip(filepaths, filenames):\n",
        "    urllib.request.urlretrieve(file, filename)\n",
        "    print(f\"Downloaded {file} as {filename}\")"
      ]
    },
    {
      "cell_type": "code",
      "source": [
        "os.listdir()"
      ],
      "metadata": {
        "id": "tBrkN1-IBZEw",
        "outputId": "531486f0-1697-480d-d8fa-7bc2403f574b",
        "colab": {
          "base_uri": "https://localhost:8080/"
        }
      },
      "execution_count": 73,
      "outputs": [
        {
          "output_type": "execute_result",
          "data": {
            "text/plain": [
              "['air.sig995.2010.nc',\n",
              " 'air.sig995.1965.nc',\n",
              " 'air.sig995.1966.nc',\n",
              " 'air.sig995.1967.nc',\n",
              " 'air.sig995.1968.nc',\n",
              " 'air.sig995.1969.nc']"
            ]
          },
          "metadata": {},
          "execution_count": 73
        }
      ]
    }
  ],
  "metadata": {
    "kernelspec": {
      "display_name": "Python 3",
      "language": "python",
      "name": "python3"
    },
    "language_info": {
      "codemirror_mode": {
        "name": "ipython",
        "version": 3
      },
      "file_extension": ".py",
      "mimetype": "text/x-python",
      "name": "python",
      "nbconvert_exporter": "python",
      "pygments_lexer": "ipython3",
      "version": "3.8.8"
    },
    "colab": {
      "provenance": [],
      "include_colab_link": true
    }
  },
  "nbformat": 4,
  "nbformat_minor": 0
}